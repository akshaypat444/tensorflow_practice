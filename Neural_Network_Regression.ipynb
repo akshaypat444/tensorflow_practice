{
  "nbformat": 4,
  "nbformat_minor": 0,
  "metadata": {
    "colab": {
      "provenance": [],
      "authorship_tag": "ABX9TyO8PiGV8eYKwkuii81fpwfo",
      "include_colab_link": true
    },
    "kernelspec": {
      "name": "python3",
      "display_name": "Python 3"
    },
    "language_info": {
      "name": "python"
    }
  },
  "cells": [
    {
      "cell_type": "markdown",
      "metadata": {
        "id": "view-in-github",
        "colab_type": "text"
      },
      "source": [
        "<a href=\"https://colab.research.google.com/github/akshaypat444/tensorflow_practice/blob/main/Neural_Network_Regression.ipynb\" target=\"_parent\"><img src=\"https://colab.research.google.com/assets/colab-badge.svg\" alt=\"Open In Colab\"/></a>"
      ]
    },
    {
      "cell_type": "code",
      "execution_count": 1,
      "metadata": {
        "id": "BmY_gL6z17NN"
      },
      "outputs": [],
      "source": [
        "import tensorflow as tf\n",
        "import numpy as np\n",
        "import matplotlib.pyplot as plt"
      ]
    },
    {
      "cell_type": "markdown",
      "source": [
        "## Predicting a number using regression"
      ],
      "metadata": {
        "id": "l1VyM6v9H44N"
      }
    },
    {
      "cell_type": "code",
      "source": [
        "X = np.array([-4.0, -5.0, -3.0, -2.0, 1.0, 2.0, 4.0, 5.0, 8.0])\n",
        "y = np.array([ 6.,  5.,  7.,  8., 11., 12., 14., 15., 18.])"
      ],
      "metadata": {
        "id": "0hCip6AwHy4H"
      },
      "execution_count": 2,
      "outputs": []
    },
    {
      "cell_type": "code",
      "source": [
        "plt.scatter(X, y)"
      ],
      "metadata": {
        "colab": {
          "base_uri": "https://localhost:8080/",
          "height": 448
        },
        "id": "Fk_qvDboHysp",
        "outputId": "e62f9793-74fb-4bfa-cacd-fdd87f131602"
      },
      "execution_count": 3,
      "outputs": [
        {
          "output_type": "execute_result",
          "data": {
            "text/plain": [
              "<matplotlib.collections.PathCollection at 0x7c8af12ab430>"
            ]
          },
          "metadata": {},
          "execution_count": 3
        },
        {
          "output_type": "display_data",
          "data": {
            "text/plain": [
              "<Figure size 640x480 with 1 Axes>"
            ],
            "image/png": "[encoded data removed]"
          },
          "metadata": {}
        }
      ]
    },
    {
      "cell_type": "code",
      "source": [
        "y == X + 10"
      ],
      "metadata": {
        "colab": {
          "base_uri": "https://localhost:8080/"
        },
        "id": "7Doy2yUtIw8S",
        "outputId": "8414e71f-b36f-41ca-f998-4e511cf5dd25"
      },
      "execution_count": 4,
      "outputs": [
        {
          "output_type": "execute_result",
          "data": {
            "text/plain": [
              "array([ True,  True,  True,  True,  True,  True,  True,  True,  True])"
            ]
          },
          "metadata": {},
          "execution_count": 4
        }
      ]
    },
    {
      "cell_type": "code",
      "source": [
        "X = tf.constant(X)\n",
        "y = tf.constant(y)"
      ],
      "metadata": {
        "id": "dxjdXLUkMCTv"
      },
      "execution_count": 5,
      "outputs": []
    },
    {
      "cell_type": "code",
      "source": [
        "X, y"
      ],
      "metadata": {
        "colab": {
          "base_uri": "https://localhost:8080/"
        },
        "id": "0b_aEKpmMMjt",
        "outputId": "8efcdfa1-ab50-4167-ff28-ea00719c25e4"
      },
      "execution_count": 6,
      "outputs": [
        {
          "output_type": "execute_result",
          "data": {
            "text/plain": [
              "(<tf.Tensor: shape=(9,), dtype=float64, numpy=array([-4., -5., -3., -2.,  1.,  2.,  4.,  5.,  8.])>,\n",
              " <tf.Tensor: shape=(9,), dtype=float64, numpy=array([ 6.,  5.,  7.,  8., 11., 12., 14., 15., 18.])>)"
            ]
          },
          "metadata": {},
          "execution_count": 6
        }
      ]
    },
    {
      "cell_type": "code",
      "source": [
        "input_shape = X[0].shape\n",
        "output_shape = y[0].shape\n",
        "input_shape, output_shape"
      ],
      "metadata": {
        "colab": {
          "base_uri": "https://localhost:8080/"
        },
        "id": "dMGraEekJND7",
        "outputId": "c9d01917-4e98-4b59-bea6-0108e111eb63"
      },
      "execution_count": 7,
      "outputs": [
        {
          "output_type": "execute_result",
          "data": {
            "text/plain": [
              "(TensorShape([]), TensorShape([]))"
            ]
          },
          "metadata": {},
          "execution_count": 7
        }
      ]
    },
    {
      "cell_type": "markdown",
      "source": [
        "## Modeling with tensorflow"
      ],
      "metadata": {
        "id": "KO1iO1URMXL7"
      }
    },
    {
      "cell_type": "code",
      "source": [
        "tf.random.set_seed(42)\n",
        "\n",
        "# Create a model\n",
        "model = tf.keras.Sequential([\n",
        "                    tf.keras.layers.Dense(1)\n",
        "])\n",
        "\n",
        "# Compile the model\n",
        "model.compile(loss=tf.keras.losses.mae,\n",
        "              optimizer=tf.keras.optimizers.SGD(),\n",
        "              metrics=[\"mae\"])\n",
        "\n",
        "model.fit(tf.expand_dims(X, axis=-1), y, epochs=100)"
      ],
      "metadata": {
        "colab": {
          "base_uri": "https://localhost:8080/"
        },
        "id": "4EnsxjhKJSdD",
        "outputId": "915a79bc-f0e2-4165-f23b-2f081e71b01e"
      },
      "execution_count": 8,
      "outputs": [
        {
          "output_type": "stream",
          "name": "stdout",
          "text": [
            "Epoch 1/100\n",
            "1/1 [==============================] - 1s 958ms/step - loss: 10.3407 - mae: 10.3407\n",
            "Epoch 2/100\n",
            "1/1 [==============================] - 0s 20ms/step - loss: 10.3263 - mae: 10.3263\n",
            "Epoch 3/100\n",
            "1/1 [==============================] - 0s 10ms/step - loss: 10.3118 - mae: 10.3118\n",
            "Epoch 4/100\n",
            "1/1 [==============================] - 0s 13ms/step - loss: 10.2974 - mae: 10.2974\n",
            "Epoch 5/100\n",
            "1/1 [==============================] - 0s 16ms/step - loss: 10.2830 - mae: 10.2830\n",
            "Epoch 6/100\n",
            "1/1 [==============================] - 0s 17ms/step - loss: 10.2685 - mae: 10.2685\n",
            "Epoch 7/100\n",
            "1/1 [==============================] - 0s 25ms/step - loss: 10.2541 - mae: 10.2541\n",
            "Epoch 8/100\n",
            "1/1 [==============================] - 0s 27ms/step - loss: 10.2396 - mae: 10.2396\n",
            "Epoch 9/100\n",
            "1/1 [==============================] - 0s 13ms/step - loss: 10.2252 - mae: 10.2252\n",
            "Epoch 10/100\n",
            "1/1 [==============================] - 0s 16ms/step - loss: 10.2107 - mae: 10.2107\n",
            "Epoch 11/100\n",
            "1/1 [==============================] - 0s 35ms/step - loss: 10.1963 - mae: 10.1963\n",
            "Epoch 12/100\n",
            "1/1 [==============================] - 0s 17ms/step - loss: 10.1818 - mae: 10.1818\n",
            "Epoch 13/100\n",
            "1/1 [==============================] - 0s 12ms/step - loss: 10.1674 - mae: 10.1674\n",
            "Epoch 14/100\n",
            "1/1 [==============================] - 0s 26ms/step - loss: 10.1530 - mae: 10.1530\n",
            "Epoch 15/100\n",
            "1/1 [==============================] - 0s 16ms/step - loss: 10.1385 - mae: 10.1385\n",
            "Epoch 16/100\n",
            "1/1 [==============================] - 0s 23ms/step - loss: 10.1241 - mae: 10.1241\n",
            "Epoch 17/100\n",
            "1/1 [==============================] - 0s 13ms/step - loss: 10.1096 - mae: 10.1096\n",
            "Epoch 18/100\n",
            "1/1 [==============================] - 0s 12ms/step - loss: 10.0952 - mae: 10.0952\n",
            "Epoch 19/100\n",
            "1/1 [==============================] - 0s 19ms/step - loss: 10.0807 - mae: 10.0807\n",
            "Epoch 20/100\n",
            "1/1 [==============================] - 0s 16ms/step - loss: 10.0663 - mae: 10.0663\n",
            "Epoch 21/100\n",
            "1/1 [==============================] - 0s 14ms/step - loss: 10.0518 - mae: 10.0518\n",
            "Epoch 22/100\n",
            "1/1 [==============================] - 0s 16ms/step - loss: 10.0374 - mae: 10.0374\n",
            "Epoch 23/100\n",
            "1/1 [==============================] - 0s 16ms/step - loss: 10.0230 - mae: 10.0230\n",
            "Epoch 24/100\n",
            "1/1 [==============================] - 0s 12ms/step - loss: 10.0085 - mae: 10.0085\n",
            "Epoch 25/100\n",
            "1/1 [==============================] - 0s 11ms/step - loss: 9.9941 - mae: 9.9941\n",
            "Epoch 26/100\n",
            "1/1 [==============================] - 0s 27ms/step - loss: 9.9796 - mae: 9.9796\n",
            "Epoch 27/100\n",
            "1/1 [==============================] - 0s 23ms/step - loss: 9.9652 - mae: 9.9652\n",
            "Epoch 28/100\n",
            "1/1 [==============================] - 0s 23ms/step - loss: 9.9507 - mae: 9.9507\n",
            "Epoch 29/100\n",
            "1/1 [==============================] - 0s 12ms/step - loss: 9.9363 - mae: 9.9363\n",
            "Epoch 30/100\n",
            "1/1 [==============================] - 0s 12ms/step - loss: 9.9218 - mae: 9.9218\n",
            "Epoch 31/100\n",
            "1/1 [==============================] - 0s 13ms/step - loss: 9.9074 - mae: 9.9074\n",
            "Epoch 32/100\n",
            "1/1 [==============================] - 0s 27ms/step - loss: 9.8930 - mae: 9.8930\n",
            "Epoch 33/100\n",
            "1/1 [==============================] - 0s 24ms/step - loss: 9.8785 - mae: 9.8785\n",
            "Epoch 34/100\n",
            "1/1 [==============================] - 0s 21ms/step - loss: 9.8641 - mae: 9.8641\n",
            "Epoch 35/100\n",
            "1/1 [==============================] - 0s 21ms/step - loss: 9.8496 - mae: 9.8496\n",
            "Epoch 36/100\n",
            "1/1 [==============================] - 0s 34ms/step - loss: 9.8352 - mae: 9.8352\n",
            "Epoch 37/100\n",
            "1/1 [==============================] - 0s 27ms/step - loss: 9.8207 - mae: 9.8207\n",
            "Epoch 38/100\n",
            "1/1 [==============================] - 0s 17ms/step - loss: 9.8063 - mae: 9.8063\n",
            "Epoch 39/100\n",
            "1/1 [==============================] - 0s 15ms/step - loss: 9.7918 - mae: 9.7918\n",
            "Epoch 40/100\n",
            "1/1 [==============================] - 0s 19ms/step - loss: 9.7774 - mae: 9.7774\n",
            "Epoch 41/100\n",
            "1/1 [==============================] - 0s 11ms/step - loss: 9.7630 - mae: 9.7630\n",
            "Epoch 42/100\n",
            "1/1 [==============================] - 0s 12ms/step - loss: 9.7485 - mae: 9.7485\n",
            "Epoch 43/100\n",
            "1/1 [==============================] - 0s 12ms/step - loss: 9.7341 - mae: 9.7341\n",
            "Epoch 44/100\n",
            "1/1 [==============================] - 0s 14ms/step - loss: 9.7196 - mae: 9.7196\n",
            "Epoch 45/100\n",
            "1/1 [==============================] - 0s 11ms/step - loss: 9.7052 - mae: 9.7052\n",
            "Epoch 46/100\n",
            "1/1 [==============================] - 0s 19ms/step - loss: 9.6907 - mae: 9.6907\n",
            "Epoch 47/100\n",
            "1/1 [==============================] - 0s 14ms/step - loss: 9.6763 - mae: 9.6763\n",
            "Epoch 48/100\n",
            "1/1 [==============================] - 0s 23ms/step - loss: 9.6618 - mae: 9.6618\n",
            "Epoch 49/100\n",
            "1/1 [==============================] - 0s 19ms/step - loss: 9.6474 - mae: 9.6474\n",
            "Epoch 50/100\n",
            "1/1 [==============================] - 0s 14ms/step - loss: 9.6330 - mae: 9.6330\n",
            "Epoch 51/100\n",
            "1/1 [==============================] - 0s 14ms/step - loss: 9.6185 - mae: 9.6185\n",
            "Epoch 52/100\n",
            "1/1 [==============================] - 0s 13ms/step - loss: 9.6041 - mae: 9.6041\n",
            "Epoch 53/100\n",
            "1/1 [==============================] - 0s 16ms/step - loss: 9.5896 - mae: 9.5896\n",
            "Epoch 54/100\n",
            "1/1 [==============================] - 0s 17ms/step - loss: 9.5752 - mae: 9.5752\n",
            "Epoch 55/100\n",
            "1/1 [==============================] - 0s 14ms/step - loss: 9.5607 - mae: 9.5607\n",
            "Epoch 56/100\n",
            "1/1 [==============================] - 0s 14ms/step - loss: 9.5463 - mae: 9.5463\n",
            "Epoch 57/100\n",
            "1/1 [==============================] - 0s 12ms/step - loss: 9.5318 - mae: 9.5318\n",
            "Epoch 58/100\n",
            "1/1 [==============================] - 0s 10ms/step - loss: 9.5174 - mae: 9.5174\n",
            "Epoch 59/100\n",
            "1/1 [==============================] - 0s 21ms/step - loss: 9.5030 - mae: 9.5030\n",
            "Epoch 60/100\n",
            "1/1 [==============================] - 0s 26ms/step - loss: 9.4885 - mae: 9.4885\n",
            "Epoch 61/100\n",
            "1/1 [==============================] - 0s 27ms/step - loss: 9.4741 - mae: 9.4741\n",
            "Epoch 62/100\n",
            "1/1 [==============================] - 0s 17ms/step - loss: 9.4596 - mae: 9.4596\n",
            "Epoch 63/100\n",
            "1/1 [==============================] - 0s 27ms/step - loss: 9.4452 - mae: 9.4452\n",
            "Epoch 64/100\n",
            "1/1 [==============================] - 0s 13ms/step - loss: 9.4307 - mae: 9.4307\n",
            "Epoch 65/100\n",
            "1/1 [==============================] - 0s 13ms/step - loss: 9.4163 - mae: 9.4163\n",
            "Epoch 66/100\n",
            "1/1 [==============================] - 0s 14ms/step - loss: 9.4018 - mae: 9.4018\n",
            "Epoch 67/100\n",
            "1/1 [==============================] - 0s 14ms/step - loss: 9.3874 - mae: 9.3874\n",
            "Epoch 68/100\n",
            "1/1 [==============================] - 0s 10ms/step - loss: 9.3730 - mae: 9.3730\n",
            "Epoch 69/100\n",
            "1/1 [==============================] - 0s 10ms/step - loss: 9.3585 - mae: 9.3585\n",
            "Epoch 70/100\n",
            "1/1 [==============================] - 0s 25ms/step - loss: 9.3441 - mae: 9.3441\n",
            "Epoch 71/100\n",
            "1/1 [==============================] - 0s 18ms/step - loss: 9.3296 - mae: 9.3296\n",
            "Epoch 72/100\n",
            "1/1 [==============================] - 0s 14ms/step - loss: 9.3152 - mae: 9.3152\n",
            "Epoch 73/100\n",
            "1/1 [==============================] - 0s 15ms/step - loss: 9.3007 - mae: 9.3007\n",
            "Epoch 74/100\n",
            "1/1 [==============================] - 0s 38ms/step - loss: 9.2863 - mae: 9.2863\n",
            "Epoch 75/100\n",
            "1/1 [==============================] - 0s 30ms/step - loss: 9.2718 - mae: 9.2718\n",
            "Epoch 76/100\n",
            "1/1 [==============================] - 0s 46ms/step - loss: 9.2574 - mae: 9.2574\n",
            "Epoch 77/100\n",
            "1/1 [==============================] - 0s 14ms/step - loss: 9.2430 - mae: 9.2430\n",
            "Epoch 78/100\n",
            "1/1 [==============================] - 0s 17ms/step - loss: 9.2285 - mae: 9.2285\n",
            "Epoch 79/100\n",
            "1/1 [==============================] - 0s 26ms/step - loss: 9.2141 - mae: 9.2141\n",
            "Epoch 80/100\n",
            "1/1 [==============================] - 0s 34ms/step - loss: 9.1996 - mae: 9.1996\n",
            "Epoch 81/100\n",
            "1/1 [==============================] - 0s 23ms/step - loss: 9.1852 - mae: 9.1852\n",
            "Epoch 82/100\n",
            "1/1 [==============================] - 0s 21ms/step - loss: 9.1707 - mae: 9.1707\n",
            "Epoch 83/100\n",
            "1/1 [==============================] - 0s 29ms/step - loss: 9.1563 - mae: 9.1563\n",
            "Epoch 84/100\n",
            "1/1 [==============================] - 0s 32ms/step - loss: 9.1418 - mae: 9.1418\n",
            "Epoch 85/100\n",
            "1/1 [==============================] - 0s 34ms/step - loss: 9.1274 - mae: 9.1274\n",
            "Epoch 86/100\n",
            "1/1 [==============================] - 0s 31ms/step - loss: 9.1130 - mae: 9.1130\n",
            "Epoch 87/100\n",
            "1/1 [==============================] - 0s 24ms/step - loss: 9.0985 - mae: 9.0985\n",
            "Epoch 88/100\n",
            "1/1 [==============================] - 0s 15ms/step - loss: 9.0841 - mae: 9.0841\n",
            "Epoch 89/100\n",
            "1/1 [==============================] - 0s 16ms/step - loss: 9.0696 - mae: 9.0696\n",
            "Epoch 90/100\n",
            "1/1 [==============================] - 0s 20ms/step - loss: 9.0552 - mae: 9.0552\n",
            "Epoch 91/100\n",
            "1/1 [==============================] - 0s 17ms/step - loss: 9.0407 - mae: 9.0407\n",
            "Epoch 92/100\n",
            "1/1 [==============================] - 0s 18ms/step - loss: 9.0263 - mae: 9.0263\n",
            "Epoch 93/100\n",
            "1/1 [==============================] - 0s 16ms/step - loss: 9.0118 - mae: 9.0118\n",
            "Epoch 94/100\n",
            "1/1 [==============================] - 0s 17ms/step - loss: 8.9974 - mae: 8.9974\n",
            "Epoch 95/100\n",
            "1/1 [==============================] - 0s 16ms/step - loss: 8.9830 - mae: 8.9830\n",
            "Epoch 96/100\n",
            "1/1 [==============================] - 0s 19ms/step - loss: 8.9685 - mae: 8.9685\n",
            "Epoch 97/100\n",
            "1/1 [==============================] - 0s 15ms/step - loss: 8.9541 - mae: 8.9541\n",
            "Epoch 98/100\n",
            "1/1 [==============================] - 0s 15ms/step - loss: 8.9396 - mae: 8.9396\n",
            "Epoch 99/100\n",
            "1/1 [==============================] - 0s 14ms/step - loss: 8.9252 - mae: 8.9252\n",
            "Epoch 100/100\n",
            "1/1 [==============================] - 0s 15ms/step - loss: 8.9107 - mae: 8.9107\n"
          ]
        },
        {
          "output_type": "execute_result",
          "data": {
            "text/plain": [
              "<keras.src.callbacks.History at 0x7c8aec152290>"
            ]
          },
          "metadata": {},
          "execution_count": 8
        }
      ]
    },
    {
      "cell_type": "markdown",
      "source": [],
      "metadata": {
        "id": "AQHVc8fbumFm"
      }
    },
    {
      "cell_type": "code",
      "source": [
        "X, y"
      ],
      "metadata": {
        "colab": {
          "base_uri": "https://localhost:8080/"
        },
        "id": "HkPw9V01QY6i",
        "outputId": "4c2a1d5b-d5aa-4a33-ac03-520bf7f7d11a"
      },
      "execution_count": 9,
      "outputs": [
        {
          "output_type": "execute_result",
          "data": {
            "text/plain": [
              "(<tf.Tensor: shape=(9,), dtype=float64, numpy=array([-4., -5., -3., -2.,  1.,  2.,  4.,  5.,  8.])>,\n",
              " <tf.Tensor: shape=(9,), dtype=float64, numpy=array([ 6.,  5.,  7.,  8., 11., 12., 14., 15., 18.])>)"
            ]
          },
          "metadata": {},
          "execution_count": 9
        }
      ]
    },
    {
      "cell_type": "code",
      "source": [
        "y_pred = model.predict(X)\n",
        "y_pred"
      ],
      "metadata": {
        "colab": {
          "base_uri": "https://localhost:8080/"
        },
        "id": "g0oE15GdOa9O",
        "outputId": "8d7a2890-d602-47a8-93a0-9d2f8023ac2e"
      },
      "execution_count": 10,
      "outputs": [
        {
          "output_type": "stream",
          "name": "stdout",
          "text": [
            "1/1 [==============================] - 0s 236ms/step\n"
          ]
        },
        {
          "output_type": "execute_result",
          "data": {
            "text/plain": [
              "array([[-3.6222584],\n",
              "       [-4.7778225],\n",
              "       [-2.466694 ],\n",
              "       [-1.3111296],\n",
              "       [ 2.1555638],\n",
              "       [ 3.3111281],\n",
              "       [ 5.622257 ],\n",
              "       [ 6.7778215],\n",
              "       [10.244514 ]], dtype=float32)"
            ]
          },
          "metadata": {},
          "execution_count": 10
        }
      ]
    },
    {
      "cell_type": "markdown",
      "source": [
        "## Improving the machine learning model by\n",
        "\n",
        "1. Creating a new model\n",
        "2. Changing the compilation configuration of model\n",
        "3. Fitting the model (number of passes to go through data)"
      ],
      "metadata": {
        "id": "3EqMNUioQ1vT"
      }
    },
    {
      "cell_type": "code",
      "source": [
        "tf.random.set_seed(42)\n",
        "\n",
        "# Create a model\n",
        "model = tf.keras.Sequential([\n",
        "                    tf.keras.layers.Dense(1),\n",
        "\n",
        "])\n",
        "\n",
        "# Compile the model\n",
        "model.compile(loss=tf.keras.losses.mae,\n",
        "              optimizer=tf.keras.optimizers.Adam(learning_rate=0.3),\n",
        "              metrics=[\"mae\"])\n",
        "\n",
        "model.fit(tf.expand_dims(X, axis=-1), y, epochs=100)"
      ],
      "metadata": {
        "id": "1vTOUZmlQ1VQ",
        "colab": {
          "base_uri": "https://localhost:8080/"
        },
        "outputId": "4c93691f-7312-409e-f027-5c7774255e56"
      },
      "execution_count": 11,
      "outputs": [
        {
          "output_type": "stream",
          "name": "stdout",
          "text": [
            "Epoch 1/100\n",
            "1/1 [==============================] - 1s 886ms/step - loss: 11.2694 - mae: 11.2694\n",
            "Epoch 2/100\n",
            "1/1 [==============================] - 0s 33ms/step - loss: 10.7694 - mae: 10.7694\n",
            "Epoch 3/100\n",
            "1/1 [==============================] - 0s 24ms/step - loss: 10.2694 - mae: 10.2694\n",
            "Epoch 4/100\n",
            "1/1 [==============================] - 0s 22ms/step - loss: 9.7694 - mae: 9.7694\n",
            "Epoch 5/100\n",
            "1/1 [==============================] - 0s 18ms/step - loss: 9.2694 - mae: 9.2694\n",
            "Epoch 6/100\n",
            "1/1 [==============================] - 0s 16ms/step - loss: 8.7694 - mae: 8.7694\n",
            "Epoch 7/100\n",
            "1/1 [==============================] - 0s 16ms/step - loss: 8.2694 - mae: 8.2694\n",
            "Epoch 8/100\n",
            "1/1 [==============================] - 0s 15ms/step - loss: 7.7694 - mae: 7.7694\n",
            "Epoch 9/100\n",
            "1/1 [==============================] - 0s 12ms/step - loss: 7.2694 - mae: 7.2694\n",
            "Epoch 10/100\n",
            "1/1 [==============================] - 0s 19ms/step - loss: 6.7694 - mae: 6.7694\n",
            "Epoch 11/100\n",
            "1/1 [==============================] - 0s 24ms/step - loss: 6.6621 - mae: 6.6621\n",
            "Epoch 12/100\n",
            "1/1 [==============================] - 0s 16ms/step - loss: 6.6212 - mae: 6.6212\n",
            "Epoch 13/100\n",
            "1/1 [==============================] - 0s 14ms/step - loss: 6.5477 - mae: 6.5477\n",
            "Epoch 14/100\n",
            "1/1 [==============================] - 0s 14ms/step - loss: 6.3007 - mae: 6.3007\n",
            "Epoch 15/100\n",
            "1/1 [==============================] - 0s 20ms/step - loss: 5.9042 - mae: 5.9042\n",
            "Epoch 16/100\n",
            "1/1 [==============================] - 0s 28ms/step - loss: 5.4942 - mae: 5.4942\n",
            "Epoch 17/100\n",
            "1/1 [==============================] - 0s 23ms/step - loss: 5.0922 - mae: 5.0922\n",
            "Epoch 18/100\n",
            "1/1 [==============================] - 0s 20ms/step - loss: 4.6746 - mae: 4.6746\n",
            "Epoch 19/100\n",
            "1/1 [==============================] - 0s 16ms/step - loss: 4.4450 - mae: 4.4450\n",
            "Epoch 20/100\n",
            "1/1 [==============================] - 0s 23ms/step - loss: 4.2720 - mae: 4.2720\n",
            "Epoch 21/100\n",
            "1/1 [==============================] - 0s 16ms/step - loss: 4.0704 - mae: 4.0704\n",
            "Epoch 22/100\n",
            "1/1 [==============================] - 0s 15ms/step - loss: 3.8435 - mae: 3.8435\n",
            "Epoch 23/100\n",
            "1/1 [==============================] - 0s 25ms/step - loss: 3.5938 - mae: 3.5938\n",
            "Epoch 24/100\n",
            "1/1 [==============================] - 0s 26ms/step - loss: 3.3237 - mae: 3.3237\n",
            "Epoch 25/100\n",
            "1/1 [==============================] - 0s 23ms/step - loss: 3.0353 - mae: 3.0353\n",
            "Epoch 26/100\n",
            "1/1 [==============================] - 0s 18ms/step - loss: 2.7304 - mae: 2.7304\n",
            "Epoch 27/100\n",
            "1/1 [==============================] - 0s 20ms/step - loss: 2.4106 - mae: 2.4106\n",
            "Epoch 28/100\n",
            "1/1 [==============================] - 0s 24ms/step - loss: 2.0774 - mae: 2.0774\n",
            "Epoch 29/100\n",
            "1/1 [==============================] - 0s 15ms/step - loss: 1.7320 - mae: 1.7320\n",
            "Epoch 30/100\n",
            "1/1 [==============================] - 0s 18ms/step - loss: 1.4325 - mae: 1.4325\n",
            "Epoch 31/100\n",
            "1/1 [==============================] - 0s 28ms/step - loss: 1.2502 - mae: 1.2502\n",
            "Epoch 32/100\n",
            "1/1 [==============================] - 0s 23ms/step - loss: 1.0111 - mae: 1.0111\n",
            "Epoch 33/100\n",
            "1/1 [==============================] - 0s 13ms/step - loss: 0.6532 - mae: 0.6532\n",
            "Epoch 34/100\n",
            "1/1 [==============================] - 0s 14ms/step - loss: 0.3747 - mae: 0.3747\n",
            "Epoch 35/100\n",
            "1/1 [==============================] - 0s 57ms/step - loss: 0.4221 - mae: 0.4221\n",
            "Epoch 36/100\n",
            "1/1 [==============================] - 0s 44ms/step - loss: 0.3927 - mae: 0.3927\n",
            "Epoch 37/100\n",
            "1/1 [==============================] - 0s 30ms/step - loss: 0.3829 - mae: 0.3829\n",
            "Epoch 38/100\n",
            "1/1 [==============================] - 0s 55ms/step - loss: 0.5941 - mae: 0.5941\n",
            "Epoch 39/100\n",
            "1/1 [==============================] - 0s 47ms/step - loss: 0.7391 - mae: 0.7391\n",
            "Epoch 40/100\n",
            "1/1 [==============================] - 0s 35ms/step - loss: 0.8250 - mae: 0.8250\n",
            "Epoch 41/100\n",
            "1/1 [==============================] - 0s 28ms/step - loss: 0.8579 - mae: 0.8579\n",
            "Epoch 42/100\n",
            "1/1 [==============================] - 0s 36ms/step - loss: 0.8433 - mae: 0.8433\n",
            "Epoch 43/100\n",
            "1/1 [==============================] - 0s 34ms/step - loss: 0.7861 - mae: 0.7861\n",
            "Epoch 44/100\n",
            "1/1 [==============================] - 0s 34ms/step - loss: 0.6908 - mae: 0.6908\n",
            "Epoch 45/100\n",
            "1/1 [==============================] - 0s 34ms/step - loss: 0.5612 - mae: 0.5612\n",
            "Epoch 46/100\n",
            "1/1 [==============================] - 0s 37ms/step - loss: 0.4717 - mae: 0.4717\n",
            "Epoch 47/100\n",
            "1/1 [==============================] - 0s 16ms/step - loss: 0.4227 - mae: 0.4227\n",
            "Epoch 48/100\n",
            "1/1 [==============================] - 0s 15ms/step - loss: 0.2039 - mae: 0.2039\n",
            "Epoch 49/100\n",
            "1/1 [==============================] - 0s 36ms/step - loss: 0.1798 - mae: 0.1798\n",
            "Epoch 50/100\n",
            "1/1 [==============================] - 0s 16ms/step - loss: 0.1418 - mae: 0.1418\n",
            "Epoch 51/100\n",
            "1/1 [==============================] - 0s 16ms/step - loss: 0.2050 - mae: 0.2050\n",
            "Epoch 52/100\n",
            "1/1 [==============================] - 0s 11ms/step - loss: 0.3304 - mae: 0.3304\n",
            "Epoch 53/100\n",
            "1/1 [==============================] - 0s 17ms/step - loss: 0.3393 - mae: 0.3393\n",
            "Epoch 54/100\n",
            "1/1 [==============================] - 0s 14ms/step - loss: 0.3285 - mae: 0.3285\n",
            "Epoch 55/100\n",
            "1/1 [==============================] - 0s 17ms/step - loss: 0.2753 - mae: 0.2753\n",
            "Epoch 56/100\n",
            "1/1 [==============================] - 0s 16ms/step - loss: 0.3095 - mae: 0.3095\n",
            "Epoch 57/100\n",
            "1/1 [==============================] - 0s 16ms/step - loss: 0.2440 - mae: 0.2440\n",
            "Epoch 58/100\n",
            "1/1 [==============================] - 0s 13ms/step - loss: 0.1065 - mae: 0.1065\n",
            "Epoch 59/100\n",
            "1/1 [==============================] - 0s 19ms/step - loss: 0.2275 - mae: 0.2275\n",
            "Epoch 60/100\n",
            "1/1 [==============================] - 0s 10ms/step - loss: 0.1445 - mae: 0.1445\n",
            "Epoch 61/100\n",
            "1/1 [==============================] - 0s 18ms/step - loss: 0.1933 - mae: 0.1933\n",
            "Epoch 62/100\n",
            "1/1 [==============================] - 0s 18ms/step - loss: 0.3140 - mae: 0.3140\n",
            "Epoch 63/100\n",
            "1/1 [==============================] - 0s 13ms/step - loss: 0.2591 - mae: 0.2591\n",
            "Epoch 64/100\n",
            "1/1 [==============================] - 0s 13ms/step - loss: 0.2095 - mae: 0.2095\n",
            "Epoch 65/100\n",
            "1/1 [==============================] - 0s 23ms/step - loss: 0.2506 - mae: 0.2506\n",
            "Epoch 66/100\n",
            "1/1 [==============================] - 0s 18ms/step - loss: 0.2349 - mae: 0.2349\n",
            "Epoch 67/100\n",
            "1/1 [==============================] - 0s 23ms/step - loss: 0.0637 - mae: 0.0637\n",
            "Epoch 68/100\n",
            "1/1 [==============================] - 0s 13ms/step - loss: 0.1437 - mae: 0.1437\n",
            "Epoch 69/100\n",
            "1/1 [==============================] - 0s 16ms/step - loss: 0.0887 - mae: 0.0887\n",
            "Epoch 70/100\n",
            "1/1 [==============================] - 0s 17ms/step - loss: 0.1526 - mae: 0.1526\n",
            "Epoch 71/100\n",
            "1/1 [==============================] - 0s 17ms/step - loss: 0.2152 - mae: 0.2152\n",
            "Epoch 72/100\n",
            "1/1 [==============================] - 0s 17ms/step - loss: 0.1386 - mae: 0.1386\n",
            "Epoch 73/100\n",
            "1/1 [==============================] - 0s 17ms/step - loss: 0.0876 - mae: 0.0876\n",
            "Epoch 74/100\n",
            "1/1 [==============================] - 0s 25ms/step - loss: 0.0693 - mae: 0.0693\n",
            "Epoch 75/100\n",
            "1/1 [==============================] - 0s 15ms/step - loss: 0.1530 - mae: 0.1530\n",
            "Epoch 76/100\n",
            "1/1 [==============================] - 0s 18ms/step - loss: 0.1419 - mae: 0.1419\n",
            "Epoch 77/100\n",
            "1/1 [==============================] - 0s 16ms/step - loss: 0.1319 - mae: 0.1319\n",
            "Epoch 78/100\n",
            "1/1 [==============================] - 0s 27ms/step - loss: 0.2157 - mae: 0.2157\n",
            "Epoch 79/100\n",
            "1/1 [==============================] - 0s 21ms/step - loss: 0.1505 - mae: 0.1505\n",
            "Epoch 80/100\n",
            "1/1 [==============================] - 0s 23ms/step - loss: 0.1171 - mae: 0.1171\n",
            "Epoch 81/100\n",
            "1/1 [==============================] - 0s 26ms/step - loss: 0.1587 - mae: 0.1587\n",
            "Epoch 82/100\n",
            "1/1 [==============================] - 0s 23ms/step - loss: 0.0059 - mae: 0.0059\n",
            "Epoch 83/100\n",
            "1/1 [==============================] - 0s 18ms/step - loss: 0.0437 - mae: 0.0437\n",
            "Epoch 84/100\n",
            "1/1 [==============================] - 0s 16ms/step - loss: 0.0987 - mae: 0.0987\n",
            "Epoch 85/100\n",
            "1/1 [==============================] - 0s 14ms/step - loss: 0.0422 - mae: 0.0422\n",
            "Epoch 86/100\n",
            "1/1 [==============================] - 0s 15ms/step - loss: 0.1455 - mae: 0.1455\n",
            "Epoch 87/100\n",
            "1/1 [==============================] - 0s 32ms/step - loss: 0.1019 - mae: 0.1019\n",
            "Epoch 88/100\n",
            "1/1 [==============================] - 0s 20ms/step - loss: 0.1346 - mae: 0.1346\n",
            "Epoch 89/100\n",
            "1/1 [==============================] - 0s 16ms/step - loss: 0.1497 - mae: 0.1497\n",
            "Epoch 90/100\n",
            "1/1 [==============================] - 0s 16ms/step - loss: 0.0499 - mae: 0.0499\n",
            "Epoch 91/100\n",
            "1/1 [==============================] - 0s 15ms/step - loss: 0.1389 - mae: 0.1389\n",
            "Epoch 92/100\n",
            "1/1 [==============================] - 0s 15ms/step - loss: 0.0446 - mae: 0.0446\n",
            "Epoch 93/100\n",
            "1/1 [==============================] - 0s 26ms/step - loss: 0.2186 - mae: 0.2186\n",
            "Epoch 94/100\n",
            "1/1 [==============================] - 0s 21ms/step - loss: 0.2643 - mae: 0.2643\n",
            "Epoch 95/100\n",
            "1/1 [==============================] - 0s 15ms/step - loss: 0.1217 - mae: 0.1217\n",
            "Epoch 96/100\n",
            "1/1 [==============================] - 0s 19ms/step - loss: 0.1851 - mae: 0.1851\n",
            "Epoch 97/100\n",
            "1/1 [==============================] - 0s 23ms/step - loss: 0.2723 - mae: 0.2723\n",
            "Epoch 98/100\n",
            "1/1 [==============================] - 0s 20ms/step - loss: 0.1684 - mae: 0.1684\n",
            "Epoch 99/100\n",
            "1/1 [==============================] - 0s 15ms/step - loss: 0.1197 - mae: 0.1197\n",
            "Epoch 100/100\n",
            "1/1 [==============================] - 0s 13ms/step - loss: 0.2057 - mae: 0.2057\n"
          ]
        },
        {
          "output_type": "execute_result",
          "data": {
            "text/plain": [
              "<keras.src.callbacks.History at 0x7c8adf536fb0>"
            ]
          },
          "metadata": {},
          "execution_count": 11
        }
      ]
    },
    {
      "cell_type": "code",
      "source": [
        "y_pred = model.predict(X)\n",
        "y_pred, y"
      ],
      "metadata": {
        "id": "Zht87yoSQIv1",
        "colab": {
          "base_uri": "https://localhost:8080/"
        },
        "outputId": "a7161b53-816d-41bb-efc1-e34e0d808e0c"
      },
      "execution_count": 12,
      "outputs": [
        {
          "output_type": "stream",
          "name": "stdout",
          "text": [
            "1/1 [==============================] - 0s 89ms/step\n"
          ]
        },
        {
          "output_type": "execute_result",
          "data": {
            "text/plain": [
              "(array([[ 5.815013 ],\n",
              "        [ 4.7804976],\n",
              "        [ 6.8495283],\n",
              "        [ 7.884044 ],\n",
              "        [10.987591 ],\n",
              "        [12.022106 ],\n",
              "        [14.091138 ],\n",
              "        [15.125653 ],\n",
              "        [18.2292   ]], dtype=float32),\n",
              " <tf.Tensor: shape=(9,), dtype=float64, numpy=array([ 6.,  5.,  7.,  8., 11., 12., 14., 15., 18.])>)"
            ]
          },
          "metadata": {},
          "execution_count": 12
        }
      ]
    },
    {
      "cell_type": "markdown",
      "source": [
        "## Improvement 2"
      ],
      "metadata": {
        "id": "us5rcCbMw1dR"
      }
    },
    {
      "cell_type": "code",
      "source": [
        "tf.random.set_seed(42)\n",
        "\n",
        "# Create a model\n",
        "model = tf.keras.Sequential([\n",
        "    tf.keras.layers.Dense(1),\n",
        "    tf.keras.layers.Dense(1)\n",
        "])\n",
        "\n",
        "# Compile the model\n",
        "model.compile(loss=tf.keras.losses.mae,\n",
        "              optimizer=tf.keras.optimizers.Adam(learning_rate=0.3),\n",
        "              metrics=[\"mae\"])\n",
        "\n",
        "model.fit(tf.expand_dims(X, axis=-1), y, epochs=25)"
      ],
      "metadata": {
        "colab": {
          "base_uri": "https://localhost:8080/"
        },
        "id": "hbYIinzvwDl6",
        "outputId": "a6eafce6-002f-480b-c8c4-0322b5d6f299"
      },
      "execution_count": 13,
      "outputs": [
        {
          "output_type": "stream",
          "name": "stdout",
          "text": [
            "Epoch 1/25\n",
            "1/1 [==============================] - 1s 1s/step - loss: 10.6316 - mae: 10.6316\n",
            "Epoch 2/25\n",
            "1/1 [==============================] - 0s 17ms/step - loss: 9.9673 - mae: 9.9673\n",
            "Epoch 3/25\n",
            "1/1 [==============================] - 0s 30ms/step - loss: 9.0669 - mae: 9.0669\n",
            "Epoch 4/25\n",
            "1/1 [==============================] - 0s 20ms/step - loss: 7.9061 - mae: 7.9061\n",
            "Epoch 5/25\n",
            "1/1 [==============================] - 0s 16ms/step - loss: 7.4537 - mae: 7.4537\n",
            "Epoch 6/25\n",
            "1/1 [==============================] - 0s 16ms/step - loss: 7.6433 - mae: 7.6433\n",
            "Epoch 7/25\n",
            "1/1 [==============================] - 0s 21ms/step - loss: 6.4794 - mae: 6.4794\n",
            "Epoch 8/25\n",
            "1/1 [==============================] - 0s 24ms/step - loss: 5.4589 - mae: 5.4589\n",
            "Epoch 9/25\n",
            "1/1 [==============================] - 0s 16ms/step - loss: 4.9776 - mae: 4.9776\n",
            "Epoch 10/25\n",
            "1/1 [==============================] - 0s 15ms/step - loss: 4.6179 - mae: 4.6179\n",
            "Epoch 11/25\n",
            "1/1 [==============================] - 0s 15ms/step - loss: 4.0119 - mae: 4.0119\n",
            "Epoch 12/25\n",
            "1/1 [==============================] - 0s 14ms/step - loss: 3.1684 - mae: 3.1684\n",
            "Epoch 13/25\n",
            "1/1 [==============================] - 0s 15ms/step - loss: 2.0851 - mae: 2.0851\n",
            "Epoch 14/25\n",
            "1/1 [==============================] - 0s 15ms/step - loss: 1.4056 - mae: 1.4056\n",
            "Epoch 15/25\n",
            "1/1 [==============================] - 0s 16ms/step - loss: 1.0941 - mae: 1.0941\n",
            "Epoch 16/25\n",
            "1/1 [==============================] - 0s 19ms/step - loss: 1.1000 - mae: 1.1000\n",
            "Epoch 17/25\n",
            "1/1 [==============================] - 0s 28ms/step - loss: 1.3395 - mae: 1.3395\n",
            "Epoch 18/25\n",
            "1/1 [==============================] - 0s 25ms/step - loss: 1.8108 - mae: 1.8108\n",
            "Epoch 19/25\n",
            "1/1 [==============================] - 0s 14ms/step - loss: 2.0140 - mae: 2.0140\n",
            "Epoch 20/25\n",
            "1/1 [==============================] - 0s 25ms/step - loss: 1.8943 - mae: 1.8943\n",
            "Epoch 21/25\n",
            "1/1 [==============================] - 0s 17ms/step - loss: 1.5498 - mae: 1.5498\n",
            "Epoch 22/25\n",
            "1/1 [==============================] - 0s 27ms/step - loss: 1.0727 - mae: 1.0727\n",
            "Epoch 23/25\n",
            "1/1 [==============================] - 0s 20ms/step - loss: 0.6696 - mae: 0.6696\n",
            "Epoch 24/25\n",
            "1/1 [==============================] - 0s 46ms/step - loss: 0.1054 - mae: 0.1054\n",
            "Epoch 25/25\n",
            "1/1 [==============================] - 0s 14ms/step - loss: 0.7421 - mae: 0.7421\n"
          ]
        },
        {
          "output_type": "execute_result",
          "data": {
            "text/plain": [
              "<keras.src.callbacks.History at 0x7c8aec8b8670>"
            ]
          },
          "metadata": {},
          "execution_count": 13
        }
      ]
    },
    {
      "cell_type": "code",
      "source": [
        "y_pred = model.predict(X)\n",
        "y_pred, y"
      ],
      "metadata": {
        "colab": {
          "base_uri": "https://localhost:8080/"
        },
        "id": "mA5uDPXswGCI",
        "outputId": "4b8ea9f3-29bc-42b2-89aa-8bd20370a035"
      },
      "execution_count": 14,
      "outputs": [
        {
          "output_type": "stream",
          "name": "stdout",
          "text": [
            "1/1 [==============================] - 0s 72ms/step\n"
          ]
        },
        {
          "output_type": "execute_result",
          "data": {
            "text/plain": [
              "(array([[ 4.883449 ],\n",
              "        [ 3.8852167],\n",
              "        [ 5.8816814],\n",
              "        [ 6.8799133],\n",
              "        [ 9.87461  ],\n",
              "        [10.872843 ],\n",
              "        [12.869307 ],\n",
              "        [13.86754  ],\n",
              "        [16.862236 ]], dtype=float32),\n",
              " <tf.Tensor: shape=(9,), dtype=float64, numpy=array([ 6.,  5.,  7.,  8., 11., 12., 14., 15., 18.])>)"
            ]
          },
          "metadata": {},
          "execution_count": 14
        }
      ]
    },
    {
      "cell_type": "code",
      "source": [
        "model.get_layer('dense_2')"
      ],
      "metadata": {
        "colab": {
          "base_uri": "https://localhost:8080/"
        },
        "id": "lz9Oa_TJxGIv",
        "outputId": "1d12987b-c288-4f03-970a-5a91f52553a3"
      },
      "execution_count": 15,
      "outputs": [
        {
          "output_type": "execute_result",
          "data": {
            "text/plain": [
              "<keras.src.layers.core.dense.Dense at 0x7c8aec8a3e50>"
            ]
          },
          "metadata": {},
          "execution_count": 15
        }
      ]
    },
    {
      "cell_type": "markdown",
      "source": [
        "## Common ways to improve the model\n",
        "1. Adding extra layers\n",
        "2. Increase number of hidden units\n",
        "3. Changing activation function\n",
        "4. Change the optimization function\n",
        "5. Change the learning rate ( Most important hyperparameter )\n",
        "6. Fitting on more data\n",
        "7. Fitting for longer ( i.e. number of epochs )"
      ],
      "metadata": {
        "id": "lB3GEOP4svZi"
      }
    },
    {
      "cell_type": "markdown",
      "source": [
        "# Evaluating the model\n",
        "\n",
        "1. Visualize, visualize, visualize\n",
        "2. Visualize data\n",
        "3. Visualize model\n",
        "4. Visualize training\n",
        "5. Visualize predictions"
      ],
      "metadata": {
        "id": "giaJ6vkpt_TV"
      }
    },
    {
      "cell_type": "code",
      "source": [
        "X = tf.range(-100, 100, 4)\n",
        "X"
      ],
      "metadata": {
        "colab": {
          "base_uri": "https://localhost:8080/"
        },
        "id": "zkpSun57rrMr",
        "outputId": "1beedb89-0870-473f-a878-f7a5a12c4d26"
      },
      "execution_count": 16,
      "outputs": [
        {
          "output_type": "execute_result",
          "data": {
            "text/plain": [
              "<tf.Tensor: shape=(50,), dtype=int32, numpy=\n",
              "array([-100,  -96,  -92,  -88,  -84,  -80,  -76,  -72,  -68,  -64,  -60,\n",
              "        -56,  -52,  -48,  -44,  -40,  -36,  -32,  -28,  -24,  -20,  -16,\n",
              "        -12,   -8,   -4,    0,    4,    8,   12,   16,   20,   24,   28,\n",
              "         32,   36,   40,   44,   48,   52,   56,   60,   64,   68,   72,\n",
              "         76,   80,   84,   88,   92,   96], dtype=int32)>"
            ]
          },
          "metadata": {},
          "execution_count": 16
        }
      ]
    },
    {
      "cell_type": "code",
      "source": [
        "y = X + 10\n",
        "y"
      ],
      "metadata": {
        "colab": {
          "base_uri": "https://localhost:8080/"
        },
        "id": "7YJFb92x4m0f",
        "outputId": "edf43104-0896-4dec-d4b5-a4fa1c59412a"
      },
      "execution_count": 17,
      "outputs": [
        {
          "output_type": "execute_result",
          "data": {
            "text/plain": [
              "<tf.Tensor: shape=(50,), dtype=int32, numpy=\n",
              "array([-90, -86, -82, -78, -74, -70, -66, -62, -58, -54, -50, -46, -42,\n",
              "       -38, -34, -30, -26, -22, -18, -14, -10,  -6,  -2,   2,   6,  10,\n",
              "        14,  18,  22,  26,  30,  34,  38,  42,  46,  50,  54,  58,  62,\n",
              "        66,  70,  74,  78,  82,  86,  90,  94,  98, 102, 106], dtype=int32)>"
            ]
          },
          "metadata": {},
          "execution_count": 17
        }
      ]
    },
    {
      "cell_type": "code",
      "source": [
        "# Plot the input data\n",
        "plt.scatter(X, y)"
      ],
      "metadata": {
        "id": "RZKNkcjF43KM",
        "colab": {
          "base_uri": "https://localhost:8080/",
          "height": 448
        },
        "outputId": "d921b4f5-02b6-4996-b124-6fa330e56d00"
      },
      "execution_count": 18,
      "outputs": [
        {
          "output_type": "execute_result",
          "data": {
            "text/plain": [
              "<matplotlib.collections.PathCollection at 0x7c8aef1d1660>"
            ]
          },
          "metadata": {},
          "execution_count": 18
        },
        {
          "output_type": "display_data",
          "data": {
            "text/plain": [
              "<Figure size 640x480 with 1 Axes>"
            ],
            "image/png": "[encoded data removed]"
          },
          "metadata": {}
        }
      ]
    },
    {
      "cell_type": "markdown",
      "source": [
        "## 3 sets of data.\n",
        "Data is split into training, test and validation\n",
        "\n",
        "1. Train - 70-80% data [Like Training course]\n",
        "2. Validation - 10-15% data [Like Practice exam]\n",
        "3. Test - 10-15% data [Like Final Exam]"
      ],
      "metadata": {
        "id": "eX0RWsL1Vvlq"
      }
    },
    {
      "cell_type": "code",
      "source": [
        "X_train = X[0:40]\n",
        "X_test = X[40:50]\n",
        "\n",
        "y_train = y[0:40]\n",
        "y_test = y[40:50]"
      ],
      "metadata": {
        "id": "brF0pF3vVc-j"
      },
      "execution_count": 19,
      "outputs": []
    },
    {
      "cell_type": "code",
      "source": [
        "X_train.shape, X_test.shape, y_train.shape, y_test.shape"
      ],
      "metadata": {
        "colab": {
          "base_uri": "https://localhost:8080/"
        },
        "id": "pwLY_1rEWhB9",
        "outputId": "b3c5b00d-d875-4b3d-841d-148c58cdb777"
      },
      "execution_count": 20,
      "outputs": [
        {
          "output_type": "execute_result",
          "data": {
            "text/plain": [
              "(TensorShape([40]), TensorShape([10]), TensorShape([40]), TensorShape([10]))"
            ]
          },
          "metadata": {},
          "execution_count": 20
        }
      ]
    },
    {
      "cell_type": "code",
      "source": [
        "# Visualize the data\n",
        "plt.figure(figsize=(10,7))\n",
        "plt.scatter(X_train, y_train, c=\"b\", label=\"training data\")\n",
        "plt.scatter(X_test, y_test, c=\"g\", label=\"testing data\")\n",
        "plt.legend()"
      ],
      "metadata": {
        "colab": {
          "base_uri": "https://localhost:8080/",
          "height": 617
        },
        "id": "3C6jCI2yWzC1",
        "outputId": "9c0fc21f-a472-4d28-a7a9-3cf087ce7db8"
      },
      "execution_count": 21,
      "outputs": [
        {
          "output_type": "execute_result",
          "data": {
            "text/plain": [
              "<matplotlib.legend.Legend at 0x7c8aec86a020>"
            ]
          },
          "metadata": {},
          "execution_count": 21
        },
        {
          "output_type": "display_data",
          "data": {
            "text/plain": [
              "<Figure size 1000x700 with 1 Axes>"
            ],
            "image/png": "[encoded data removed]"
          },
          "metadata": {}
        }
      ]
    },
    {
      "cell_type": "markdown",
      "source": [
        "## Model"
      ],
      "metadata": {
        "id": "Uh0sOYnrYx4J"
      }
    },
    {
      "cell_type": "code",
      "source": [
        "# Create the model\n",
        "model = tf.keras.Sequential([\n",
        "    tf.keras.layers.Dense(1)\n",
        "])\n",
        "\n",
        "# Compile the model\n",
        "model.compile(loss=tf.keras.losses.mae,\n",
        "              optimizer=tf.keras.optimizers.SGD(),\n",
        "              metrics=[\"mae\"])\n",
        "\n",
        "# Fit the model\n",
        "# model.fit(X_train, y_train, epochs=100)"
      ],
      "metadata": {
        "id": "V1cIoHj6YxjT"
      },
      "execution_count": 22,
      "outputs": []
    },
    {
      "cell_type": "markdown",
      "source": [
        "## Visualize the model using model.summary()"
      ],
      "metadata": {
        "id": "RWAAlN3QaMsB"
      }
    },
    {
      "cell_type": "code",
      "source": [
        "model.summary()"
      ],
      "metadata": {
        "colab": {
          "base_uri": "https://localhost:8080/",
          "height": 328
        },
        "id": "CaP4TTZ0XseJ",
        "outputId": "83654fe1-522b-40f3-e138-070dba412ea2"
      },
      "execution_count": 23,
      "outputs": [
        {
          "output_type": "error",
          "ename": "ValueError",
          "evalue": "ignored",
          "traceback": [
            "\u001b[0;31m---------------------------------------------------------------------------\u001b[0m",
            "\u001b[0;31mValueError\u001b[0m                                Traceback (most recent call last)",
            "\u001b[0;32m<ipython-input-23-5f15418b3570>\u001b[0m in \u001b[0;36m<cell line: 1>\u001b[0;34m()\u001b[0m\n\u001b[0;32m----> 1\u001b[0;31m \u001b[0mmodel\u001b[0m\u001b[0;34m.\u001b[0m\u001b[0msummary\u001b[0m\u001b[0;34m(\u001b[0m\u001b[0;34m)\u001b[0m\u001b[0;34m\u001b[0m\u001b[0;34m\u001b[0m\u001b[0m\n\u001b[0m",
            "\u001b[0;32m/usr/local/lib/python3.10/dist-packages/keras/src/engine/training.py\u001b[0m in \u001b[0;36msummary\u001b[0;34m(self, line_length, positions, print_fn, expand_nested, show_trainable, layer_range)\u001b[0m\n\u001b[1;32m   3480\u001b[0m         \"\"\"\n\u001b[1;32m   3481\u001b[0m         \u001b[0;32mif\u001b[0m \u001b[0;32mnot\u001b[0m \u001b[0mself\u001b[0m\u001b[0;34m.\u001b[0m\u001b[0mbuilt\u001b[0m\u001b[0;34m:\u001b[0m\u001b[0;34m\u001b[0m\u001b[0;34m\u001b[0m\u001b[0m\n\u001b[0;32m-> 3482\u001b[0;31m             raise ValueError(\n\u001b[0m\u001b[1;32m   3483\u001b[0m                 \u001b[0;34m\"This model has not yet been built. \"\u001b[0m\u001b[0;34m\u001b[0m\u001b[0;34m\u001b[0m\u001b[0m\n\u001b[1;32m   3484\u001b[0m                 \u001b[0;34m\"Build the model first by calling `build()` or by calling \"\u001b[0m\u001b[0;34m\u001b[0m\u001b[0;34m\u001b[0m\u001b[0m\n",
            "\u001b[0;31mValueError\u001b[0m: This model has not yet been built. Build the model first by calling `build()` or by calling the model on a batch of data."
          ]
        }
      ]
    },
    {
      "cell_type": "code",
      "source": [
        "tf.random.set_seed(42)\n",
        "\n",
        "# Create the model\n",
        "model = tf.keras.Sequential([\n",
        "    tf.keras.layers.Dense(10, input_shape=[1], name=\"input_layer\"),\n",
        "    tf.keras.layers.Dense(1, input_shape=[1], name=\"output_layer\")\n",
        "], name=\"My_Model\")\n",
        "\n",
        "# Compile the model\n",
        "model.compile(loss=tf.keras.losses.mae,\n",
        "              optimizer=tf.keras.optimizers.SGD(),\n",
        "              metrics=[\"mae\"])\n",
        "\n",
        "# Fit the model\n",
        "model.fit(X_train, y_train, epochs=100, verbose=0)"
      ],
      "metadata": {
        "colab": {
          "base_uri": "https://localhost:8080/"
        },
        "id": "VsPNmx5fZbXn",
        "outputId": "ffa1776d-66cf-4196-f4f9-8f763ab98fbd"
      },
      "execution_count": 37,
      "outputs": [
        {
          "output_type": "execute_result",
          "data": {
            "text/plain": [
              "<keras.src.callbacks.History at 0x7c8adf4d0520>"
            ]
          },
          "metadata": {},
          "execution_count": 37
        }
      ]
    },
    {
      "cell_type": "code",
      "source": [
        "model.summary()"
      ],
      "metadata": {
        "colab": {
          "base_uri": "https://localhost:8080/"
        },
        "id": "hW4rzigRaIry",
        "outputId": "5665e4bf-e3fe-4ba1-d3e6-62279df85323"
      },
      "execution_count": 33,
      "outputs": [
        {
          "output_type": "stream",
          "name": "stdout",
          "text": [
            "Model: \"My_Model\"\n",
            "_________________________________________________________________\n",
            " Layer (type)                Output Shape              Param #   \n",
            "=================================================================\n",
            " input_layer (Dense)         (None, 10)                20        \n",
            "                                                                 \n",
            " output_layer (Dense)        (None, 1)                 11        \n",
            "                                                                 \n",
            "=================================================================\n",
            "Total params: 31 (124.00 Byte)\n",
            "Trainable params: 31 (124.00 Byte)\n",
            "Non-trainable params: 0 (0.00 Byte)\n",
            "_________________________________________________________________\n"
          ]
        }
      ]
    },
    {
      "cell_type": "markdown",
      "source": [
        "1. **Total parameters - numbers/patterns which will be learned**\n",
        "2. **Trainable parameters - Parameters that model can update while training**\n",
        "3. **Non-Trainable parameters - Parameters that model cannot update while training (utilized in transfer learning)**\n",
        "\n",
        "**Resource - Intro to Deep Learning - MIT**"
      ],
      "metadata": {
        "id": "2iy4vNXaajWP"
      }
    },
    {
      "cell_type": "code",
      "source": [
        "from tensorflow.keras.utils import plot_model"
      ],
      "metadata": {
        "id": "uWUqPNpNaKHz"
      },
      "execution_count": 26,
      "outputs": []
    },
    {
      "cell_type": "code",
      "source": [
        "plot_model(model, show_layer_names=True, show_shapes=True)"
      ],
      "metadata": {
        "colab": {
          "base_uri": "https://localhost:8080/",
          "height": 312
        },
        "id": "OLWg6Dvrlfcz",
        "outputId": "9b3850bb-20c1-4866-dbba-747c92e565ac"
      },
      "execution_count": 34,
      "outputs": [
        {
          "output_type": "execute_result",
          "data": {
            "image/png": "[encoded data removed]",
            "text/plain": [
              "<IPython.core.display.Image object>"
            ]
          },
          "metadata": {},
          "execution_count": 34
        }
      ]
    },
    {
      "cell_type": "markdown",
      "source": [
        "## Visualizing models predictions"
      ],
      "metadata": {
        "id": "J8bldgGlm1Qf"
      }
    },
    {
      "cell_type": "code",
      "source": [
        "y_pred = model.predict(X_test)\n",
        "y_pred"
      ],
      "metadata": {
        "colab": {
          "base_uri": "https://localhost:8080/"
        },
        "id": "5w-XAUJtloGW",
        "outputId": "9a0a9d5e-5639-4abc-b2af-c709e82c1751"
      },
      "execution_count": 35,
      "outputs": [
        {
          "output_type": "stream",
          "name": "stdout",
          "text": [
            "1/1 [==============================] - 0s 80ms/step\n"
          ]
        },
        {
          "output_type": "execute_result",
          "data": {
            "text/plain": [
              "array([[ 75.75711 ],\n",
              "       [ 80.69247 ],\n",
              "       [ 85.627815],\n",
              "       [ 90.56316 ],\n",
              "       [ 95.49852 ],\n",
              "       [100.43386 ],\n",
              "       [105.36922 ],\n",
              "       [110.30456 ],\n",
              "       [115.23991 ],\n",
              "       [120.17526 ]], dtype=float32)"
            ]
          },
          "metadata": {},
          "execution_count": 35
        }
      ]
    },
    {
      "cell_type": "code",
      "source": [
        "y_test"
      ],
      "metadata": {
        "colab": {
          "base_uri": "https://localhost:8080/"
        },
        "id": "YK30H7Vrnk7j",
        "outputId": "fcaed55c-22ec-4a75-a86a-00ef6cdbe814"
      },
      "execution_count": 36,
      "outputs": [
        {
          "output_type": "execute_result",
          "data": {
            "text/plain": [
              "<tf.Tensor: shape=(10,), dtype=int32, numpy=array([ 70,  74,  78,  82,  86,  90,  94,  98, 102, 106], dtype=int32)>"
            ]
          },
          "metadata": {},
          "execution_count": 36
        }
      ]
    },
    {
      "cell_type": "markdown",
      "source": [
        "## Plotting function"
      ],
      "metadata": {
        "id": "Jv4tpNYXnz1o"
      }
    },
    {
      "cell_type": "code",
      "source": [
        "def plot_predictions(train_data=X_train,\n",
        "                     train_labels=y_train,\n",
        "                     test_data=X_test,\n",
        "                     test_labels=y_test,\n",
        "                     predictions=y_pred):\n",
        "  \"\"\"\n",
        "  Plot training data, testing data and compares predictions to the ground truth\n",
        "  \"\"\"\n",
        "  plt.figure(figsize=(10, 7))\n",
        "  plt.scatter(train_data, train_labels, c=\"b\", label=\"training data\")\n",
        "  plt.scatter(test_data, test_labels, c=\"g\", label=\"testing data\")\n",
        "  plt.scatter(test_data, predictions, c=\"r\", label=\"predictions\")\n",
        "  plt.legend();"
      ],
      "metadata": {
        "id": "9MT2DJsJnmKb"
      },
      "execution_count": 38,
      "outputs": []
    },
    {
      "cell_type": "code",
      "source": [
        "plot_predictions()"
      ],
      "metadata": {
        "colab": {
          "base_uri": "https://localhost:8080/",
          "height": 599
        },
        "id": "XVoQCIiro5_A",
        "outputId": "64e411aa-3914-4885-880e-d97c1da430f4"
      },
      "execution_count": 39,
      "outputs": [
        {
          "output_type": "display_data",
          "data": {
            "text/plain": [
              "<Figure size 1000x700 with 1 Axes>"
            ],
            "image/png": "[encoded data removed]"
          },
          "metadata": {}
        }
      ]
    },
    {
      "cell_type": "code",
      "source": [],
      "metadata": {
        "id": "qOgzioxRo95G"
      },
      "execution_count": null,
      "outputs": []
    }
  ]
}