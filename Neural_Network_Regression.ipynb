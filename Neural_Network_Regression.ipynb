{
  "nbformat": 4,
  "nbformat_minor": 0,
  "metadata": {
    "colab": {
      "provenance": [],
      "authorship_tag": "ABX9TyP4y34zxccFhXOxLLZauOpC",
      "include_colab_link": true
    },
    "kernelspec": {
      "name": "python3",
      "display_name": "Python 3"
    },
    "language_info": {
      "name": "python"
    }
  },
  "cells": [
    {
      "cell_type": "markdown",
      "metadata": {
        "id": "view-in-github",
        "colab_type": "text"
      },
      "source": [
        "<a href=\"https://colab.research.google.com/github/akshaypat444/tensorflow_practice/blob/main/Neural_Network_Regression.ipynb\" target=\"_parent\"><img src=\"https://colab.research.google.com/assets/colab-badge.svg\" alt=\"Open In Colab\"/></a>"
      ]
    },
    {
      "cell_type": "code",
      "execution_count": 42,
      "metadata": {
        "id": "BmY_gL6z17NN"
      },
      "outputs": [],
      "source": [
        "import tensorflow as tf\n",
        "import numpy as np\n",
        "import matplotlib.pyplot as plt"
      ]
    },
    {
      "cell_type": "markdown",
      "source": [
        "## Predicting a number using regression"
      ],
      "metadata": {
        "id": "l1VyM6v9H44N"
      }
    },
    {
      "cell_type": "code",
      "source": [
        "X = np.array([-4.0, -5.0, -3.0, -2.0, 1.0, 2.0, 4.0, 5.0, 8.0])\n",
        "y = np.array([ 6.,  5.,  7.,  8., 11., 12., 14., 15., 18.])"
      ],
      "metadata": {
        "id": "0hCip6AwHy4H"
      },
      "execution_count": 43,
      "outputs": []
    },
    {
      "cell_type": "code",
      "source": [
        "plt.scatter(X, y)"
      ],
      "metadata": {
        "colab": {
          "base_uri": "https://localhost:8080/",
          "height": 448
        },
        "id": "Fk_qvDboHysp",
        "outputId": "1ad004c0-713e-4626-bbc4-4affb0a35786"
      },
      "execution_count": 44,
      "outputs": [
        {
          "output_type": "execute_result",
          "data": {
            "text/plain": [
              "<matplotlib.collections.PathCollection at 0x7ef3635076a0>"
            ]
          },
          "metadata": {},
          "execution_count": 44
        },
        {
          "output_type": "display_data",
          "data": {
            "text/plain": [
              "<Figure size 640x480 with 1 Axes>"
            ],
            "image/png": "[encoded data removed]"
          },
          "metadata": {}
        }
      ]
    },
    {
      "cell_type": "code",
      "source": [
        "y == X + 10"
      ],
      "metadata": {
        "colab": {
          "base_uri": "https://localhost:8080/"
        },
        "id": "7Doy2yUtIw8S",
        "outputId": "82ba8817-dc05-4c95-e87f-ae1396286a46"
      },
      "execution_count": 45,
      "outputs": [
        {
          "output_type": "execute_result",
          "data": {
            "text/plain": [
              "array([ True,  True,  True,  True,  True,  True,  True,  True,  True])"
            ]
          },
          "metadata": {},
          "execution_count": 45
        }
      ]
    },
    {
      "cell_type": "code",
      "source": [
        "X = tf.constant(X)\n",
        "y = tf.constant(y)"
      ],
      "metadata": {
        "id": "dxjdXLUkMCTv"
      },
      "execution_count": 46,
      "outputs": []
    },
    {
      "cell_type": "code",
      "source": [
        "X, y"
      ],
      "metadata": {
        "colab": {
          "base_uri": "https://localhost:8080/"
        },
        "id": "0b_aEKpmMMjt",
        "outputId": "cdc312c2-89d4-41e1-d296-94c5a3f910fe"
      },
      "execution_count": 47,
      "outputs": [
        {
          "output_type": "execute_result",
          "data": {
            "text/plain": [
              "(<tf.Tensor: shape=(9,), dtype=float64, numpy=array([-4., -5., -3., -2.,  1.,  2.,  4.,  5.,  8.])>,\n",
              " <tf.Tensor: shape=(9,), dtype=float64, numpy=array([ 6.,  5.,  7.,  8., 11., 12., 14., 15., 18.])>)"
            ]
          },
          "metadata": {},
          "execution_count": 47
        }
      ]
    },
    {
      "cell_type": "code",
      "source": [
        "input_shape = X[0].shape\n",
        "output_shape = y[0].shape\n",
        "input_shape, output_shape"
      ],
      "metadata": {
        "colab": {
          "base_uri": "https://localhost:8080/"
        },
        "id": "dMGraEekJND7",
        "outputId": "86b7d712-16e0-4c74-b4b2-7c09c2798371"
      },
      "execution_count": 48,
      "outputs": [
        {
          "output_type": "execute_result",
          "data": {
            "text/plain": [
              "(TensorShape([]), TensorShape([]))"
            ]
          },
          "metadata": {},
          "execution_count": 48
        }
      ]
    },
    {
      "cell_type": "markdown",
      "source": [
        "## Modeling with tensorflow"
      ],
      "metadata": {
        "id": "KO1iO1URMXL7"
      }
    },
    {
      "cell_type": "code",
      "source": [
        "tf.random.set_seed(42)\n",
        "\n",
        "# Create a model\n",
        "model = tf.keras.Sequential([\n",
        "                    tf.keras.layers.Dense(1)\n",
        "])\n",
        "\n",
        "# Compile the model\n",
        "model.compile(loss=tf.keras.losses.mae,\n",
        "              optimizer=tf.keras.optimizers.SGD(),\n",
        "              metrics=[\"mae\"])\n",
        "\n",
        "model.fit(tf.expand_dims(X, axis=-1), y, epochs=100)"
      ],
      "metadata": {
        "colab": {
          "base_uri": "https://localhost:8080/"
        },
        "id": "4EnsxjhKJSdD",
        "outputId": "1302f023-3202-4189-e3d1-a65060fff33c"
      },
      "execution_count": 49,
      "outputs": [
        {
          "output_type": "stream",
          "name": "stdout",
          "text": [
            "Epoch 1/100\n",
            "1/1 [==============================] - 1s 1s/step - loss: 10.4842 - mae: 10.4842\n",
            "Epoch 2/100\n",
            "1/1 [==============================] - 0s 16ms/step - loss: 10.4698 - mae: 10.4698\n",
            "Epoch 3/100\n",
            "1/1 [==============================] - 0s 21ms/step - loss: 10.4553 - mae: 10.4553\n",
            "Epoch 4/100\n",
            "1/1 [==============================] - 0s 16ms/step - loss: 10.4409 - mae: 10.4409\n",
            "Epoch 5/100\n",
            "1/1 [==============================] - 0s 15ms/step - loss: 10.4264 - mae: 10.4264\n",
            "Epoch 6/100\n",
            "1/1 [==============================] - 0s 14ms/step - loss: 10.4120 - mae: 10.4120\n",
            "Epoch 7/100\n",
            "1/1 [==============================] - 0s 12ms/step - loss: 10.3976 - mae: 10.3976\n",
            "Epoch 8/100\n",
            "1/1 [==============================] - 0s 10ms/step - loss: 10.3831 - mae: 10.3831\n",
            "Epoch 9/100\n",
            "1/1 [==============================] - 0s 12ms/step - loss: 10.3687 - mae: 10.3687\n",
            "Epoch 10/100\n",
            "1/1 [==============================] - 0s 16ms/step - loss: 10.3542 - mae: 10.3542\n",
            "Epoch 11/100\n",
            "1/1 [==============================] - 0s 15ms/step - loss: 10.3398 - mae: 10.3398\n",
            "Epoch 12/100\n",
            "1/1 [==============================] - 0s 11ms/step - loss: 10.3253 - mae: 10.3253\n",
            "Epoch 13/100\n",
            "1/1 [==============================] - 0s 10ms/step - loss: 10.3109 - mae: 10.3109\n",
            "Epoch 14/100\n",
            "1/1 [==============================] - 0s 13ms/step - loss: 10.2965 - mae: 10.2965\n",
            "Epoch 15/100\n",
            "1/1 [==============================] - 0s 12ms/step - loss: 10.2820 - mae: 10.2820\n",
            "Epoch 16/100\n",
            "1/1 [==============================] - 0s 13ms/step - loss: 10.2676 - mae: 10.2676\n",
            "Epoch 17/100\n",
            "1/1 [==============================] - 0s 18ms/step - loss: 10.2531 - mae: 10.2531\n",
            "Epoch 18/100\n",
            "1/1 [==============================] - 0s 11ms/step - loss: 10.2387 - mae: 10.2387\n",
            "Epoch 19/100\n",
            "1/1 [==============================] - 0s 13ms/step - loss: 10.2242 - mae: 10.2242\n",
            "Epoch 20/100\n",
            "1/1 [==============================] - 0s 15ms/step - loss: 10.2098 - mae: 10.2098\n",
            "Epoch 21/100\n",
            "1/1 [==============================] - 0s 12ms/step - loss: 10.1953 - mae: 10.1953\n",
            "Epoch 22/100\n",
            "1/1 [==============================] - 0s 11ms/step - loss: 10.1809 - mae: 10.1809\n",
            "Epoch 23/100\n",
            "1/1 [==============================] - 0s 12ms/step - loss: 10.1665 - mae: 10.1665\n",
            "Epoch 24/100\n",
            "1/1 [==============================] - 0s 11ms/step - loss: 10.1520 - mae: 10.1520\n",
            "Epoch 25/100\n",
            "1/1 [==============================] - 0s 10ms/step - loss: 10.1376 - mae: 10.1376\n",
            "Epoch 26/100\n",
            "1/1 [==============================] - 0s 11ms/step - loss: 10.1231 - mae: 10.1231\n",
            "Epoch 27/100\n",
            "1/1 [==============================] - 0s 11ms/step - loss: 10.1087 - mae: 10.1087\n",
            "Epoch 28/100\n",
            "1/1 [==============================] - 0s 10ms/step - loss: 10.0942 - mae: 10.0942\n",
            "Epoch 29/100\n",
            "1/1 [==============================] - 0s 11ms/step - loss: 10.0798 - mae: 10.0798\n",
            "Epoch 30/100\n",
            "1/1 [==============================] - 0s 11ms/step - loss: 10.0653 - mae: 10.0653\n",
            "Epoch 31/100\n",
            "1/1 [==============================] - 0s 11ms/step - loss: 10.0509 - mae: 10.0509\n",
            "Epoch 32/100\n",
            "1/1 [==============================] - 0s 12ms/step - loss: 10.0365 - mae: 10.0365\n",
            "Epoch 33/100\n",
            "1/1 [==============================] - 0s 12ms/step - loss: 10.0220 - mae: 10.0220\n",
            "Epoch 34/100\n",
            "1/1 [==============================] - 0s 12ms/step - loss: 10.0076 - mae: 10.0076\n",
            "Epoch 35/100\n",
            "1/1 [==============================] - 0s 14ms/step - loss: 9.9931 - mae: 9.9931\n",
            "Epoch 36/100\n",
            "1/1 [==============================] - 0s 20ms/step - loss: 9.9787 - mae: 9.9787\n",
            "Epoch 37/100\n",
            "1/1 [==============================] - 0s 19ms/step - loss: 9.9642 - mae: 9.9642\n",
            "Epoch 38/100\n",
            "1/1 [==============================] - 0s 14ms/step - loss: 9.9498 - mae: 9.9498\n",
            "Epoch 39/100\n",
            "1/1 [==============================] - 0s 12ms/step - loss: 9.9353 - mae: 9.9353\n",
            "Epoch 40/100\n",
            "1/1 [==============================] - 0s 10ms/step - loss: 9.9209 - mae: 9.9209\n",
            "Epoch 41/100\n",
            "1/1 [==============================] - 0s 11ms/step - loss: 9.9065 - mae: 9.9065\n",
            "Epoch 42/100\n",
            "1/1 [==============================] - 0s 12ms/step - loss: 9.8920 - mae: 9.8920\n",
            "Epoch 43/100\n",
            "1/1 [==============================] - 0s 12ms/step - loss: 9.8776 - mae: 9.8776\n",
            "Epoch 44/100\n",
            "1/1 [==============================] - 0s 11ms/step - loss: 9.8631 - mae: 9.8631\n",
            "Epoch 45/100\n",
            "1/1 [==============================] - 0s 12ms/step - loss: 9.8487 - mae: 9.8487\n",
            "Epoch 46/100\n",
            "1/1 [==============================] - 0s 11ms/step - loss: 9.8342 - mae: 9.8342\n",
            "Epoch 47/100\n",
            "1/1 [==============================] - 0s 13ms/step - loss: 9.8198 - mae: 9.8198\n",
            "Epoch 48/100\n",
            "1/1 [==============================] - 0s 15ms/step - loss: 9.8053 - mae: 9.8053\n",
            "Epoch 49/100\n",
            "1/1 [==============================] - 0s 12ms/step - loss: 9.7909 - mae: 9.7909\n",
            "Epoch 50/100\n",
            "1/1 [==============================] - 0s 12ms/step - loss: 9.7765 - mae: 9.7765\n",
            "Epoch 51/100\n",
            "1/1 [==============================] - 0s 11ms/step - loss: 9.7620 - mae: 9.7620\n",
            "Epoch 52/100\n",
            "1/1 [==============================] - 0s 11ms/step - loss: 9.7476 - mae: 9.7476\n",
            "Epoch 53/100\n",
            "1/1 [==============================] - 0s 11ms/step - loss: 9.7331 - mae: 9.7331\n",
            "Epoch 54/100\n",
            "1/1 [==============================] - 0s 11ms/step - loss: 9.7187 - mae: 9.7187\n",
            "Epoch 55/100\n",
            "1/1 [==============================] - 0s 12ms/step - loss: 9.7042 - mae: 9.7042\n",
            "Epoch 56/100\n",
            "1/1 [==============================] - 0s 12ms/step - loss: 9.6898 - mae: 9.6898\n",
            "Epoch 57/100\n",
            "1/1 [==============================] - 0s 11ms/step - loss: 9.6753 - mae: 9.6753\n",
            "Epoch 58/100\n",
            "1/1 [==============================] - 0s 11ms/step - loss: 9.6609 - mae: 9.6609\n",
            "Epoch 59/100\n",
            "1/1 [==============================] - 0s 12ms/step - loss: 9.6465 - mae: 9.6465\n",
            "Epoch 60/100\n",
            "1/1 [==============================] - 0s 12ms/step - loss: 9.6320 - mae: 9.6320\n",
            "Epoch 61/100\n",
            "1/1 [==============================] - 0s 11ms/step - loss: 9.6176 - mae: 9.6176\n",
            "Epoch 62/100\n",
            "1/1 [==============================] - 0s 12ms/step - loss: 9.6031 - mae: 9.6031\n",
            "Epoch 63/100\n",
            "1/1 [==============================] - 0s 11ms/step - loss: 9.5887 - mae: 9.5887\n",
            "Epoch 64/100\n",
            "1/1 [==============================] - 0s 11ms/step - loss: 9.5742 - mae: 9.5742\n",
            "Epoch 65/100\n",
            "1/1 [==============================] - 0s 13ms/step - loss: 9.5598 - mae: 9.5598\n",
            "Epoch 66/100\n",
            "1/1 [==============================] - 0s 12ms/step - loss: 9.5453 - mae: 9.5453\n",
            "Epoch 67/100\n",
            "1/1 [==============================] - 0s 14ms/step - loss: 9.5309 - mae: 9.5309\n",
            "Epoch 68/100\n",
            "1/1 [==============================] - 0s 12ms/step - loss: 9.5165 - mae: 9.5165\n",
            "Epoch 69/100\n",
            "1/1 [==============================] - 0s 13ms/step - loss: 9.5020 - mae: 9.5020\n",
            "Epoch 70/100\n",
            "1/1 [==============================] - 0s 13ms/step - loss: 9.4876 - mae: 9.4876\n",
            "Epoch 71/100\n",
            "1/1 [==============================] - 0s 12ms/step - loss: 9.4731 - mae: 9.4731\n",
            "Epoch 72/100\n",
            "1/1 [==============================] - 0s 13ms/step - loss: 9.4587 - mae: 9.4587\n",
            "Epoch 73/100\n",
            "1/1 [==============================] - 0s 13ms/step - loss: 9.4442 - mae: 9.4442\n",
            "Epoch 74/100\n",
            "1/1 [==============================] - 0s 11ms/step - loss: 9.4298 - mae: 9.4298\n",
            "Epoch 75/100\n",
            "1/1 [==============================] - 0s 12ms/step - loss: 9.4153 - mae: 9.4153\n",
            "Epoch 76/100\n",
            "1/1 [==============================] - 0s 13ms/step - loss: 9.4009 - mae: 9.4009\n",
            "Epoch 77/100\n",
            "1/1 [==============================] - 0s 12ms/step - loss: 9.3865 - mae: 9.3865\n",
            "Epoch 78/100\n",
            "1/1 [==============================] - 0s 11ms/step - loss: 9.3720 - mae: 9.3720\n",
            "Epoch 79/100\n",
            "1/1 [==============================] - 0s 14ms/step - loss: 9.3576 - mae: 9.3576\n",
            "Epoch 80/100\n",
            "1/1 [==============================] - 0s 19ms/step - loss: 9.3431 - mae: 9.3431\n",
            "Epoch 81/100\n",
            "1/1 [==============================] - 0s 11ms/step - loss: 9.3287 - mae: 9.3287\n",
            "Epoch 82/100\n",
            "1/1 [==============================] - 0s 12ms/step - loss: 9.3142 - mae: 9.3142\n",
            "Epoch 83/100\n",
            "1/1 [==============================] - 0s 10ms/step - loss: 9.2998 - mae: 9.2998\n",
            "Epoch 84/100\n",
            "1/1 [==============================] - 0s 10ms/step - loss: 9.2853 - mae: 9.2853\n",
            "Epoch 85/100\n",
            "1/1 [==============================] - 0s 11ms/step - loss: 9.2709 - mae: 9.2709\n",
            "Epoch 86/100\n",
            "1/1 [==============================] - 0s 12ms/step - loss: 9.2565 - mae: 9.2565\n",
            "Epoch 87/100\n",
            "1/1 [==============================] - 0s 10ms/step - loss: 9.2420 - mae: 9.2420\n",
            "Epoch 88/100\n",
            "1/1 [==============================] - 0s 11ms/step - loss: 9.2276 - mae: 9.2276\n",
            "Epoch 89/100\n",
            "1/1 [==============================] - 0s 10ms/step - loss: 9.2131 - mae: 9.2131\n",
            "Epoch 90/100\n",
            "1/1 [==============================] - 0s 11ms/step - loss: 9.1987 - mae: 9.1987\n",
            "Epoch 91/100\n",
            "1/1 [==============================] - 0s 11ms/step - loss: 9.1842 - mae: 9.1842\n",
            "Epoch 92/100\n",
            "1/1 [==============================] - 0s 11ms/step - loss: 9.1698 - mae: 9.1698\n",
            "Epoch 93/100\n",
            "1/1 [==============================] - 0s 11ms/step - loss: 9.1553 - mae: 9.1553\n",
            "Epoch 94/100\n",
            "1/1 [==============================] - 0s 11ms/step - loss: 9.1409 - mae: 9.1409\n",
            "Epoch 95/100\n",
            "1/1 [==============================] - 0s 19ms/step - loss: 9.1265 - mae: 9.1265\n",
            "Epoch 96/100\n",
            "1/1 [==============================] - 0s 17ms/step - loss: 9.1120 - mae: 9.1120\n",
            "Epoch 97/100\n",
            "1/1 [==============================] - 0s 15ms/step - loss: 9.0976 - mae: 9.0976\n",
            "Epoch 98/100\n",
            "1/1 [==============================] - 0s 10ms/step - loss: 9.0831 - mae: 9.0831\n",
            "Epoch 99/100\n",
            "1/1 [==============================] - 0s 10ms/step - loss: 9.0687 - mae: 9.0687\n",
            "Epoch 100/100\n",
            "1/1 [==============================] - 0s 10ms/step - loss: 9.0542 - mae: 9.0542\n"
          ]
        },
        {
          "output_type": "execute_result",
          "data": {
            "text/plain": [
              "<keras.src.callbacks.History at 0x7ef3767eabf0>"
            ]
          },
          "metadata": {},
          "execution_count": 49
        }
      ]
    },
    {
      "cell_type": "markdown",
      "source": [],
      "metadata": {
        "id": "AQHVc8fbumFm"
      }
    },
    {
      "cell_type": "code",
      "source": [
        "X, y"
      ],
      "metadata": {
        "colab": {
          "base_uri": "https://localhost:8080/"
        },
        "id": "HkPw9V01QY6i",
        "outputId": "6e1d8f2a-b943-4692-b01b-308544603e65"
      },
      "execution_count": 50,
      "outputs": [
        {
          "output_type": "execute_result",
          "data": {
            "text/plain": [
              "(<tf.Tensor: shape=(9,), dtype=float64, numpy=array([-4., -5., -3., -2.,  1.,  2.,  4.,  5.,  8.])>,\n",
              " <tf.Tensor: shape=(9,), dtype=float64, numpy=array([ 6.,  5.,  7.,  8., 11., 12., 14., 15., 18.])>)"
            ]
          },
          "metadata": {},
          "execution_count": 50
        }
      ]
    },
    {
      "cell_type": "code",
      "source": [
        "y_pred = model.predict(X)\n",
        "y_pred"
      ],
      "metadata": {
        "colab": {
          "base_uri": "https://localhost:8080/"
        },
        "id": "g0oE15GdOa9O",
        "outputId": "185f252f-e12c-4fea-b6e4-1a194b27bb94"
      },
      "execution_count": 51,
      "outputs": [
        {
          "output_type": "stream",
          "name": "stderr",
          "text": [
            "WARNING:tensorflow:5 out of the last 5 calls to <function Model.make_predict_function.<locals>.predict_function at 0x7ef363554dc0> triggered tf.function retracing. Tracing is expensive and the excessive number of tracings could be due to (1) creating @tf.function repeatedly in a loop, (2) passing tensors with different shapes, (3) passing Python objects instead of tensors. For (1), please define your @tf.function outside of the loop. For (2), @tf.function has reduce_retracing=True option that can avoid unnecessary retracing. For (3), please refer to https://www.tensorflow.org/guide/function#controlling_retracing and https://www.tensorflow.org/api_docs/python/tf/function for  more details.\n"
          ]
        },
        {
          "output_type": "stream",
          "name": "stdout",
          "text": [
            "1/1 [==============================] - 0s 49ms/step\n"
          ]
        },
        {
          "output_type": "execute_result",
          "data": {
            "text/plain": [
              "array([[-2.7612965 ],\n",
              "       [-3.7016203 ],\n",
              "       [-1.8209727 ],\n",
              "       [-0.88064855],\n",
              "       [ 1.9403234 ],\n",
              "       [ 2.8806472 ],\n",
              "       [ 4.7612953 ],\n",
              "       [ 5.701619  ],\n",
              "       [ 8.522591  ]], dtype=float32)"
            ]
          },
          "metadata": {},
          "execution_count": 51
        }
      ]
    },
    {
      "cell_type": "markdown",
      "source": [
        "## Improving the machine learning model by\n",
        "\n",
        "1. Creating a new model\n",
        "2. Changing the compilation configuration of model\n",
        "3. Fitting the model (number of passes to go through data)"
      ],
      "metadata": {
        "id": "3EqMNUioQ1vT"
      }
    },
    {
      "cell_type": "code",
      "source": [
        "tf.random.set_seed(42)\n",
        "\n",
        "# Create a model\n",
        "model = tf.keras.Sequential([\n",
        "                    tf.keras.layers.Dense(1),\n",
        "\n",
        "])\n",
        "\n",
        "# Compile the model\n",
        "model.compile(loss=tf.keras.losses.mae,\n",
        "              optimizer=tf.keras.optimizers.Adam(learning_rate=0.3),\n",
        "              metrics=[\"mae\"])\n",
        "\n",
        "model.fit(tf.expand_dims(X, axis=-1), y, epochs=100)"
      ],
      "metadata": {
        "id": "1vTOUZmlQ1VQ",
        "colab": {
          "base_uri": "https://localhost:8080/"
        },
        "outputId": "a4c7e5cd-86b2-4fba-878e-d926f9c43d35"
      },
      "execution_count": 52,
      "outputs": [
        {
          "output_type": "stream",
          "name": "stdout",
          "text": [
            "Epoch 1/100\n",
            "1/1 [==============================] - 0s 465ms/step - loss: 11.8510 - mae: 11.8510\n",
            "Epoch 2/100\n",
            "1/1 [==============================] - 0s 10ms/step - loss: 11.0844 - mae: 11.0844\n",
            "Epoch 3/100\n",
            "1/1 [==============================] - 0s 10ms/step - loss: 10.5275 - mae: 10.5275\n",
            "Epoch 4/100\n",
            "1/1 [==============================] - 0s 14ms/step - loss: 10.0448 - mae: 10.0448\n",
            "Epoch 5/100\n",
            "1/1 [==============================] - 0s 16ms/step - loss: 9.5698 - mae: 9.5698\n",
            "Epoch 6/100\n",
            "1/1 [==============================] - 0s 14ms/step - loss: 9.0989 - mae: 9.0989\n",
            "Epoch 7/100\n",
            "1/1 [==============================] - 0s 12ms/step - loss: 8.6302 - mae: 8.6302\n",
            "Epoch 8/100\n",
            "1/1 [==============================] - 0s 13ms/step - loss: 8.1629 - mae: 8.1629\n",
            "Epoch 9/100\n",
            "1/1 [==============================] - 0s 16ms/step - loss: 7.6963 - mae: 7.6963\n",
            "Epoch 10/100\n",
            "1/1 [==============================] - 0s 11ms/step - loss: 7.2300 - mae: 7.2300\n",
            "Epoch 11/100\n",
            "1/1 [==============================] - 0s 13ms/step - loss: 6.7638 - mae: 6.7638\n",
            "Epoch 12/100\n",
            "1/1 [==============================] - 0s 13ms/step - loss: 6.2974 - mae: 6.2974\n",
            "Epoch 13/100\n",
            "1/1 [==============================] - 0s 13ms/step - loss: 5.8546 - mae: 5.8546\n",
            "Epoch 14/100\n",
            "1/1 [==============================] - 0s 13ms/step - loss: 5.8012 - mae: 5.8012\n",
            "Epoch 15/100\n",
            "1/1 [==============================] - 0s 13ms/step - loss: 5.6758 - mae: 5.6758\n",
            "Epoch 16/100\n",
            "1/1 [==============================] - 0s 13ms/step - loss: 5.5006 - mae: 5.5006\n",
            "Epoch 17/100\n",
            "1/1 [==============================] - 0s 14ms/step - loss: 5.2449 - mae: 5.2449\n",
            "Epoch 18/100\n",
            "1/1 [==============================] - 0s 15ms/step - loss: 4.8909 - mae: 4.8909\n",
            "Epoch 19/100\n",
            "1/1 [==============================] - 0s 13ms/step - loss: 4.5377 - mae: 4.5377\n",
            "Epoch 20/100\n",
            "1/1 [==============================] - 0s 13ms/step - loss: 4.1638 - mae: 4.1638\n",
            "Epoch 21/100\n",
            "1/1 [==============================] - 0s 12ms/step - loss: 3.7719 - mae: 3.7719\n",
            "Epoch 22/100\n",
            "1/1 [==============================] - 0s 10ms/step - loss: 3.5656 - mae: 3.5656\n",
            "Epoch 23/100\n",
            "1/1 [==============================] - 0s 12ms/step - loss: 3.3737 - mae: 3.3737\n",
            "Epoch 24/100\n",
            "1/1 [==============================] - 0s 11ms/step - loss: 3.1558 - mae: 3.1558\n",
            "Epoch 25/100\n",
            "1/1 [==============================] - 0s 14ms/step - loss: 2.9144 - mae: 2.9144\n",
            "Epoch 26/100\n",
            "1/1 [==============================] - 0s 11ms/step - loss: 2.6521 - mae: 2.6521\n",
            "Epoch 27/100\n",
            "1/1 [==============================] - 0s 11ms/step - loss: 2.3708 - mae: 2.3708\n",
            "Epoch 28/100\n",
            "1/1 [==============================] - 0s 12ms/step - loss: 2.0724 - mae: 2.0724\n",
            "Epoch 29/100\n",
            "1/1 [==============================] - 0s 11ms/step - loss: 1.7587 - mae: 1.7587\n",
            "Epoch 30/100\n",
            "1/1 [==============================] - 0s 10ms/step - loss: 1.4311 - mae: 1.4311\n",
            "Epoch 31/100\n",
            "1/1 [==============================] - 0s 11ms/step - loss: 1.0909 - mae: 1.0909\n",
            "Epoch 32/100\n",
            "1/1 [==============================] - 0s 12ms/step - loss: 0.8048 - mae: 0.8048\n",
            "Epoch 33/100\n",
            "1/1 [==============================] - 0s 10ms/step - loss: 0.6985 - mae: 0.6985\n",
            "Epoch 34/100\n",
            "1/1 [==============================] - 0s 11ms/step - loss: 0.4123 - mae: 0.4123\n",
            "Epoch 35/100\n",
            "1/1 [==============================] - 0s 11ms/step - loss: 0.0739 - mae: 0.0739\n",
            "Epoch 36/100\n",
            "1/1 [==============================] - 0s 12ms/step - loss: 0.2616 - mae: 0.2616\n",
            "Epoch 37/100\n",
            "1/1 [==============================] - 0s 12ms/step - loss: 0.4371 - mae: 0.4371\n",
            "Epoch 38/100\n",
            "1/1 [==============================] - 0s 13ms/step - loss: 0.5658 - mae: 0.5658\n",
            "Epoch 39/100\n",
            "1/1 [==============================] - 0s 12ms/step - loss: 0.6360 - mae: 0.6360\n",
            "Epoch 40/100\n",
            "1/1 [==============================] - 0s 14ms/step - loss: 0.7053 - mae: 0.7053\n",
            "Epoch 41/100\n",
            "1/1 [==============================] - 0s 14ms/step - loss: 0.7266 - mae: 0.7266\n",
            "Epoch 42/100\n",
            "1/1 [==============================] - 0s 11ms/step - loss: 0.6966 - mae: 0.6966\n",
            "Epoch 43/100\n",
            "1/1 [==============================] - 0s 11ms/step - loss: 0.6422 - mae: 0.6422\n",
            "Epoch 44/100\n",
            "1/1 [==============================] - 0s 11ms/step - loss: 0.5854 - mae: 0.5854\n",
            "Epoch 45/100\n",
            "1/1 [==============================] - 0s 10ms/step - loss: 0.4900 - mae: 0.4900\n",
            "Epoch 46/100\n",
            "1/1 [==============================] - 0s 9ms/step - loss: 0.3808 - mae: 0.3808\n",
            "Epoch 47/100\n",
            "1/1 [==============================] - 0s 13ms/step - loss: 0.2580 - mae: 0.2580\n",
            "Epoch 48/100\n",
            "1/1 [==============================] - 0s 13ms/step - loss: 0.1102 - mae: 0.1102\n",
            "Epoch 49/100\n",
            "1/1 [==============================] - 0s 13ms/step - loss: 0.0582 - mae: 0.0582\n",
            "Epoch 50/100\n",
            "1/1 [==============================] - 0s 14ms/step - loss: 0.2006 - mae: 0.2006\n",
            "Epoch 51/100\n",
            "1/1 [==============================] - 0s 11ms/step - loss: 0.2960 - mae: 0.2960\n",
            "Epoch 52/100\n",
            "1/1 [==============================] - 0s 11ms/step - loss: 0.3371 - mae: 0.3371\n",
            "Epoch 53/100\n",
            "1/1 [==============================] - 0s 13ms/step - loss: 0.3293 - mae: 0.3293\n",
            "Epoch 54/100\n",
            "1/1 [==============================] - 0s 13ms/step - loss: 0.2778 - mae: 0.2778\n",
            "Epoch 55/100\n",
            "1/1 [==============================] - 0s 17ms/step - loss: 0.2633 - mae: 0.2633\n",
            "Epoch 56/100\n",
            "1/1 [==============================] - 0s 14ms/step - loss: 0.1554 - mae: 0.1554\n",
            "Epoch 57/100\n",
            "1/1 [==============================] - 0s 12ms/step - loss: 0.1167 - mae: 0.1167\n",
            "Epoch 58/100\n",
            "1/1 [==============================] - 0s 12ms/step - loss: 0.0149 - mae: 0.0149\n",
            "Epoch 59/100\n",
            "1/1 [==============================] - 0s 13ms/step - loss: 0.0672 - mae: 0.0672\n",
            "Epoch 60/100\n",
            "1/1 [==============================] - 0s 13ms/step - loss: 0.0701 - mae: 0.0701\n",
            "Epoch 61/100\n",
            "1/1 [==============================] - 0s 13ms/step - loss: 0.0810 - mae: 0.0810\n",
            "Epoch 62/100\n",
            "1/1 [==============================] - 0s 16ms/step - loss: 0.1037 - mae: 0.1037\n",
            "Epoch 63/100\n",
            "1/1 [==============================] - 0s 13ms/step - loss: 0.0396 - mae: 0.0396\n",
            "Epoch 64/100\n",
            "1/1 [==============================] - 0s 13ms/step - loss: 0.0564 - mae: 0.0564\n",
            "Epoch 65/100\n",
            "1/1 [==============================] - 0s 14ms/step - loss: 0.1117 - mae: 0.1117\n",
            "Epoch 66/100\n",
            "1/1 [==============================] - 0s 11ms/step - loss: 0.0401 - mae: 0.0401\n",
            "Epoch 67/100\n",
            "1/1 [==============================] - 0s 13ms/step - loss: 0.0653 - mae: 0.0653\n",
            "Epoch 68/100\n",
            "1/1 [==============================] - 0s 13ms/step - loss: 0.1578 - mae: 0.1578\n",
            "Epoch 69/100\n",
            "1/1 [==============================] - 0s 13ms/step - loss: 0.1012 - mae: 0.1012\n",
            "Epoch 70/100\n",
            "1/1 [==============================] - 0s 13ms/step - loss: 0.1844 - mae: 0.1844\n",
            "Epoch 71/100\n",
            "1/1 [==============================] - 0s 14ms/step - loss: 0.1922 - mae: 0.1922\n",
            "Epoch 72/100\n",
            "1/1 [==============================] - 0s 12ms/step - loss: 0.0731 - mae: 0.0731\n",
            "Epoch 73/100\n",
            "1/1 [==============================] - 0s 15ms/step - loss: 0.1771 - mae: 0.1771\n",
            "Epoch 74/100\n",
            "1/1 [==============================] - 0s 10ms/step - loss: 0.0843 - mae: 0.0843\n",
            "Epoch 75/100\n",
            "1/1 [==============================] - 0s 14ms/step - loss: 0.2127 - mae: 0.2127\n",
            "Epoch 76/100\n",
            "1/1 [==============================] - 0s 19ms/step - loss: 0.2503 - mae: 0.2503\n",
            "Epoch 77/100\n",
            "1/1 [==============================] - 0s 12ms/step - loss: 0.0748 - mae: 0.0748\n",
            "Epoch 78/100\n",
            "1/1 [==============================] - 0s 14ms/step - loss: 0.2756 - mae: 0.2756\n",
            "Epoch 79/100\n",
            "1/1 [==============================] - 0s 11ms/step - loss: 0.3650 - mae: 0.3650\n",
            "Epoch 80/100\n",
            "1/1 [==============================] - 0s 17ms/step - loss: 0.2352 - mae: 0.2352\n",
            "Epoch 81/100\n",
            "1/1 [==============================] - 0s 12ms/step - loss: 0.1013 - mae: 0.1013\n",
            "Epoch 82/100\n",
            "1/1 [==============================] - 0s 11ms/step - loss: 0.2062 - mae: 0.2062\n",
            "Epoch 83/100\n",
            "1/1 [==============================] - 0s 11ms/step - loss: 0.1252 - mae: 0.1252\n",
            "Epoch 84/100\n",
            "1/1 [==============================] - 0s 12ms/step - loss: 0.1362 - mae: 0.1362\n",
            "Epoch 85/100\n",
            "1/1 [==============================] - 0s 12ms/step - loss: 0.1701 - mae: 0.1701\n",
            "Epoch 86/100\n",
            "1/1 [==============================] - 0s 12ms/step - loss: 0.0255 - mae: 0.0255\n",
            "Epoch 87/100\n",
            "1/1 [==============================] - 0s 11ms/step - loss: 0.1047 - mae: 0.1047\n",
            "Epoch 88/100\n",
            "1/1 [==============================] - 0s 12ms/step - loss: 0.0119 - mae: 0.0119\n",
            "Epoch 89/100\n",
            "1/1 [==============================] - 0s 12ms/step - loss: 0.2331 - mae: 0.2331\n",
            "Epoch 90/100\n",
            "1/1 [==============================] - 0s 10ms/step - loss: 0.2583 - mae: 0.2583\n",
            "Epoch 91/100\n",
            "1/1 [==============================] - 0s 11ms/step - loss: 0.0924 - mae: 0.0924\n",
            "Epoch 92/100\n",
            "1/1 [==============================] - 0s 10ms/step - loss: 0.2419 - mae: 0.2419\n",
            "Epoch 93/100\n",
            "1/1 [==============================] - 0s 10ms/step - loss: 0.3553 - mae: 0.3553\n",
            "Epoch 94/100\n",
            "1/1 [==============================] - 0s 12ms/step - loss: 0.2732 - mae: 0.2732\n",
            "Epoch 95/100\n",
            "1/1 [==============================] - 0s 11ms/step - loss: 0.0189 - mae: 0.0189\n",
            "Epoch 96/100\n",
            "1/1 [==============================] - 0s 11ms/step - loss: 0.3777 - mae: 0.3777\n",
            "Epoch 97/100\n",
            "1/1 [==============================] - 0s 13ms/step - loss: 0.5526 - mae: 0.5526\n",
            "Epoch 98/100\n",
            "1/1 [==============================] - 0s 11ms/step - loss: 0.5314 - mae: 0.5314\n",
            "Epoch 99/100\n",
            "1/1 [==============================] - 0s 10ms/step - loss: 0.3365 - mae: 0.3365\n",
            "Epoch 100/100\n",
            "1/1 [==============================] - 0s 10ms/step - loss: 0.0343 - mae: 0.0343\n"
          ]
        },
        {
          "output_type": "execute_result",
          "data": {
            "text/plain": [
              "<keras.src.callbacks.History at 0x7ef36344f5e0>"
            ]
          },
          "metadata": {},
          "execution_count": 52
        }
      ]
    },
    {
      "cell_type": "code",
      "source": [
        "y_pred = model.predict(X)\n",
        "y_pred, y"
      ],
      "metadata": {
        "id": "Zht87yoSQIv1",
        "colab": {
          "base_uri": "https://localhost:8080/"
        },
        "outputId": "da779bb7-08d2-4de5-a8ea-533003ee593a"
      },
      "execution_count": 53,
      "outputs": [
        {
          "output_type": "stream",
          "name": "stderr",
          "text": [
            "WARNING:tensorflow:6 out of the last 6 calls to <function Model.make_predict_function.<locals>.predict_function at 0x7ef363464f70> triggered tf.function retracing. Tracing is expensive and the excessive number of tracings could be due to (1) creating @tf.function repeatedly in a loop, (2) passing tensors with different shapes, (3) passing Python objects instead of tensors. For (1), please define your @tf.function outside of the loop. For (2), @tf.function has reduce_retracing=True option that can avoid unnecessary retracing. For (3), please refer to https://www.tensorflow.org/guide/function#controlling_retracing and https://www.tensorflow.org/api_docs/python/tf/function for  more details.\n"
          ]
        },
        {
          "output_type": "stream",
          "name": "stdout",
          "text": [
            "1/1 [==============================] - 0s 57ms/step\n"
          ]
        },
        {
          "output_type": "execute_result",
          "data": {
            "text/plain": [
              "(array([[ 5.6954246],\n",
              "        [ 4.618156 ],\n",
              "        [ 6.772693 ],\n",
              "        [ 7.8499613],\n",
              "        [11.081767 ],\n",
              "        [12.159036 ],\n",
              "        [14.313572 ],\n",
              "        [15.390841 ],\n",
              "        [18.622646 ]], dtype=float32),\n",
              " <tf.Tensor: shape=(9,), dtype=float64, numpy=array([ 6.,  5.,  7.,  8., 11., 12., 14., 15., 18.])>)"
            ]
          },
          "metadata": {},
          "execution_count": 53
        }
      ]
    },
    {
      "cell_type": "markdown",
      "source": [
        "## Improvement 2"
      ],
      "metadata": {
        "id": "us5rcCbMw1dR"
      }
    },
    {
      "cell_type": "code",
      "source": [
        "tf.random.set_seed(42)\n",
        "\n",
        "# Create a model\n",
        "model = tf.keras.Sequential([\n",
        "    tf.keras.layers.Dense(1),\n",
        "    tf.keras.layers.Dense(1)\n",
        "])\n",
        "\n",
        "# Compile the model\n",
        "model.compile(loss=tf.keras.losses.mae,\n",
        "              optimizer=tf.keras.optimizers.Adam(learning_rate=0.3),\n",
        "              metrics=[\"mae\"])\n",
        "\n",
        "model.fit(tf.expand_dims(X, axis=-1), y, epochs=25)"
      ],
      "metadata": {
        "colab": {
          "base_uri": "https://localhost:8080/"
        },
        "id": "hbYIinzvwDl6",
        "outputId": "bc1c3741-4852-4d2c-b965-e61e60b05956"
      },
      "execution_count": 54,
      "outputs": [
        {
          "output_type": "stream",
          "name": "stdout",
          "text": [
            "Epoch 1/25\n",
            "1/1 [==============================] - 1s 610ms/step - loss: 10.6686 - mae: 10.6686\n",
            "Epoch 2/25\n",
            "1/1 [==============================] - 0s 11ms/step - loss: 10.4634 - mae: 10.4634\n",
            "Epoch 3/25\n",
            "1/1 [==============================] - 0s 12ms/step - loss: 10.0627 - mae: 10.0627\n",
            "Epoch 4/25\n",
            "1/1 [==============================] - 0s 11ms/step - loss: 9.7235 - mae: 9.7235\n",
            "Epoch 5/25\n",
            "1/1 [==============================] - 0s 11ms/step - loss: 9.3084 - mae: 9.3084\n",
            "Epoch 6/25\n",
            "1/1 [==============================] - 0s 10ms/step - loss: 8.7033 - mae: 8.7033\n",
            "Epoch 7/25\n",
            "1/1 [==============================] - 0s 10ms/step - loss: 7.8668 - mae: 7.8668\n",
            "Epoch 8/25\n",
            "1/1 [==============================] - 0s 10ms/step - loss: 6.7822 - mae: 6.7822\n",
            "Epoch 9/25\n",
            "1/1 [==============================] - 0s 10ms/step - loss: 5.4348 - mae: 5.4348\n",
            "Epoch 10/25\n",
            "1/1 [==============================] - 0s 11ms/step - loss: 6.1482 - mae: 6.1482\n",
            "Epoch 11/25\n",
            "1/1 [==============================] - 0s 10ms/step - loss: 5.5534 - mae: 5.5534\n",
            "Epoch 12/25\n",
            "1/1 [==============================] - 0s 11ms/step - loss: 4.2435 - mae: 4.2435\n",
            "Epoch 13/25\n",
            "1/1 [==============================] - 0s 11ms/step - loss: 2.8342 - mae: 2.8342\n",
            "Epoch 14/25\n",
            "1/1 [==============================] - 0s 12ms/step - loss: 2.2481 - mae: 2.2481\n",
            "Epoch 15/25\n",
            "1/1 [==============================] - 0s 12ms/step - loss: 1.7371 - mae: 1.7371\n",
            "Epoch 16/25\n",
            "1/1 [==============================] - 0s 12ms/step - loss: 1.2262 - mae: 1.2262\n",
            "Epoch 17/25\n",
            "1/1 [==============================] - 0s 12ms/step - loss: 1.1604 - mae: 1.1604\n",
            "Epoch 18/25\n",
            "1/1 [==============================] - 0s 11ms/step - loss: 1.2501 - mae: 1.2501\n",
            "Epoch 19/25\n",
            "1/1 [==============================] - 0s 11ms/step - loss: 2.0098 - mae: 2.0098\n",
            "Epoch 20/25\n",
            "1/1 [==============================] - 0s 13ms/step - loss: 2.2503 - mae: 2.2503\n",
            "Epoch 21/25\n",
            "1/1 [==============================] - 0s 12ms/step - loss: 2.0301 - mae: 2.0301\n",
            "Epoch 22/25\n",
            "1/1 [==============================] - 0s 11ms/step - loss: 1.4556 - mae: 1.4556\n",
            "Epoch 23/25\n",
            "1/1 [==============================] - 0s 10ms/step - loss: 0.7289 - mae: 0.7289\n",
            "Epoch 24/25\n",
            "1/1 [==============================] - 0s 11ms/step - loss: 0.7376 - mae: 0.7376\n",
            "Epoch 25/25\n",
            "1/1 [==============================] - 0s 10ms/step - loss: 0.7309 - mae: 0.7309\n"
          ]
        },
        {
          "output_type": "execute_result",
          "data": {
            "text/plain": [
              "<keras.src.callbacks.History at 0x7ef3633133a0>"
            ]
          },
          "metadata": {},
          "execution_count": 54
        }
      ]
    },
    {
      "cell_type": "code",
      "source": [
        "y_pred = model.predict(X)\n",
        "y_pred, y"
      ],
      "metadata": {
        "colab": {
          "base_uri": "https://localhost:8080/"
        },
        "id": "mA5uDPXswGCI",
        "outputId": "8b59717b-9982-4b52-b99a-a802ff021747"
      },
      "execution_count": 55,
      "outputs": [
        {
          "output_type": "stream",
          "name": "stdout",
          "text": [
            "1/1 [==============================] - 0s 56ms/step\n"
          ]
        },
        {
          "output_type": "execute_result",
          "data": {
            "text/plain": [
              "(array([[ 5.448838 ],\n",
              "        [ 4.5092187],\n",
              "        [ 6.3884573],\n",
              "        [ 7.3280764],\n",
              "        [10.1469345],\n",
              "        [11.086554 ],\n",
              "        [12.965792 ],\n",
              "        [13.905413 ],\n",
              "        [16.72427  ]], dtype=float32),\n",
              " <tf.Tensor: shape=(9,), dtype=float64, numpy=array([ 6.,  5.,  7.,  8., 11., 12., 14., 15., 18.])>)"
            ]
          },
          "metadata": {},
          "execution_count": 55
        }
      ]
    },
    {
      "cell_type": "code",
      "source": [
        "model.get_layer('dense_11')"
      ],
      "metadata": {
        "colab": {
          "base_uri": "https://localhost:8080/"
        },
        "id": "lz9Oa_TJxGIv",
        "outputId": "5fb0c80c-a99f-4529-cf90-b28c072e7786"
      },
      "execution_count": 57,
      "outputs": [
        {
          "output_type": "execute_result",
          "data": {
            "text/plain": [
              "<keras.src.layers.core.dense.Dense at 0x7ef3634458a0>"
            ]
          },
          "metadata": {},
          "execution_count": 57
        }
      ]
    },
    {
      "cell_type": "markdown",
      "source": [
        "## Common ways to improve the model\n",
        "1. Adding extra layers\n",
        "2. Increase number of hidden units\n",
        "3. Changing activation function\n",
        "4. Change the optimization function\n",
        "5. Change the learning rate ( Most important hyperparameter )\n",
        "6. Fitting on more data\n",
        "7. Fitting for longer ( i.e. number of epochs )"
      ],
      "metadata": {
        "id": "lB3GEOP4svZi"
      }
    },
    {
      "cell_type": "markdown",
      "source": [
        "# Evaluating the model\n",
        "\n",
        "1. Visualize, visualize, visualize\n",
        "2. Visualize data\n",
        "3. Visualize model\n",
        "4. Visualize training\n",
        "5. Visualize predictions"
      ],
      "metadata": {
        "id": "giaJ6vkpt_TV"
      }
    },
    {
      "cell_type": "code",
      "source": [
        "X = tf.range(-100, 100, 4)\n",
        "X"
      ],
      "metadata": {
        "colab": {
          "base_uri": "https://localhost:8080/"
        },
        "id": "zkpSun57rrMr",
        "outputId": "785ffb07-ea76-4a9c-d04f-8eb758a5b1b4"
      },
      "execution_count": 58,
      "outputs": [
        {
          "output_type": "execute_result",
          "data": {
            "text/plain": [
              "<tf.Tensor: shape=(50,), dtype=int32, numpy=\n",
              "array([-100,  -96,  -92,  -88,  -84,  -80,  -76,  -72,  -68,  -64,  -60,\n",
              "        -56,  -52,  -48,  -44,  -40,  -36,  -32,  -28,  -24,  -20,  -16,\n",
              "        -12,   -8,   -4,    0,    4,    8,   12,   16,   20,   24,   28,\n",
              "         32,   36,   40,   44,   48,   52,   56,   60,   64,   68,   72,\n",
              "         76,   80,   84,   88,   92,   96], dtype=int32)>"
            ]
          },
          "metadata": {},
          "execution_count": 58
        }
      ]
    },
    {
      "cell_type": "code",
      "source": [
        "y = X + 10\n",
        "y"
      ],
      "metadata": {
        "colab": {
          "base_uri": "https://localhost:8080/"
        },
        "id": "7YJFb92x4m0f",
        "outputId": "39d310a4-fac2-462f-e165-f19e18482b65"
      },
      "execution_count": 59,
      "outputs": [
        {
          "output_type": "execute_result",
          "data": {
            "text/plain": [
              "<tf.Tensor: shape=(50,), dtype=int32, numpy=\n",
              "array([-90, -86, -82, -78, -74, -70, -66, -62, -58, -54, -50, -46, -42,\n",
              "       -38, -34, -30, -26, -22, -18, -14, -10,  -6,  -2,   2,   6,  10,\n",
              "        14,  18,  22,  26,  30,  34,  38,  42,  46,  50,  54,  58,  62,\n",
              "        66,  70,  74,  78,  82,  86,  90,  94,  98, 102, 106], dtype=int32)>"
            ]
          },
          "metadata": {},
          "execution_count": 59
        }
      ]
    },
    {
      "cell_type": "code",
      "source": [
        "# Plot the input data\n",
        "plt.scatter(X, y)"
      ],
      "metadata": {
        "id": "RZKNkcjF43KM",
        "colab": {
          "base_uri": "https://localhost:8080/",
          "height": 448
        },
        "outputId": "be21a349-2cc4-424b-ea8a-ef39098940c6"
      },
      "execution_count": 60,
      "outputs": [
        {
          "output_type": "execute_result",
          "data": {
            "text/plain": [
              "<matplotlib.collections.PathCollection at 0x7ef36320b310>"
            ]
          },
          "metadata": {},
          "execution_count": 60
        },
        {
          "output_type": "display_data",
          "data": {
            "text/plain": [
              "<Figure size 640x480 with 1 Axes>"
            ],
            "image/png": "[encoded data removed]"
          },
          "metadata": {}
        }
      ]
    },
    {
      "cell_type": "markdown",
      "source": [
        "## 3 sets of data.\n",
        "Data is split into training, test and validation\n",
        "\n",
        "1. Train - 70-80% data [Like Training course]\n",
        "2. Validation - 10-15% data [Like Practice exam]\n",
        "3. Test - 10-15% data [Like Final Exam]"
      ],
      "metadata": {
        "id": "eX0RWsL1Vvlq"
      }
    },
    {
      "cell_type": "code",
      "source": [
        "X_train = X[0:40]\n",
        "X_test = X[40:50]\n",
        "\n",
        "y_train = y[0:40]\n",
        "y_test = y[40:50]"
      ],
      "metadata": {
        "id": "brF0pF3vVc-j"
      },
      "execution_count": 61,
      "outputs": []
    },
    {
      "cell_type": "code",
      "source": [
        "X_train.shape, X_test.shape, y_train.shape, y_test.shape"
      ],
      "metadata": {
        "colab": {
          "base_uri": "https://localhost:8080/"
        },
        "id": "pwLY_1rEWhB9",
        "outputId": "62c9bbfe-83c5-4dfc-f469-58f21a226ecf"
      },
      "execution_count": 92,
      "outputs": [
        {
          "output_type": "execute_result",
          "data": {
            "text/plain": [
              "(TensorShape([40]), TensorShape([10]), TensorShape([40]), TensorShape([10]))"
            ]
          },
          "metadata": {},
          "execution_count": 92
        }
      ]
    },
    {
      "cell_type": "code",
      "source": [
        "# Visualize the data\n",
        "plt.figure(figsize=(10,7))\n",
        "plt.scatter(X_train, y_train, c=\"b\", label=\"training data\")\n",
        "plt.scatter(X_test, y_test, c=\"g\", label=\"testing data\")\n",
        "plt.legend()"
      ],
      "metadata": {
        "colab": {
          "base_uri": "https://localhost:8080/",
          "height": 617
        },
        "id": "3C6jCI2yWzC1",
        "outputId": "f9faaf33-9bd5-4599-f131-5d469ab0cde7"
      },
      "execution_count": 63,
      "outputs": [
        {
          "output_type": "execute_result",
          "data": {
            "text/plain": [
              "<matplotlib.legend.Legend at 0x7ef363208a90>"
            ]
          },
          "metadata": {},
          "execution_count": 63
        },
        {
          "output_type": "display_data",
          "data": {
            "text/plain": [
              "<Figure size 1000x700 with 1 Axes>"
            ],
            "image/png": "[encoded data removed]"
          },
          "metadata": {}
        }
      ]
    },
    {
      "cell_type": "markdown",
      "source": [
        "## Model"
      ],
      "metadata": {
        "id": "Uh0sOYnrYx4J"
      }
    },
    {
      "cell_type": "code",
      "source": [
        "# Create the model\n",
        "model = tf.keras.Sequential([\n",
        "    tf.keras.layers.Dense(1)\n",
        "])\n",
        "\n",
        "# Compile the model\n",
        "model.compile(loss=tf.keras.losses.mae,\n",
        "              optimizer=tf.keras.optimizers.SGD(),\n",
        "              metrics=[\"mae\"])\n",
        "\n",
        "# Fit the model\n",
        "# model.fit(X_train, y_train, epochs=100)"
      ],
      "metadata": {
        "id": "V1cIoHj6YxjT"
      },
      "execution_count": 90,
      "outputs": []
    },
    {
      "cell_type": "markdown",
      "source": [
        "## Visualize the model using model.summary()"
      ],
      "metadata": {
        "id": "RWAAlN3QaMsB"
      }
    },
    {
      "cell_type": "code",
      "source": [
        "model.summary()"
      ],
      "metadata": {
        "colab": {
          "base_uri": "https://localhost:8080/",
          "height": 328
        },
        "id": "CaP4TTZ0XseJ",
        "outputId": "c402090c-3d56-462c-c9be-5a519b469c50"
      },
      "execution_count": 65,
      "outputs": [
        {
          "output_type": "error",
          "ename": "ValueError",
          "evalue": "ignored",
          "traceback": [
            "\u001b[0;31m---------------------------------------------------------------------------\u001b[0m",
            "\u001b[0;31mValueError\u001b[0m                                Traceback (most recent call last)",
            "\u001b[0;32m<ipython-input-65-5f15418b3570>\u001b[0m in \u001b[0;36m<cell line: 1>\u001b[0;34m()\u001b[0m\n\u001b[0;32m----> 1\u001b[0;31m \u001b[0mmodel\u001b[0m\u001b[0;34m.\u001b[0m\u001b[0msummary\u001b[0m\u001b[0;34m(\u001b[0m\u001b[0;34m)\u001b[0m\u001b[0;34m\u001b[0m\u001b[0;34m\u001b[0m\u001b[0m\n\u001b[0m",
            "\u001b[0;32m/usr/local/lib/python3.10/dist-packages/keras/src/engine/training.py\u001b[0m in \u001b[0;36msummary\u001b[0;34m(self, line_length, positions, print_fn, expand_nested, show_trainable, layer_range)\u001b[0m\n\u001b[1;32m   3480\u001b[0m         \"\"\"\n\u001b[1;32m   3481\u001b[0m         \u001b[0;32mif\u001b[0m \u001b[0;32mnot\u001b[0m \u001b[0mself\u001b[0m\u001b[0;34m.\u001b[0m\u001b[0mbuilt\u001b[0m\u001b[0;34m:\u001b[0m\u001b[0;34m\u001b[0m\u001b[0;34m\u001b[0m\u001b[0m\n\u001b[0;32m-> 3482\u001b[0;31m             raise ValueError(\n\u001b[0m\u001b[1;32m   3483\u001b[0m                 \u001b[0;34m\"This model has not yet been built. \"\u001b[0m\u001b[0;34m\u001b[0m\u001b[0;34m\u001b[0m\u001b[0m\n\u001b[1;32m   3484\u001b[0m                 \u001b[0;34m\"Build the model first by calling `build()` or by calling \"\u001b[0m\u001b[0;34m\u001b[0m\u001b[0;34m\u001b[0m\u001b[0m\n",
            "\u001b[0;31mValueError\u001b[0m: This model has not yet been built. Build the model first by calling `build()` or by calling the model on a batch of data."
          ]
        }
      ]
    },
    {
      "cell_type": "code",
      "source": [
        "tf.random.set_seed(42)\n",
        "\n",
        "# Create the model\n",
        "model = tf.keras.Sequential([\n",
        "    tf.keras.layers.Dense(5, input_shape=[1], name=\"input_layer\"),\n",
        "    tf.keras.layers.Dense(1,  name=\"output_layer\")\n",
        "], name=\"My_Model\")\n",
        "\n",
        "# Compile the model\n",
        "model.compile(loss=tf.keras.losses.mae,\n",
        "              optimizer=tf.keras.optimizers.Adam(learning_rate=0.1),\n",
        "              metrics=[\"mae\"])\n",
        "\n",
        "# Fit the model\n",
        "model.fit(X_train, y_train, epochs=100, verbose=1)"
      ],
      "metadata": {
        "colab": {
          "base_uri": "https://localhost:8080/"
        },
        "id": "VsPNmx5fZbXn",
        "outputId": "3f4507df-5d20-45a8-d791-69c945cf4dcc"
      },
      "execution_count": 66,
      "outputs": [
        {
          "output_type": "stream",
          "name": "stdout",
          "text": [
            "Epoch 1/100\n",
            "2/2 [==============================] - 1s 12ms/step - loss: 19.0332 - mae: 19.0332\n",
            "Epoch 2/100\n",
            "2/2 [==============================] - 0s 8ms/step - loss: 17.3501 - mae: 17.3501\n",
            "Epoch 3/100\n",
            "2/2 [==============================] - 0s 9ms/step - loss: 8.4276 - mae: 8.4276\n",
            "Epoch 4/100\n",
            "2/2 [==============================] - 0s 16ms/step - loss: 10.0653 - mae: 10.0653\n",
            "Epoch 5/100\n",
            "2/2 [==============================] - 0s 8ms/step - loss: 9.3870 - mae: 9.3870\n",
            "Epoch 6/100\n",
            "2/2 [==============================] - 0s 8ms/step - loss: 12.0830 - mae: 12.0830\n",
            "Epoch 7/100\n",
            "2/2 [==============================] - 0s 11ms/step - loss: 7.5404 - mae: 7.5404\n",
            "Epoch 8/100\n",
            "2/2 [==============================] - 0s 9ms/step - loss: 8.2786 - mae: 8.2786\n",
            "Epoch 9/100\n",
            "2/2 [==============================] - 0s 11ms/step - loss: 5.0669 - mae: 5.0669\n",
            "Epoch 10/100\n",
            "2/2 [==============================] - 0s 11ms/step - loss: 7.9476 - mae: 7.9476\n",
            "Epoch 11/100\n",
            "2/2 [==============================] - 0s 11ms/step - loss: 6.7361 - mae: 6.7361\n",
            "Epoch 12/100\n",
            "2/2 [==============================] - 0s 10ms/step - loss: 5.3919 - mae: 5.3919\n",
            "Epoch 13/100\n",
            "2/2 [==============================] - 0s 8ms/step - loss: 6.6527 - mae: 6.6527\n",
            "Epoch 14/100\n",
            "2/2 [==============================] - 0s 8ms/step - loss: 4.3890 - mae: 4.3890\n",
            "Epoch 15/100\n",
            "2/2 [==============================] - 0s 9ms/step - loss: 6.6461 - mae: 6.6461\n",
            "Epoch 16/100\n",
            "2/2 [==============================] - 0s 8ms/step - loss: 2.0492 - mae: 2.0492\n",
            "Epoch 17/100\n",
            "2/2 [==============================] - 0s 8ms/step - loss: 4.4354 - mae: 4.4354\n",
            "Epoch 18/100\n",
            "2/2 [==============================] - 0s 9ms/step - loss: 2.3342 - mae: 2.3342\n",
            "Epoch 19/100\n",
            "2/2 [==============================] - 0s 8ms/step - loss: 2.2485 - mae: 2.2485\n",
            "Epoch 20/100\n",
            "2/2 [==============================] - 0s 11ms/step - loss: 1.9964 - mae: 1.9964\n",
            "Epoch 21/100\n",
            "2/2 [==============================] - 0s 10ms/step - loss: 3.0994 - mae: 3.0994\n",
            "Epoch 22/100\n",
            "2/2 [==============================] - 0s 11ms/step - loss: 1.9427 - mae: 1.9427\n",
            "Epoch 23/100\n",
            "2/2 [==============================] - 0s 9ms/step - loss: 4.2814 - mae: 4.2814\n",
            "Epoch 24/100\n",
            "2/2 [==============================] - 0s 12ms/step - loss: 1.7825 - mae: 1.7825\n",
            "Epoch 25/100\n",
            "2/2 [==============================] - 0s 8ms/step - loss: 4.0242 - mae: 4.0242\n",
            "Epoch 26/100\n",
            "2/2 [==============================] - 0s 13ms/step - loss: 1.3550 - mae: 1.3550\n",
            "Epoch 27/100\n",
            "2/2 [==============================] - 0s 11ms/step - loss: 1.9026 - mae: 1.9026\n",
            "Epoch 28/100\n",
            "2/2 [==============================] - 0s 9ms/step - loss: 4.3111 - mae: 4.3111\n",
            "Epoch 29/100\n",
            "2/2 [==============================] - 0s 10ms/step - loss: 3.5434 - mae: 3.5434\n",
            "Epoch 30/100\n",
            "2/2 [==============================] - 0s 14ms/step - loss: 5.2363 - mae: 5.2363\n",
            "Epoch 31/100\n",
            "2/2 [==============================] - 0s 9ms/step - loss: 6.5196 - mae: 6.5196\n",
            "Epoch 32/100\n",
            "2/2 [==============================] - 0s 10ms/step - loss: 1.6127 - mae: 1.6127\n",
            "Epoch 33/100\n",
            "2/2 [==============================] - 0s 9ms/step - loss: 8.0174 - mae: 8.0174\n",
            "Epoch 34/100\n",
            "2/2 [==============================] - 0s 10ms/step - loss: 6.0742 - mae: 6.0742\n",
            "Epoch 35/100\n",
            "2/2 [==============================] - 0s 12ms/step - loss: 2.4759 - mae: 2.4759\n",
            "Epoch 36/100\n",
            "2/2 [==============================] - 0s 9ms/step - loss: 4.3239 - mae: 4.3239\n",
            "Epoch 37/100\n",
            "2/2 [==============================] - 0s 10ms/step - loss: 0.8523 - mae: 0.8523\n",
            "Epoch 38/100\n",
            "2/2 [==============================] - 0s 12ms/step - loss: 1.3007 - mae: 1.3007\n",
            "Epoch 39/100\n",
            "2/2 [==============================] - 0s 10ms/step - loss: 1.2888 - mae: 1.2888\n",
            "Epoch 40/100\n",
            "2/2 [==============================] - 0s 9ms/step - loss: 2.2350 - mae: 2.2350\n",
            "Epoch 41/100\n",
            "2/2 [==============================] - 0s 11ms/step - loss: 1.2641 - mae: 1.2641\n",
            "Epoch 42/100\n",
            "2/2 [==============================] - 0s 10ms/step - loss: 3.0735 - mae: 3.0735\n",
            "Epoch 43/100\n",
            "2/2 [==============================] - 0s 9ms/step - loss: 0.8613 - mae: 0.8613\n",
            "Epoch 44/100\n",
            "2/2 [==============================] - 0s 9ms/step - loss: 1.9564 - mae: 1.9564\n",
            "Epoch 45/100\n",
            "2/2 [==============================] - 0s 9ms/step - loss: 3.0252 - mae: 3.0252\n",
            "Epoch 46/100\n",
            "2/2 [==============================] - 0s 11ms/step - loss: 2.8291 - mae: 2.8291\n",
            "Epoch 47/100\n",
            "2/2 [==============================] - 0s 15ms/step - loss: 2.9110 - mae: 2.9110\n",
            "Epoch 48/100\n",
            "2/2 [==============================] - 0s 10ms/step - loss: 2.6535 - mae: 2.6535\n",
            "Epoch 49/100\n",
            "2/2 [==============================] - 0s 9ms/step - loss: 3.3015 - mae: 3.3015\n",
            "Epoch 50/100\n",
            "2/2 [==============================] - 0s 10ms/step - loss: 4.1090 - mae: 4.1090\n",
            "Epoch 51/100\n",
            "2/2 [==============================] - 0s 9ms/step - loss: 1.0273 - mae: 1.0273\n",
            "Epoch 52/100\n",
            "2/2 [==============================] - 0s 11ms/step - loss: 1.3068 - mae: 1.3068\n",
            "Epoch 53/100\n",
            "2/2 [==============================] - 0s 9ms/step - loss: 0.8951 - mae: 0.8951\n",
            "Epoch 54/100\n",
            "2/2 [==============================] - 0s 12ms/step - loss: 0.6841 - mae: 0.6841\n",
            "Epoch 55/100\n",
            "2/2 [==============================] - 0s 13ms/step - loss: 2.6061 - mae: 2.6061\n",
            "Epoch 56/100\n",
            "2/2 [==============================] - 0s 11ms/step - loss: 1.8720 - mae: 1.8720\n",
            "Epoch 57/100\n",
            "2/2 [==============================] - 0s 9ms/step - loss: 0.7478 - mae: 0.7478\n",
            "Epoch 58/100\n",
            "2/2 [==============================] - 0s 12ms/step - loss: 0.4938 - mae: 0.4938\n",
            "Epoch 59/100\n",
            "2/2 [==============================] - 0s 10ms/step - loss: 1.3073 - mae: 1.3073\n",
            "Epoch 60/100\n",
            "2/2 [==============================] - 0s 10ms/step - loss: 1.7644 - mae: 1.7644\n",
            "Epoch 61/100\n",
            "2/2 [==============================] - 0s 9ms/step - loss: 0.6276 - mae: 0.6276\n",
            "Epoch 62/100\n",
            "2/2 [==============================] - 0s 16ms/step - loss: 2.4677 - mae: 2.4677\n",
            "Epoch 63/100\n",
            "2/2 [==============================] - 0s 10ms/step - loss: 1.1588 - mae: 1.1588\n",
            "Epoch 64/100\n",
            "2/2 [==============================] - 0s 10ms/step - loss: 0.9230 - mae: 0.9230\n",
            "Epoch 65/100\n",
            "2/2 [==============================] - 0s 9ms/step - loss: 2.0889 - mae: 2.0889\n",
            "Epoch 66/100\n",
            "2/2 [==============================] - 0s 10ms/step - loss: 1.5098 - mae: 1.5098\n",
            "Epoch 67/100\n",
            "2/2 [==============================] - 0s 8ms/step - loss: 1.1742 - mae: 1.1742\n",
            "Epoch 68/100\n",
            "2/2 [==============================] - 0s 12ms/step - loss: 2.0644 - mae: 2.0644\n",
            "Epoch 69/100\n",
            "2/2 [==============================] - 0s 9ms/step - loss: 0.9336 - mae: 0.9336\n",
            "Epoch 70/100\n",
            "2/2 [==============================] - 0s 10ms/step - loss: 0.6928 - mae: 0.6928\n",
            "Epoch 71/100\n",
            "2/2 [==============================] - 0s 13ms/step - loss: 2.3090 - mae: 2.3090\n",
            "Epoch 72/100\n",
            "2/2 [==============================] - 0s 12ms/step - loss: 1.1302 - mae: 1.1302\n",
            "Epoch 73/100\n",
            "2/2 [==============================] - 0s 10ms/step - loss: 0.9620 - mae: 0.9620\n",
            "Epoch 74/100\n",
            "2/2 [==============================] - 0s 10ms/step - loss: 1.1518 - mae: 1.1518\n",
            "Epoch 75/100\n",
            "2/2 [==============================] - 0s 9ms/step - loss: 0.5866 - mae: 0.5866\n",
            "Epoch 76/100\n",
            "2/2 [==============================] - 0s 9ms/step - loss: 0.6542 - mae: 0.6542\n",
            "Epoch 77/100\n",
            "2/2 [==============================] - 0s 10ms/step - loss: 1.1804 - mae: 1.1804\n",
            "Epoch 78/100\n",
            "2/2 [==============================] - 0s 9ms/step - loss: 0.3589 - mae: 0.3589\n",
            "Epoch 79/100\n",
            "2/2 [==============================] - 0s 9ms/step - loss: 0.7331 - mae: 0.7331\n",
            "Epoch 80/100\n",
            "2/2 [==============================] - 0s 9ms/step - loss: 1.1962 - mae: 1.1962\n",
            "Epoch 81/100\n",
            "2/2 [==============================] - 0s 11ms/step - loss: 0.5520 - mae: 0.5520\n",
            "Epoch 82/100\n",
            "2/2 [==============================] - 0s 9ms/step - loss: 1.7426 - mae: 1.7426\n",
            "Epoch 83/100\n",
            "2/2 [==============================] - 0s 9ms/step - loss: 1.0234 - mae: 1.0234\n",
            "Epoch 84/100\n",
            "2/2 [==============================] - 0s 10ms/step - loss: 0.7523 - mae: 0.7523\n",
            "Epoch 85/100\n",
            "2/2 [==============================] - 0s 9ms/step - loss: 1.1006 - mae: 1.1006\n",
            "Epoch 86/100\n",
            "2/2 [==============================] - 0s 9ms/step - loss: 0.4461 - mae: 0.4461\n",
            "Epoch 87/100\n",
            "2/2 [==============================] - 0s 8ms/step - loss: 0.9613 - mae: 0.9613\n",
            "Epoch 88/100\n",
            "2/2 [==============================] - 0s 9ms/step - loss: 0.2964 - mae: 0.2964\n",
            "Epoch 89/100\n",
            "2/2 [==============================] - 0s 11ms/step - loss: 0.6926 - mae: 0.6926\n",
            "Epoch 90/100\n",
            "2/2 [==============================] - 0s 9ms/step - loss: 1.0573 - mae: 1.0573\n",
            "Epoch 91/100\n",
            "2/2 [==============================] - 0s 11ms/step - loss: 0.3872 - mae: 0.3872\n",
            "Epoch 92/100\n",
            "2/2 [==============================] - 0s 10ms/step - loss: 0.5580 - mae: 0.5580\n",
            "Epoch 93/100\n",
            "2/2 [==============================] - 0s 8ms/step - loss: 2.2784 - mae: 2.2784\n",
            "Epoch 94/100\n",
            "2/2 [==============================] - 0s 8ms/step - loss: 1.0453 - mae: 1.0453\n",
            "Epoch 95/100\n",
            "2/2 [==============================] - 0s 9ms/step - loss: 0.8108 - mae: 0.8108\n",
            "Epoch 96/100\n",
            "2/2 [==============================] - 0s 9ms/step - loss: 2.3881 - mae: 2.3881\n",
            "Epoch 97/100\n",
            "2/2 [==============================] - 0s 10ms/step - loss: 0.7094 - mae: 0.7094\n",
            "Epoch 98/100\n",
            "2/2 [==============================] - 0s 9ms/step - loss: 0.7648 - mae: 0.7648\n",
            "Epoch 99/100\n",
            "2/2 [==============================] - 0s 8ms/step - loss: 1.5308 - mae: 1.5308\n",
            "Epoch 100/100\n",
            "2/2 [==============================] - 0s 8ms/step - loss: 2.1984 - mae: 2.1984\n"
          ]
        },
        {
          "output_type": "execute_result",
          "data": {
            "text/plain": [
              "<keras.src.callbacks.History at 0x7ef363136770>"
            ]
          },
          "metadata": {},
          "execution_count": 66
        }
      ]
    },
    {
      "cell_type": "code",
      "source": [
        "model.summary()"
      ],
      "metadata": {
        "colab": {
          "base_uri": "https://localhost:8080/"
        },
        "id": "hW4rzigRaIry",
        "outputId": "5d8fdf62-6cfd-4e6a-d0be-ffd353e5e20f"
      },
      "execution_count": 67,
      "outputs": [
        {
          "output_type": "stream",
          "name": "stdout",
          "text": [
            "Model: \"My_Model\"\n",
            "_________________________________________________________________\n",
            " Layer (type)                Output Shape              Param #   \n",
            "=================================================================\n",
            " input_layer (Dense)         (None, 5)                 10        \n",
            "                                                                 \n",
            " output_layer (Dense)        (None, 1)                 6         \n",
            "                                                                 \n",
            "=================================================================\n",
            "Total params: 16 (64.00 Byte)\n",
            "Trainable params: 16 (64.00 Byte)\n",
            "Non-trainable params: 0 (0.00 Byte)\n",
            "_________________________________________________________________\n"
          ]
        }
      ]
    },
    {
      "cell_type": "markdown",
      "source": [
        "1. **Total parameters - numbers/patterns which will be learned**\n",
        "2. **Trainable parameters - Parameters that model can update while training**\n",
        "3. **Non-Trainable parameters - Parameters that model cannot update while training (utilized in transfer learning)**\n",
        "\n",
        "**Resource - Intro to Deep Learning - MIT**"
      ],
      "metadata": {
        "id": "2iy4vNXaajWP"
      }
    },
    {
      "cell_type": "code",
      "source": [
        "from tensorflow.keras.utils import plot_model"
      ],
      "metadata": {
        "id": "uWUqPNpNaKHz"
      },
      "execution_count": 68,
      "outputs": []
    },
    {
      "cell_type": "code",
      "source": [
        "plot_model(model, show_layer_names=True, show_shapes=True)"
      ],
      "metadata": {
        "colab": {
          "base_uri": "https://localhost:8080/",
          "height": 312
        },
        "id": "OLWg6Dvrlfcz",
        "outputId": "a87125c7-773c-46a1-a001-505bf9debf51"
      },
      "execution_count": 69,
      "outputs": [
        {
          "output_type": "execute_result",
          "data": {
            "image/png": "[encoded data removed]",
            "text/plain": [
              "<IPython.core.display.Image object>"
            ]
          },
          "metadata": {},
          "execution_count": 69
        }
      ]
    },
    {
      "cell_type": "markdown",
      "source": [
        "## Visualizing models predictions"
      ],
      "metadata": {
        "id": "J8bldgGlm1Qf"
      }
    },
    {
      "cell_type": "code",
      "source": [
        "y_pred = model.predict(X_test)\n",
        "y_pred"
      ],
      "metadata": {
        "colab": {
          "base_uri": "https://localhost:8080/"
        },
        "id": "5w-XAUJtloGW",
        "outputId": "0a348030-f741-432d-d10b-5f4652bf3c75"
      },
      "execution_count": 70,
      "outputs": [
        {
          "output_type": "stream",
          "name": "stdout",
          "text": [
            "1/1 [==============================] - 0s 82ms/step\n"
          ]
        },
        {
          "output_type": "execute_result",
          "data": {
            "text/plain": [
              "array([[65.98455 ],\n",
              "       [69.7449  ],\n",
              "       [73.50527 ],\n",
              "       [77.265625],\n",
              "       [81.02598 ],\n",
              "       [84.78634 ],\n",
              "       [88.5467  ],\n",
              "       [92.30706 ],\n",
              "       [96.06742 ],\n",
              "       [99.827774]], dtype=float32)"
            ]
          },
          "metadata": {},
          "execution_count": 70
        }
      ]
    },
    {
      "cell_type": "code",
      "source": [
        "y_test"
      ],
      "metadata": {
        "colab": {
          "base_uri": "https://localhost:8080/"
        },
        "id": "YK30H7Vrnk7j",
        "outputId": "3360452b-1ae7-46b4-d532-aa13d9e0c184"
      },
      "execution_count": 71,
      "outputs": [
        {
          "output_type": "execute_result",
          "data": {
            "text/plain": [
              "<tf.Tensor: shape=(10,), dtype=int32, numpy=array([ 70,  74,  78,  82,  86,  90,  94,  98, 102, 106], dtype=int32)>"
            ]
          },
          "metadata": {},
          "execution_count": 71
        }
      ]
    },
    {
      "cell_type": "markdown",
      "source": [
        "## Plotting function"
      ],
      "metadata": {
        "id": "Jv4tpNYXnz1o"
      }
    },
    {
      "cell_type": "code",
      "source": [
        "def plot_predictions(train_data=X_train,\n",
        "                     train_labels=y_train,\n",
        "                     test_data=X_test,\n",
        "                     test_labels=y_test,\n",
        "                     predictions=y_pred):\n",
        "  \"\"\"\n",
        "  Plot training data, testing data and compares predictions to the ground truth\n",
        "  \"\"\"\n",
        "  plt.figure(figsize=(10, 7))\n",
        "  plt.scatter(train_data, train_labels, c=\"b\", label=\"training data\")\n",
        "  plt.scatter(test_data, test_labels, c=\"g\", label=\"testing data\")\n",
        "  plt.scatter(test_data, predictions, c=\"r\", label=\"predictions\")\n",
        "  plt.legend();"
      ],
      "metadata": {
        "id": "9MT2DJsJnmKb"
      },
      "execution_count": 72,
      "outputs": []
    },
    {
      "cell_type": "code",
      "source": [
        "plot_predictions()"
      ],
      "metadata": {
        "colab": {
          "base_uri": "https://localhost:8080/",
          "height": 599
        },
        "id": "XVoQCIiro5_A",
        "outputId": "73412335-d2c0-4050-9b7a-3de44cc788b6"
      },
      "execution_count": 73,
      "outputs": [
        {
          "output_type": "display_data",
          "data": {
            "text/plain": [
              "<Figure size 1000x700 with 1 Axes>"
            ],
            "image/png": "[encoded data removed]"
          },
          "metadata": {}
        }
      ]
    },
    {
      "cell_type": "markdown",
      "source": [
        "# Evaluating our models predictions with regression evaluation metrics"
      ],
      "metadata": {
        "id": "511GrUUOpVFU"
      }
    },
    {
      "cell_type": "code",
      "source": [
        "# Evaluate model on test dataset\n",
        "model.evaluate(X_test, y_test)"
      ],
      "metadata": {
        "colab": {
          "base_uri": "https://localhost:8080/"
        },
        "id": "qOgzioxRo95G",
        "outputId": "8fd7ffdf-daa8-4cbc-fa49-7f3d760c90ce"
      },
      "execution_count": 74,
      "outputs": [
        {
          "output_type": "stream",
          "name": "stdout",
          "text": [
            "1/1 [==============================] - 0s 208ms/step - loss: 5.0938 - mae: 5.0938\n"
          ]
        },
        {
          "output_type": "execute_result",
          "data": {
            "text/plain": [
              "[5.093837738037109, 5.093837738037109]"
            ]
          },
          "metadata": {},
          "execution_count": 74
        }
      ]
    },
    {
      "cell_type": "code",
      "source": [
        "# Calculate MAE manually\n",
        "mae = tf.metrics.mean_absolute_error(y_true=y_test, y_pred=tf.squeeze(y_pred))\n",
        "mae"
      ],
      "metadata": {
        "colab": {
          "base_uri": "https://localhost:8080/"
        },
        "id": "N4jHWIA9p2dU",
        "outputId": "5eaa265c-b625-47fa-be6e-993bbc4f5e14"
      },
      "execution_count": 75,
      "outputs": [
        {
          "output_type": "execute_result",
          "data": {
            "text/plain": [
              "<tf.Tensor: shape=(), dtype=float32, numpy=5.0938377>"
            ]
          },
          "metadata": {},
          "execution_count": 75
        }
      ]
    },
    {
      "cell_type": "code",
      "source": [
        "# Calculate MSE manually\n",
        "mse = tf.metrics.mean_squared_error(y_true=y_test, y_pred=tf.squeeze(y_pred))\n",
        "mse"
      ],
      "metadata": {
        "colab": {
          "base_uri": "https://localhost:8080/"
        },
        "id": "HZ_uqA0nrKlG",
        "outputId": "b3bda10b-4d68-451e-940c-158194b3797b"
      },
      "execution_count": 76,
      "outputs": [
        {
          "output_type": "execute_result",
          "data": {
            "text/plain": [
              "<tf.Tensor: shape=(), dtype=float32, numpy=26.420965>"
            ]
          },
          "metadata": {},
          "execution_count": 76
        }
      ]
    },
    {
      "cell_type": "markdown",
      "source": [
        "# Define functions for calculating MAE and MSE"
      ],
      "metadata": {
        "id": "IB1U6XWLuz8u"
      }
    },
    {
      "cell_type": "code",
      "source": [
        "def mae(y_true, y_pred):\n",
        "  return tf.metrics.mean_absolute_error(y_true=y_test, y_pred=tf.squeeze(y_pred))\n",
        "\n",
        "def mse(y_true, y_pred):\n",
        "  return tf.metrics.mean_squared_error(y_true=y_test, y_pred=tf.squeeze(y_pred))"
      ],
      "metadata": {
        "id": "kcR4Qr9ZsNOH"
      },
      "execution_count": 77,
      "outputs": []
    },
    {
      "cell_type": "markdown",
      "source": [
        "# Running experiments to improve the model"
      ],
      "metadata": {
        "id": "_DAdgrbrzkQr"
      }
    },
    {
      "cell_type": "code",
      "source": [
        "X_train, y_train"
      ],
      "metadata": {
        "colab": {
          "base_uri": "https://localhost:8080/"
        },
        "id": "U03YdiXGuxTo",
        "outputId": "ef0eca90-2206-46b2-f0ab-7d017a8fb4b9"
      },
      "execution_count": 78,
      "outputs": [
        {
          "output_type": "execute_result",
          "data": {
            "text/plain": [
              "(<tf.Tensor: shape=(40,), dtype=int32, numpy=\n",
              " array([-100,  -96,  -92,  -88,  -84,  -80,  -76,  -72,  -68,  -64,  -60,\n",
              "         -56,  -52,  -48,  -44,  -40,  -36,  -32,  -28,  -24,  -20,  -16,\n",
              "         -12,   -8,   -4,    0,    4,    8,   12,   16,   20,   24,   28,\n",
              "          32,   36,   40,   44,   48,   52,   56], dtype=int32)>,\n",
              " <tf.Tensor: shape=(40,), dtype=int32, numpy=\n",
              " array([-90, -86, -82, -78, -74, -70, -66, -62, -58, -54, -50, -46, -42,\n",
              "        -38, -34, -30, -26, -22, -18, -14, -10,  -6,  -2,   2,   6,  10,\n",
              "         14,  18,  22,  26,  30,  34,  38,  42,  46,  50,  54,  58,  62,\n",
              "         66], dtype=int32)>)"
            ]
          },
          "metadata": {},
          "execution_count": 78
        }
      ]
    },
    {
      "cell_type": "markdown",
      "source": [
        "# Model 1"
      ],
      "metadata": {
        "id": "uQR14EQuENL0"
      }
    },
    {
      "cell_type": "code",
      "source": [
        "# Create the model\n",
        "model_1 = tf.keras.Sequential([\n",
        "    tf.keras.layers.Dense(1, input_shape=[1])\n",
        "])\n",
        "\n",
        "# Compile the model\n",
        "model_1.compile(loss=tf.keras.losses.mae,\n",
        "              optimizer=tf.keras.optimizers.SGD(),\n",
        "              metrics=[\"mae\"])\n",
        "\n",
        "# Fit the model\n",
        "model_1.fit(X_train, y_train, epochs=100, verbose=1)"
      ],
      "metadata": {
        "colab": {
          "base_uri": "https://localhost:8080/"
        },
        "id": "O8llxoviDT7g",
        "outputId": "2bcf90a3-622c-4e3b-c3fa-c6b0164caf85"
      },
      "execution_count": 115,
      "outputs": [
        {
          "output_type": "stream",
          "name": "stdout",
          "text": [
            "Epoch 1/100\n",
            "2/2 [==============================] - 0s 10ms/step - loss: 88.5831 - mae: 88.5831\n",
            "Epoch 2/100\n",
            "2/2 [==============================] - 0s 13ms/step - loss: 53.1276 - mae: 53.1276\n",
            "Epoch 3/100\n",
            "2/2 [==============================] - 0s 10ms/step - loss: 17.3543 - mae: 17.3543\n",
            "Epoch 4/100\n",
            "2/2 [==============================] - 0s 10ms/step - loss: 9.5343 - mae: 9.5343\n",
            "Epoch 5/100\n",
            "2/2 [==============================] - 0s 10ms/step - loss: 11.2319 - mae: 11.2319\n",
            "Epoch 6/100\n",
            "2/2 [==============================] - 0s 9ms/step - loss: 10.3705 - mae: 10.3705\n",
            "Epoch 7/100\n",
            "2/2 [==============================] - 0s 13ms/step - loss: 9.3598 - mae: 9.3598\n",
            "Epoch 8/100\n",
            "2/2 [==============================] - 0s 9ms/step - loss: 9.2509 - mae: 9.2509\n",
            "Epoch 9/100\n",
            "2/2 [==============================] - 0s 10ms/step - loss: 11.9275 - mae: 11.9275\n",
            "Epoch 10/100\n",
            "2/2 [==============================] - 0s 10ms/step - loss: 13.8803 - mae: 13.8803\n",
            "Epoch 11/100\n",
            "2/2 [==============================] - 0s 14ms/step - loss: 12.0015 - mae: 12.0015\n",
            "Epoch 12/100\n",
            "2/2 [==============================] - 0s 11ms/step - loss: 16.1856 - mae: 16.1856\n",
            "Epoch 13/100\n",
            "2/2 [==============================] - 0s 15ms/step - loss: 11.7955 - mae: 11.7955\n",
            "Epoch 14/100\n",
            "2/2 [==============================] - 0s 10ms/step - loss: 13.6675 - mae: 13.6675\n",
            "Epoch 15/100\n",
            "2/2 [==============================] - 0s 11ms/step - loss: 11.0462 - mae: 11.0462\n",
            "Epoch 16/100\n",
            "2/2 [==============================] - 0s 10ms/step - loss: 8.6787 - mae: 8.6787\n",
            "Epoch 17/100\n",
            "2/2 [==============================] - 0s 15ms/step - loss: 12.3547 - mae: 12.3547\n",
            "Epoch 18/100\n",
            "2/2 [==============================] - 0s 11ms/step - loss: 12.1890 - mae: 12.1890\n",
            "Epoch 19/100\n",
            "2/2 [==============================] - 0s 10ms/step - loss: 17.6692 - mae: 17.6692\n",
            "Epoch 20/100\n",
            "2/2 [==============================] - 0s 10ms/step - loss: 14.8057 - mae: 14.8057\n",
            "Epoch 21/100\n",
            "2/2 [==============================] - 0s 10ms/step - loss: 10.7324 - mae: 10.7324\n",
            "Epoch 22/100\n",
            "2/2 [==============================] - 0s 10ms/step - loss: 8.4682 - mae: 8.4682\n",
            "Epoch 23/100\n",
            "2/2 [==============================] - 0s 11ms/step - loss: 9.8583 - mae: 9.8583\n",
            "Epoch 24/100\n",
            "2/2 [==============================] - 0s 10ms/step - loss: 15.9254 - mae: 15.9254\n",
            "Epoch 25/100\n",
            "2/2 [==============================] - 0s 14ms/step - loss: 12.3156 - mae: 12.3156\n",
            "Epoch 26/100\n",
            "2/2 [==============================] - 0s 11ms/step - loss: 13.4835 - mae: 13.4835\n",
            "Epoch 27/100\n",
            "2/2 [==============================] - 0s 18ms/step - loss: 10.8715 - mae: 10.8715\n",
            "Epoch 28/100\n",
            "2/2 [==============================] - 0s 11ms/step - loss: 13.1928 - mae: 13.1928\n",
            "Epoch 29/100\n",
            "2/2 [==============================] - 0s 14ms/step - loss: 9.5920 - mae: 9.5920\n",
            "Epoch 30/100\n",
            "2/2 [==============================] - 0s 9ms/step - loss: 16.8720 - mae: 16.8720\n",
            "Epoch 31/100\n",
            "2/2 [==============================] - 0s 11ms/step - loss: 23.1809 - mae: 23.1809\n",
            "Epoch 32/100\n",
            "2/2 [==============================] - 0s 9ms/step - loss: 7.3295 - mae: 7.3295\n",
            "Epoch 33/100\n",
            "2/2 [==============================] - 0s 13ms/step - loss: 10.5144 - mae: 10.5144\n",
            "Epoch 34/100\n",
            "2/2 [==============================] - 0s 12ms/step - loss: 9.8038 - mae: 9.8038\n",
            "Epoch 35/100\n",
            "2/2 [==============================] - 0s 10ms/step - loss: 8.3919 - mae: 8.3919\n",
            "Epoch 36/100\n",
            "2/2 [==============================] - 0s 9ms/step - loss: 8.5354 - mae: 8.5354\n",
            "Epoch 37/100\n",
            "2/2 [==============================] - 0s 9ms/step - loss: 8.5948 - mae: 8.5948\n",
            "Epoch 38/100\n",
            "2/2 [==============================] - 0s 10ms/step - loss: 9.2406 - mae: 9.2406\n",
            "Epoch 39/100\n",
            "2/2 [==============================] - 0s 9ms/step - loss: 10.1399 - mae: 10.1399\n",
            "Epoch 40/100\n",
            "2/2 [==============================] - 0s 9ms/step - loss: 9.7641 - mae: 9.7641\n",
            "Epoch 41/100\n",
            "2/2 [==============================] - 0s 9ms/step - loss: 8.1200 - mae: 8.1200\n",
            "Epoch 42/100\n",
            "2/2 [==============================] - 0s 12ms/step - loss: 10.4591 - mae: 10.4591\n",
            "Epoch 43/100\n",
            "2/2 [==============================] - 0s 11ms/step - loss: 7.9831 - mae: 7.9831\n",
            "Epoch 44/100\n",
            "2/2 [==============================] - 0s 9ms/step - loss: 17.5623 - mae: 17.5623\n",
            "Epoch 45/100\n",
            "2/2 [==============================] - 0s 9ms/step - loss: 13.4067 - mae: 13.4067\n",
            "Epoch 46/100\n",
            "2/2 [==============================] - 0s 8ms/step - loss: 8.1417 - mae: 8.1417\n",
            "Epoch 47/100\n",
            "2/2 [==============================] - 0s 9ms/step - loss: 8.8718 - mae: 8.8718\n",
            "Epoch 48/100\n",
            "2/2 [==============================] - 0s 10ms/step - loss: 10.2180 - mae: 10.2180\n",
            "Epoch 49/100\n",
            "2/2 [==============================] - 0s 10ms/step - loss: 7.1123 - mae: 7.1123\n",
            "Epoch 50/100\n",
            "2/2 [==============================] - 0s 10ms/step - loss: 9.1397 - mae: 9.1397\n",
            "Epoch 51/100\n",
            "2/2 [==============================] - 0s 11ms/step - loss: 10.6153 - mae: 10.6153\n",
            "Epoch 52/100\n",
            "2/2 [==============================] - 0s 13ms/step - loss: 15.3936 - mae: 15.3936\n",
            "Epoch 53/100\n",
            "2/2 [==============================] - 0s 9ms/step - loss: 14.3930 - mae: 14.3930\n",
            "Epoch 54/100\n",
            "2/2 [==============================] - 0s 14ms/step - loss: 21.7706 - mae: 21.7706\n",
            "Epoch 55/100\n",
            "2/2 [==============================] - 0s 8ms/step - loss: 15.8851 - mae: 15.8851\n",
            "Epoch 56/100\n",
            "2/2 [==============================] - 0s 8ms/step - loss: 10.4000 - mae: 10.4000\n",
            "Epoch 57/100\n",
            "2/2 [==============================] - 0s 13ms/step - loss: 9.7372 - mae: 9.7372\n",
            "Epoch 58/100\n",
            "2/2 [==============================] - 0s 12ms/step - loss: 9.0360 - mae: 9.0360\n",
            "Epoch 59/100\n",
            "2/2 [==============================] - 0s 17ms/step - loss: 10.2828 - mae: 10.2828\n",
            "Epoch 60/100\n",
            "2/2 [==============================] - 0s 14ms/step - loss: 8.1713 - mae: 8.1713\n",
            "Epoch 61/100\n",
            "2/2 [==============================] - 0s 9ms/step - loss: 10.0214 - mae: 10.0214\n",
            "Epoch 62/100\n",
            "2/2 [==============================] - 0s 14ms/step - loss: 7.0861 - mae: 7.0861\n",
            "Epoch 63/100\n",
            "2/2 [==============================] - 0s 10ms/step - loss: 8.5755 - mae: 8.5755\n",
            "Epoch 64/100\n",
            "2/2 [==============================] - 0s 12ms/step - loss: 11.0973 - mae: 11.0973\n",
            "Epoch 65/100\n",
            "2/2 [==============================] - 0s 11ms/step - loss: 12.4230 - mae: 12.4230\n",
            "Epoch 66/100\n",
            "2/2 [==============================] - 0s 10ms/step - loss: 12.9673 - mae: 12.9673\n",
            "Epoch 67/100\n",
            "2/2 [==============================] - 0s 8ms/step - loss: 7.8361 - mae: 7.8361\n",
            "Epoch 68/100\n",
            "2/2 [==============================] - 0s 11ms/step - loss: 11.0803 - mae: 11.0803\n",
            "Epoch 69/100\n",
            "2/2 [==============================] - 0s 18ms/step - loss: 12.7407 - mae: 12.7407\n",
            "Epoch 70/100\n",
            "2/2 [==============================] - 0s 12ms/step - loss: 8.8965 - mae: 8.8965\n",
            "Epoch 71/100\n",
            "2/2 [==============================] - 0s 12ms/step - loss: 9.8619 - mae: 9.8619\n",
            "Epoch 72/100\n",
            "2/2 [==============================] - 0s 9ms/step - loss: 9.9219 - mae: 9.9219\n",
            "Epoch 73/100\n",
            "2/2 [==============================] - 0s 9ms/step - loss: 12.3073 - mae: 12.3073\n",
            "Epoch 74/100\n",
            "2/2 [==============================] - 0s 9ms/step - loss: 10.7521 - mae: 10.7521\n",
            "Epoch 75/100\n",
            "2/2 [==============================] - 0s 10ms/step - loss: 9.5698 - mae: 9.5698\n",
            "Epoch 76/100\n",
            "2/2 [==============================] - 0s 10ms/step - loss: 11.0186 - mae: 11.0186\n",
            "Epoch 77/100\n",
            "2/2 [==============================] - 0s 9ms/step - loss: 11.0880 - mae: 11.0880\n",
            "Epoch 78/100\n",
            "2/2 [==============================] - 0s 10ms/step - loss: 11.5930 - mae: 11.5930\n",
            "Epoch 79/100\n",
            "2/2 [==============================] - 0s 9ms/step - loss: 15.6421 - mae: 15.6421\n",
            "Epoch 80/100\n",
            "2/2 [==============================] - 0s 10ms/step - loss: 11.5858 - mae: 11.5858\n",
            "Epoch 81/100\n",
            "2/2 [==============================] - 0s 9ms/step - loss: 9.5002 - mae: 9.5002\n",
            "Epoch 82/100\n",
            "2/2 [==============================] - 0s 9ms/step - loss: 12.5725 - mae: 12.5725\n",
            "Epoch 83/100\n",
            "2/2 [==============================] - 0s 11ms/step - loss: 8.1764 - mae: 8.1764\n",
            "Epoch 84/100\n",
            "2/2 [==============================] - 0s 10ms/step - loss: 7.5614 - mae: 7.5614\n",
            "Epoch 85/100\n",
            "2/2 [==============================] - 0s 9ms/step - loss: 9.7497 - mae: 9.7497\n",
            "Epoch 86/100\n",
            "2/2 [==============================] - 0s 9ms/step - loss: 9.0563 - mae: 9.0563\n",
            "Epoch 87/100\n",
            "2/2 [==============================] - 0s 9ms/step - loss: 11.6909 - mae: 11.6909\n",
            "Epoch 88/100\n",
            "2/2 [==============================] - 0s 9ms/step - loss: 10.2917 - mae: 10.2917\n",
            "Epoch 89/100\n",
            "2/2 [==============================] - 0s 9ms/step - loss: 6.7618 - mae: 6.7618\n",
            "Epoch 90/100\n",
            "2/2 [==============================] - 0s 9ms/step - loss: 8.1270 - mae: 8.1270\n",
            "Epoch 91/100\n",
            "2/2 [==============================] - 0s 9ms/step - loss: 6.9079 - mae: 6.9079\n",
            "Epoch 92/100\n",
            "2/2 [==============================] - 0s 10ms/step - loss: 8.9950 - mae: 8.9950\n",
            "Epoch 93/100\n",
            "2/2 [==============================] - 0s 11ms/step - loss: 7.5111 - mae: 7.5111\n",
            "Epoch 94/100\n",
            "2/2 [==============================] - 0s 10ms/step - loss: 9.1309 - mae: 9.1309\n",
            "Epoch 95/100\n",
            "2/2 [==============================] - 0s 11ms/step - loss: 10.5986 - mae: 10.5986\n",
            "Epoch 96/100\n",
            "2/2 [==============================] - 0s 11ms/step - loss: 10.5800 - mae: 10.5800\n",
            "Epoch 97/100\n",
            "2/2 [==============================] - 0s 10ms/step - loss: 7.0173 - mae: 7.0173\n",
            "Epoch 98/100\n",
            "2/2 [==============================] - 0s 10ms/step - loss: 9.1675 - mae: 9.1675\n",
            "Epoch 99/100\n",
            "2/2 [==============================] - 0s 10ms/step - loss: 8.9675 - mae: 8.9675\n",
            "Epoch 100/100\n",
            "2/2 [==============================] - 0s 11ms/step - loss: 13.1113 - mae: 13.1113\n"
          ]
        },
        {
          "output_type": "execute_result",
          "data": {
            "text/plain": [
              "<keras.src.callbacks.History at 0x7ef36710a680>"
            ]
          },
          "metadata": {},
          "execution_count": 115
        }
      ]
    },
    {
      "cell_type": "code",
      "source": [
        "y_preds_1 = model_1.predict(X_test)\n",
        "plot_predictions(predictions=y_preds_1)"
      ],
      "metadata": {
        "colab": {
          "base_uri": "https://localhost:8080/",
          "height": 617
        },
        "id": "MsVP1LN_Eny5",
        "outputId": "a27fae83-64da-40af-d5c7-63f111c6f027"
      },
      "execution_count": 109,
      "outputs": [
        {
          "output_type": "stream",
          "name": "stdout",
          "text": [
            "1/1 [==============================] - 0s 52ms/step\n"
          ]
        },
        {
          "output_type": "display_data",
          "data": {
            "text/plain": [
              "<Figure size 1000x700 with 1 Axes>"
            ],
            "image/png": "[encoded data removed]"
          },
          "metadata": {}
        }
      ]
    },
    {
      "cell_type": "code",
      "source": [
        "# Create model_1 evaluation metrics\n",
        "mae_1 = mae(y_test, y_preds_1)\n",
        "mse_1 = mse(y_test, y_preds_1)\n",
        "print(mae_1)\n",
        "print(mse_1)"
      ],
      "metadata": {
        "colab": {
          "base_uri": "https://localhost:8080/"
        },
        "id": "K5y29fZCGqbL",
        "outputId": "d6d84876-aac6-4733-ca2e-de6112a0e74a"
      },
      "execution_count": 122,
      "outputs": [
        {
          "output_type": "stream",
          "name": "stdout",
          "text": [
            "tf.Tensor(32.64663, shape=(), dtype=float32)\n",
            "tf.Tensor(1078.2556, shape=(), dtype=float32)\n"
          ]
        }
      ]
    },
    {
      "cell_type": "markdown",
      "source": [
        "# Model 2"
      ],
      "metadata": {
        "id": "xq8LpHuYJ4Zp"
      }
    },
    {
      "cell_type": "code",
      "source": [
        "model_2 = tf.keras.Sequential([\n",
        "    tf.keras.layers.Dense(10, input_shape=[1]),\n",
        "    tf.keras.layers.Dense(1)\n",
        "])\n",
        "\n",
        "model_2.compile(loss=tf.keras.losses.mae,\n",
        "                optimizer=tf.keras.optimizers.SGD(),\n",
        "                metrics=[\"mae\"])\n",
        "\n",
        "model_2.fit(X_train, y_train, epochs=100)"
      ],
      "metadata": {
        "colab": {
          "base_uri": "https://localhost:8080/",
          "height": 792
        },
        "id": "ZV95j3j6Jhbf",
        "outputId": "09a35a9e-3bef-462f-ae2c-b86c6fc76195"
      },
      "execution_count": 131,
      "outputs": [
        {
          "output_type": "stream",
          "name": "stdout",
          "text": [
            "Epoch 1/100\n"
          ]
        },
        {
          "output_type": "error",
          "ename": "ValueError",
          "evalue": "ignored",
          "traceback": [
            "\u001b[0;31m---------------------------------------------------------------------------\u001b[0m",
            "\u001b[0;31mValueError\u001b[0m                                Traceback (most recent call last)",
            "\u001b[0;32m<ipython-input-131-c478053cd03b>\u001b[0m in \u001b[0;36m<cell line: 10>\u001b[0;34m()\u001b[0m\n\u001b[1;32m      8\u001b[0m                 metrics=[\"mae\"])\n\u001b[1;32m      9\u001b[0m \u001b[0;34m\u001b[0m\u001b[0m\n\u001b[0;32m---> 10\u001b[0;31m \u001b[0mmodel_2\u001b[0m\u001b[0;34m.\u001b[0m\u001b[0mfit\u001b[0m\u001b[0;34m(\u001b[0m\u001b[0mX_train\u001b[0m\u001b[0;34m,\u001b[0m \u001b[0my_train\u001b[0m\u001b[0;34m,\u001b[0m \u001b[0mepochs\u001b[0m\u001b[0;34m=\u001b[0m\u001b[0;36m100\u001b[0m\u001b[0;34m)\u001b[0m\u001b[0;34m\u001b[0m\u001b[0;34m\u001b[0m\u001b[0m\n\u001b[0m",
            "\u001b[0;32m/usr/local/lib/python3.10/dist-packages/keras/src/utils/traceback_utils.py\u001b[0m in \u001b[0;36merror_handler\u001b[0;34m(*args, **kwargs)\u001b[0m\n\u001b[1;32m     68\u001b[0m             \u001b[0;31m# To get the full stack trace, call:\u001b[0m\u001b[0;34m\u001b[0m\u001b[0;34m\u001b[0m\u001b[0m\n\u001b[1;32m     69\u001b[0m             \u001b[0;31m# `tf.debugging.disable_traceback_filtering()`\u001b[0m\u001b[0;34m\u001b[0m\u001b[0;34m\u001b[0m\u001b[0m\n\u001b[0;32m---> 70\u001b[0;31m             \u001b[0;32mraise\u001b[0m \u001b[0me\u001b[0m\u001b[0;34m.\u001b[0m\u001b[0mwith_traceback\u001b[0m\u001b[0;34m(\u001b[0m\u001b[0mfiltered_tb\u001b[0m\u001b[0;34m)\u001b[0m \u001b[0;32mfrom\u001b[0m \u001b[0;32mNone\u001b[0m\u001b[0;34m\u001b[0m\u001b[0;34m\u001b[0m\u001b[0m\n\u001b[0m\u001b[1;32m     71\u001b[0m         \u001b[0;32mfinally\u001b[0m\u001b[0;34m:\u001b[0m\u001b[0;34m\u001b[0m\u001b[0;34m\u001b[0m\u001b[0m\n\u001b[1;32m     72\u001b[0m             \u001b[0;32mdel\u001b[0m \u001b[0mfiltered_tb\u001b[0m\u001b[0;34m\u001b[0m\u001b[0;34m\u001b[0m\u001b[0m\n",
            "\u001b[0;32m/usr/local/lib/python3.10/dist-packages/keras/src/engine/training.py\u001b[0m in \u001b[0;36mtf__train_function\u001b[0;34m(iterator)\u001b[0m\n\u001b[1;32m     13\u001b[0m                 \u001b[0;32mtry\u001b[0m\u001b[0;34m:\u001b[0m\u001b[0;34m\u001b[0m\u001b[0;34m\u001b[0m\u001b[0m\n\u001b[1;32m     14\u001b[0m                     \u001b[0mdo_return\u001b[0m \u001b[0;34m=\u001b[0m \u001b[0;32mTrue\u001b[0m\u001b[0;34m\u001b[0m\u001b[0;34m\u001b[0m\u001b[0m\n\u001b[0;32m---> 15\u001b[0;31m                     \u001b[0mretval_\u001b[0m \u001b[0;34m=\u001b[0m \u001b[0mag__\u001b[0m\u001b[0;34m.\u001b[0m\u001b[0mconverted_call\u001b[0m\u001b[0;34m(\u001b[0m\u001b[0mag__\u001b[0m\u001b[0;34m.\u001b[0m\u001b[0mld\u001b[0m\u001b[0;34m(\u001b[0m\u001b[0mstep_function\u001b[0m\u001b[0;34m)\u001b[0m\u001b[0;34m,\u001b[0m \u001b[0;34m(\u001b[0m\u001b[0mag__\u001b[0m\u001b[0;34m.\u001b[0m\u001b[0mld\u001b[0m\u001b[0;34m(\u001b[0m\u001b[0mself\u001b[0m\u001b[0;34m)\u001b[0m\u001b[0;34m,\u001b[0m \u001b[0mag__\u001b[0m\u001b[0;34m.\u001b[0m\u001b[0mld\u001b[0m\u001b[0;34m(\u001b[0m\u001b[0miterator\u001b[0m\u001b[0;34m)\u001b[0m\u001b[0;34m)\u001b[0m\u001b[0;34m,\u001b[0m \u001b[0;32mNone\u001b[0m\u001b[0;34m,\u001b[0m \u001b[0mfscope\u001b[0m\u001b[0;34m)\u001b[0m\u001b[0;34m\u001b[0m\u001b[0;34m\u001b[0m\u001b[0m\n\u001b[0m\u001b[1;32m     16\u001b[0m                 \u001b[0;32mexcept\u001b[0m\u001b[0;34m:\u001b[0m\u001b[0;34m\u001b[0m\u001b[0;34m\u001b[0m\u001b[0m\n\u001b[1;32m     17\u001b[0m                     \u001b[0mdo_return\u001b[0m \u001b[0;34m=\u001b[0m \u001b[0;32mFalse\u001b[0m\u001b[0;34m\u001b[0m\u001b[0;34m\u001b[0m\u001b[0m\n",
            "\u001b[0;31mValueError\u001b[0m: in user code:\n\n    File \"/usr/local/lib/python3.10/dist-packages/keras/src/engine/training.py\", line 1377, in train_function  *\n        return step_function(self, iterator)\n    File \"/usr/local/lib/python3.10/dist-packages/keras/src/engine/training.py\", line 1360, in step_function  **\n        outputs = model.distribute_strategy.run(run_step, args=(data,))\n    File \"/usr/local/lib/python3.10/dist-packages/keras/src/engine/training.py\", line 1349, in run_step  **\n        outputs = model.train_step(data)\n    File \"/usr/local/lib/python3.10/dist-packages/keras/src/engine/training.py\", line 1126, in train_step\n        y_pred = self(x, training=True)\n    File \"/usr/local/lib/python3.10/dist-packages/keras/src/utils/traceback_utils.py\", line 70, in error_handler\n        raise e.with_traceback(filtered_tb) from None\n    File \"/usr/local/lib/python3.10/dist-packages/keras/src/engine/input_spec.py\", line 253, in assert_input_compatibility\n        raise ValueError(\n\n    ValueError: Exception encountered when calling layer 'sequential_34' (type Sequential).\n    \n    Input 0 of layer \"dense_45\" is incompatible with the layer: expected min_ndim=2, found ndim=1. Full shape received: (None,)\n    \n    Call arguments received by layer 'sequential_34' (type Sequential):\n      • inputs=tf.Tensor(shape=(None,), dtype=int32)\n      • training=True\n      • mask=None\n"
          ]
        }
      ]
    },
    {
      "cell_type": "code",
      "source": [
        "y_preds_2 = model_2.predict(X_test)\n",
        "plot_predictions(predictions=y_preds_2)"
      ],
      "metadata": {
        "colab": {
          "base_uri": "https://localhost:8080/",
          "height": 617
        },
        "id": "Pvz7WSLhKPir",
        "outputId": "28d280fb-2fd9-4b54-f83e-51e34faf2d8d"
      },
      "execution_count": 129,
      "outputs": [
        {
          "output_type": "stream",
          "name": "stdout",
          "text": [
            "1/1 [==============================] - 0s 67ms/step\n"
          ]
        },
        {
          "output_type": "display_data",
          "data": {
            "text/plain": [
              "<Figure size 1000x700 with 1 Axes>"
            ],
            "image/png": "[encoded data removed]"
          },
          "metadata": {}
        }
      ]
    },
    {
      "cell_type": "code",
      "source": [
        "mae_2 = mae(y_test, y_preds_2)\n",
        "mse_2 = mse(y_test, y_preds_2)\n",
        "print(mae_2)\n",
        "print(mse_2)"
      ],
      "metadata": {
        "colab": {
          "base_uri": "https://localhost:8080/"
        },
        "id": "DPxuG08OLSpV",
        "outputId": "f6bd0155-a446-497a-e959-6caf1a14072a"
      },
      "execution_count": 130,
      "outputs": [
        {
          "output_type": "stream",
          "name": "stdout",
          "text": [
            "tf.Tensor(13.19018, shape=(), dtype=float32)\n",
            "tf.Tensor(183.95625, shape=(), dtype=float32)\n"
          ]
        }
      ]
    },
    {
      "cell_type": "markdown",
      "source": [
        "# Model 3"
      ],
      "metadata": {
        "id": "LMUgOgEzMVXW"
      }
    },
    {
      "cell_type": "code",
      "source": [
        "# Build the model\n",
        "model_3 = tf.keras.Sequential([\n",
        "    tf.keras.layers.Dense(10, input_shape=[1]),\n",
        "    tf.keras.layers.Dense(1)\n",
        "])\n",
        "\n",
        "# Compile the mode\n",
        "model_3.compile(loss=tf.keras.losses.mae,\n",
        "                optimizer=tf.keras.optimizers.SGD(),\n",
        "                metrics=[\"mae\"])\n",
        "\n",
        "# Fit the model\n",
        "model_3.fit(X_train, y_train, epochs=500, verbose=0)\n",
        "\n",
        "# Get the predictions on the test data\n",
        "y_pred_3 = model_3.predict(X_test)\n",
        "\n",
        "# Plot the predictions\n",
        "plot_predictions(predictions=y_pred_3)\n",
        "\n",
        "# Get the metrics\n",
        "print(\"MAE --> \", mae(y_test, y_pred_3))\n",
        "print(\"MSE --> \", mse(y_test, y_pred_3))\n",
        "\n",
        "mae_3 = mae(y_test, y_pred_3)\n",
        "mse_3 = mse(y_test, y_pred_3)"
      ],
      "metadata": {
        "colab": {
          "base_uri": "https://localhost:8080/",
          "height": 654
        },
        "id": "4V7_BT3CLoCB",
        "outputId": "b173cf04-1665-4360-d52d-f2f08c1ab01b"
      },
      "execution_count": 137,
      "outputs": [
        {
          "output_type": "stream",
          "name": "stdout",
          "text": [
            "1/1 [==============================] - 0s 78ms/step\n",
            "MAE -->  tf.Tensor(67.001816, shape=(), dtype=float32)\n",
            "MSE -->  tf.Tensor(4571.6787, shape=(), dtype=float32)\n"
          ]
        },
        {
          "output_type": "display_data",
          "data": {
            "text/plain": [
              "<Figure size 1000x700 with 1 Axes>"
            ],
            "image/png": "[encoded data removed]"
          },
          "metadata": {}
        }
      ]
    },
    {
      "cell_type": "markdown",
      "source": [
        "**Note** : Start with small models and then scale once you have gotten to good enough model to work on full set of data"
      ],
      "metadata": {
        "id": "AYnUT0kYOEq_"
      }
    },
    {
      "cell_type": "markdown",
      "source": [
        "# Comparing the results of the models"
      ],
      "metadata": {
        "id": "R61Fara6OPZ8"
      }
    },
    {
      "cell_type": "code",
      "source": [
        "import pandas as pd"
      ],
      "metadata": {
        "id": "k_QIEVx5NM6w"
      },
      "execution_count": 135,
      "outputs": []
    },
    {
      "cell_type": "code",
      "source": [],
      "metadata": {
        "id": "QbG_d6p-PIJo"
      },
      "execution_count": 146,
      "outputs": []
    },
    {
      "cell_type": "code",
      "source": [
        "model_results = [[\"model_1\", mae_1.numpy(), mse_1.numpy()], [\"model_2\",mae_2.numpy(), mse_2.numpy()], [\"model_3\",mae_3.numpy(), mse_3.numpy()]]\n",
        "pd.DataFrame(model_results, columns=[\"model\", \"mae\", \"mse\"])"
      ],
      "metadata": {
        "colab": {
          "base_uri": "https://localhost:8080/",
          "height": 143
        },
        "id": "zVot4DDuOUDo",
        "outputId": "704ffe2f-5ac6-4b0c-ec6f-519ac54b6528"
      },
      "execution_count": 150,
      "outputs": [
        {
          "output_type": "execute_result",
          "data": {
            "text/plain": [
              "     model        mae          mse\n",
              "0  model_1   3.150494  1078.255615\n",
              "1  model_2  13.190180   183.956253\n",
              "2  model_3  67.001816  4571.678711"
            ],
            "text/html": [
              "\n",
              "  <div id=\"df-01b9b207-a1f4-4873-b36f-264956374e3e\" class=\"colab-df-container\">\n",
              "    <div>\n",
              "<style scoped>\n",
              "    .dataframe tbody tr th:only-of-type {\n",
              "        vertical-align: middle;\n",
              "    }\n",
              "\n",
              "    .dataframe tbody tr th {\n",
              "        vertical-align: top;\n",
              "    }\n",
              "\n",
              "    .dataframe thead th {\n",
              "        text-align: right;\n",
              "    }\n",
              "</style>\n",
              "<table border=\"1\" class=\"dataframe\">\n",
              "  <thead>\n",
              "    <tr style=\"text-align: right;\">\n",
              "      <th></th>\n",
              "      <th>model</th>\n",
              "      <th>mae</th>\n",
              "      <th>mse</th>\n",
              "    </tr>\n",
              "  </thead>\n",
              "  <tbody>\n",
              "    <tr>\n",
              "      <th>0</th>\n",
              "      <td>model_1</td>\n",
              "      <td>3.150494</td>\n",
              "      <td>1078.255615</td>\n",
              "    </tr>\n",
              "    <tr>\n",
              "      <th>1</th>\n",
              "      <td>model_2</td>\n",
              "      <td>13.190180</td>\n",
              "      <td>183.956253</td>\n",
              "    </tr>\n",
              "    <tr>\n",
              "      <th>2</th>\n",
              "      <td>model_3</td>\n",
              "      <td>67.001816</td>\n",
              "      <td>4571.678711</td>\n",
              "    </tr>\n",
              "  </tbody>\n",
              "</table>\n",
              "</div>\n",
              "    <div class=\"colab-df-buttons\">\n",
              "\n",
              "  <div class=\"colab-df-container\">\n",
              "    <button class=\"colab-df-convert\" onclick=\"convertToInteractive('df-01b9b207-a1f4-4873-b36f-264956374e3e')\"\n",
              "            title=\"Convert this dataframe to an interactive table.\"\n",
              "            style=\"display:none;\">\n",
              "\n",
              "  <svg xmlns=\"http://www.w3.org/2000/svg\" height=\"24px\" viewBox=\"0 -960 960 960\">\n",
              "    <path d=\"M120-120v-720h720v720H120Zm60-500h600v-160H180v160Zm220 220h160v-160H400v160Zm0 220h160v-160H400v160ZM180-400h160v-160H180v160Zm440 0h160v-160H620v160ZM180-180h160v-160H180v160Zm440 0h160v-160H620v160Z\"/>\n",
              "  </svg>\n",
              "    </button>\n",
              "\n",
              "  <style>\n",
              "    .colab-df-container {\n",
              "      display:flex;\n",
              "      gap: 12px;\n",
              "    }\n",
              "\n",
              "    .colab-df-convert {\n",
              "      background-color: #E8F0FE;\n",
              "      border: none;\n",
              "      border-radius: 50%;\n",
              "      cursor: pointer;\n",
              "      display: none;\n",
              "      fill: #1967D2;\n",
              "      height: 32px;\n",
              "      padding: 0 0 0 0;\n",
              "      width: 32px;\n",
              "    }\n",
              "\n",
              "    .colab-df-convert:hover {\n",
              "      background-color: #E2EBFA;\n",
              "      box-shadow: 0px 1px 2px rgba(60, 64, 67, 0.3), 0px 1px 3px 1px rgba(60, 64, 67, 0.15);\n",
              "      fill: #174EA6;\n",
              "    }\n",
              "\n",
              "    .colab-df-buttons div {\n",
              "      margin-bottom: 4px;\n",
              "    }\n",
              "\n",
              "    [theme=dark] .colab-df-convert {\n",
              "      background-color: #3B4455;\n",
              "      fill: #D2E3FC;\n",
              "    }\n",
              "\n",
              "    [theme=dark] .colab-df-convert:hover {\n",
              "      background-color: #434B5C;\n",
              "      box-shadow: 0px 1px 3px 1px rgba(0, 0, 0, 0.15);\n",
              "      filter: drop-shadow(0px 1px 2px rgba(0, 0, 0, 0.3));\n",
              "      fill: #FFFFFF;\n",
              "    }\n",
              "  </style>\n",
              "\n",
              "    <script>\n",
              "      const buttonEl =\n",
              "        document.querySelector('#df-01b9b207-a1f4-4873-b36f-264956374e3e button.colab-df-convert');\n",
              "      buttonEl.style.display =\n",
              "        google.colab.kernel.accessAllowed ? 'block' : 'none';\n",
              "\n",
              "      async function convertToInteractive(key) {\n",
              "        const element = document.querySelector('#df-01b9b207-a1f4-4873-b36f-264956374e3e');\n",
              "        const dataTable =\n",
              "          await google.colab.kernel.invokeFunction('convertToInteractive',\n",
              "                                                    [key], {});\n",
              "        if (!dataTable) return;\n",
              "\n",
              "        const docLinkHtml = 'Like what you see? Visit the ' +\n",
              "          '<a target=\"_blank\" href=https://colab.research.google.com/notebooks/data_table.ipynb>data table notebook</a>'\n",
              "          + ' to learn more about interactive tables.';\n",
              "        element.innerHTML = '';\n",
              "        dataTable['output_type'] = 'display_data';\n",
              "        await google.colab.output.renderOutput(dataTable, element);\n",
              "        const docLink = document.createElement('div');\n",
              "        docLink.innerHTML = docLinkHtml;\n",
              "        element.appendChild(docLink);\n",
              "      }\n",
              "    </script>\n",
              "  </div>\n",
              "\n",
              "\n",
              "<div id=\"df-744330a4-a850-4b2f-b86c-7da45a65726c\">\n",
              "  <button class=\"colab-df-quickchart\" onclick=\"quickchart('df-744330a4-a850-4b2f-b86c-7da45a65726c')\"\n",
              "            title=\"Suggest charts\"\n",
              "            style=\"display:none;\">\n",
              "\n",
              "<svg xmlns=\"http://www.w3.org/2000/svg\" height=\"24px\"viewBox=\"0 0 24 24\"\n",
              "     width=\"24px\">\n",
              "    <g>\n",
              "        <path d=\"M19 3H5c-1.1 0-2 .9-2 2v14c0 1.1.9 2 2 2h14c1.1 0 2-.9 2-2V5c0-1.1-.9-2-2-2zM9 17H7v-7h2v7zm4 0h-2V7h2v10zm4 0h-2v-4h2v4z\"/>\n",
              "    </g>\n",
              "</svg>\n",
              "  </button>\n",
              "\n",
              "<style>\n",
              "  .colab-df-quickchart {\n",
              "      --bg-color: #E8F0FE;\n",
              "      --fill-color: #1967D2;\n",
              "      --hover-bg-color: #E2EBFA;\n",
              "      --hover-fill-color: #174EA6;\n",
              "      --disabled-fill-color: #AAA;\n",
              "      --disabled-bg-color: #DDD;\n",
              "  }\n",
              "\n",
              "  [theme=dark] .colab-df-quickchart {\n",
              "      --bg-color: #3B4455;\n",
              "      --fill-color: #D2E3FC;\n",
              "      --hover-bg-color: #434B5C;\n",
              "      --hover-fill-color: #FFFFFF;\n",
              "      --disabled-bg-color: #3B4455;\n",
              "      --disabled-fill-color: #666;\n",
              "  }\n",
              "\n",
              "  .colab-df-quickchart {\n",
              "    background-color: var(--bg-color);\n",
              "    border: none;\n",
              "    border-radius: 50%;\n",
              "    cursor: pointer;\n",
              "    display: none;\n",
              "    fill: var(--fill-color);\n",
              "    height: 32px;\n",
              "    padding: 0;\n",
              "    width: 32px;\n",
              "  }\n",
              "\n",
              "  .colab-df-quickchart:hover {\n",
              "    background-color: var(--hover-bg-color);\n",
              "    box-shadow: 0 1px 2px rgba(60, 64, 67, 0.3), 0 1px 3px 1px rgba(60, 64, 67, 0.15);\n",
              "    fill: var(--button-hover-fill-color);\n",
              "  }\n",
              "\n",
              "  .colab-df-quickchart-complete:disabled,\n",
              "  .colab-df-quickchart-complete:disabled:hover {\n",
              "    background-color: var(--disabled-bg-color);\n",
              "    fill: var(--disabled-fill-color);\n",
              "    box-shadow: none;\n",
              "  }\n",
              "\n",
              "  .colab-df-spinner {\n",
              "    border: 2px solid var(--fill-color);\n",
              "    border-color: transparent;\n",
              "    border-bottom-color: var(--fill-color);\n",
              "    animation:\n",
              "      spin 1s steps(1) infinite;\n",
              "  }\n",
              "\n",
              "  @keyframes spin {\n",
              "    0% {\n",
              "      border-color: transparent;\n",
              "      border-bottom-color: var(--fill-color);\n",
              "      border-left-color: var(--fill-color);\n",
              "    }\n",
              "    20% {\n",
              "      border-color: transparent;\n",
              "      border-left-color: var(--fill-color);\n",
              "      border-top-color: var(--fill-color);\n",
              "    }\n",
              "    30% {\n",
              "      border-color: transparent;\n",
              "      border-left-color: var(--fill-color);\n",
              "      border-top-color: var(--fill-color);\n",
              "      border-right-color: var(--fill-color);\n",
              "    }\n",
              "    40% {\n",
              "      border-color: transparent;\n",
              "      border-right-color: var(--fill-color);\n",
              "      border-top-color: var(--fill-color);\n",
              "    }\n",
              "    60% {\n",
              "      border-color: transparent;\n",
              "      border-right-color: var(--fill-color);\n",
              "    }\n",
              "    80% {\n",
              "      border-color: transparent;\n",
              "      border-right-color: var(--fill-color);\n",
              "      border-bottom-color: var(--fill-color);\n",
              "    }\n",
              "    90% {\n",
              "      border-color: transparent;\n",
              "      border-bottom-color: var(--fill-color);\n",
              "    }\n",
              "  }\n",
              "</style>\n",
              "\n",
              "  <script>\n",
              "    async function quickchart(key) {\n",
              "      const quickchartButtonEl =\n",
              "        document.querySelector('#' + key + ' button');\n",
              "      quickchartButtonEl.disabled = true;  // To prevent multiple clicks.\n",
              "      quickchartButtonEl.classList.add('colab-df-spinner');\n",
              "      try {\n",
              "        const charts = await google.colab.kernel.invokeFunction(\n",
              "            'suggestCharts', [key], {});\n",
              "      } catch (error) {\n",
              "        console.error('Error during call to suggestCharts:', error);\n",
              "      }\n",
              "      quickchartButtonEl.classList.remove('colab-df-spinner');\n",
              "      quickchartButtonEl.classList.add('colab-df-quickchart-complete');\n",
              "    }\n",
              "    (() => {\n",
              "      let quickchartButtonEl =\n",
              "        document.querySelector('#df-744330a4-a850-4b2f-b86c-7da45a65726c button');\n",
              "      quickchartButtonEl.style.display =\n",
              "        google.colab.kernel.accessAllowed ? 'block' : 'none';\n",
              "    })();\n",
              "  </script>\n",
              "</div>\n",
              "    </div>\n",
              "  </div>\n"
            ]
          },
          "metadata": {},
          "execution_count": 150
        }
      ]
    },
    {
      "cell_type": "markdown",
      "source": [
        "**Note** : Experiment more earlier to get to know what works and what doesn't in the machine learning cycles"
      ],
      "metadata": {
        "id": "SX6bDFdGQH-9"
      }
    },
    {
      "cell_type": "markdown",
      "source": [
        "# Tracking your experiments results.\n",
        "\n",
        "**TensorBoard** - API which helps track the modeling experiments  </br>\n",
        "**Weights&Biases** - Tools for traking all kinds of machine learning experiments\n"
      ],
      "metadata": {
        "id": "aFZWLJdQQZk_"
      }
    },
    {
      "cell_type": "code",
      "source": [],
      "metadata": {
        "id": "wwCXp5VLOu68"
      },
      "execution_count": null,
      "outputs": []
    }
  ]
}