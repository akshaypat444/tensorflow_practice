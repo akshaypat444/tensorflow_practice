{
  "nbformat": 4,
  "nbformat_minor": 0,
  "metadata": {
    "colab": {
      "provenance": [],
      "authorship_tag": "ABX9TyP6HKOC18MDBRAQRjrO+tjT",
      "include_colab_link": true
    },
    "kernelspec": {
      "name": "python3",
      "display_name": "Python 3"
    },
    "language_info": {
      "name": "python"
    }
  },
  "cells": [
    {
      "cell_type": "markdown",
      "metadata": {
        "id": "view-in-github",
        "colab_type": "text"
      },
      "source": [
        "<a href=\"https://colab.research.google.com/github/akshaypat444/tensorflow_practice/blob/main/time_series_with_tensorflow.ipynb\" target=\"_parent\"><img src=\"https://colab.research.google.com/assets/colab-badge.svg\" alt=\"Open In Colab\"/></a>"
      ]
    },
    {
      "cell_type": "markdown",
      "source": [
        "# BitPredict"
      ],
      "metadata": {
        "id": "vWDqx9kIKsCy"
      }
    },
    {
      "cell_type": "code",
      "execution_count": 1,
      "metadata": {
        "id": "qQI2EhJjFFY-"
      },
      "outputs": [],
      "source": [
        "import tensorflow as tf\n",
        "import numpy as np\n",
        "import pandas as pd\n",
        "import matplotlib.pyplot as plt"
      ]
    },
    {
      "cell_type": "code",
      "source": [
        "!wget https://raw.githubusercontent.com/mrdbourke/tensorflow-deep-learning/main/extras/BTC_USD_2013-10-01_2021-05-18-CoinDesk.csv"
      ],
      "metadata": {
        "id": "6up8z2cbFMpz",
        "colab": {
          "base_uri": "https://localhost:8080/"
        },
        "outputId": "5cad1805-10e3-4080-8034-3f862a3d7da3"
      },
      "execution_count": 2,
      "outputs": [
        {
          "output_type": "stream",
          "name": "stdout",
          "text": [
            "--2024-06-28 16:19:44--  https://raw.githubusercontent.com/mrdbourke/tensorflow-deep-learning/main/extras/BTC_USD_2013-10-01_2021-05-18-CoinDesk.csv\n",
            "Resolving raw.githubusercontent.com (raw.githubusercontent.com)... 185.199.111.133, 185.199.109.133, 185.199.110.133, ...\n",
            "Connecting to raw.githubusercontent.com (raw.githubusercontent.com)|185.199.111.133|:443... connected.\n",
            "HTTP request sent, awaiting response... 200 OK\n",
            "Length: 178509 (174K) [text/plain]\n",
            "Saving to: ‘BTC_USD_2013-10-01_2021-05-18-CoinDesk.csv’\n",
            "\n",
            "\r          BTC_USD_2   0%[                    ]       0  --.-KB/s               \rBTC_USD_2013-10-01_ 100%[===================>] 174.33K  --.-KB/s    in 0.004s  \n",
            "\n",
            "2024-06-28 16:19:44 (37.9 MB/s) - ‘BTC_USD_2013-10-01_2021-05-18-CoinDesk.csv’ saved [178509/178509]\n",
            "\n"
          ]
        }
      ]
    },
    {
      "cell_type": "code",
      "source": [
        "df = pd.read_csv(\"BTC_USD_2013-10-01_2021-05-18-CoinDesk.csv\", parse_dates=[\"Date\"], index_col=[\"Date\"])"
      ],
      "metadata": {
        "id": "ggnjlRFtK3fS"
      },
      "execution_count": 3,
      "outputs": []
    },
    {
      "cell_type": "code",
      "source": [
        "df"
      ],
      "metadata": {
        "colab": {
          "base_uri": "https://localhost:8080/",
          "height": 454
        },
        "id": "NH0fmtcuK9W7",
        "outputId": "4d86cc75-06ad-4718-89d0-9441a5356702"
      },
      "execution_count": 4,
      "outputs": [
        {
          "output_type": "execute_result",
          "data": {
            "text/plain": [
              "           Currency  Closing Price (USD)  24h Open (USD)  24h High (USD)  \\\n",
              "Date                                                                       \n",
              "2013-10-01      BTC           123.654990      124.304660      124.751660   \n",
              "2013-10-02      BTC           125.455000      123.654990      125.758500   \n",
              "2013-10-03      BTC           108.584830      125.455000      125.665660   \n",
              "2013-10-04      BTC           118.674660      108.584830      118.675000   \n",
              "2013-10-05      BTC           121.338660      118.674660      121.936330   \n",
              "...             ...                  ...             ...             ...   \n",
              "2021-05-14      BTC         49764.132082    49596.778891    51448.798576   \n",
              "2021-05-15      BTC         50032.693137    49717.354353    51578.312545   \n",
              "2021-05-16      BTC         47885.625255    49926.035067    50690.802950   \n",
              "2021-05-17      BTC         45604.615754    46805.537852    49670.414174   \n",
              "2021-05-18      BTC         43144.471291    46439.336570    46622.853437   \n",
              "\n",
              "            24h Low (USD)  \n",
              "Date                       \n",
              "2013-10-01     122.563490  \n",
              "2013-10-02     123.633830  \n",
              "2013-10-03      83.328330  \n",
              "2013-10-04     107.058160  \n",
              "2013-10-05     118.005660  \n",
              "...                   ...  \n",
              "2021-05-14   46294.720180  \n",
              "2021-05-15   48944.346536  \n",
              "2021-05-16   47005.102292  \n",
              "2021-05-17   43868.638969  \n",
              "2021-05-18   42102.346430  \n",
              "\n",
              "[2787 rows x 5 columns]"
            ],
            "text/html": [
              "\n",
              "  <div id=\"df-73ec90d2-9bfc-42d9-9887-74f55552e9a3\" class=\"colab-df-container\">\n",
              "    <div>\n",
              "<style scoped>\n",
              "    .dataframe tbody tr th:only-of-type {\n",
              "        vertical-align: middle;\n",
              "    }\n",
              "\n",
              "    .dataframe tbody tr th {\n",
              "        vertical-align: top;\n",
              "    }\n",
              "\n",
              "    .dataframe thead th {\n",
              "        text-align: right;\n",
              "    }\n",
              "</style>\n",
              "<table border=\"1\" class=\"dataframe\">\n",
              "  <thead>\n",
              "    <tr style=\"text-align: right;\">\n",
              "      <th></th>\n",
              "      <th>Currency</th>\n",
              "      <th>Closing Price (USD)</th>\n",
              "      <th>24h Open (USD)</th>\n",
              "      <th>24h High (USD)</th>\n",
              "      <th>24h Low (USD)</th>\n",
              "    </tr>\n",
              "    <tr>\n",
              "      <th>Date</th>\n",
              "      <th></th>\n",
              "      <th></th>\n",
              "      <th></th>\n",
              "      <th></th>\n",
              "      <th></th>\n",
              "    </tr>\n",
              "  </thead>\n",
              "  <tbody>\n",
              "    <tr>\n",
              "      <th>2013-10-01</th>\n",
              "      <td>BTC</td>\n",
              "      <td>123.654990</td>\n",
              "      <td>124.304660</td>\n",
              "      <td>124.751660</td>\n",
              "      <td>122.563490</td>\n",
              "    </tr>\n",
              "    <tr>\n",
              "      <th>2013-10-02</th>\n",
              "      <td>BTC</td>\n",
              "      <td>125.455000</td>\n",
              "      <td>123.654990</td>\n",
              "      <td>125.758500</td>\n",
              "      <td>123.633830</td>\n",
              "    </tr>\n",
              "    <tr>\n",
              "      <th>2013-10-03</th>\n",
              "      <td>BTC</td>\n",
              "      <td>108.584830</td>\n",
              "      <td>125.455000</td>\n",
              "      <td>125.665660</td>\n",
              "      <td>83.328330</td>\n",
              "    </tr>\n",
              "    <tr>\n",
              "      <th>2013-10-04</th>\n",
              "      <td>BTC</td>\n",
              "      <td>118.674660</td>\n",
              "      <td>108.584830</td>\n",
              "      <td>118.675000</td>\n",
              "      <td>107.058160</td>\n",
              "    </tr>\n",
              "    <tr>\n",
              "      <th>2013-10-05</th>\n",
              "      <td>BTC</td>\n",
              "      <td>121.338660</td>\n",
              "      <td>118.674660</td>\n",
              "      <td>121.936330</td>\n",
              "      <td>118.005660</td>\n",
              "    </tr>\n",
              "    <tr>\n",
              "      <th>...</th>\n",
              "      <td>...</td>\n",
              "      <td>...</td>\n",
              "      <td>...</td>\n",
              "      <td>...</td>\n",
              "      <td>...</td>\n",
              "    </tr>\n",
              "    <tr>\n",
              "      <th>2021-05-14</th>\n",
              "      <td>BTC</td>\n",
              "      <td>49764.132082</td>\n",
              "      <td>49596.778891</td>\n",
              "      <td>51448.798576</td>\n",
              "      <td>46294.720180</td>\n",
              "    </tr>\n",
              "    <tr>\n",
              "      <th>2021-05-15</th>\n",
              "      <td>BTC</td>\n",
              "      <td>50032.693137</td>\n",
              "      <td>49717.354353</td>\n",
              "      <td>51578.312545</td>\n",
              "      <td>48944.346536</td>\n",
              "    </tr>\n",
              "    <tr>\n",
              "      <th>2021-05-16</th>\n",
              "      <td>BTC</td>\n",
              "      <td>47885.625255</td>\n",
              "      <td>49926.035067</td>\n",
              "      <td>50690.802950</td>\n",
              "      <td>47005.102292</td>\n",
              "    </tr>\n",
              "    <tr>\n",
              "      <th>2021-05-17</th>\n",
              "      <td>BTC</td>\n",
              "      <td>45604.615754</td>\n",
              "      <td>46805.537852</td>\n",
              "      <td>49670.414174</td>\n",
              "      <td>43868.638969</td>\n",
              "    </tr>\n",
              "    <tr>\n",
              "      <th>2021-05-18</th>\n",
              "      <td>BTC</td>\n",
              "      <td>43144.471291</td>\n",
              "      <td>46439.336570</td>\n",
              "      <td>46622.853437</td>\n",
              "      <td>42102.346430</td>\n",
              "    </tr>\n",
              "  </tbody>\n",
              "</table>\n",
              "<p>2787 rows × 5 columns</p>\n",
              "</div>\n",
              "    <div class=\"colab-df-buttons\">\n",
              "\n",
              "  <div class=\"colab-df-container\">\n",
              "    <button class=\"colab-df-convert\" onclick=\"convertToInteractive('df-73ec90d2-9bfc-42d9-9887-74f55552e9a3')\"\n",
              "            title=\"Convert this dataframe to an interactive table.\"\n",
              "            style=\"display:none;\">\n",
              "\n",
              "  <svg xmlns=\"http://www.w3.org/2000/svg\" height=\"24px\" viewBox=\"0 -960 960 960\">\n",
              "    <path d=\"M120-120v-720h720v720H120Zm60-500h600v-160H180v160Zm220 220h160v-160H400v160Zm0 220h160v-160H400v160ZM180-400h160v-160H180v160Zm440 0h160v-160H620v160ZM180-180h160v-160H180v160Zm440 0h160v-160H620v160Z\"/>\n",
              "  </svg>\n",
              "    </button>\n",
              "\n",
              "  <style>\n",
              "    .colab-df-container {\n",
              "      display:flex;\n",
              "      gap: 12px;\n",
              "    }\n",
              "\n",
              "    .colab-df-convert {\n",
              "      background-color: #E8F0FE;\n",
              "      border: none;\n",
              "      border-radius: 50%;\n",
              "      cursor: pointer;\n",
              "      display: none;\n",
              "      fill: #1967D2;\n",
              "      height: 32px;\n",
              "      padding: 0 0 0 0;\n",
              "      width: 32px;\n",
              "    }\n",
              "\n",
              "    .colab-df-convert:hover {\n",
              "      background-color: #E2EBFA;\n",
              "      box-shadow: 0px 1px 2px rgba(60, 64, 67, 0.3), 0px 1px 3px 1px rgba(60, 64, 67, 0.15);\n",
              "      fill: #174EA6;\n",
              "    }\n",
              "\n",
              "    .colab-df-buttons div {\n",
              "      margin-bottom: 4px;\n",
              "    }\n",
              "\n",
              "    [theme=dark] .colab-df-convert {\n",
              "      background-color: #3B4455;\n",
              "      fill: #D2E3FC;\n",
              "    }\n",
              "\n",
              "    [theme=dark] .colab-df-convert:hover {\n",
              "      background-color: #434B5C;\n",
              "      box-shadow: 0px 1px 3px 1px rgba(0, 0, 0, 0.15);\n",
              "      filter: drop-shadow(0px 1px 2px rgba(0, 0, 0, 0.3));\n",
              "      fill: #FFFFFF;\n",
              "    }\n",
              "  </style>\n",
              "\n",
              "    <script>\n",
              "      const buttonEl =\n",
              "        document.querySelector('#df-73ec90d2-9bfc-42d9-9887-74f55552e9a3 button.colab-df-convert');\n",
              "      buttonEl.style.display =\n",
              "        google.colab.kernel.accessAllowed ? 'block' : 'none';\n",
              "\n",
              "      async function convertToInteractive(key) {\n",
              "        const element = document.querySelector('#df-73ec90d2-9bfc-42d9-9887-74f55552e9a3');\n",
              "        const dataTable =\n",
              "          await google.colab.kernel.invokeFunction('convertToInteractive',\n",
              "                                                    [key], {});\n",
              "        if (!dataTable) return;\n",
              "\n",
              "        const docLinkHtml = 'Like what you see? Visit the ' +\n",
              "          '<a target=\"_blank\" href=https://colab.research.google.com/notebooks/data_table.ipynb>data table notebook</a>'\n",
              "          + ' to learn more about interactive tables.';\n",
              "        element.innerHTML = '';\n",
              "        dataTable['output_type'] = 'display_data';\n",
              "        await google.colab.output.renderOutput(dataTable, element);\n",
              "        const docLink = document.createElement('div');\n",
              "        docLink.innerHTML = docLinkHtml;\n",
              "        element.appendChild(docLink);\n",
              "      }\n",
              "    </script>\n",
              "  </div>\n",
              "\n",
              "\n",
              "<div id=\"df-10e13bbb-559b-4765-b94a-7eee8a8f3957\">\n",
              "  <button class=\"colab-df-quickchart\" onclick=\"quickchart('df-10e13bbb-559b-4765-b94a-7eee8a8f3957')\"\n",
              "            title=\"Suggest charts\"\n",
              "            style=\"display:none;\">\n",
              "\n",
              "<svg xmlns=\"http://www.w3.org/2000/svg\" height=\"24px\"viewBox=\"0 0 24 24\"\n",
              "     width=\"24px\">\n",
              "    <g>\n",
              "        <path d=\"M19 3H5c-1.1 0-2 .9-2 2v14c0 1.1.9 2 2 2h14c1.1 0 2-.9 2-2V5c0-1.1-.9-2-2-2zM9 17H7v-7h2v7zm4 0h-2V7h2v10zm4 0h-2v-4h2v4z\"/>\n",
              "    </g>\n",
              "</svg>\n",
              "  </button>\n",
              "\n",
              "<style>\n",
              "  .colab-df-quickchart {\n",
              "      --bg-color: #E8F0FE;\n",
              "      --fill-color: #1967D2;\n",
              "      --hover-bg-color: #E2EBFA;\n",
              "      --hover-fill-color: #174EA6;\n",
              "      --disabled-fill-color: #AAA;\n",
              "      --disabled-bg-color: #DDD;\n",
              "  }\n",
              "\n",
              "  [theme=dark] .colab-df-quickchart {\n",
              "      --bg-color: #3B4455;\n",
              "      --fill-color: #D2E3FC;\n",
              "      --hover-bg-color: #434B5C;\n",
              "      --hover-fill-color: #FFFFFF;\n",
              "      --disabled-bg-color: #3B4455;\n",
              "      --disabled-fill-color: #666;\n",
              "  }\n",
              "\n",
              "  .colab-df-quickchart {\n",
              "    background-color: var(--bg-color);\n",
              "    border: none;\n",
              "    border-radius: 50%;\n",
              "    cursor: pointer;\n",
              "    display: none;\n",
              "    fill: var(--fill-color);\n",
              "    height: 32px;\n",
              "    padding: 0;\n",
              "    width: 32px;\n",
              "  }\n",
              "\n",
              "  .colab-df-quickchart:hover {\n",
              "    background-color: var(--hover-bg-color);\n",
              "    box-shadow: 0 1px 2px rgba(60, 64, 67, 0.3), 0 1px 3px 1px rgba(60, 64, 67, 0.15);\n",
              "    fill: var(--button-hover-fill-color);\n",
              "  }\n",
              "\n",
              "  .colab-df-quickchart-complete:disabled,\n",
              "  .colab-df-quickchart-complete:disabled:hover {\n",
              "    background-color: var(--disabled-bg-color);\n",
              "    fill: var(--disabled-fill-color);\n",
              "    box-shadow: none;\n",
              "  }\n",
              "\n",
              "  .colab-df-spinner {\n",
              "    border: 2px solid var(--fill-color);\n",
              "    border-color: transparent;\n",
              "    border-bottom-color: var(--fill-color);\n",
              "    animation:\n",
              "      spin 1s steps(1) infinite;\n",
              "  }\n",
              "\n",
              "  @keyframes spin {\n",
              "    0% {\n",
              "      border-color: transparent;\n",
              "      border-bottom-color: var(--fill-color);\n",
              "      border-left-color: var(--fill-color);\n",
              "    }\n",
              "    20% {\n",
              "      border-color: transparent;\n",
              "      border-left-color: var(--fill-color);\n",
              "      border-top-color: var(--fill-color);\n",
              "    }\n",
              "    30% {\n",
              "      border-color: transparent;\n",
              "      border-left-color: var(--fill-color);\n",
              "      border-top-color: var(--fill-color);\n",
              "      border-right-color: var(--fill-color);\n",
              "    }\n",
              "    40% {\n",
              "      border-color: transparent;\n",
              "      border-right-color: var(--fill-color);\n",
              "      border-top-color: var(--fill-color);\n",
              "    }\n",
              "    60% {\n",
              "      border-color: transparent;\n",
              "      border-right-color: var(--fill-color);\n",
              "    }\n",
              "    80% {\n",
              "      border-color: transparent;\n",
              "      border-right-color: var(--fill-color);\n",
              "      border-bottom-color: var(--fill-color);\n",
              "    }\n",
              "    90% {\n",
              "      border-color: transparent;\n",
              "      border-bottom-color: var(--fill-color);\n",
              "    }\n",
              "  }\n",
              "</style>\n",
              "\n",
              "  <script>\n",
              "    async function quickchart(key) {\n",
              "      const quickchartButtonEl =\n",
              "        document.querySelector('#' + key + ' button');\n",
              "      quickchartButtonEl.disabled = true;  // To prevent multiple clicks.\n",
              "      quickchartButtonEl.classList.add('colab-df-spinner');\n",
              "      try {\n",
              "        const charts = await google.colab.kernel.invokeFunction(\n",
              "            'suggestCharts', [key], {});\n",
              "      } catch (error) {\n",
              "        console.error('Error during call to suggestCharts:', error);\n",
              "      }\n",
              "      quickchartButtonEl.classList.remove('colab-df-spinner');\n",
              "      quickchartButtonEl.classList.add('colab-df-quickchart-complete');\n",
              "    }\n",
              "    (() => {\n",
              "      let quickchartButtonEl =\n",
              "        document.querySelector('#df-10e13bbb-559b-4765-b94a-7eee8a8f3957 button');\n",
              "      quickchartButtonEl.style.display =\n",
              "        google.colab.kernel.accessAllowed ? 'block' : 'none';\n",
              "    })();\n",
              "  </script>\n",
              "</div>\n",
              "\n",
              "  <div id=\"id_5ad4c2d4-31e5-4fe6-802b-9472fd3fe195\">\n",
              "    <style>\n",
              "      .colab-df-generate {\n",
              "        background-color: #E8F0FE;\n",
              "        border: none;\n",
              "        border-radius: 50%;\n",
              "        cursor: pointer;\n",
              "        display: none;\n",
              "        fill: #1967D2;\n",
              "        height: 32px;\n",
              "        padding: 0 0 0 0;\n",
              "        width: 32px;\n",
              "      }\n",
              "\n",
              "      .colab-df-generate:hover {\n",
              "        background-color: #E2EBFA;\n",
              "        box-shadow: 0px 1px 2px rgba(60, 64, 67, 0.3), 0px 1px 3px 1px rgba(60, 64, 67, 0.15);\n",
              "        fill: #174EA6;\n",
              "      }\n",
              "\n",
              "      [theme=dark] .colab-df-generate {\n",
              "        background-color: #3B4455;\n",
              "        fill: #D2E3FC;\n",
              "      }\n",
              "\n",
              "      [theme=dark] .colab-df-generate:hover {\n",
              "        background-color: #434B5C;\n",
              "        box-shadow: 0px 1px 3px 1px rgba(0, 0, 0, 0.15);\n",
              "        filter: drop-shadow(0px 1px 2px rgba(0, 0, 0, 0.3));\n",
              "        fill: #FFFFFF;\n",
              "      }\n",
              "    </style>\n",
              "    <button class=\"colab-df-generate\" onclick=\"generateWithVariable('df')\"\n",
              "            title=\"Generate code using this dataframe.\"\n",
              "            style=\"display:none;\">\n",
              "\n",
              "  <svg xmlns=\"http://www.w3.org/2000/svg\" height=\"24px\"viewBox=\"0 0 24 24\"\n",
              "       width=\"24px\">\n",
              "    <path d=\"M7,19H8.4L18.45,9,17,7.55,7,17.6ZM5,21V16.75L18.45,3.32a2,2,0,0,1,2.83,0l1.4,1.43a1.91,1.91,0,0,1,.58,1.4,1.91,1.91,0,0,1-.58,1.4L9.25,21ZM18.45,9,17,7.55Zm-12,3A5.31,5.31,0,0,0,4.9,8.1,5.31,5.31,0,0,0,1,6.5,5.31,5.31,0,0,0,4.9,4.9,5.31,5.31,0,0,0,6.5,1,5.31,5.31,0,0,0,8.1,4.9,5.31,5.31,0,0,0,12,6.5,5.46,5.46,0,0,0,6.5,12Z\"/>\n",
              "  </svg>\n",
              "    </button>\n",
              "    <script>\n",
              "      (() => {\n",
              "      const buttonEl =\n",
              "        document.querySelector('#id_5ad4c2d4-31e5-4fe6-802b-9472fd3fe195 button.colab-df-generate');\n",
              "      buttonEl.style.display =\n",
              "        google.colab.kernel.accessAllowed ? 'block' : 'none';\n",
              "\n",
              "      buttonEl.onclick = () => {\n",
              "        google.colab.notebook.generateWithVariable('df');\n",
              "      }\n",
              "      })();\n",
              "    </script>\n",
              "  </div>\n",
              "\n",
              "    </div>\n",
              "  </div>\n"
            ],
            "application/vnd.google.colaboratory.intrinsic+json": {
              "type": "dataframe",
              "variable_name": "df",
              "summary": "{\n  \"name\": \"df\",\n  \"rows\": 2787,\n  \"fields\": [\n    {\n      \"column\": \"Date\",\n      \"properties\": {\n        \"dtype\": \"date\",\n        \"min\": \"2013-10-01 00:00:00\",\n        \"max\": \"2021-05-18 00:00:00\",\n        \"num_unique_values\": 2787,\n        \"samples\": [\n          \"2019-06-11 00:00:00\",\n          \"2021-05-03 00:00:00\",\n          \"2017-10-05 00:00:00\"\n        ],\n        \"semantic_type\": \"\",\n        \"description\": \"\"\n      }\n    },\n    {\n      \"column\": \"Currency\",\n      \"properties\": {\n        \"dtype\": \"category\",\n        \"num_unique_values\": 1,\n        \"samples\": [\n          \"BTC\"\n        ],\n        \"semantic_type\": \"\",\n        \"description\": \"\"\n      }\n    },\n    {\n      \"column\": \"Closing Price (USD)\",\n      \"properties\": {\n        \"dtype\": \"number\",\n        \"std\": 10887.84744436952,\n        \"min\": 108.58483,\n        \"max\": 63346.7890351052,\n        \"num_unique_values\": 2787,\n        \"samples\": [\n          7954.0062377205\n        ],\n        \"semantic_type\": \"\",\n        \"description\": \"\"\n      }\n    },\n    {\n      \"column\": \"24h Open (USD)\",\n      \"properties\": {\n        \"dtype\": \"number\",\n        \"std\": 10863.80077212387,\n        \"min\": 108.58483,\n        \"max\": 63562.6735446382,\n        \"num_unique_values\": 2787,\n        \"samples\": [\n          7600.9225047785\n        ],\n        \"semantic_type\": \"\",\n        \"description\": \"\"\n      }\n    },\n    {\n      \"column\": \"24h High (USD)\",\n      \"properties\": {\n        \"dtype\": \"number\",\n        \"std\": 11206.779756254151,\n        \"min\": 118.675,\n        \"max\": 64801.787869525,\n        \"num_unique_values\": 2787,\n        \"samples\": [\n          8064.9001353225\n        ],\n        \"semantic_type\": \"\",\n        \"description\": \"\"\n      }\n    },\n    {\n      \"column\": \"24h Low (USD)\",\n      \"properties\": {\n        \"dtype\": \"number\",\n        \"std\": 10475.8112518284,\n        \"min\": 83.32833,\n        \"max\": 62094.6329143272,\n        \"num_unique_values\": 2785,\n        \"samples\": [\n          7714.610306452\n        ],\n        \"semantic_type\": \"\",\n        \"description\": \"\"\n      }\n    }\n  ]\n}"
            }
          },
          "metadata": {},
          "execution_count": 4
        }
      ]
    },
    {
      "cell_type": "code",
      "source": [
        "bitcoin_prices = pd.DataFrame(df['Closing Price (USD)']).rename(columns={\"Closing Price (USD)\": \"Price\"})"
      ],
      "metadata": {
        "id": "Lhbrx0raK95a"
      },
      "execution_count": 5,
      "outputs": []
    },
    {
      "cell_type": "code",
      "source": [
        "bitcoin_prices.head()"
      ],
      "metadata": {
        "colab": {
          "base_uri": "https://localhost:8080/",
          "height": 237
        },
        "id": "B2wZDxRz2mfP",
        "outputId": "477ccb1a-dcd0-436c-bd14-176d8a77a463"
      },
      "execution_count": 6,
      "outputs": [
        {
          "output_type": "execute_result",
          "data": {
            "text/plain": [
              "                Price\n",
              "Date                 \n",
              "2013-10-01  123.65499\n",
              "2013-10-02  125.45500\n",
              "2013-10-03  108.58483\n",
              "2013-10-04  118.67466\n",
              "2013-10-05  121.33866"
            ],
            "text/html": [
              "\n",
              "  <div id=\"df-2bd703d4-8c6a-43a9-8f45-ed9148ce2aeb\" class=\"colab-df-container\">\n",
              "    <div>\n",
              "<style scoped>\n",
              "    .dataframe tbody tr th:only-of-type {\n",
              "        vertical-align: middle;\n",
              "    }\n",
              "\n",
              "    .dataframe tbody tr th {\n",
              "        vertical-align: top;\n",
              "    }\n",
              "\n",
              "    .dataframe thead th {\n",
              "        text-align: right;\n",
              "    }\n",
              "</style>\n",
              "<table border=\"1\" class=\"dataframe\">\n",
              "  <thead>\n",
              "    <tr style=\"text-align: right;\">\n",
              "      <th></th>\n",
              "      <th>Price</th>\n",
              "    </tr>\n",
              "    <tr>\n",
              "      <th>Date</th>\n",
              "      <th></th>\n",
              "    </tr>\n",
              "  </thead>\n",
              "  <tbody>\n",
              "    <tr>\n",
              "      <th>2013-10-01</th>\n",
              "      <td>123.65499</td>\n",
              "    </tr>\n",
              "    <tr>\n",
              "      <th>2013-10-02</th>\n",
              "      <td>125.45500</td>\n",
              "    </tr>\n",
              "    <tr>\n",
              "      <th>2013-10-03</th>\n",
              "      <td>108.58483</td>\n",
              "    </tr>\n",
              "    <tr>\n",
              "      <th>2013-10-04</th>\n",
              "      <td>118.67466</td>\n",
              "    </tr>\n",
              "    <tr>\n",
              "      <th>2013-10-05</th>\n",
              "      <td>121.33866</td>\n",
              "    </tr>\n",
              "  </tbody>\n",
              "</table>\n",
              "</div>\n",
              "    <div class=\"colab-df-buttons\">\n",
              "\n",
              "  <div class=\"colab-df-container\">\n",
              "    <button class=\"colab-df-convert\" onclick=\"convertToInteractive('df-2bd703d4-8c6a-43a9-8f45-ed9148ce2aeb')\"\n",
              "            title=\"Convert this dataframe to an interactive table.\"\n",
              "            style=\"display:none;\">\n",
              "\n",
              "  <svg xmlns=\"http://www.w3.org/2000/svg\" height=\"24px\" viewBox=\"0 -960 960 960\">\n",
              "    <path d=\"M120-120v-720h720v720H120Zm60-500h600v-160H180v160Zm220 220h160v-160H400v160Zm0 220h160v-160H400v160ZM180-400h160v-160H180v160Zm440 0h160v-160H620v160ZM180-180h160v-160H180v160Zm440 0h160v-160H620v160Z\"/>\n",
              "  </svg>\n",
              "    </button>\n",
              "\n",
              "  <style>\n",
              "    .colab-df-container {\n",
              "      display:flex;\n",
              "      gap: 12px;\n",
              "    }\n",
              "\n",
              "    .colab-df-convert {\n",
              "      background-color: #E8F0FE;\n",
              "      border: none;\n",
              "      border-radius: 50%;\n",
              "      cursor: pointer;\n",
              "      display: none;\n",
              "      fill: #1967D2;\n",
              "      height: 32px;\n",
              "      padding: 0 0 0 0;\n",
              "      width: 32px;\n",
              "    }\n",
              "\n",
              "    .colab-df-convert:hover {\n",
              "      background-color: #E2EBFA;\n",
              "      box-shadow: 0px 1px 2px rgba(60, 64, 67, 0.3), 0px 1px 3px 1px rgba(60, 64, 67, 0.15);\n",
              "      fill: #174EA6;\n",
              "    }\n",
              "\n",
              "    .colab-df-buttons div {\n",
              "      margin-bottom: 4px;\n",
              "    }\n",
              "\n",
              "    [theme=dark] .colab-df-convert {\n",
              "      background-color: #3B4455;\n",
              "      fill: #D2E3FC;\n",
              "    }\n",
              "\n",
              "    [theme=dark] .colab-df-convert:hover {\n",
              "      background-color: #434B5C;\n",
              "      box-shadow: 0px 1px 3px 1px rgba(0, 0, 0, 0.15);\n",
              "      filter: drop-shadow(0px 1px 2px rgba(0, 0, 0, 0.3));\n",
              "      fill: #FFFFFF;\n",
              "    }\n",
              "  </style>\n",
              "\n",
              "    <script>\n",
              "      const buttonEl =\n",
              "        document.querySelector('#df-2bd703d4-8c6a-43a9-8f45-ed9148ce2aeb button.colab-df-convert');\n",
              "      buttonEl.style.display =\n",
              "        google.colab.kernel.accessAllowed ? 'block' : 'none';\n",
              "\n",
              "      async function convertToInteractive(key) {\n",
              "        const element = document.querySelector('#df-2bd703d4-8c6a-43a9-8f45-ed9148ce2aeb');\n",
              "        const dataTable =\n",
              "          await google.colab.kernel.invokeFunction('convertToInteractive',\n",
              "                                                    [key], {});\n",
              "        if (!dataTable) return;\n",
              "\n",
              "        const docLinkHtml = 'Like what you see? Visit the ' +\n",
              "          '<a target=\"_blank\" href=https://colab.research.google.com/notebooks/data_table.ipynb>data table notebook</a>'\n",
              "          + ' to learn more about interactive tables.';\n",
              "        element.innerHTML = '';\n",
              "        dataTable['output_type'] = 'display_data';\n",
              "        await google.colab.output.renderOutput(dataTable, element);\n",
              "        const docLink = document.createElement('div');\n",
              "        docLink.innerHTML = docLinkHtml;\n",
              "        element.appendChild(docLink);\n",
              "      }\n",
              "    </script>\n",
              "  </div>\n",
              "\n",
              "\n",
              "<div id=\"df-3fdf1728-cfbb-47ab-a0c1-b5204aa69748\">\n",
              "  <button class=\"colab-df-quickchart\" onclick=\"quickchart('df-3fdf1728-cfbb-47ab-a0c1-b5204aa69748')\"\n",
              "            title=\"Suggest charts\"\n",
              "            style=\"display:none;\">\n",
              "\n",
              "<svg xmlns=\"http://www.w3.org/2000/svg\" height=\"24px\"viewBox=\"0 0 24 24\"\n",
              "     width=\"24px\">\n",
              "    <g>\n",
              "        <path d=\"M19 3H5c-1.1 0-2 .9-2 2v14c0 1.1.9 2 2 2h14c1.1 0 2-.9 2-2V5c0-1.1-.9-2-2-2zM9 17H7v-7h2v7zm4 0h-2V7h2v10zm4 0h-2v-4h2v4z\"/>\n",
              "    </g>\n",
              "</svg>\n",
              "  </button>\n",
              "\n",
              "<style>\n",
              "  .colab-df-quickchart {\n",
              "      --bg-color: #E8F0FE;\n",
              "      --fill-color: #1967D2;\n",
              "      --hover-bg-color: #E2EBFA;\n",
              "      --hover-fill-color: #174EA6;\n",
              "      --disabled-fill-color: #AAA;\n",
              "      --disabled-bg-color: #DDD;\n",
              "  }\n",
              "\n",
              "  [theme=dark] .colab-df-quickchart {\n",
              "      --bg-color: #3B4455;\n",
              "      --fill-color: #D2E3FC;\n",
              "      --hover-bg-color: #434B5C;\n",
              "      --hover-fill-color: #FFFFFF;\n",
              "      --disabled-bg-color: #3B4455;\n",
              "      --disabled-fill-color: #666;\n",
              "  }\n",
              "\n",
              "  .colab-df-quickchart {\n",
              "    background-color: var(--bg-color);\n",
              "    border: none;\n",
              "    border-radius: 50%;\n",
              "    cursor: pointer;\n",
              "    display: none;\n",
              "    fill: var(--fill-color);\n",
              "    height: 32px;\n",
              "    padding: 0;\n",
              "    width: 32px;\n",
              "  }\n",
              "\n",
              "  .colab-df-quickchart:hover {\n",
              "    background-color: var(--hover-bg-color);\n",
              "    box-shadow: 0 1px 2px rgba(60, 64, 67, 0.3), 0 1px 3px 1px rgba(60, 64, 67, 0.15);\n",
              "    fill: var(--button-hover-fill-color);\n",
              "  }\n",
              "\n",
              "  .colab-df-quickchart-complete:disabled,\n",
              "  .colab-df-quickchart-complete:disabled:hover {\n",
              "    background-color: var(--disabled-bg-color);\n",
              "    fill: var(--disabled-fill-color);\n",
              "    box-shadow: none;\n",
              "  }\n",
              "\n",
              "  .colab-df-spinner {\n",
              "    border: 2px solid var(--fill-color);\n",
              "    border-color: transparent;\n",
              "    border-bottom-color: var(--fill-color);\n",
              "    animation:\n",
              "      spin 1s steps(1) infinite;\n",
              "  }\n",
              "\n",
              "  @keyframes spin {\n",
              "    0% {\n",
              "      border-color: transparent;\n",
              "      border-bottom-color: var(--fill-color);\n",
              "      border-left-color: var(--fill-color);\n",
              "    }\n",
              "    20% {\n",
              "      border-color: transparent;\n",
              "      border-left-color: var(--fill-color);\n",
              "      border-top-color: var(--fill-color);\n",
              "    }\n",
              "    30% {\n",
              "      border-color: transparent;\n",
              "      border-left-color: var(--fill-color);\n",
              "      border-top-color: var(--fill-color);\n",
              "      border-right-color: var(--fill-color);\n",
              "    }\n",
              "    40% {\n",
              "      border-color: transparent;\n",
              "      border-right-color: var(--fill-color);\n",
              "      border-top-color: var(--fill-color);\n",
              "    }\n",
              "    60% {\n",
              "      border-color: transparent;\n",
              "      border-right-color: var(--fill-color);\n",
              "    }\n",
              "    80% {\n",
              "      border-color: transparent;\n",
              "      border-right-color: var(--fill-color);\n",
              "      border-bottom-color: var(--fill-color);\n",
              "    }\n",
              "    90% {\n",
              "      border-color: transparent;\n",
              "      border-bottom-color: var(--fill-color);\n",
              "    }\n",
              "  }\n",
              "</style>\n",
              "\n",
              "  <script>\n",
              "    async function quickchart(key) {\n",
              "      const quickchartButtonEl =\n",
              "        document.querySelector('#' + key + ' button');\n",
              "      quickchartButtonEl.disabled = true;  // To prevent multiple clicks.\n",
              "      quickchartButtonEl.classList.add('colab-df-spinner');\n",
              "      try {\n",
              "        const charts = await google.colab.kernel.invokeFunction(\n",
              "            'suggestCharts', [key], {});\n",
              "      } catch (error) {\n",
              "        console.error('Error during call to suggestCharts:', error);\n",
              "      }\n",
              "      quickchartButtonEl.classList.remove('colab-df-spinner');\n",
              "      quickchartButtonEl.classList.add('colab-df-quickchart-complete');\n",
              "    }\n",
              "    (() => {\n",
              "      let quickchartButtonEl =\n",
              "        document.querySelector('#df-3fdf1728-cfbb-47ab-a0c1-b5204aa69748 button');\n",
              "      quickchartButtonEl.style.display =\n",
              "        google.colab.kernel.accessAllowed ? 'block' : 'none';\n",
              "    })();\n",
              "  </script>\n",
              "</div>\n",
              "\n",
              "    </div>\n",
              "  </div>\n"
            ],
            "application/vnd.google.colaboratory.intrinsic+json": {
              "type": "dataframe",
              "variable_name": "bitcoin_prices",
              "summary": "{\n  \"name\": \"bitcoin_prices\",\n  \"rows\": 2787,\n  \"fields\": [\n    {\n      \"column\": \"Date\",\n      \"properties\": {\n        \"dtype\": \"date\",\n        \"min\": \"2013-10-01 00:00:00\",\n        \"max\": \"2021-05-18 00:00:00\",\n        \"num_unique_values\": 2787,\n        \"samples\": [\n          \"2019-06-11 00:00:00\",\n          \"2021-05-03 00:00:00\",\n          \"2017-10-05 00:00:00\"\n        ],\n        \"semantic_type\": \"\",\n        \"description\": \"\"\n      }\n    },\n    {\n      \"column\": \"Price\",\n      \"properties\": {\n        \"dtype\": \"number\",\n        \"std\": 10887.84744436952,\n        \"min\": 108.58483,\n        \"max\": 63346.7890351052,\n        \"num_unique_values\": 2787,\n        \"samples\": [\n          7954.0062377205,\n          56427.0431250152,\n          4186.78374\n        ],\n        \"semantic_type\": \"\",\n        \"description\": \"\"\n      }\n    }\n  ]\n}"
            }
          },
          "metadata": {},
          "execution_count": 6
        }
      ]
    },
    {
      "cell_type": "code",
      "source": [
        "timesteps = bitcoin_prices.index.to_numpy()\n",
        "prices = bitcoin_prices[\"Price\"].to_numpy()\n",
        "\n",
        "timesteps[:10], prices[:10]"
      ],
      "metadata": {
        "colab": {
          "base_uri": "https://localhost:8080/"
        },
        "id": "yB4_zdVu0nb4",
        "outputId": "98f426a3-50a8-48b9-8c34-9823fcc5d180"
      },
      "execution_count": 71,
      "outputs": [
        {
          "output_type": "execute_result",
          "data": {
            "text/plain": [
              "(array(['2013-10-01T00:00:00.000000000', '2013-10-02T00:00:00.000000000',\n",
              "        '2013-10-03T00:00:00.000000000', '2013-10-04T00:00:00.000000000',\n",
              "        '2013-10-05T00:00:00.000000000', '2013-10-06T00:00:00.000000000',\n",
              "        '2013-10-07T00:00:00.000000000', '2013-10-08T00:00:00.000000000',\n",
              "        '2013-10-09T00:00:00.000000000', '2013-10-10T00:00:00.000000000'],\n",
              "       dtype='datetime64[ns]'),\n",
              " array([123.65499, 125.455  , 108.58483, 118.67466, 121.33866, 120.65533,\n",
              "        121.795  , 123.033  , 124.049  , 125.96116]))"
            ]
          },
          "metadata": {},
          "execution_count": 71
        }
      ]
    },
    {
      "cell_type": "code",
      "source": [
        "bitcoin_prices.plot(figsize=(10, 7))\n",
        "plt.ylabel(\"BTC Price\")\n",
        "plt.title(\"Price of Bitcoin from 1 Oct 2013 to 18 May 2021\", fontsize=16)\n",
        "plt.legend(fontsize=14);"
      ],
      "metadata": {
        "colab": {
          "base_uri": "https://localhost:8080/",
          "height": 643
        },
        "id": "bkNqqQwR2vXZ",
        "outputId": "9a1021f0-edfd-4673-b87f-450e1af4ae12"
      },
      "execution_count": 7,
      "outputs": [
        {
          "output_type": "display_data",
          "data": {
            "text/plain": [
              "<Figure size 1000x700 with 1 Axes>"
            ],
            "image/png": "[encoded data removed]"
          },
          "metadata": {}
        }
      ]
    },
    {
      "cell_type": "markdown",
      "source": [
        "## Importing timeseries data using pythons csv module"
      ],
      "metadata": {
        "id": "Y2VGLdJz5CSP"
      }
    },
    {
      "cell_type": "code",
      "source": [
        "import csv\n",
        "from types import new_class\n",
        "from datetime import datetime\n",
        "\n",
        "timesteps = []\n",
        "btc_price = []\n",
        "\n",
        "with open(\"BTC_USD_2013-10-01_2021-05-18-CoinDesk.csv\") as f:\n",
        "    reader = csv.reader(f)\n",
        "    next(reader)  # This will skip the header row\n",
        "    for row in reader:\n",
        "        # strptime takes string date and converts it to datetime.datetime object using format specified\n",
        "        timesteps.append(datetime.strptime(row[1], \"%Y-%m-%d\"))\n",
        "        btc_price.append(float(row[2]))"
      ],
      "metadata": {
        "id": "qV1dd_w73WrQ"
      },
      "execution_count": 8,
      "outputs": []
    },
    {
      "cell_type": "code",
      "source": [
        "print(timesteps[:10])\n",
        "print(btc_price[:10])"
      ],
      "metadata": {
        "colab": {
          "base_uri": "https://localhost:8080/"
        },
        "id": "zTYPj_jT4LgK",
        "outputId": "9f603eb6-763f-40af-bede-bffa968f2573"
      },
      "execution_count": 9,
      "outputs": [
        {
          "output_type": "stream",
          "name": "stdout",
          "text": [
            "[datetime.datetime(2013, 10, 1, 0, 0), datetime.datetime(2013, 10, 2, 0, 0), datetime.datetime(2013, 10, 3, 0, 0), datetime.datetime(2013, 10, 4, 0, 0), datetime.datetime(2013, 10, 5, 0, 0), datetime.datetime(2013, 10, 6, 0, 0), datetime.datetime(2013, 10, 7, 0, 0), datetime.datetime(2013, 10, 8, 0, 0), datetime.datetime(2013, 10, 9, 0, 0), datetime.datetime(2013, 10, 10, 0, 0)]\n",
            "[123.65499, 125.455, 108.58483, 118.67466, 121.33866, 120.65533, 121.795, 123.033, 124.049, 125.96116]\n"
          ]
        }
      ]
    },
    {
      "cell_type": "code",
      "source": [
        "plt.plot(timesteps, btc_price)\n",
        "plt.ylabel(\"BTC Price\")\n",
        "plt.title(\"Price of Bitcoin from 1 Oct 2013 to 18 May 2021\", fontsize=16)"
      ],
      "metadata": {
        "colab": {
          "base_uri": "https://localhost:8080/",
          "height": 472
        },
        "id": "rjhptMuc4hNo",
        "outputId": "f978e6d2-2db8-44b4-9243-b811f7d60354"
      },
      "execution_count": 10,
      "outputs": [
        {
          "output_type": "execute_result",
          "data": {
            "text/plain": [
              "Text(0.5, 1.0, 'Price of Bitcoin from 1 Oct 2013 to 18 May 2021')"
            ]
          },
          "metadata": {},
          "execution_count": 10
        },
        {
          "output_type": "display_data",
          "data": {
            "text/plain": [
              "<Figure size 640x480 with 1 Axes>"
            ],
            "image/png": "[encoded data removed]"
          },
          "metadata": {}
        }
      ]
    },
    {
      "cell_type": "markdown",
      "source": [
        "## Create train and test data"
      ],
      "metadata": {
        "id": "RKahRb4N6tOG"
      }
    },
    {
      "cell_type": "code",
      "source": [
        "split_size = int(0.8 * len(btc_price))\n",
        "\n",
        "X_train, y_train = timesteps[:split_size], btc_price[:split_size]\n",
        "X_test, y_test = timesteps[split_size:], btc_price[split_size:]\n",
        "\n",
        "len(X_train), len(X_test), len(y_train), len(y_test)"
      ],
      "metadata": {
        "colab": {
          "base_uri": "https://localhost:8080/"
        },
        "id": "Ic4nhQWj9G-s",
        "outputId": "237521f5-3a6b-406c-d63c-ca13f691fde7"
      },
      "execution_count": 11,
      "outputs": [
        {
          "output_type": "execute_result",
          "data": {
            "text/plain": [
              "(2229, 558, 2229, 558)"
            ]
          },
          "metadata": {},
          "execution_count": 11
        }
      ]
    },
    {
      "cell_type": "code",
      "source": [
        "def plot_time_series(timesteps, values, format='.', start=0, end=None, label=None):\n",
        "    plt.plot(timesteps[start:end], values[start:end], format, label=label)\n",
        "    plt.xlabel(\"Time\")\n",
        "    plt.ylabel(\"BTC Price\")\n",
        "    if label:\n",
        "        plt.legend(fontsize=14)\n",
        "    plt.grid(True)\n",
        "    plt.title(\"Price of Bitcoin from 1 Oct 2013 to 18 May 2021\", fontsize=16)\n",
        "    plt.show()\n",
        "\n",
        "plot_time_series(timesteps=X_train, values=y_train)"
      ],
      "metadata": {
        "colab": {
          "base_uri": "https://localhost:8080/",
          "height": 474
        },
        "id": "cBV6ukkB-HsR",
        "outputId": "dfb53f7e-591c-46c8-cf20-f42984e7d116"
      },
      "execution_count": 12,
      "outputs": [
        {
          "output_type": "display_data",
          "data": {
            "text/plain": [
              "<Figure size 640x480 with 1 Axes>"
            ],
            "image/png": "[encoded data removed]"
          },
          "metadata": {}
        }
      ]
    },
    {
      "cell_type": "markdown",
      "source": [
        "## Modeling experiments"
      ],
      "metadata": {
        "id": "5I8Yn9yI_W5Z"
      }
    },
    {
      "cell_type": "markdown",
      "source": [
        "## Model 0 - Naive Forcast (Baseline)"
      ],
      "metadata": {
        "id": "lSvG_QONCrmR"
      }
    },
    {
      "cell_type": "code",
      "source": [
        "naive_forcast = y_test[:-1]"
      ],
      "metadata": {
        "id": "y504lJfQ-UVG"
      },
      "execution_count": 13,
      "outputs": []
    },
    {
      "cell_type": "code",
      "source": [
        "naive_forcast[:10], naive_forcast[-10:]"
      ],
      "metadata": {
        "colab": {
          "base_uri": "https://localhost:8080/"
        },
        "id": "rsPooqN9DYIa",
        "outputId": "13a2cb94-560c-4f89-d344-ea400fb34e8e"
      },
      "execution_count": 14,
      "outputs": [
        {
          "output_type": "execute_result",
          "data": {
            "text/plain": [
              "([9226.4858208826,\n",
              "  8794.3586445233,\n",
              "  8798.0420546256,\n",
              "  9081.1868784913,\n",
              "  8711.5343391679,\n",
              "  8760.8927181435,\n",
              "  8749.520591019,\n",
              "  8656.970922354,\n",
              "  8500.6435581622,\n",
              "  8469.2608988992],\n",
              " [57107.1206718864,\n",
              "  58788.2096789273,\n",
              "  58102.1914262342,\n",
              "  55715.5466512869,\n",
              "  56573.5554719043,\n",
              "  52147.8211869823,\n",
              "  49764.1320815975,\n",
              "  50032.6931367648,\n",
              "  47885.6252547166,\n",
              "  45604.6157536131])"
            ]
          },
          "metadata": {},
          "execution_count": 14
        }
      ]
    },
    {
      "cell_type": "code",
      "source": [
        "y_test[-10:]"
      ],
      "metadata": {
        "colab": {
          "base_uri": "https://localhost:8080/"
        },
        "id": "M1wCgbvJDcjp",
        "outputId": "5ce99a40-f96f-4788-d844-2e40c3ca4e25"
      },
      "execution_count": 15,
      "outputs": [
        {
          "output_type": "execute_result",
          "data": {
            "text/plain": [
              "[58788.2096789273,\n",
              " 58102.1914262342,\n",
              " 55715.5466512869,\n",
              " 56573.5554719043,\n",
              " 52147.8211869823,\n",
              " 49764.1320815975,\n",
              " 50032.6931367648,\n",
              " 47885.6252547166,\n",
              " 45604.6157536131,\n",
              " 43144.4712908603]"
            ]
          },
          "metadata": {},
          "execution_count": 15
        }
      ]
    },
    {
      "cell_type": "markdown",
      "source": [
        "## Evaluating time series forecasting\n",
        "\n",
        "1. MAE\n",
        "2. MSE"
      ],
      "metadata": {
        "id": "fvAbBKHrFp6y"
      }
    },
    {
      "cell_type": "code",
      "source": [
        "import tensorflow as tf\n",
        "\n",
        "def mean_absolute_scaled_error(y_true, y_pred):\n",
        "    mae = tf.reduce_mean(tf.abs(y_true - y_pred))\n",
        "    return mae / tf.reduce_mean(tf.abs(y_true[1:] - y_true[:-1]))\n",
        "\n",
        "def mean_squared_scaled_error(y_true, y_pred):\n",
        "    mse = tf.reduce_mean(tf.square(y_true - y_pred))\n",
        "    return mse / tf.reduce_mean(tf.square(y_true))\n",
        "\n",
        "def mean_absolute_percentage_error(y_true, y_pred):\n",
        "    return tf.keras.metrics.mean_absolute(y_true, y_pred) * 100"
      ],
      "metadata": {
        "id": "i9kkvIKxEQRo"
      },
      "execution_count": 16,
      "outputs": []
    },
    {
      "cell_type": "code",
      "source": [
        "mean_absolute_scaled_error(tf.constant(y_test[1:]), tf.constant(naive_forcast)).numpy()"
      ],
      "metadata": {
        "colab": {
          "base_uri": "https://localhost:8080/"
        },
        "id": "i0h9O9ZSJOoW",
        "outputId": "0ddeb5db-fbd3-4572-e16c-b710ea56a525"
      },
      "execution_count": 17,
      "outputs": [
        {
          "output_type": "execute_result",
          "data": {
            "text/plain": [
              "0.99957"
            ]
          },
          "metadata": {},
          "execution_count": 17
        }
      ]
    },
    {
      "cell_type": "code",
      "source": [
        "def evaluate_preds(y_true, y_pred):\n",
        "  y_true = tf.cast(y_true, dtype=tf.float32)\n",
        "  y_pred = tf.cast(y_pred, dtype=tf.float32)\n",
        "  mae = tf.keras.metrics.mean_absolute_error(y_true, y_pred)\n",
        "  mse = tf.keras.metrics.mean_squared_error(y_true, y_pred)\n",
        "  rmse = tf.sqrt(mse)\n",
        "  mape = tf.keras.metrics.mean_absolute_percentage_error(y_true, y_pred)\n",
        "  return {\"mae\": mae.numpy(), \"mse\": mse.numpy(), \"rmse\": rmse.numpy(), \"mape\": mape.numpy()}\n",
        "\n",
        "\n",
        "def evaluate_preds_v2(y_true, y_pred):\n",
        "  # Make sure float32 (for metric calculations)\n",
        "  y_true = tf.cast(y_true, dtype=tf.float32)\n",
        "  y_pred = tf.cast(y_pred, dtype=tf.float32)\n",
        "\n",
        "  # Calculate various metrics\n",
        "  mae = tf.keras.metrics.mean_absolute_error(y_true, y_pred)\n",
        "  mse = tf.keras.metrics.mean_squared_error(y_true, y_pred)\n",
        "  rmse = tf.sqrt(mse)\n",
        "  mape = tf.keras.metrics.mean_absolute_percentage_error(y_true, y_pred)\n",
        "  mase = mean_absolute_scaled_error(y_true, y_pred)\n",
        "\n",
        "  # Account for different sized metrics (for longer horizons, reduce to single number)\n",
        "  if mae.ndim > 0: # if mae isn't already a scalar, reduce it to one by aggregating tensors to mean\n",
        "    mae = tf.reduce_mean(mae)\n",
        "    mse = tf.reduce_mean(mse)\n",
        "    rmse = tf.reduce_mean(rmse)\n",
        "    mape = tf.reduce_mean(mape)\n",
        "    mase = tf.reduce_mean(mase)\n",
        "\n",
        "  return {\"mae\": mae.numpy(),\n",
        "          \"mse\": mse.numpy(),\n",
        "          \"rmse\": rmse.numpy(),\n",
        "          \"mape\": mape.numpy(),\n",
        "          \"mase\": mase.numpy()}"
      ],
      "metadata": {
        "id": "PUXvRLrXJPpg"
      },
      "execution_count": 162,
      "outputs": []
    },
    {
      "cell_type": "code",
      "source": [
        "evaluate_preds(y_test[1:], naive_forcast)"
      ],
      "metadata": {
        "colab": {
          "base_uri": "https://localhost:8080/"
        },
        "id": "PKEmJtZiKZQZ",
        "outputId": "5ed25c6b-d834-4638-9f7a-34765be3bee0"
      },
      "execution_count": 19,
      "outputs": [
        {
          "output_type": "execute_result",
          "data": {
            "text/plain": [
              "{'mae': 567.9802, 'mse': 1147547.0, 'rmse': 1071.2362, 'mape': 2.5165248}"
            ]
          },
          "metadata": {},
          "execution_count": 19
        }
      ]
    },
    {
      "cell_type": "code",
      "source": [
        "y_train[:10]"
      ],
      "metadata": {
        "id": "Xmax6BDOKZMh",
        "colab": {
          "base_uri": "https://localhost:8080/"
        },
        "outputId": "5f4838ff-4f50-4a3a-fe46-8922eb59c479"
      },
      "execution_count": 21,
      "outputs": [
        {
          "output_type": "execute_result",
          "data": {
            "text/plain": [
              "[123.65499,\n",
              " 125.455,\n",
              " 108.58483,\n",
              " 118.67466,\n",
              " 121.33866,\n",
              " 120.65533,\n",
              " 121.795,\n",
              " 123.033,\n",
              " 124.049,\n",
              " 125.96116]"
            ]
          },
          "metadata": {},
          "execution_count": 21
        }
      ]
    },
    {
      "cell_type": "code",
      "source": [
        "btc_price[:10], btc_price[10]"
      ],
      "metadata": {
        "id": "r0XNCkr2KZJR",
        "colab": {
          "base_uri": "https://localhost:8080/"
        },
        "outputId": "2eed3a13-abbe-4905-b533-308f8fa0ddfd"
      },
      "execution_count": 23,
      "outputs": [
        {
          "output_type": "execute_result",
          "data": {
            "text/plain": [
              "([123.65499,\n",
              "  125.455,\n",
              "  108.58483,\n",
              "  118.67466,\n",
              "  121.33866,\n",
              "  120.65533,\n",
              "  121.795,\n",
              "  123.033,\n",
              "  124.049,\n",
              "  125.96116],\n",
              " 125.27966)"
            ]
          },
          "metadata": {},
          "execution_count": 23
        }
      ]
    },
    {
      "cell_type": "code",
      "source": [
        "HORIZON = 1 # predict next 1 day\n",
        "WINDOW_SIZE = 7 # use past week of data for prediction"
      ],
      "metadata": {
        "id": "QTsRGuFDp4hN"
      },
      "execution_count": 30,
      "outputs": []
    },
    {
      "cell_type": "code",
      "source": [
        "def get_labelled_window(x, horizon=HORIZON):\n",
        "    return x[:, :-horizon], x[:, -horizon:]"
      ],
      "metadata": {
        "id": "3xVyJqlaqdJ2"
      },
      "execution_count": 31,
      "outputs": []
    },
    {
      "cell_type": "code",
      "source": [
        "test_window, test_label = get_labelled_window(tf.expand_dims(tf.range(8), axis=0))"
      ],
      "metadata": {
        "id": "mzMVx6_dqwfu"
      },
      "execution_count": 47,
      "outputs": []
    },
    {
      "cell_type": "code",
      "source": [
        "tf.squeeze(test_window).numpy(), tf.squeeze(test_label).numpy()"
      ],
      "metadata": {
        "colab": {
          "base_uri": "https://localhost:8080/"
        },
        "id": "2_eu6I9BsF6r",
        "outputId": "3e6b263d-eeeb-45b5-a861-b02ff8d64146"
      },
      "execution_count": 49,
      "outputs": [
        {
          "output_type": "execute_result",
          "data": {
            "text/plain": [
              "(array([0, 1, 2, 3, 4, 5, 6], dtype=int32), 7)"
            ]
          },
          "metadata": {},
          "execution_count": 49
        }
      ]
    },
    {
      "cell_type": "code",
      "source": [
        "# Create function to view NumPy arrays as windows\n",
        "def make_windows(x, window_size=7, horizon=1):\n",
        "  \"\"\"\n",
        "  Turns a 1D array into a 2D array of sequential windows of window_size.\n",
        "  \"\"\"\n",
        "  # 1. Create a window of specific window_size (add the horizon on the end for later labelling)\n",
        "  window_step = np.expand_dims(np.arange(window_size+horizon), axis=0)\n",
        "  # print(f\"Window step:\\n {window_step}\")\n",
        "\n",
        "  # 2. Create a 2D array of multiple window steps (minus 1 to account for 0 indexing)\n",
        "  window_indexes = window_step + np.expand_dims(np.arange(len(x)-(window_size+horizon-1)), axis=0).T # create 2D array of windows of size window_size\n",
        "  # print(f\"Window indexes:\\n {window_indexes[:3], window_indexes[-3:], window_indexes.shape}\")\n",
        "\n",
        "  # 3. Index on the target array (time series) with 2D array of multiple window steps\n",
        "  windowed_array = x[window_indexes]\n",
        "\n",
        "  # 4. Get the labelled windows\n",
        "  windows, labels = get_labelled_window(windowed_array, horizon=horizon)\n",
        "\n",
        "  return windows, labels"
      ],
      "metadata": {
        "id": "KHGctlfEsUPL"
      },
      "execution_count": 80,
      "outputs": []
    },
    {
      "cell_type": "code",
      "source": [
        "window, label = make_windows(prices, window_size=WINDOW_SIZE, horizon=HORIZON)"
      ],
      "metadata": {
        "id": "eD11qhV3yHKt"
      },
      "execution_count": 81,
      "outputs": []
    },
    {
      "cell_type": "code",
      "source": [
        "window[:5], label[:5]"
      ],
      "metadata": {
        "colab": {
          "base_uri": "https://localhost:8080/"
        },
        "id": "kvLwrHaezNCR",
        "outputId": "b5d1c9f8-5454-4c97-ceae-be6a80949988"
      },
      "execution_count": 84,
      "outputs": [
        {
          "output_type": "execute_result",
          "data": {
            "text/plain": [
              "(array([[123.65499, 125.455  , 108.58483, 118.67466, 121.33866, 120.65533,\n",
              "         121.795  ],\n",
              "        [125.455  , 108.58483, 118.67466, 121.33866, 120.65533, 121.795  ,\n",
              "         123.033  ],\n",
              "        [108.58483, 118.67466, 121.33866, 120.65533, 121.795  , 123.033  ,\n",
              "         124.049  ],\n",
              "        [118.67466, 121.33866, 120.65533, 121.795  , 123.033  , 124.049  ,\n",
              "         125.96116],\n",
              "        [121.33866, 120.65533, 121.795  , 123.033  , 124.049  , 125.96116,\n",
              "         125.27966]]),\n",
              " array([[123.033  ],\n",
              "        [124.049  ],\n",
              "        [125.96116],\n",
              "        [125.27966],\n",
              "        [125.9275 ]]))"
            ]
          },
          "metadata": {},
          "execution_count": 84
        }
      ]
    },
    {
      "cell_type": "code",
      "source": [
        "len(label), len(window)"
      ],
      "metadata": {
        "colab": {
          "base_uri": "https://localhost:8080/"
        },
        "id": "tvpMDkvx2z4U",
        "outputId": "90a9bf43-c6f6-4944-ff0f-1a45f3525bad"
      },
      "execution_count": 95,
      "outputs": [
        {
          "output_type": "execute_result",
          "data": {
            "text/plain": [
              "(2780, 2780)"
            ]
          },
          "metadata": {},
          "execution_count": 95
        }
      ]
    },
    {
      "cell_type": "code",
      "source": [
        "def make_train_test_split(windows, labels, test_split=0.2):\n",
        "  \"\"\"\n",
        "  Splits matching pairs of windows and labels into train and test sets.\n",
        "  \"\"\"\n",
        "  target_size = int(len(windows) * (1-test_split))\n",
        "  train_windows = windows[:target_size]\n",
        "  train_labels = labels[:target_size]\n",
        "  test_windows = windows[target_size:]\n",
        "  test_labels = labels[target_size:]\n",
        "  return train_windows, test_windows, train_labels, test_labels"
      ],
      "metadata": {
        "id": "drqY-Ust3qHg"
      },
      "execution_count": 115,
      "outputs": []
    },
    {
      "cell_type": "code",
      "source": [
        "train_windows, test_windows, train_labels, test_labels = make_train_test_split(window, label)"
      ],
      "metadata": {
        "id": "EVzavdur4cf_"
      },
      "execution_count": 116,
      "outputs": []
    },
    {
      "cell_type": "code",
      "source": [
        "len(train_windows), len(test_windows), len(train_labels), len(test_labels)"
      ],
      "metadata": {
        "colab": {
          "base_uri": "https://localhost:8080/"
        },
        "id": "1ABvLeOE4e_C",
        "outputId": "02be7865-315d-44a3-a20c-2eed839db556"
      },
      "execution_count": 117,
      "outputs": [
        {
          "output_type": "execute_result",
          "data": {
            "text/plain": [
              "(2224, 556, 2224, 556)"
            ]
          },
          "metadata": {},
          "execution_count": 117
        }
      ]
    },
    {
      "cell_type": "code",
      "source": [
        "train_windows[:5], train_labels[:5]"
      ],
      "metadata": {
        "colab": {
          "base_uri": "https://localhost:8080/"
        },
        "id": "I0CvrS0w4gLB",
        "outputId": "e80649ab-3188-4c1c-f6fd-3354cffb4252"
      },
      "execution_count": 119,
      "outputs": [
        {
          "output_type": "execute_result",
          "data": {
            "text/plain": [
              "(array([[123.65499, 125.455  , 108.58483, 118.67466, 121.33866, 120.65533,\n",
              "         121.795  ],\n",
              "        [125.455  , 108.58483, 118.67466, 121.33866, 120.65533, 121.795  ,\n",
              "         123.033  ],\n",
              "        [108.58483, 118.67466, 121.33866, 120.65533, 121.795  , 123.033  ,\n",
              "         124.049  ],\n",
              "        [118.67466, 121.33866, 120.65533, 121.795  , 123.033  , 124.049  ,\n",
              "         125.96116],\n",
              "        [121.33866, 120.65533, 121.795  , 123.033  , 124.049  , 125.96116,\n",
              "         125.27966]]),\n",
              " array([[123.033  ],\n",
              "        [124.049  ],\n",
              "        [125.96116],\n",
              "        [125.27966],\n",
              "        [125.9275 ]]))"
            ]
          },
          "metadata": {},
          "execution_count": 119
        }
      ]
    },
    {
      "cell_type": "markdown",
      "source": [
        "## Model 1: Window: 7, Horizon:1"
      ],
      "metadata": {
        "id": "b3SfCrAH8Cwd"
      }
    },
    {
      "cell_type": "code",
      "source": [
        "import os\n",
        "\n",
        "# Create a function to implement a ModelCheckpoint callback with a specific filename\n",
        "def create_model_checkpoint(model_name, save_path=\"model_experiments\"):\n",
        "  return tf.keras.callbacks.ModelCheckpoint(filepath=os.path.join(save_path, model_name), # create filepath to save model\n",
        "                                            verbose=0, # only output a limited amount of text\n",
        "                                            save_best_only=True) # save only the best model to file"
      ],
      "metadata": {
        "id": "dFA0utUg4wJe"
      },
      "execution_count": 120,
      "outputs": []
    },
    {
      "cell_type": "code",
      "source": [
        "import tensorflow as tf\n",
        "from tensorflow.keras import layers\n",
        "\n",
        "# Set random seed for as reproducible results as possible\n",
        "tf.random.set_seed(42)\n",
        "\n",
        "# Construct model\n",
        "model_1 = tf.keras.Sequential([\n",
        "  layers.Dense(128, activation=\"relu\"),\n",
        "  layers.Dense(HORIZON, activation=\"linear\") # linear activation is the same as having no activation\n",
        "], name=\"model_1_dense\") # give the model a name so we can save it\n",
        "\n",
        "# Compile model\n",
        "model_1.compile(loss=\"mae\",\n",
        "                optimizer=tf.keras.optimizers.Adam(),\n",
        "                metrics=[\"mae\"]) # we don't necessarily need this when the loss function is already MAE\n",
        "\n",
        "# Fit model\n",
        "hisotry_model_1 = model_1.fit(x=train_windows, # train windows of 7 timesteps of Bitcoin prices\n",
        "            y=train_labels, # horizon value of 1 (using the previous 7 timesteps to predict next day)\n",
        "            epochs=100,\n",
        "            verbose=1,\n",
        "            batch_size=128,\n",
        "            validation_data=(test_windows, test_labels),\n",
        "            callbacks=[create_model_checkpoint(model_name=model_1.name)]) # create ModelCheckpoint callback to save best model\n",
        ""
      ],
      "metadata": {
        "colab": {
          "base_uri": "https://localhost:8080/"
        },
        "id": "D2rNIsML5QTJ",
        "outputId": "7847dd48-738a-4ce4-9e18-7b85f057f2af"
      },
      "execution_count": 133,
      "outputs": [
        {
          "output_type": "stream",
          "name": "stdout",
          "text": [
            "Epoch 1/100\n",
            "18/18 [==============================] - 3s 45ms/step - loss: 626.2380 - mae: 626.2380 - val_loss: 1211.1188 - val_mae: 1211.1188\n",
            "Epoch 2/100\n",
            "18/18 [==============================] - 0s 4ms/step - loss: 250.7457 - mae: 250.7457 - val_loss: 1219.6691 - val_mae: 1219.6691\n",
            "Epoch 3/100\n",
            "18/18 [==============================] - 0s 28ms/step - loss: 207.2346 - mae: 207.2346 - val_loss: 1176.7089 - val_mae: 1176.7089\n",
            "Epoch 4/100\n",
            "18/18 [==============================] - 0s 26ms/step - loss: 195.9948 - mae: 195.9948 - val_loss: 1107.5193 - val_mae: 1107.5193\n",
            "Epoch 5/100\n",
            "18/18 [==============================] - 0s 28ms/step - loss: 192.4341 - mae: 192.4341 - val_loss: 1035.2435 - val_mae: 1035.2435\n",
            "Epoch 6/100\n",
            "18/18 [==============================] - 0s 26ms/step - loss: 192.5799 - mae: 192.5799 - val_loss: 984.9058 - val_mae: 984.9058\n",
            "Epoch 7/100\n",
            "18/18 [==============================] - 0s 28ms/step - loss: 175.4521 - mae: 175.4521 - val_loss: 978.5955 - val_mae: 978.5955\n",
            "Epoch 8/100\n",
            "18/18 [==============================] - 0s 28ms/step - loss: 168.6301 - mae: 168.6301 - val_loss: 928.1390 - val_mae: 928.1390\n",
            "Epoch 9/100\n",
            "18/18 [==============================] - 0s 27ms/step - loss: 167.7748 - mae: 167.7748 - val_loss: 900.3783 - val_mae: 900.3783\n",
            "Epoch 10/100\n",
            "18/18 [==============================] - 1s 30ms/step - loss: 160.2516 - mae: 160.2516 - val_loss: 865.8805 - val_mae: 865.8805\n",
            "Epoch 11/100\n",
            "18/18 [==============================] - 0s 28ms/step - loss: 149.3363 - mae: 149.3363 - val_loss: 828.1756 - val_mae: 828.1756\n",
            "Epoch 12/100\n",
            "18/18 [==============================] - 0s 3ms/step - loss: 143.2819 - mae: 143.2819 - val_loss: 881.4782 - val_mae: 881.4782\n",
            "Epoch 13/100\n",
            "18/18 [==============================] - 0s 29ms/step - loss: 140.7471 - mae: 140.7471 - val_loss: 820.5176 - val_mae: 820.5176\n",
            "Epoch 14/100\n",
            "18/18 [==============================] - 0s 28ms/step - loss: 132.4178 - mae: 132.4178 - val_loss: 735.9182 - val_mae: 735.9182\n",
            "Epoch 15/100\n",
            "18/18 [==============================] - 0s 27ms/step - loss: 134.8670 - mae: 134.8670 - val_loss: 708.1956 - val_mae: 708.1956\n",
            "Epoch 16/100\n",
            "18/18 [==============================] - 0s 27ms/step - loss: 126.5789 - mae: 126.5789 - val_loss: 696.9796 - val_mae: 696.9796\n",
            "Epoch 17/100\n",
            "18/18 [==============================] - 1s 47ms/step - loss: 122.6295 - mae: 122.6295 - val_loss: 692.9750 - val_mae: 692.9750\n",
            "Epoch 18/100\n",
            "18/18 [==============================] - 0s 27ms/step - loss: 119.8116 - mae: 119.8116 - val_loss: 662.4532 - val_mae: 662.4532\n",
            "Epoch 19/100\n",
            "18/18 [==============================] - 0s 4ms/step - loss: 118.5049 - mae: 118.5049 - val_loss: 729.0634 - val_mae: 729.0634\n",
            "Epoch 20/100\n",
            "18/18 [==============================] - 0s 28ms/step - loss: 118.6873 - mae: 118.6873 - val_loss: 631.1849 - val_mae: 631.1849\n",
            "Epoch 21/100\n",
            "18/18 [==============================] - 0s 29ms/step - loss: 119.0523 - mae: 119.0523 - val_loss: 617.2980 - val_mae: 617.2980\n",
            "Epoch 22/100\n",
            "18/18 [==============================] - 0s 4ms/step - loss: 116.5971 - mae: 116.5971 - val_loss: 636.5903 - val_mae: 636.5903\n",
            "Epoch 23/100\n",
            "18/18 [==============================] - 1s 32ms/step - loss: 115.9039 - mae: 115.9039 - val_loss: 605.9883 - val_mae: 605.9883\n",
            "Epoch 24/100\n",
            "18/18 [==============================] - 1s 39ms/step - loss: 112.3461 - mae: 112.3461 - val_loss: 601.9664 - val_mae: 601.9664\n",
            "Epoch 25/100\n",
            "18/18 [==============================] - 0s 6ms/step - loss: 112.2155 - mae: 112.2155 - val_loss: 607.3341 - val_mae: 607.3341\n",
            "Epoch 26/100\n",
            "18/18 [==============================] - 1s 39ms/step - loss: 115.0451 - mae: 115.0451 - val_loss: 599.0580 - val_mae: 599.0580\n",
            "Epoch 27/100\n",
            "18/18 [==============================] - 1s 41ms/step - loss: 117.5750 - mae: 117.5750 - val_loss: 591.0112 - val_mae: 591.0112\n",
            "Epoch 28/100\n",
            "18/18 [==============================] - 0s 6ms/step - loss: 111.9003 - mae: 111.9003 - val_loss: 602.1995 - val_mae: 602.1995\n",
            "Epoch 29/100\n",
            "18/18 [==============================] - 0s 6ms/step - loss: 110.9361 - mae: 110.9361 - val_loss: 591.5847 - val_mae: 591.5847\n",
            "Epoch 30/100\n",
            "18/18 [==============================] - 1s 32ms/step - loss: 113.3033 - mae: 113.3033 - val_loss: 584.1504 - val_mae: 584.1504\n",
            "Epoch 31/100\n",
            "18/18 [==============================] - 0s 4ms/step - loss: 117.9541 - mae: 117.9541 - val_loss: 649.3092 - val_mae: 649.3092\n",
            "Epoch 32/100\n",
            "18/18 [==============================] - 0s 4ms/step - loss: 114.4812 - mae: 114.4812 - val_loss: 585.9437 - val_mae: 585.9437\n",
            "Epoch 33/100\n",
            "18/18 [==============================] - 0s 4ms/step - loss: 110.0266 - mae: 110.0266 - val_loss: 598.9186 - val_mae: 598.9186\n",
            "Epoch 34/100\n",
            "18/18 [==============================] - 0s 28ms/step - loss: 111.1052 - mae: 111.1052 - val_loss: 579.4269 - val_mae: 579.4269\n",
            "Epoch 35/100\n",
            "18/18 [==============================] - 0s 27ms/step - loss: 109.8881 - mae: 109.8881 - val_loss: 577.8093 - val_mae: 577.8093\n",
            "Epoch 36/100\n",
            "18/18 [==============================] - 0s 29ms/step - loss: 118.0132 - mae: 118.0132 - val_loss: 576.8157 - val_mae: 576.8157\n",
            "Epoch 37/100\n",
            "18/18 [==============================] - 0s 6ms/step - loss: 113.9115 - mae: 113.9115 - val_loss: 579.2214 - val_mae: 579.2214\n",
            "Epoch 38/100\n",
            "18/18 [==============================] - 0s 3ms/step - loss: 112.6991 - mae: 112.6991 - val_loss: 623.2443 - val_mae: 623.2443\n",
            "Epoch 39/100\n",
            "18/18 [==============================] - 0s 4ms/step - loss: 110.9612 - mae: 110.9612 - val_loss: 580.7646 - val_mae: 580.7646\n",
            "Epoch 40/100\n",
            "18/18 [==============================] - 0s 4ms/step - loss: 109.6511 - mae: 109.6511 - val_loss: 609.2368 - val_mae: 609.2368\n",
            "Epoch 41/100\n",
            "18/18 [==============================] - 0s 4ms/step - loss: 108.7483 - mae: 108.7483 - val_loss: 604.3956 - val_mae: 604.3956\n",
            "Epoch 42/100\n",
            "18/18 [==============================] - 0s 4ms/step - loss: 115.5873 - mae: 115.5873 - val_loss: 590.5680 - val_mae: 590.5680\n",
            "Epoch 43/100\n",
            "18/18 [==============================] - 0s 4ms/step - loss: 114.3524 - mae: 114.3524 - val_loss: 632.5000 - val_mae: 632.5000\n",
            "Epoch 44/100\n",
            "18/18 [==============================] - 0s 5ms/step - loss: 116.4396 - mae: 116.4396 - val_loss: 602.0693 - val_mae: 602.0693\n",
            "Epoch 45/100\n",
            "18/18 [==============================] - 0s 4ms/step - loss: 113.0651 - mae: 113.0651 - val_loss: 606.0681 - val_mae: 606.0681\n",
            "Epoch 46/100\n",
            "18/18 [==============================] - 1s 30ms/step - loss: 111.4557 - mae: 111.4557 - val_loss: 570.6127 - val_mae: 570.6127\n",
            "Epoch 47/100\n",
            "18/18 [==============================] - 0s 4ms/step - loss: 111.1992 - mae: 111.1992 - val_loss: 604.2653 - val_mae: 604.2653\n",
            "Epoch 48/100\n",
            "18/18 [==============================] - 0s 5ms/step - loss: 110.0270 - mae: 110.0270 - val_loss: 612.2816 - val_mae: 612.2816\n",
            "Epoch 49/100\n",
            "18/18 [==============================] - 0s 4ms/step - loss: 114.3100 - mae: 114.3100 - val_loss: 571.0834 - val_mae: 571.0834\n",
            "Epoch 50/100\n",
            "18/18 [==============================] - 0s 4ms/step - loss: 112.2955 - mae: 112.2955 - val_loss: 661.0450 - val_mae: 661.0450\n",
            "Epoch 51/100\n",
            "18/18 [==============================] - 0s 4ms/step - loss: 113.5496 - mae: 113.5496 - val_loss: 600.9310 - val_mae: 600.9310\n",
            "Epoch 52/100\n",
            "18/18 [==============================] - 0s 4ms/step - loss: 113.4162 - mae: 113.4162 - val_loss: 599.9041 - val_mae: 599.9041\n",
            "Epoch 53/100\n",
            "18/18 [==============================] - 0s 4ms/step - loss: 113.8838 - mae: 113.8838 - val_loss: 593.8688 - val_mae: 593.8688\n",
            "Epoch 54/100\n",
            "18/18 [==============================] - 0s 5ms/step - loss: 113.9335 - mae: 113.9335 - val_loss: 585.6172 - val_mae: 585.6172\n",
            "Epoch 55/100\n",
            "18/18 [==============================] - 0s 28ms/step - loss: 111.0485 - mae: 111.0485 - val_loss: 570.2610 - val_mae: 570.2610\n",
            "Epoch 56/100\n",
            "18/18 [==============================] - 0s 4ms/step - loss: 108.3512 - mae: 108.3512 - val_loss: 801.2253 - val_mae: 801.2253\n",
            "Epoch 57/100\n",
            "18/18 [==============================] - 0s 3ms/step - loss: 129.2510 - mae: 129.2510 - val_loss: 708.7125 - val_mae: 708.7125\n",
            "Epoch 58/100\n",
            "18/18 [==============================] - 0s 5ms/step - loss: 117.1724 - mae: 117.1724 - val_loss: 572.5844 - val_mae: 572.5844\n",
            "Epoch 59/100\n",
            "18/18 [==============================] - 0s 3ms/step - loss: 108.6401 - mae: 108.6401 - val_loss: 588.6769 - val_mae: 588.6769\n",
            "Epoch 60/100\n",
            "18/18 [==============================] - 0s 4ms/step - loss: 111.3949 - mae: 111.3949 - val_loss: 640.1663 - val_mae: 640.1663\n",
            "Epoch 61/100\n",
            "18/18 [==============================] - 0s 28ms/step - loss: 110.4249 - mae: 110.4249 - val_loss: 565.5937 - val_mae: 565.5937\n",
            "Epoch 62/100\n",
            "18/18 [==============================] - 0s 28ms/step - loss: 107.6584 - mae: 107.6584 - val_loss: 565.0760 - val_mae: 565.0760\n",
            "Epoch 63/100\n",
            "18/18 [==============================] - 0s 4ms/step - loss: 110.8202 - mae: 110.8202 - val_loss: 636.3713 - val_mae: 636.3713\n",
            "Epoch 64/100\n",
            "18/18 [==============================] - 0s 4ms/step - loss: 110.0483 - mae: 110.0483 - val_loss: 580.8746 - val_mae: 580.8746\n",
            "Epoch 65/100\n",
            "18/18 [==============================] - 0s 5ms/step - loss: 109.2964 - mae: 109.2964 - val_loss: 582.9105 - val_mae: 582.9105\n",
            "Epoch 66/100\n",
            "18/18 [==============================] - 0s 4ms/step - loss: 108.8794 - mae: 108.8794 - val_loss: 586.9713 - val_mae: 586.9713\n",
            "Epoch 67/100\n",
            "18/18 [==============================] - 0s 4ms/step - loss: 108.4854 - mae: 108.4854 - val_loss: 662.3115 - val_mae: 662.3115\n",
            "Epoch 68/100\n",
            "18/18 [==============================] - 0s 4ms/step - loss: 108.8041 - mae: 108.8041 - val_loss: 575.0812 - val_mae: 575.0812\n",
            "Epoch 69/100\n",
            "18/18 [==============================] - 0s 4ms/step - loss: 112.7077 - mae: 112.7077 - val_loss: 684.2908 - val_mae: 684.2908\n",
            "Epoch 70/100\n",
            "18/18 [==============================] - 0s 4ms/step - loss: 120.3309 - mae: 120.3309 - val_loss: 582.3898 - val_mae: 582.3898\n",
            "Epoch 71/100\n",
            "18/18 [==============================] - 0s 4ms/step - loss: 111.5375 - mae: 111.5375 - val_loss: 566.2680 - val_mae: 566.2680\n",
            "Epoch 72/100\n",
            "18/18 [==============================] - 0s 4ms/step - loss: 108.3394 - mae: 108.3394 - val_loss: 566.6630 - val_mae: 566.6630\n",
            "Epoch 73/100\n",
            "18/18 [==============================] - 0s 4ms/step - loss: 108.5925 - mae: 108.5925 - val_loss: 565.2311 - val_mae: 565.2311\n",
            "Epoch 74/100\n",
            "18/18 [==============================] - 0s 3ms/step - loss: 108.9442 - mae: 108.9442 - val_loss: 576.0525 - val_mae: 576.0525\n",
            "Epoch 75/100\n",
            "18/18 [==============================] - 0s 4ms/step - loss: 108.6460 - mae: 108.6460 - val_loss: 589.7214 - val_mae: 589.7214\n",
            "Epoch 76/100\n",
            "18/18 [==============================] - 0s 4ms/step - loss: 111.6683 - mae: 111.6683 - val_loss: 568.0472 - val_mae: 568.0472\n",
            "Epoch 77/100\n",
            "18/18 [==============================] - 0s 4ms/step - loss: 105.5813 - mae: 105.5813 - val_loss: 567.1078 - val_mae: 567.1078\n",
            "Epoch 78/100\n",
            "18/18 [==============================] - 0s 5ms/step - loss: 107.1576 - mae: 107.1576 - val_loss: 577.6302 - val_mae: 577.6302\n",
            "Epoch 79/100\n",
            "18/18 [==============================] - 0s 5ms/step - loss: 107.2684 - mae: 107.2684 - val_loss: 587.7925 - val_mae: 587.7925\n",
            "Epoch 80/100\n",
            "18/18 [==============================] - 0s 28ms/step - loss: 110.1201 - mae: 110.1201 - val_loss: 563.1318 - val_mae: 563.1318\n",
            "Epoch 81/100\n",
            "18/18 [==============================] - 0s 3ms/step - loss: 106.1443 - mae: 106.1443 - val_loss: 596.5095 - val_mae: 596.5095\n",
            "Epoch 82/100\n",
            "18/18 [==============================] - 0s 4ms/step - loss: 114.7116 - mae: 114.7116 - val_loss: 596.9702 - val_mae: 596.9702\n",
            "Epoch 83/100\n",
            "18/18 [==============================] - 0s 4ms/step - loss: 117.7497 - mae: 117.7497 - val_loss: 643.5742 - val_mae: 643.5742\n",
            "Epoch 84/100\n",
            "18/18 [==============================] - 0s 4ms/step - loss: 113.6491 - mae: 113.6491 - val_loss: 569.9214 - val_mae: 569.9214\n",
            "Epoch 85/100\n",
            "18/18 [==============================] - 0s 5ms/step - loss: 106.8457 - mae: 106.8457 - val_loss: 568.6947 - val_mae: 568.6947\n",
            "Epoch 86/100\n",
            "18/18 [==============================] - 0s 5ms/step - loss: 108.3077 - mae: 108.3077 - val_loss: 600.2700 - val_mae: 600.2700\n",
            "Epoch 87/100\n",
            "18/18 [==============================] - 0s 4ms/step - loss: 106.1896 - mae: 106.1896 - val_loss: 588.3461 - val_mae: 588.3461\n",
            "Epoch 88/100\n",
            "18/18 [==============================] - 0s 4ms/step - loss: 109.1295 - mae: 109.1295 - val_loss: 565.2162 - val_mae: 565.2162\n",
            "Epoch 89/100\n",
            "18/18 [==============================] - 0s 4ms/step - loss: 109.0341 - mae: 109.0341 - val_loss: 608.9863 - val_mae: 608.9863\n",
            "Epoch 90/100\n",
            "18/18 [==============================] - 0s 4ms/step - loss: 107.5253 - mae: 107.5253 - val_loss: 636.1910 - val_mae: 636.1910\n",
            "Epoch 91/100\n",
            "18/18 [==============================] - 0s 4ms/step - loss: 112.4295 - mae: 112.4295 - val_loss: 667.9830 - val_mae: 667.9830\n",
            "Epoch 92/100\n",
            "18/18 [==============================] - 0s 4ms/step - loss: 109.3963 - mae: 109.3963 - val_loss: 595.0535 - val_mae: 595.0535\n",
            "Epoch 93/100\n",
            "18/18 [==============================] - 0s 4ms/step - loss: 115.8670 - mae: 115.8670 - val_loss: 640.4576 - val_mae: 640.4576\n",
            "Epoch 94/100\n",
            "18/18 [==============================] - 0s 3ms/step - loss: 117.5652 - mae: 117.5652 - val_loss: 602.0394 - val_mae: 602.0394\n",
            "Epoch 95/100\n",
            "18/18 [==============================] - 0s 4ms/step - loss: 107.2689 - mae: 107.2689 - val_loss: 566.0240 - val_mae: 566.0240\n",
            "Epoch 96/100\n",
            "18/18 [==============================] - 0s 5ms/step - loss: 115.0913 - mae: 115.0913 - val_loss: 726.2958 - val_mae: 726.2958\n",
            "Epoch 97/100\n",
            "18/18 [==============================] - 0s 4ms/step - loss: 113.1639 - mae: 113.1639 - val_loss: 586.6367 - val_mae: 586.6367\n",
            "Epoch 98/100\n",
            "18/18 [==============================] - 0s 5ms/step - loss: 108.7143 - mae: 108.7143 - val_loss: 565.0751 - val_mae: 565.0751\n",
            "Epoch 99/100\n",
            "18/18 [==============================] - 0s 29ms/step - loss: 107.3261 - mae: 107.3261 - val_loss: 562.8519 - val_mae: 562.8519\n",
            "Epoch 100/100\n",
            "18/18 [==============================] - 0s 4ms/step - loss: 111.5888 - mae: 111.5888 - val_loss: 635.5134 - val_mae: 635.5134\n"
          ]
        }
      ]
    },
    {
      "cell_type": "code",
      "source": [
        "model_1.evaluate(test_windows, test_labels)"
      ],
      "metadata": {
        "colab": {
          "base_uri": "https://localhost:8080/"
        },
        "id": "H_TlUVIJ5Zro",
        "outputId": "860b4aa9-5732-4bd0-a7b8-5c6c942a2dc6"
      },
      "execution_count": 122,
      "outputs": [
        {
          "output_type": "stream",
          "name": "stdout",
          "text": [
            "18/18 [==============================] - 0s 2ms/step - loss: 618.1306 - mae: 618.1306\n"
          ]
        },
        {
          "output_type": "execute_result",
          "data": {
            "text/plain": [
              "[618.130615234375, 618.130615234375]"
            ]
          },
          "metadata": {},
          "execution_count": 122
        }
      ]
    },
    {
      "cell_type": "code",
      "source": [
        "model_1_preds = tf.squeeze(model_1.predict(test_windows))"
      ],
      "metadata": {
        "colab": {
          "base_uri": "https://localhost:8080/"
        },
        "id": "vAUvtvY75cjj",
        "outputId": "1087d7fb-c136-47f8-ff50-a42b76461af5"
      },
      "execution_count": 131,
      "outputs": [
        {
          "output_type": "stream",
          "name": "stdout",
          "text": [
            "18/18 [==============================] - 0s 3ms/step\n"
          ]
        }
      ]
    },
    {
      "cell_type": "code",
      "source": [
        "# Evaluate preds\n",
        "model_1_results = evaluate_preds(y_true=tf.squeeze(test_labels), # reduce to right shape\n",
        "                                 y_pred=model_1_preds)\n",
        "model_1_results"
      ],
      "metadata": {
        "colab": {
          "base_uri": "https://localhost:8080/"
        },
        "id": "_86i5O4h5fS7",
        "outputId": "9a44a789-f52a-4e07-9ea1-1aeedbb6974c"
      },
      "execution_count": 132,
      "outputs": [
        {
          "output_type": "execute_result",
          "data": {
            "text/plain": [
              "{'mae': 618.1305, 'mse': 1257376.6, 'rmse': 1121.328, 'mape': 2.790864}"
            ]
          },
          "metadata": {},
          "execution_count": 132
        }
      ]
    },
    {
      "cell_type": "code",
      "source": [
        "{'mae': 567.9802, 'mse': 1147547.0, 'rmse': 1071.2362, 'mape': 2.5165248}"
      ],
      "metadata": {
        "id": "zOTeB6d97hcq"
      },
      "execution_count": null,
      "outputs": []
    },
    {
      "cell_type": "code",
      "source": [
        "hisotry_model_1.history.keys()"
      ],
      "metadata": {
        "colab": {
          "base_uri": "https://localhost:8080/"
        },
        "id": "6eSisBv55mN7",
        "outputId": "584167bf-4d0f-4f20-a80a-d5585a05b40e"
      },
      "execution_count": 141,
      "outputs": [
        {
          "output_type": "execute_result",
          "data": {
            "text/plain": [
              "dict_keys(['loss', 'mae', 'val_loss', 'val_mae'])"
            ]
          },
          "metadata": {},
          "execution_count": 141
        }
      ]
    },
    {
      "cell_type": "code",
      "source": [
        "plt.plot(hisotry_model_1.history[\"mae\"])\n",
        "plt.plot(hisotry_model_1.history[\"val_mae\"])\n",
        "plt.title(\"Model 1 - Loss Curves\")\n",
        "plt.ylabel(\"Loss\")\n",
        "plt.xlabel(\"Epochs\")\n",
        "plt.legend([\"train\", \"test\"], loc=\"upper left\")\n",
        "plt.show()"
      ],
      "metadata": {
        "colab": {
          "base_uri": "https://localhost:8080/",
          "height": 472
        },
        "id": "3No2Jmda6mpy",
        "outputId": "a2332009-882b-4f9e-e567-37a277e470e9"
      },
      "execution_count": 142,
      "outputs": [
        {
          "output_type": "display_data",
          "data": {
            "text/plain": [
              "<Figure size 640x480 with 1 Axes>"
            ],
            "image/png": "[encoded data removed]"
          },
          "metadata": {}
        }
      ]
    },
    {
      "cell_type": "code",
      "source": [
        "offset = 300\n",
        "plt.figure(figsize=(10, 7))\n",
        "# Account for the test_window offset and index into test_labels to ensure correct plotting\n",
        "plot_time_series(timesteps=X_test[-len(test_windows):], values=test_labels[:, 0], start=offset, label=\"Test_data\")\n",
        "plot_time_series(timesteps=X_test[-len(test_windows):], values=model_1_preds, start=offset, format=\"-\", label=\"model_1_preds\")\n",
        ""
      ],
      "metadata": {
        "colab": {
          "base_uri": "https://localhost:8080/",
          "height": 1000
        },
        "id": "OU1OrYtx8L1a",
        "outputId": "ddcf1150-3c38-421a-96a4-1e21dba0b130"
      },
      "execution_count": 143,
      "outputs": [
        {
          "output_type": "display_data",
          "data": {
            "text/plain": [
              "<Figure size 1000x700 with 1 Axes>"
            ],
            "image/png": "[encoded data removed]"
          },
          "metadata": {}
        },
        {
          "output_type": "display_data",
          "data": {
            "text/plain": [
              "<Figure size 640x480 with 1 Axes>"
            ],
            "image/png": "[encoded data removed]"
          },
          "metadata": {}
        }
      ]
    },
    {
      "cell_type": "markdown",
      "source": [
        "## Model 2: Window: 30, Horizon:1"
      ],
      "metadata": {
        "id": "rY32L55d8IRc"
      }
    },
    {
      "cell_type": "code",
      "source": [
        "HORIZON = 1 # predict one step at a time\n",
        "WINDOW_SIZE = 30 # use 30 timesteps in the past\n",
        "\n",
        "# Make windowed data with appropriate horizon and window sizes\n",
        "full_windows, full_labels = make_windows(prices, window_size=WINDOW_SIZE, horizon=HORIZON)\n",
        "len(full_windows), len(full_labels)\n",
        "\n",
        "# Make train and testing windows\n",
        "train_windows, test_windows, train_labels, test_labels = make_train_test_split(windows=full_windows, labels=full_labels)\n",
        "len(train_windows), len(test_windows), len(train_labels), len(test_labels)\n",
        "\n",
        "tf.random.set_seed(42)\n",
        "\n",
        "# Create model (same model as model 1 but data input will be different)\n",
        "model_2 = tf.keras.Sequential([\n",
        "  layers.Dense(128, activation=\"relu\"),\n",
        "  layers.Dense(HORIZON) # need to predict horizon number of steps into the future\n",
        "], name=\"model_2_dense\")\n",
        "\n",
        "model_2.compile(loss=\"mae\",\n",
        "                optimizer=tf.keras.optimizers.Adam())\n",
        "\n",
        "history_model_2 = model_2.fit(train_windows,\n",
        "                              train_labels,\n",
        "                              epochs=100,\n",
        "                              batch_size=128,\n",
        "                              verbose=0,\n",
        "                              validation_data=(test_windows, test_labels),\n",
        "                              callbacks=[create_model_checkpoint(model_name=model_2.name)])\n"
      ],
      "metadata": {
        "id": "r_OFij4O6_gY"
      },
      "execution_count": 157,
      "outputs": []
    },
    {
      "cell_type": "code",
      "source": [
        "model_2.evaluate(test_windows, test_labels)"
      ],
      "metadata": {
        "colab": {
          "base_uri": "https://localhost:8080/"
        },
        "id": "UGNHIdkf9KDM",
        "outputId": "cc11d1df-5082-44fa-bdee-90aba0112b61"
      },
      "execution_count": 158,
      "outputs": [
        {
          "output_type": "stream",
          "name": "stdout",
          "text": [
            "18/18 [==============================] - 0s 2ms/step - loss: 614.3652\n"
          ]
        },
        {
          "output_type": "execute_result",
          "data": {
            "text/plain": [
              "614.365234375"
            ]
          },
          "metadata": {},
          "execution_count": 158
        }
      ]
    },
    {
      "cell_type": "code",
      "source": [
        "model_2_preds = tf.squeeze(model_2.predict(test_windows))"
      ],
      "metadata": {
        "colab": {
          "base_uri": "https://localhost:8080/"
        },
        "id": "gl0UrPBd9aOk",
        "outputId": "a4f40b83-e9d7-4de2-e5a7-436110c794e6"
      },
      "execution_count": 159,
      "outputs": [
        {
          "output_type": "stream",
          "name": "stdout",
          "text": [
            "18/18 [==============================] - 0s 1ms/step\n"
          ]
        }
      ]
    },
    {
      "cell_type": "code",
      "source": [
        "model_2_results = evaluate_preds(y_true=tf.squeeze(test_labels), # remove 1 dimension of test labels\n",
        "                                 y_pred=model_2_preds)\n",
        "model_2_results"
      ],
      "metadata": {
        "colab": {
          "base_uri": "https://localhost:8080/"
        },
        "id": "vROmZsh69aLs",
        "outputId": "5fdfab4c-5218-4caf-9fc5-77841781d51f"
      },
      "execution_count": 160,
      "outputs": [
        {
          "output_type": "execute_result",
          "data": {
            "text/plain": [
              "{'mae': 614.36523, 'mse': 1281748.9, 'rmse': 1132.1434, 'mape': 2.814453}"
            ]
          },
          "metadata": {},
          "execution_count": 160
        }
      ]
    },
    {
      "cell_type": "code",
      "source": [
        "plt.plot(history_model_2.history[\"loss\"])\n",
        "plt.plot(history_model_2.history[\"val_loss\"])\n",
        "plt.title(\"Model 1 - Loss Curves\")\n",
        "plt.ylabel(\"Loss\")\n",
        "plt.xlabel(\"Epochs\")\n",
        "plt.legend([\"train\", \"test\"], loc=\"upper left\")\n",
        "plt.show()"
      ],
      "metadata": {
        "colab": {
          "base_uri": "https://localhost:8080/",
          "height": 472
        },
        "id": "C88n7yEf9peS",
        "outputId": "7f5aeef4-a8b9-4ef1-b87d-4938e53c60f6"
      },
      "execution_count": 161,
      "outputs": [
        {
          "output_type": "display_data",
          "data": {
            "text/plain": [
              "<Figure size 640x480 with 1 Axes>"
            ],
            "image/png": "[encoded data removed]"
          },
          "metadata": {}
        }
      ]
    },
    {
      "cell_type": "markdown",
      "source": [
        "## Model 3: Window=30, Horizon=7"
      ],
      "metadata": {
        "id": "wD0_dmMP-EV9"
      }
    },
    {
      "cell_type": "code",
      "source": [
        "HORIZON = 7 # predict one step at a time\n",
        "WINDOW_SIZE = 30 # use 30 timesteps in the past\n",
        "\n",
        "# Make windowed data with appropriate horizon and window sizes\n",
        "full_windows, full_labels = make_windows(prices, window_size=WINDOW_SIZE, horizon=HORIZON)\n",
        "len(full_windows), len(full_labels)\n",
        "\n",
        "# Make train and testing windows\n",
        "train_windows, test_windows, train_labels, test_labels = make_train_test_split(windows=full_windows, labels=full_labels)\n",
        "len(train_windows), len(test_windows), len(train_labels), len(test_labels)\n",
        "\n",
        "tf.random.set_seed(42)\n",
        "\n",
        "# Create model (same model as model 1 but data input will be different)\n",
        "model_3 = tf.keras.Sequential([\n",
        "  layers.Dense(128, activation=\"relu\"),\n",
        "  layers.Dense(HORIZON) # need to predict horizon number of steps into the future\n",
        "], name=\"model_3_dense\")\n",
        "\n",
        "model_3.compile(loss=\"mae\",\n",
        "                optimizer=tf.keras.optimizers.Adam())\n",
        "\n",
        "history_model_3 = model_3.fit(train_windows,\n",
        "                              train_labels,\n",
        "                              epochs=100,\n",
        "                              batch_size=128,\n",
        "                              validation_data=(test_windows, test_labels),\n",
        "                              callbacks=[create_model_checkpoint(model_name=model_3.name)])\n",
        "\n",
        "model_3_preds = tf.squeeze(model_3.predict(test_windows))\n",
        "\n",
        "model_3_results = evaluate_preds_v2(y_true=tf.squeeze(test_labels), # remove 1 dimension of test labels\n",
        "                                 y_pred=model_3_preds)\n",
        "model_3_results\n"
      ],
      "metadata": {
        "colab": {
          "base_uri": "https://localhost:8080/"
        },
        "id": "uR2D8XHf-EG9",
        "outputId": "1d4e8888-2c78-4f1d-b214-7bc122478c05"
      },
      "execution_count": 163,
      "outputs": [
        {
          "output_type": "stream",
          "name": "stdout",
          "text": [
            "Epoch 1/100\n",
            "18/18 [==============================] - 4s 94ms/step - loss: 2304.7634 - val_loss: 3041.7520\n",
            "Epoch 2/100\n",
            "18/18 [==============================] - 1s 72ms/step - loss: 516.9246 - val_loss: 2483.6216\n",
            "Epoch 3/100\n",
            "18/18 [==============================] - 1s 31ms/step - loss: 381.8672 - val_loss: 1918.8158\n",
            "Epoch 4/100\n",
            "18/18 [==============================] - 0s 27ms/step - loss: 349.5141 - val_loss: 1819.7947\n",
            "Epoch 5/100\n",
            "18/18 [==============================] - 0s 3ms/step - loss: 332.4509 - val_loss: 1842.7283\n",
            "Epoch 6/100\n",
            "18/18 [==============================] - 0s 26ms/step - loss: 323.5327 - val_loss: 1648.2583\n",
            "Epoch 7/100\n",
            "18/18 [==============================] - 0s 27ms/step - loss: 309.2603 - val_loss: 1581.5259\n",
            "Epoch 8/100\n",
            "18/18 [==============================] - 0s 28ms/step - loss: 306.0070 - val_loss: 1553.2380\n",
            "Epoch 9/100\n",
            "18/18 [==============================] - 0s 4ms/step - loss: 298.5441 - val_loss: 1743.0801\n",
            "Epoch 10/100\n",
            "18/18 [==============================] - 0s 27ms/step - loss: 304.7085 - val_loss: 1537.4077\n",
            "Epoch 11/100\n",
            "18/18 [==============================] - 1s 53ms/step - loss: 293.1005 - val_loss: 1484.5140\n",
            "Epoch 12/100\n",
            "18/18 [==============================] - 0s 4ms/step - loss: 284.6116 - val_loss: 1588.2677\n",
            "Epoch 13/100\n",
            "18/18 [==============================] - 0s 27ms/step - loss: 274.0407 - val_loss: 1472.4062\n",
            "Epoch 14/100\n",
            "18/18 [==============================] - 0s 26ms/step - loss: 269.3228 - val_loss: 1429.9937\n",
            "Epoch 15/100\n",
            "18/18 [==============================] - 0s 4ms/step - loss: 266.4946 - val_loss: 1503.6890\n",
            "Epoch 16/100\n",
            "18/18 [==============================] - 0s 4ms/step - loss: 261.7027 - val_loss: 1505.0941\n",
            "Epoch 17/100\n",
            "18/18 [==============================] - 0s 5ms/step - loss: 262.5472 - val_loss: 1553.1715\n",
            "Epoch 18/100\n",
            "18/18 [==============================] - 0s 4ms/step - loss: 260.2183 - val_loss: 1657.5881\n",
            "Epoch 19/100\n",
            "18/18 [==============================] - 0s 4ms/step - loss: 261.0266 - val_loss: 1636.3644\n",
            "Epoch 20/100\n",
            "18/18 [==============================] - 0s 4ms/step - loss: 257.2543 - val_loss: 1465.3052\n",
            "Epoch 21/100\n",
            "18/18 [==============================] - 0s 27ms/step - loss: 252.8638 - val_loss: 1413.1865\n",
            "Epoch 22/100\n",
            "18/18 [==============================] - 0s 28ms/step - loss: 255.9810 - val_loss: 1373.4026\n",
            "Epoch 23/100\n",
            "18/18 [==============================] - 0s 26ms/step - loss: 252.5325 - val_loss: 1370.3656\n",
            "Epoch 24/100\n",
            "18/18 [==============================] - 0s 3ms/step - loss: 258.8605 - val_loss: 1407.8040\n",
            "Epoch 25/100\n",
            "18/18 [==============================] - 0s 3ms/step - loss: 250.7175 - val_loss: 1468.7972\n",
            "Epoch 26/100\n",
            "18/18 [==============================] - 0s 4ms/step - loss: 247.0854 - val_loss: 1456.0392\n",
            "Epoch 27/100\n",
            "18/18 [==============================] - 0s 5ms/step - loss: 244.7561 - val_loss: 1391.7485\n",
            "Epoch 28/100\n",
            "18/18 [==============================] - 0s 5ms/step - loss: 242.8757 - val_loss: 1420.3154\n",
            "Epoch 29/100\n",
            "18/18 [==============================] - 0s 3ms/step - loss: 246.2860 - val_loss: 1414.4220\n",
            "Epoch 30/100\n",
            "18/18 [==============================] - 0s 4ms/step - loss: 246.4733 - val_loss: 1372.4122\n",
            "Epoch 31/100\n",
            "18/18 [==============================] - 0s 26ms/step - loss: 240.1362 - val_loss: 1353.8202\n",
            "Epoch 32/100\n",
            "18/18 [==============================] - 0s 4ms/step - loss: 242.9541 - val_loss: 1388.6150\n",
            "Epoch 33/100\n",
            "18/18 [==============================] - 0s 4ms/step - loss: 242.7028 - val_loss: 1363.0789\n",
            "Epoch 34/100\n",
            "18/18 [==============================] - 0s 4ms/step - loss: 239.8944 - val_loss: 1395.7882\n",
            "Epoch 35/100\n",
            "18/18 [==============================] - 0s 4ms/step - loss: 245.6381 - val_loss: 1401.7654\n",
            "Epoch 36/100\n",
            "18/18 [==============================] - 0s 4ms/step - loss: 242.5463 - val_loss: 1461.4656\n",
            "Epoch 37/100\n",
            "18/18 [==============================] - 0s 27ms/step - loss: 259.6331 - val_loss: 1345.4058\n",
            "Epoch 38/100\n",
            "18/18 [==============================] - 0s 4ms/step - loss: 243.8726 - val_loss: 1370.5303\n",
            "Epoch 39/100\n",
            "18/18 [==============================] - 0s 29ms/step - loss: 241.1018 - val_loss: 1322.9131\n",
            "Epoch 40/100\n",
            "18/18 [==============================] - 0s 4ms/step - loss: 237.6155 - val_loss: 1480.1464\n",
            "Epoch 41/100\n",
            "18/18 [==============================] - 0s 4ms/step - loss: 239.9338 - val_loss: 1480.8010\n",
            "Epoch 42/100\n",
            "18/18 [==============================] - 0s 4ms/step - loss: 242.6399 - val_loss: 1338.8477\n",
            "Epoch 43/100\n",
            "18/18 [==============================] - 0s 27ms/step - loss: 232.8461 - val_loss: 1304.3829\n",
            "Epoch 44/100\n",
            "18/18 [==============================] - 0s 4ms/step - loss: 236.5041 - val_loss: 1314.8772\n",
            "Epoch 45/100\n",
            "18/18 [==============================] - 0s 4ms/step - loss: 233.9949 - val_loss: 1514.4814\n",
            "Epoch 46/100\n",
            "18/18 [==============================] - 0s 5ms/step - loss: 240.9508 - val_loss: 1323.2618\n",
            "Epoch 47/100\n",
            "18/18 [==============================] - 0s 7ms/step - loss: 234.7578 - val_loss: 1396.4507\n",
            "Epoch 48/100\n",
            "18/18 [==============================] - 0s 6ms/step - loss: 240.0871 - val_loss: 1329.6245\n",
            "Epoch 49/100\n",
            "18/18 [==============================] - 0s 5ms/step - loss: 245.8004 - val_loss: 1455.0249\n",
            "Epoch 50/100\n",
            "18/18 [==============================] - 0s 6ms/step - loss: 238.5691 - val_loss: 1314.9738\n",
            "Epoch 51/100\n",
            "18/18 [==============================] - 0s 6ms/step - loss: 229.5828 - val_loss: 1434.2472\n",
            "Epoch 52/100\n",
            "18/18 [==============================] - 0s 6ms/step - loss: 233.5920 - val_loss: 1304.3961\n",
            "Epoch 53/100\n",
            "18/18 [==============================] - 0s 5ms/step - loss: 234.9357 - val_loss: 1337.7539\n",
            "Epoch 54/100\n",
            "18/18 [==============================] - 1s 39ms/step - loss: 234.6338 - val_loss: 1291.6819\n",
            "Epoch 55/100\n",
            "18/18 [==============================] - 0s 6ms/step - loss: 230.8342 - val_loss: 1317.2373\n",
            "Epoch 56/100\n",
            "18/18 [==============================] - 1s 40ms/step - loss: 234.0659 - val_loss: 1290.3417\n",
            "Epoch 57/100\n",
            "18/18 [==============================] - 0s 6ms/step - loss: 231.8190 - val_loss: 1364.4884\n",
            "Epoch 58/100\n",
            "18/18 [==============================] - 1s 35ms/step - loss: 233.5027 - val_loss: 1284.9944\n",
            "Epoch 59/100\n",
            "18/18 [==============================] - 0s 4ms/step - loss: 230.5682 - val_loss: 1295.0649\n",
            "Epoch 60/100\n",
            "18/18 [==============================] - 0s 27ms/step - loss: 232.8537 - val_loss: 1279.2346\n",
            "Epoch 61/100\n",
            "18/18 [==============================] - 0s 3ms/step - loss: 229.0882 - val_loss: 1479.8351\n",
            "Epoch 62/100\n",
            "18/18 [==============================] - 0s 26ms/step - loss: 235.1960 - val_loss: 1276.8005\n",
            "Epoch 63/100\n",
            "18/18 [==============================] - 0s 4ms/step - loss: 235.5958 - val_loss: 1313.2549\n",
            "Epoch 64/100\n",
            "18/18 [==============================] - 0s 4ms/step - loss: 233.2154 - val_loss: 1353.7640\n",
            "Epoch 65/100\n",
            "18/18 [==============================] - 0s 5ms/step - loss: 228.2625 - val_loss: 1364.7654\n",
            "Epoch 66/100\n",
            "18/18 [==============================] - 0s 4ms/step - loss: 230.7702 - val_loss: 1601.2841\n",
            "Epoch 67/100\n",
            "18/18 [==============================] - 0s 4ms/step - loss: 239.8064 - val_loss: 1284.6086\n",
            "Epoch 68/100\n",
            "18/18 [==============================] - 0s 4ms/step - loss: 236.1890 - val_loss: 1277.5990\n",
            "Epoch 69/100\n",
            "18/18 [==============================] - 0s 4ms/step - loss: 229.5716 - val_loss: 1608.2676\n",
            "Epoch 70/100\n",
            "18/18 [==============================] - 0s 4ms/step - loss: 235.7252 - val_loss: 1307.5817\n",
            "Epoch 71/100\n",
            "18/18 [==============================] - 0s 3ms/step - loss: 234.5762 - val_loss: 1349.5795\n",
            "Epoch 72/100\n",
            "18/18 [==============================] - 0s 28ms/step - loss: 232.1197 - val_loss: 1261.2781\n",
            "Epoch 73/100\n",
            "18/18 [==============================] - 0s 4ms/step - loss: 226.6740 - val_loss: 1292.8590\n",
            "Epoch 74/100\n",
            "18/18 [==============================] - 0s 4ms/step - loss: 225.5303 - val_loss: 1339.6631\n",
            "Epoch 75/100\n",
            "18/18 [==============================] - 0s 4ms/step - loss: 227.2637 - val_loss: 1481.0664\n",
            "Epoch 76/100\n",
            "18/18 [==============================] - 0s 3ms/step - loss: 227.1559 - val_loss: 1264.3810\n",
            "Epoch 77/100\n",
            "18/18 [==============================] - 0s 26ms/step - loss: 232.6384 - val_loss: 1259.1938\n",
            "Epoch 78/100\n",
            "18/18 [==============================] - 0s 3ms/step - loss: 226.2071 - val_loss: 1296.0684\n",
            "Epoch 79/100\n",
            "18/18 [==============================] - 0s 4ms/step - loss: 231.8303 - val_loss: 1293.6453\n",
            "Epoch 80/100\n",
            "18/18 [==============================] - 0s 4ms/step - loss: 229.0647 - val_loss: 1338.5023\n",
            "Epoch 81/100\n",
            "18/18 [==============================] - 0s 4ms/step - loss: 228.2392 - val_loss: 1270.9070\n",
            "Epoch 82/100\n",
            "18/18 [==============================] - 0s 5ms/step - loss: 226.2434 - val_loss: 1267.6425\n",
            "Epoch 83/100\n",
            "18/18 [==============================] - 0s 4ms/step - loss: 222.9570 - val_loss: 1259.6195\n",
            "Epoch 84/100\n",
            "18/18 [==============================] - 0s 4ms/step - loss: 222.3436 - val_loss: 1270.7081\n",
            "Epoch 85/100\n",
            "18/18 [==============================] - 0s 28ms/step - loss: 222.3247 - val_loss: 1257.8568\n",
            "Epoch 86/100\n",
            "18/18 [==============================] - 0s 3ms/step - loss: 222.6998 - val_loss: 1311.3340\n",
            "Epoch 87/100\n",
            "18/18 [==============================] - 0s 4ms/step - loss: 228.8307 - val_loss: 1319.9633\n",
            "Epoch 88/100\n",
            "18/18 [==============================] - 0s 4ms/step - loss: 226.7014 - val_loss: 1537.4937\n",
            "Epoch 89/100\n",
            "18/18 [==============================] - 0s 5ms/step - loss: 229.7727 - val_loss: 1304.1661\n",
            "Epoch 90/100\n",
            "18/18 [==============================] - 0s 3ms/step - loss: 233.7651 - val_loss: 1343.6886\n",
            "Epoch 91/100\n",
            "18/18 [==============================] - 0s 3ms/step - loss: 239.3824 - val_loss: 1315.2393\n",
            "Epoch 92/100\n",
            "18/18 [==============================] - 0s 3ms/step - loss: 223.7364 - val_loss: 1267.0697\n",
            "Epoch 93/100\n",
            "18/18 [==============================] - 0s 4ms/step - loss: 227.8489 - val_loss: 1291.3014\n",
            "Epoch 94/100\n",
            "18/18 [==============================] - 0s 4ms/step - loss: 227.5474 - val_loss: 1319.2455\n",
            "Epoch 95/100\n",
            "18/18 [==============================] - 0s 4ms/step - loss: 224.8725 - val_loss: 1276.8398\n",
            "Epoch 96/100\n",
            "18/18 [==============================] - 0s 4ms/step - loss: 225.0036 - val_loss: 1467.4017\n",
            "Epoch 97/100\n",
            "18/18 [==============================] - 0s 4ms/step - loss: 236.0791 - val_loss: 1415.2316\n",
            "Epoch 98/100\n",
            "18/18 [==============================] - 0s 5ms/step - loss: 227.4247 - val_loss: 1293.7711\n",
            "Epoch 99/100\n",
            "18/18 [==============================] - 0s 26ms/step - loss: 221.8654 - val_loss: 1251.8242\n",
            "Epoch 100/100\n",
            "18/18 [==============================] - 0s 3ms/step - loss: 221.6335 - val_loss: 1369.9309\n",
            "18/18 [==============================] - 0s 1ms/step\n"
          ]
        },
        {
          "output_type": "execute_result",
          "data": {
            "text/plain": [
              "{'mae': 1369.9309,\n",
              " 'mse': 6016179.5,\n",
              " 'rmse': 1548.8325,\n",
              " 'mape': 6.0253544,\n",
              " 'mase': 2.4377153}"
            ]
          },
          "metadata": {},
          "execution_count": 163
        }
      ]
    }
  ]
}