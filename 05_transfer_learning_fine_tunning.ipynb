{
  "nbformat": 4,
  "nbformat_minor": 0,
  "metadata": {
    "colab": {
      "provenance": [],
      "gpuType": "T4",
      "authorship_tag": "ABX9TyPbYEPmMjaKIo7k8ZYYv6g5",
      "include_colab_link": true
    },
    "kernelspec": {
      "name": "python3",
      "display_name": "Python 3"
    },
    "language_info": {
      "name": "python"
    },
    "accelerator": "GPU"
  },
  "cells": [
    {
      "cell_type": "markdown",
      "metadata": {
        "id": "view-in-github",
        "colab_type": "text"
      },
      "source": [
        "<a href=\"https://colab.research.google.com/github/akshaypat444/tensorflow_practice/blob/main/05_transfer_learning_fine_tunning.ipynb\" target=\"_parent\"><img src=\"https://colab.research.google.com/assets/colab-badge.svg\" alt=\"Open In Colab\"/></a>"
      ]
    },
    {
      "cell_type": "code",
      "execution_count": 1,
      "metadata": {
        "id": "i4nG1jG5Ik5u"
      },
      "outputs": [],
      "source": [
        "import tensorflow as tf\n",
        "import pandas as pd\n",
        "import matplotlib.pyplot as plt\n",
        "\n"
      ]
    },
    {
      "cell_type": "markdown",
      "source": [
        "## Creating helpful functions"
      ],
      "metadata": {
        "id": "_JvE9LX_JgAa"
      }
    },
    {
      "cell_type": "code",
      "source": [
        "!wget https://raw.githubusercontent.com/mrdbourke/tensorflow-deep-learning/main/extras/helper_functions.py"
      ],
      "metadata": {
        "colab": {
          "base_uri": "https://localhost:8080/"
        },
        "id": "tu2O4WDnI5eY",
        "outputId": "09e220d1-42e7-4be0-9219-7929b16ebb3b"
      },
      "execution_count": 2,
      "outputs": [
        {
          "output_type": "stream",
          "name": "stdout",
          "text": [
            "--2024-03-02 22:47:10--  https://raw.githubusercontent.com/mrdbourke/tensorflow-deep-learning/main/extras/helper_functions.py\n",
            "Resolving raw.githubusercontent.com (raw.githubusercontent.com)... 185.199.108.133, 185.199.109.133, 185.199.110.133, ...\n",
            "Connecting to raw.githubusercontent.com (raw.githubusercontent.com)|185.199.108.133|:443... connected.\n",
            "HTTP request sent, awaiting response... 200 OK\n",
            "Length: 10246 (10K) [text/plain]\n",
            "Saving to: ‘helper_functions.py’\n",
            "\n",
            "\rhelper_functions.py   0%[                    ]       0  --.-KB/s               \rhelper_functions.py 100%[===================>]  10.01K  --.-KB/s    in 0s      \n",
            "\n",
            "2024-03-02 22:47:10 (89.3 MB/s) - ‘helper_functions.py’ saved [10246/10246]\n",
            "\n"
          ]
        }
      ]
    },
    {
      "cell_type": "code",
      "source": [
        "from helper_functions import create_tensorboard_callback, plot_loss_curves, unzip_data, walk_through_dir"
      ],
      "metadata": {
        "id": "a7NfmOl5KD9z"
      },
      "execution_count": 3,
      "outputs": []
    },
    {
      "cell_type": "markdown",
      "source": [
        "## Get data\n",
        "**Using inbuild pretrained models from `tf.keras.applications`**"
      ],
      "metadata": {
        "id": "c81LXRV2K3LL"
      }
    },
    {
      "cell_type": "code",
      "source": [
        "# Get 10% of traning data of food class"
      ],
      "metadata": {
        "id": "6FAkjho-KJq7"
      },
      "execution_count": 4,
      "outputs": []
    },
    {
      "cell_type": "code",
      "source": [
        "!wget https://storage.googleapis.com/ztm_tf_course/food_vision/10_food_classes_10_percent.zip"
      ],
      "metadata": {
        "colab": {
          "base_uri": "https://localhost:8080/"
        },
        "id": "J763M8-tLSD7",
        "outputId": "43ee6a07-e4fb-4f25-e1bb-39216ac3b9ac"
      },
      "execution_count": 5,
      "outputs": [
        {
          "output_type": "stream",
          "name": "stdout",
          "text": [
            "--2024-03-02 22:47:11--  https://storage.googleapis.com/ztm_tf_course/food_vision/10_food_classes_10_percent.zip\n",
            "Resolving storage.googleapis.com (storage.googleapis.com)... 74.125.24.207, 142.251.10.207, 142.251.12.207, ...\n",
            "Connecting to storage.googleapis.com (storage.googleapis.com)|74.125.24.207|:443... connected.\n",
            "HTTP request sent, awaiting response... 200 OK\n",
            "Length: 168546183 (161M) [application/zip]\n",
            "Saving to: ‘10_food_classes_10_percent.zip’\n",
            "\n",
            "10_food_classes_10_ 100%[===================>] 160.74M  23.2MB/s    in 8.5s    \n",
            "\n",
            "2024-03-02 22:47:21 (18.8 MB/s) - ‘10_food_classes_10_percent.zip’ saved [168546183/168546183]\n",
            "\n"
          ]
        }
      ]
    },
    {
      "cell_type": "code",
      "source": [
        "unzip_data(\"10_food_classes_10_percent.zip\")"
      ],
      "metadata": {
        "id": "mySUE9yfLkpU"
      },
      "execution_count": 6,
      "outputs": []
    },
    {
      "cell_type": "code",
      "source": [
        "walk_through_dir(\"10_food_classes_10_percent\")"
      ],
      "metadata": {
        "colab": {
          "base_uri": "https://localhost:8080/"
        },
        "id": "PmnerkWgLumM",
        "outputId": "dd69eeef-66e5-4b91-cecd-eec365537ddc"
      },
      "execution_count": 7,
      "outputs": [
        {
          "output_type": "stream",
          "name": "stdout",
          "text": [
            "There are 2 directories and 0 images in '10_food_classes_10_percent'.\n",
            "There are 10 directories and 0 images in '10_food_classes_10_percent/test'.\n",
            "There are 0 directories and 250 images in '10_food_classes_10_percent/test/pizza'.\n",
            "There are 0 directories and 250 images in '10_food_classes_10_percent/test/ramen'.\n",
            "There are 0 directories and 250 images in '10_food_classes_10_percent/test/hamburger'.\n",
            "There are 0 directories and 250 images in '10_food_classes_10_percent/test/chicken_wings'.\n",
            "There are 0 directories and 250 images in '10_food_classes_10_percent/test/ice_cream'.\n",
            "There are 0 directories and 250 images in '10_food_classes_10_percent/test/sushi'.\n",
            "There are 0 directories and 250 images in '10_food_classes_10_percent/test/chicken_curry'.\n",
            "There are 0 directories and 250 images in '10_food_classes_10_percent/test/grilled_salmon'.\n",
            "There are 0 directories and 250 images in '10_food_classes_10_percent/test/fried_rice'.\n",
            "There are 0 directories and 250 images in '10_food_classes_10_percent/test/steak'.\n",
            "There are 10 directories and 0 images in '10_food_classes_10_percent/train'.\n",
            "There are 0 directories and 75 images in '10_food_classes_10_percent/train/pizza'.\n",
            "There are 0 directories and 75 images in '10_food_classes_10_percent/train/ramen'.\n",
            "There are 0 directories and 75 images in '10_food_classes_10_percent/train/hamburger'.\n",
            "There are 0 directories and 75 images in '10_food_classes_10_percent/train/chicken_wings'.\n",
            "There are 0 directories and 75 images in '10_food_classes_10_percent/train/ice_cream'.\n",
            "There are 0 directories and 75 images in '10_food_classes_10_percent/train/sushi'.\n",
            "There are 0 directories and 75 images in '10_food_classes_10_percent/train/chicken_curry'.\n",
            "There are 0 directories and 75 images in '10_food_classes_10_percent/train/grilled_salmon'.\n",
            "There are 0 directories and 75 images in '10_food_classes_10_percent/train/fried_rice'.\n",
            "There are 0 directories and 75 images in '10_food_classes_10_percent/train/steak'.\n"
          ]
        }
      ]
    },
    {
      "cell_type": "markdown",
      "source": [
        "## Setup data"
      ],
      "metadata": {
        "id": "M4pn4Z0LL7sq"
      }
    },
    {
      "cell_type": "code",
      "source": [
        "train_dir = \"10_food_classes_10_percent/train\"\n",
        "test_dir = \"10_food_classes_10_percent/test\""
      ],
      "metadata": {
        "id": "YZeAR1YfL2f0"
      },
      "execution_count": 8,
      "outputs": []
    },
    {
      "cell_type": "code",
      "source": [
        "IMG_SIZE=(224,224)\n",
        "BATCH_SIZE=32\n",
        "\n",
        "train_data = tf.keras.preprocessing.image_dataset_from_directory(train_dir,\n",
        "                                                               batch_size=BATCH_SIZE,\n",
        "                                                               image_size=IMG_SIZE,\n",
        "                                                               shuffle=True,\n",
        "                                                               label_mode=\"categorical\")\n",
        "\n",
        "\n",
        "test_data = tf.keras.preprocessing.image_dataset_from_directory(test_dir,\n",
        "                                                               batch_size=BATCH_SIZE,\n",
        "                                                               image_size=IMG_SIZE,\n",
        "                                                               shuffle=True,\n",
        "                                                               label_mode=\"categorical\")"
      ],
      "metadata": {
        "colab": {
          "base_uri": "https://localhost:8080/"
        },
        "id": "7LZHIfg4MKk-",
        "outputId": "b4e25471-e4bf-4dfe-b99d-a75397645c28"
      },
      "execution_count": 9,
      "outputs": [
        {
          "output_type": "stream",
          "name": "stdout",
          "text": [
            "Found 750 files belonging to 10 classes.\n",
            "Found 2500 files belonging to 10 classes.\n"
          ]
        }
      ]
    },
    {
      "cell_type": "code",
      "source": [
        "train_data"
      ],
      "metadata": {
        "colab": {
          "base_uri": "https://localhost:8080/"
        },
        "id": "vLJgdav3OcIK",
        "outputId": "e2dff147-98f6-4b8d-89e2-c1f6d3dd057a"
      },
      "execution_count": 10,
      "outputs": [
        {
          "output_type": "execute_result",
          "data": {
            "text/plain": [
              "<_PrefetchDataset element_spec=(TensorSpec(shape=(None, 224, 224, 3), dtype=tf.float32, name=None), TensorSpec(shape=(None, 10), dtype=tf.float32, name=None))>"
            ]
          },
          "metadata": {},
          "execution_count": 10
        }
      ]
    },
    {
      "cell_type": "code",
      "source": [
        "train_data.class_names"
      ],
      "metadata": {
        "colab": {
          "base_uri": "https://localhost:8080/"
        },
        "id": "Zreo15tDMvYs",
        "outputId": "f66f3105-e0b1-4003-9e73-3f58cd53ba38"
      },
      "execution_count": 11,
      "outputs": [
        {
          "output_type": "execute_result",
          "data": {
            "text/plain": [
              "['chicken_curry',\n",
              " 'chicken_wings',\n",
              " 'fried_rice',\n",
              " 'grilled_salmon',\n",
              " 'hamburger',\n",
              " 'ice_cream',\n",
              " 'pizza',\n",
              " 'ramen',\n",
              " 'steak',\n",
              " 'sushi']"
            ]
          },
          "metadata": {},
          "execution_count": 11
        }
      ]
    },
    {
      "cell_type": "markdown",
      "source": [
        "## Keras Functional API - Can create more complex models\n",
        "**Keras Functional API vs Sequential API**\n",
        "`base_model = tf.keras.applications.efficientnet_v2.EfficientNetV2B0(include_top=False)`"
      ],
      "metadata": {
        "id": "kmYM5KGjPymb"
      }
    },
    {
      "cell_type": "markdown",
      "source": [
        "## Model 0: Using keras functional api"
      ],
      "metadata": {
        "id": "k-9LJ039RGJq"
      }
    },
    {
      "cell_type": "code",
      "source": [
        "# Create base model with tf.keras.application\n",
        "base_model = tf.keras.applications.efficientnet_v2.EfficientNetV2B0(include_top=False)\n",
        "\n",
        "# Freeze the base model (weights are not updated during training)\n",
        "base_model.trainable = False\n",
        "\n",
        "# Creat inputs into model\n",
        "inputs = tf.keras.layers.Input(shape=(224, 224, 3), name=\"input_layer\")\n",
        "\n",
        "# Normalize inputs\n",
        "# x = tf.keras.layers.experimental.preprocessing.Rescaling(1./255)(inputs)\n",
        "\n",
        "# Pass the inputs to the base_model\n",
        "x = base_model(inputs)\n",
        "\n",
        "# Average Pool\n",
        "x = tf.keras.layers.GlobalAveragePooling2D(name=\"global_average_pooling\")(x)\n",
        "\n",
        "# Create the ouput activation layer\n",
        "outputs = tf.keras.layers.Dense(10, activation=\"softmax\", name=\"output_layer\")(x)\n",
        "\n",
        "# Combine the inputs and outputs\n",
        "model_0 = tf.keras.Model(inputs, outputs)\n",
        "\n",
        "# Compile the model\n",
        "model_0.compile(loss=\"categorical_crossentropy\",\n",
        "                optimizer=tf.keras.optimizers.Adam(),\n",
        "                metrics=[\"accuracy\"])\n",
        "\n",
        "history_model_0 = model_0.fit(train_data, epochs=5,\n",
        "                              steps_per_epoch=len(train_data),\n",
        "                              validation_data=test_data,\n",
        "                              validation_steps=len(0.25 * test_data),\n",
        "                              callbacks=[create_tensorboard_callback(dir_name=\"transfer_learning\",\n",
        "                                                                     experiment_name=\"10% feature extraction\")])"
      ],
      "metadata": {
        "colab": {
          "base_uri": "https://localhost:8080/"
        },
        "id": "xCIuX6k0OWoU",
        "outputId": "46422c84-6f35-4ece-ed32-e6c21fb430ac"
      },
      "execution_count": 18,
      "outputs": [
        {
          "output_type": "stream",
          "name": "stdout",
          "text": [
            "Saving TensorBoard log files to: transfer_learning/10% feature extraction/20240302-225121\n",
            "Epoch 1/5\n",
            "24/24 [==============================] - 28s 614ms/step - loss: 1.8916 - accuracy: 0.4280 - val_loss: 1.3373 - val_accuracy: 0.7176\n",
            "Epoch 2/5\n",
            "24/24 [==============================] - 7s 302ms/step - loss: 1.1394 - accuracy: 0.7800 - val_loss: 0.8953 - val_accuracy: 0.8244\n",
            "Epoch 3/5\n",
            "24/24 [==============================] - 7s 280ms/step - loss: 0.8317 - accuracy: 0.8333 - val_loss: 0.7181 - val_accuracy: 0.8488\n",
            "Epoch 4/5\n",
            "24/24 [==============================] - 8s 325ms/step - loss: 0.6705 - accuracy: 0.8627 - val_loss: 0.6234 - val_accuracy: 0.8588\n",
            "Epoch 5/5\n",
            "24/24 [==============================] - 8s 323ms/step - loss: 0.5712 - accuracy: 0.8760 - val_loss: 0.5638 - val_accuracy: 0.8668\n"
          ]
        }
      ]
    },
    {
      "cell_type": "code",
      "source": [
        "model_0.evaluate(test_data)"
      ],
      "metadata": {
        "colab": {
          "base_uri": "https://localhost:8080/"
        },
        "id": "IWVjPCVMWjW2",
        "outputId": "772bfd76-c3ec-48c8-9348-464dcb6a3c0f"
      },
      "execution_count": 19,
      "outputs": [
        {
          "output_type": "stream",
          "name": "stdout",
          "text": [
            "79/79 [==============================] - 7s 78ms/step - loss: 0.5638 - accuracy: 0.8668\n"
          ]
        },
        {
          "output_type": "execute_result",
          "data": {
            "text/plain": [
              "[0.5637509822845459, 0.8668000102043152]"
            ]
          },
          "metadata": {},
          "execution_count": 19
        }
      ]
    },
    {
      "cell_type": "code",
      "source": [
        "model_0.summary()"
      ],
      "metadata": {
        "colab": {
          "base_uri": "https://localhost:8080/"
        },
        "id": "SSTDCnebXqSJ",
        "outputId": "b2873f4d-1af9-491b-b0b5-907c018b2ceb"
      },
      "execution_count": 20,
      "outputs": [
        {
          "output_type": "stream",
          "name": "stdout",
          "text": [
            "Model: \"model_6\"\n",
            "_________________________________________________________________\n",
            " Layer (type)                Output Shape              Param #   \n",
            "=================================================================\n",
            " input_layer (InputLayer)    [(None, 224, 224, 3)]     0         \n",
            "                                                                 \n",
            " efficientnetv2-b0 (Functio  (None, None, None, 1280   5919312   \n",
            " nal)                        )                                   \n",
            "                                                                 \n",
            " global_average_pooling (Gl  (None, 1280)              0         \n",
            " obalAveragePooling2D)                                           \n",
            "                                                                 \n",
            " output_layer (Dense)        (None, 10)                12810     \n",
            "                                                                 \n",
            "=================================================================\n",
            "Total params: 5932122 (22.63 MB)\n",
            "Trainable params: 12810 (50.04 KB)\n",
            "Non-trainable params: 5919312 (22.58 MB)\n",
            "_________________________________________________________________\n"
          ]
        }
      ]
    },
    {
      "cell_type": "markdown",
      "source": [
        "## Printing layers from base model resnet"
      ],
      "metadata": {
        "id": "TEG_ZdWKYAcr"
      }
    },
    {
      "cell_type": "code",
      "source": [
        "base_model.layers"
      ],
      "metadata": {
        "colab": {
          "base_uri": "https://localhost:8080/"
        },
        "id": "uUmtVeU6Xyv0",
        "outputId": "c60e0799-4135-4bad-ba3b-5d57ef5a42d6"
      },
      "execution_count": 22,
      "outputs": [
        {
          "output_type": "execute_result",
          "data": {
            "text/plain": [
              "[<keras.src.engine.input_layer.InputLayer at 0x798d08717eb0>,\n",
              " <keras.src.layers.preprocessing.image_preprocessing.Rescaling at 0x798d0ad78040>,\n",
              " <keras.src.layers.preprocessing.normalization.Normalization at 0x798d0ad78340>,\n",
              " <keras.src.layers.convolutional.conv2d.Conv2D at 0x798d0ac4f490>,\n",
              " <keras.src.layers.normalization.batch_normalization.BatchNormalization at 0x798cf74a5c30>,\n",
              " <keras.src.layers.core.activation.Activation at 0x798cf74a58a0>,\n",
              " <keras.src.layers.convolutional.conv2d.Conv2D at 0x798cf74a6740>,\n",
              " <keras.src.layers.normalization.batch_normalization.BatchNormalization at 0x798cf74a7cd0>,\n",
              " <keras.src.layers.core.activation.Activation at 0x798cf74077c0>,\n",
              " <keras.src.layers.convolutional.conv2d.Conv2D at 0x798cf74a65f0>,\n",
              " <keras.src.layers.normalization.batch_normalization.BatchNormalization at 0x798cf74c9b10>,\n",
              " <keras.src.layers.core.activation.Activation at 0x798cf74a7940>,\n",
              " <keras.src.layers.convolutional.conv2d.Conv2D at 0x798cf74c9f60>,\n",
              " <keras.src.layers.normalization.batch_normalization.BatchNormalization at 0x798cf74cb8e0>,\n",
              " <keras.src.layers.convolutional.conv2d.Conv2D at 0x798cf74cbdc0>,\n",
              " <keras.src.layers.normalization.batch_normalization.BatchNormalization at 0x798cf74ca200>,\n",
              " <keras.src.layers.core.activation.Activation at 0x798cf74a6770>,\n",
              " <keras.src.layers.convolutional.conv2d.Conv2D at 0x798cf74cab00>,\n",
              " <keras.src.layers.normalization.batch_normalization.BatchNormalization at 0x798cf74c86a0>,\n",
              " <keras.src.layers.regularization.dropout.Dropout at 0x798cf74ea320>,\n",
              " <keras.src.layers.merging.add.Add at 0x798cf74c9450>,\n",
              " <keras.src.layers.convolutional.conv2d.Conv2D at 0x798cf74ea380>,\n",
              " <keras.src.layers.normalization.batch_normalization.BatchNormalization at 0x798cf74ebe80>,\n",
              " <keras.src.layers.core.activation.Activation at 0x798cf77e4bb0>,\n",
              " <keras.src.layers.convolutional.conv2d.Conv2D at 0x798cf74eb5e0>,\n",
              " <keras.src.layers.normalization.batch_normalization.BatchNormalization at 0x798cf74ea530>,\n",
              " <keras.src.layers.convolutional.conv2d.Conv2D at 0x798cf74ebf70>,\n",
              " <keras.src.layers.normalization.batch_normalization.BatchNormalization at 0x798cf730a6b0>,\n",
              " <keras.src.layers.core.activation.Activation at 0x798cf730a4a0>,\n",
              " <keras.src.layers.convolutional.conv2d.Conv2D at 0x798cf74e9930>,\n",
              " <keras.src.layers.normalization.batch_normalization.BatchNormalization at 0x798cf730b280>,\n",
              " <keras.src.layers.regularization.dropout.Dropout at 0x798cf7309d20>,\n",
              " <keras.src.layers.merging.add.Add at 0x798cf74e91b0>,\n",
              " <keras.src.layers.convolutional.conv2d.Conv2D at 0x798cf7339210>,\n",
              " <keras.src.layers.normalization.batch_normalization.BatchNormalization at 0x798cf733ac80>,\n",
              " <keras.src.layers.core.activation.Activation at 0x798cf733a620>,\n",
              " <keras.src.layers.convolutional.depthwise_conv2d.DepthwiseConv2D at 0x798cf730bdc0>,\n",
              " <keras.src.layers.normalization.batch_normalization.BatchNormalization at 0x798cf733a470>,\n",
              " <keras.src.layers.core.activation.Activation at 0x798cf733bf70>,\n",
              " <keras.src.layers.pooling.global_average_pooling2d.GlobalAveragePooling2D at 0x798cf733b3d0>,\n",
              " <keras.src.layers.reshaping.reshape.Reshape at 0x798cf735c970>,\n",
              " <keras.src.layers.convolutional.conv2d.Conv2D at 0x798cf777d5a0>,\n",
              " <keras.src.layers.convolutional.conv2d.Conv2D at 0x798cf74e9150>,\n",
              " <keras.src.layers.merging.multiply.Multiply at 0x798cf735e920>,\n",
              " <keras.src.layers.convolutional.conv2d.Conv2D at 0x798cf735f310>,\n",
              " <keras.src.layers.normalization.batch_normalization.BatchNormalization at 0x798cf735f7f0>,\n",
              " <keras.src.layers.convolutional.conv2d.Conv2D at 0x798cf735ffd0>,\n",
              " <keras.src.layers.normalization.batch_normalization.BatchNormalization at 0x798cf7388760>,\n",
              " <keras.src.layers.core.activation.Activation at 0x798cf735f970>,\n",
              " <keras.src.layers.convolutional.depthwise_conv2d.DepthwiseConv2D at 0x798cf733bee0>,\n",
              " <keras.src.layers.normalization.batch_normalization.BatchNormalization at 0x798cf735fac0>,\n",
              " <keras.src.layers.core.activation.Activation at 0x798cf735e2c0>,\n",
              " <keras.src.layers.pooling.global_average_pooling2d.GlobalAveragePooling2D at 0x798cf735f2e0>,\n",
              " <keras.src.layers.reshaping.reshape.Reshape at 0x798cf74c8610>,\n",
              " <keras.src.layers.convolutional.conv2d.Conv2D at 0x798cf7309930>,\n",
              " <keras.src.layers.convolutional.conv2d.Conv2D at 0x798cf7338610>,\n",
              " <keras.src.layers.merging.multiply.Multiply at 0x798cf735c0a0>,\n",
              " <keras.src.layers.convolutional.conv2d.Conv2D at 0x798cf735cd60>,\n",
              " <keras.src.layers.normalization.batch_normalization.BatchNormalization at 0x798cf738b460>,\n",
              " <keras.src.layers.regularization.dropout.Dropout at 0x798cf738be80>,\n",
              " <keras.src.layers.merging.add.Add at 0x798cf7308d30>,\n",
              " <keras.src.layers.convolutional.conv2d.Conv2D at 0x798cf738b5b0>,\n",
              " <keras.src.layers.normalization.batch_normalization.BatchNormalization at 0x798cf73a21d0>,\n",
              " <keras.src.layers.core.activation.Activation at 0x798cf73a05b0>,\n",
              " <keras.src.layers.convolutional.depthwise_conv2d.DepthwiseConv2D at 0x798cf7338bb0>,\n",
              " <keras.src.layers.normalization.batch_normalization.BatchNormalization at 0x798cf73a37f0>,\n",
              " <keras.src.layers.core.activation.Activation at 0x798cf73a33d0>,\n",
              " <keras.src.layers.pooling.global_average_pooling2d.GlobalAveragePooling2D at 0x798cf73a0400>,\n",
              " <keras.src.layers.reshaping.reshape.Reshape at 0x798cf73a0b80>,\n",
              " <keras.src.layers.convolutional.conv2d.Conv2D at 0x798cf7308460>,\n",
              " <keras.src.layers.convolutional.conv2d.Conv2D at 0x798cf730a650>,\n",
              " <keras.src.layers.merging.multiply.Multiply at 0x798cf73b9e70>,\n",
              " <keras.src.layers.convolutional.conv2d.Conv2D at 0x798cf73ba530>,\n",
              " <keras.src.layers.normalization.batch_normalization.BatchNormalization at 0x798cf73bba60>,\n",
              " <keras.src.layers.regularization.dropout.Dropout at 0x798cf73bb220>,\n",
              " <keras.src.layers.merging.add.Add at 0x798cf73bbe20>,\n",
              " <keras.src.layers.convolutional.conv2d.Conv2D at 0x798cf73bbfd0>,\n",
              " <keras.src.layers.normalization.batch_normalization.BatchNormalization at 0x798cf73ba350>,\n",
              " <keras.src.layers.core.activation.Activation at 0x798cf73ba710>,\n",
              " <keras.src.layers.convolutional.depthwise_conv2d.DepthwiseConv2D at 0x798cf73a16c0>,\n",
              " <keras.src.layers.normalization.batch_normalization.BatchNormalization at 0x798cf73e6fe0>,\n",
              " <keras.src.layers.core.activation.Activation at 0x798cf73e63e0>,\n",
              " <keras.src.layers.pooling.global_average_pooling2d.GlobalAveragePooling2D at 0x798cf73e6170>,\n",
              " <keras.src.layers.reshaping.reshape.Reshape at 0x798cf73e4b80>,\n",
              " <keras.src.layers.convolutional.conv2d.Conv2D at 0x798cf73a33a0>,\n",
              " <keras.src.layers.convolutional.conv2d.Conv2D at 0x798cf7389a20>,\n",
              " <keras.src.layers.merging.multiply.Multiply at 0x798cf7204370>,\n",
              " <keras.src.layers.convolutional.conv2d.Conv2D at 0x798cf7205b40>,\n",
              " <keras.src.layers.normalization.batch_normalization.BatchNormalization at 0x798cf7206ec0>,\n",
              " <keras.src.layers.convolutional.conv2d.Conv2D at 0x798cf7206710>,\n",
              " <keras.src.layers.normalization.batch_normalization.BatchNormalization at 0x798cf72064d0>,\n",
              " <keras.src.layers.core.activation.Activation at 0x798cf7206980>,\n",
              " <keras.src.layers.convolutional.depthwise_conv2d.DepthwiseConv2D at 0x798cf73b9420>,\n",
              " <keras.src.layers.normalization.batch_normalization.BatchNormalization at 0x798cf7206da0>,\n",
              " <keras.src.layers.core.activation.Activation at 0x798cf7207190>,\n",
              " <keras.src.layers.pooling.global_average_pooling2d.GlobalAveragePooling2D at 0x798cf738bb80>,\n",
              " <keras.src.layers.reshaping.reshape.Reshape at 0x798cf730ac80>,\n",
              " <keras.src.layers.convolutional.conv2d.Conv2D at 0x798cf73e76a0>,\n",
              " <keras.src.layers.convolutional.conv2d.Conv2D at 0x798cf7206c50>,\n",
              " <keras.src.layers.merging.multiply.Multiply at 0x798cf73a3fa0>,\n",
              " <keras.src.layers.convolutional.conv2d.Conv2D at 0x798cf7205bd0>,\n",
              " <keras.src.layers.normalization.batch_normalization.BatchNormalization at 0x798cf7232ce0>,\n",
              " <keras.src.layers.regularization.dropout.Dropout at 0x798cf72336a0>,\n",
              " <keras.src.layers.merging.add.Add at 0x798cf72316f0>,\n",
              " <keras.src.layers.convolutional.conv2d.Conv2D at 0x798cf7232c20>,\n",
              " <keras.src.layers.normalization.batch_normalization.BatchNormalization at 0x798cf7233850>,\n",
              " <keras.src.layers.core.activation.Activation at 0x798cf7308280>,\n",
              " <keras.src.layers.convolutional.depthwise_conv2d.DepthwiseConv2D at 0x798cf72338e0>,\n",
              " <keras.src.layers.normalization.batch_normalization.BatchNormalization at 0x798cf7240be0>,\n",
              " <keras.src.layers.core.activation.Activation at 0x798cf7240370>,\n",
              " <keras.src.layers.pooling.global_average_pooling2d.GlobalAveragePooling2D at 0x798cf72425f0>,\n",
              " <keras.src.layers.reshaping.reshape.Reshape at 0x798cf72431c0>,\n",
              " <keras.src.layers.convolutional.conv2d.Conv2D at 0x798cf73a3040>,\n",
              " <keras.src.layers.convolutional.conv2d.Conv2D at 0x798cf73bb340>,\n",
              " <keras.src.layers.merging.multiply.Multiply at 0x798cf7243550>,\n",
              " <keras.src.layers.convolutional.conv2d.Conv2D at 0x798cf7242d70>,\n",
              " <keras.src.layers.normalization.batch_normalization.BatchNormalization at 0x798cf726a2f0>,\n",
              " <keras.src.layers.regularization.dropout.Dropout at 0x798cf726ac80>,\n",
              " <keras.src.layers.merging.add.Add at 0x798cf72689a0>,\n",
              " <keras.src.layers.convolutional.conv2d.Conv2D at 0x798cf726ace0>,\n",
              " <keras.src.layers.normalization.batch_normalization.BatchNormalization at 0x798cf726b670>,\n",
              " <keras.src.layers.core.activation.Activation at 0x798cf72694e0>,\n",
              " <keras.src.layers.convolutional.depthwise_conv2d.DepthwiseConv2D at 0x798cf7240bb0>,\n",
              " <keras.src.layers.normalization.batch_normalization.BatchNormalization at 0x798cf726b0d0>,\n",
              " <keras.src.layers.core.activation.Activation at 0x798cf72903d0>,\n",
              " <keras.src.layers.pooling.global_average_pooling2d.GlobalAveragePooling2D at 0x798cf7233880>,\n",
              " <keras.src.layers.reshaping.reshape.Reshape at 0x798cf7292440>,\n",
              " <keras.src.layers.convolutional.conv2d.Conv2D at 0x798cf7242aa0>,\n",
              " <keras.src.layers.convolutional.conv2d.Conv2D at 0x798cf72938e0>,\n",
              " <keras.src.layers.merging.multiply.Multiply at 0x798cf7293e80>,\n",
              " <keras.src.layers.convolutional.conv2d.Conv2D at 0x798cf7292260>,\n",
              " <keras.src.layers.normalization.batch_normalization.BatchNormalization at 0x798cf7243640>,\n",
              " <keras.src.layers.regularization.dropout.Dropout at 0x798cf726a9e0>,\n",
              " <keras.src.layers.merging.add.Add at 0x798cf72437f0>,\n",
              " <keras.src.layers.convolutional.conv2d.Conv2D at 0x798cf7293df0>,\n",
              " <keras.src.layers.normalization.batch_normalization.BatchNormalization at 0x798cf7233250>,\n",
              " <keras.src.layers.core.activation.Activation at 0x798cf7243970>,\n",
              " <keras.src.layers.convolutional.depthwise_conv2d.DepthwiseConv2D at 0x798cf7292350>,\n",
              " <keras.src.layers.normalization.batch_normalization.BatchNormalization at 0x798cf72b2d10>,\n",
              " <keras.src.layers.core.activation.Activation at 0x798cf72b2110>,\n",
              " <keras.src.layers.pooling.global_average_pooling2d.GlobalAveragePooling2D at 0x798cf72b1ea0>,\n",
              " <keras.src.layers.reshaping.reshape.Reshape at 0x798cf72b0580>,\n",
              " <keras.src.layers.convolutional.conv2d.Conv2D at 0x798cf72926b0>,\n",
              " <keras.src.layers.convolutional.conv2d.Conv2D at 0x798cf7269ba0>,\n",
              " <keras.src.layers.merging.multiply.Multiply at 0x798cf72b3cd0>,\n",
              " <keras.src.layers.convolutional.conv2d.Conv2D at 0x798cf72d1870>,\n",
              " <keras.src.layers.normalization.batch_normalization.BatchNormalization at 0x798cf72d2bf0>,\n",
              " <keras.src.layers.regularization.dropout.Dropout at 0x798cf72d35b0>,\n",
              " <keras.src.layers.merging.add.Add at 0x798cf72d3df0>,\n",
              " <keras.src.layers.convolutional.conv2d.Conv2D at 0x798cf72d2c50>,\n",
              " <keras.src.layers.normalization.batch_normalization.BatchNormalization at 0x798cf72d2590>,\n",
              " <keras.src.layers.core.activation.Activation at 0x798cf72d3970>,\n",
              " <keras.src.layers.convolutional.depthwise_conv2d.DepthwiseConv2D at 0x798cf72b00d0>,\n",
              " <keras.src.layers.normalization.batch_normalization.BatchNormalization at 0x798cf72f91b0>,\n",
              " <keras.src.layers.core.activation.Activation at 0x798cf72d3820>,\n",
              " <keras.src.layers.pooling.global_average_pooling2d.GlobalAveragePooling2D at 0x798cf72d39d0>,\n",
              " <keras.src.layers.reshaping.reshape.Reshape at 0x798cf72fb6d0>,\n",
              " <keras.src.layers.convolutional.conv2d.Conv2D at 0x798cf72b33d0>,\n",
              " <keras.src.layers.convolutional.conv2d.Conv2D at 0x798cf7269a80>,\n",
              " <keras.src.layers.merging.multiply.Multiply at 0x798cf72fb670>,\n",
              " <keras.src.layers.convolutional.conv2d.Conv2D at 0x798cf71152d0>,\n",
              " <keras.src.layers.normalization.batch_normalization.BatchNormalization at 0x798cf7115330>,\n",
              " <keras.src.layers.convolutional.conv2d.Conv2D at 0x798cf71161d0>,\n",
              " <keras.src.layers.normalization.batch_normalization.BatchNormalization at 0x798cf7117cd0>,\n",
              " <keras.src.layers.core.activation.Activation at 0x798cf71171c0>,\n",
              " <keras.src.layers.convolutional.depthwise_conv2d.DepthwiseConv2D at 0x798cf71170d0>,\n",
              " <keras.src.layers.normalization.batch_normalization.BatchNormalization at 0x798cf7115d20>,\n",
              " <keras.src.layers.core.activation.Activation at 0x798cf7117a00>,\n",
              " <keras.src.layers.pooling.global_average_pooling2d.GlobalAveragePooling2D at 0x798cf7116b00>,\n",
              " <keras.src.layers.reshaping.reshape.Reshape at 0x798cf72d31f0>,\n",
              " <keras.src.layers.convolutional.conv2d.Conv2D at 0x798cf735c7c0>,\n",
              " <keras.src.layers.convolutional.conv2d.Conv2D at 0x798cf72f9150>,\n",
              " <keras.src.layers.merging.multiply.Multiply at 0x798cf726b130>,\n",
              " <keras.src.layers.convolutional.conv2d.Conv2D at 0x798cf72f99f0>,\n",
              " <keras.src.layers.normalization.batch_normalization.BatchNormalization at 0x798cf713ab90>,\n",
              " <keras.src.layers.regularization.dropout.Dropout at 0x798cf713b340>,\n",
              " <keras.src.layers.merging.add.Add at 0x798cf7243520>,\n",
              " <keras.src.layers.convolutional.conv2d.Conv2D at 0x798cf713b3a0>,\n",
              " <keras.src.layers.normalization.batch_normalization.BatchNormalization at 0x798cf713a320>,\n",
              " <keras.src.layers.core.activation.Activation at 0x798cf713b5b0>,\n",
              " <keras.src.layers.convolutional.depthwise_conv2d.DepthwiseConv2D at 0x798cf713bf10>,\n",
              " <keras.src.layers.normalization.batch_normalization.BatchNormalization at 0x798cf7158c70>,\n",
              " <keras.src.layers.core.activation.Activation at 0x798cf71585b0>,\n",
              " <keras.src.layers.pooling.global_average_pooling2d.GlobalAveragePooling2D at 0x798cf713b790>,\n",
              " <keras.src.layers.reshaping.reshape.Reshape at 0x798cf715a0b0>,\n",
              " <keras.src.layers.convolutional.conv2d.Conv2D at 0x798cf72fac20>,\n",
              " <keras.src.layers.convolutional.conv2d.Conv2D at 0x798cf72d24d0>,\n",
              " <keras.src.layers.merging.multiply.Multiply at 0x798cf715b580>,\n",
              " <keras.src.layers.convolutional.conv2d.Conv2D at 0x798cf715bc10>,\n",
              " <keras.src.layers.normalization.batch_normalization.BatchNormalization at 0x798cf71725c0>,\n",
              " <keras.src.layers.regularization.dropout.Dropout at 0x798cf7170e20>,\n",
              " <keras.src.layers.merging.add.Add at 0x798cf715b6a0>,\n",
              " <keras.src.layers.convolutional.conv2d.Conv2D at 0x798cf71717e0>,\n",
              " <keras.src.layers.normalization.batch_normalization.BatchNormalization at 0x798cf7173430>,\n",
              " <keras.src.layers.core.activation.Activation at 0x798cf7173eb0>,\n",
              " <keras.src.layers.convolutional.depthwise_conv2d.DepthwiseConv2D at 0x798cf7173e20>,\n",
              " <keras.src.layers.normalization.batch_normalization.BatchNormalization at 0x798cf7170d90>,\n",
              " <keras.src.layers.core.activation.Activation at 0x798cf71710c0>,\n",
              " <keras.src.layers.pooling.global_average_pooling2d.GlobalAveragePooling2D at 0x798cf71733a0>,\n",
              " <keras.src.layers.reshaping.reshape.Reshape at 0x798cf7199b10>,\n",
              " <keras.src.layers.convolutional.conv2d.Conv2D at 0x798cf715ad70>,\n",
              " <keras.src.layers.convolutional.conv2d.Conv2D at 0x798cf713a260>,\n",
              " <keras.src.layers.merging.multiply.Multiply at 0x798cf719b880>,\n",
              " <keras.src.layers.convolutional.conv2d.Conv2D at 0x798cf719b5b0>,\n",
              " <keras.src.layers.normalization.batch_normalization.BatchNormalization at 0x798cf71bda20>,\n",
              " <keras.src.layers.regularization.dropout.Dropout at 0x798cf719b2e0>,\n",
              " <keras.src.layers.merging.add.Add at 0x798cf719aad0>,\n",
              " <keras.src.layers.convolutional.conv2d.Conv2D at 0x798cf7199750>,\n",
              " <keras.src.layers.normalization.batch_normalization.BatchNormalization at 0x798cf71721a0>,\n",
              " <keras.src.layers.core.activation.Activation at 0x798cf713b280>,\n",
              " <keras.src.layers.convolutional.depthwise_conv2d.DepthwiseConv2D at 0x798cf72d34f0>,\n",
              " <keras.src.layers.normalization.batch_normalization.BatchNormalization at 0x798cf71590f0>,\n",
              " <keras.src.layers.core.activation.Activation at 0x798cf713b130>,\n",
              " <keras.src.layers.pooling.global_average_pooling2d.GlobalAveragePooling2D at 0x798cf72d19c0>,\n",
              " <keras.src.layers.reshaping.reshape.Reshape at 0x798cf71bf7c0>,\n",
              " <keras.src.layers.convolutional.conv2d.Conv2D at 0x798cf7199ff0>,\n",
              " <keras.src.layers.convolutional.conv2d.Conv2D at 0x798cf7171c90>,\n",
              " <keras.src.layers.merging.multiply.Multiply at 0x798cf71bfa00>,\n",
              " <keras.src.layers.convolutional.conv2d.Conv2D at 0x798cf71bfa90>,\n",
              " <keras.src.layers.normalization.batch_normalization.BatchNormalization at 0x798cf71e2920>,\n",
              " <keras.src.layers.regularization.dropout.Dropout at 0x798cf71e1180>,\n",
              " <keras.src.layers.merging.add.Add at 0x798cf71bfbb0>,\n",
              " <keras.src.layers.convolutional.conv2d.Conv2D at 0x798cf71e1b10>,\n",
              " <keras.src.layers.normalization.batch_normalization.BatchNormalization at 0x798cf71e3790>,\n",
              " <keras.src.layers.core.activation.Activation at 0x798cf71e2da0>,\n",
              " <keras.src.layers.convolutional.depthwise_conv2d.DepthwiseConv2D at 0x798cf71e3700>,\n",
              " <keras.src.layers.normalization.batch_normalization.BatchNormalization at 0x798cf71e2aa0>,\n",
              " <keras.src.layers.core.activation.Activation at 0x798cf71e2e00>,\n",
              " <keras.src.layers.pooling.global_average_pooling2d.GlobalAveragePooling2D at 0x798cf71f60e0>,\n",
              " <keras.src.layers.reshaping.reshape.Reshape at 0x798cf71f6620>,\n",
              " <keras.src.layers.convolutional.conv2d.Conv2D at 0x798cf71bcd30>,\n",
              " <keras.src.layers.convolutional.conv2d.Conv2D at 0x798cf71bd1b0>,\n",
              " <keras.src.layers.merging.multiply.Multiply at 0x798cf71f7d00>,\n",
              " <keras.src.layers.convolutional.conv2d.Conv2D at 0x798cf71f7df0>,\n",
              " <keras.src.layers.normalization.batch_normalization.BatchNormalization at 0x798cf7024040>,\n",
              " <keras.src.layers.regularization.dropout.Dropout at 0x798cf71f7c10>,\n",
              " <keras.src.layers.merging.add.Add at 0x798cf71f7670>,\n",
              " <keras.src.layers.convolutional.conv2d.Conv2D at 0x798cf71f74c0>,\n",
              " <keras.src.layers.normalization.batch_normalization.BatchNormalization at 0x798cf7027370>,\n",
              " <keras.src.layers.core.activation.Activation at 0x798cf7026f80>,\n",
              " <keras.src.layers.convolutional.depthwise_conv2d.DepthwiseConv2D at 0x798cf7027ee0>,\n",
              " <keras.src.layers.normalization.batch_normalization.BatchNormalization at 0x798cf7026110>,\n",
              " <keras.src.layers.core.activation.Activation at 0x798cf7026680>,\n",
              " <keras.src.layers.pooling.global_average_pooling2d.GlobalAveragePooling2D at 0x798cf7026320>,\n",
              " <keras.src.layers.reshaping.reshape.Reshape at 0x798cf7027940>,\n",
              " <keras.src.layers.convolutional.conv2d.Conv2D at 0x798cf7027160>,\n",
              " <keras.src.layers.convolutional.conv2d.Conv2D at 0x798cf71f58d0>,\n",
              " <keras.src.layers.merging.multiply.Multiply at 0x798cf71e0100>,\n",
              " <keras.src.layers.convolutional.conv2d.Conv2D at 0x798cf71f4460>,\n",
              " <keras.src.layers.normalization.batch_normalization.BatchNormalization at 0x798cf7025ed0>,\n",
              " <keras.src.layers.regularization.dropout.Dropout at 0x798cf704f2b0>,\n",
              " <keras.src.layers.merging.add.Add at 0x798cf71e24d0>,\n",
              " <keras.src.layers.convolutional.conv2d.Conv2D at 0x798cf704ce80>,\n",
              " <keras.src.layers.normalization.batch_normalization.BatchNormalization at 0x798cf704eda0>,\n",
              " <keras.src.layers.core.activation.Activation at 0x798cf704f610>,\n",
              " <keras.src.layers.convolutional.depthwise_conv2d.DepthwiseConv2D at 0x798cf704ff70>,\n",
              " <keras.src.layers.normalization.batch_normalization.BatchNormalization at 0x798cf7074d30>,\n",
              " <keras.src.layers.core.activation.Activation at 0x798cf7074640>,\n",
              " <keras.src.layers.pooling.global_average_pooling2d.GlobalAveragePooling2D at 0x798cf704f6d0>,\n",
              " <keras.src.layers.reshaping.reshape.Reshape at 0x798cf7076170>,\n",
              " <keras.src.layers.convolutional.conv2d.Conv2D at 0x798cf704d630>,\n",
              " <keras.src.layers.convolutional.conv2d.Conv2D at 0x798cf70250f0>,\n",
              " <keras.src.layers.merging.multiply.Multiply at 0x798cf7077d90>,\n",
              " <keras.src.layers.convolutional.conv2d.Conv2D at 0x798cf7077b50>,\n",
              " <keras.src.layers.normalization.batch_normalization.BatchNormalization at 0x798cf7092680>,\n",
              " <keras.src.layers.regularization.dropout.Dropout at 0x798cf7090ee0>,\n",
              " <keras.src.layers.merging.add.Add at 0x798cf70774f0>,\n",
              " <keras.src.layers.convolutional.conv2d.Conv2D at 0x798cf74a59f0>,\n",
              " <keras.src.layers.normalization.batch_normalization.BatchNormalization at 0x798cf74ca3b0>,\n",
              " <keras.src.layers.core.activation.Activation at 0x798cf74cb400>]"
            ]
          },
          "metadata": {},
          "execution_count": 22
        }
      ]
    },
    {
      "cell_type": "code",
      "source": [
        "plot_loss_curves(history_model_0)"
      ],
      "metadata": {
        "colab": {
          "base_uri": "https://localhost:8080/",
          "height": 927
        },
        "id": "kNWDxESKX6_k",
        "outputId": "c583d1a1-93af-4173-b978-632c9d56231d"
      },
      "execution_count": 24,
      "outputs": [
        {
          "output_type": "display_data",
          "data": {
            "text/plain": [
              "<Figure size 640x480 with 1 Axes>"
            ],
            "image/png": "[encoded data removed]"
          },
          "metadata": {}
        },
        {
          "output_type": "display_data",
          "data": {
            "text/plain": [
              "<Figure size 640x480 with 1 Axes>"
            ],
            "image/png": "[encoded data removed]"
          },
          "metadata": {}
        }
      ]
    },
    {
      "cell_type": "markdown",
      "source": [
        "## Getting feature vector from trained model"
      ],
      "metadata": {
        "id": "I0K2pSH_b6xd"
      }
    },
    {
      "cell_type": "code",
      "source": [
        "input_shape = (1, 4, 4, 3)\n",
        "tf.random.set_seed(42)\n",
        "\n",
        "input_tensor = tf.random.normal(input_shape)\n",
        "print(f\"{input_tensor}\")\n",
        "\n",
        "global_average_pooled_tensor = tf.keras.layers.GlobalAveragePooling2D()(input_tensor)\n",
        "print(f\"{global_average_pooled_tensor}\")"
      ],
      "metadata": {
        "colab": {
          "base_uri": "https://localhost:8080/"
        },
        "id": "1R853XkfYj1z",
        "outputId": "a954aeff-4fe5-4794-ea0d-dae075b9d9c3"
      },
      "execution_count": 29,
      "outputs": [
        {
          "output_type": "stream",
          "name": "stdout",
          "text": [
            "[[[[ 0.3274685  -0.8426258   0.3194337 ]\n",
            "   [-1.4075519  -2.3880599  -1.0392479 ]\n",
            "   [-0.5573232   0.539707    1.6994323 ]\n",
            "   [ 0.28893656 -1.5066116  -0.2645474 ]]\n",
            "\n",
            "  [[-0.59722406 -1.9171132  -0.62044144]\n",
            "   [ 0.8504023  -0.40604794 -3.0258412 ]\n",
            "   [ 0.9058464   0.29855987 -0.22561555]\n",
            "   [-0.7616443  -1.8917141  -0.93847126]]\n",
            "\n",
            "  [[ 0.77852213 -0.47338894  0.97772694]\n",
            "   [ 0.24694404  0.20573746 -0.52562326]\n",
            "   [ 0.32410017  0.02545409 -0.10638496]\n",
            "   [-0.63694745  1.1603122   0.2507359 ]]\n",
            "\n",
            "  [[-0.41728503  0.4012578  -1.4145443 ]\n",
            "   [-0.5931857  -1.6617213   0.33567193]\n",
            "   [ 0.10815628  0.23479679 -0.56668764]\n",
            "   [-0.35819843  0.88698614  0.52744764]]]]\n",
            "[[-0.09368646 -0.45840448 -0.2885598 ]]\n"
          ]
        }
      ]
    },
    {
      "cell_type": "code",
      "source": [
        "# Replicate what GlobalAveragePooling2D in simple code\n",
        "tf.reduce_mean(input_tensor, axis=[1, 2])"
      ],
      "metadata": {
        "colab": {
          "base_uri": "https://localhost:8080/"
        },
        "id": "mrAsv1JDd1Jk",
        "outputId": "03747993-da71-4378-b203-fcc644a0bb3a"
      },
      "execution_count": 31,
      "outputs": [
        {
          "output_type": "execute_result",
          "data": {
            "text/plain": [
              "<tf.Tensor: shape=(1, 3), dtype=float32, numpy=array([[-0.09368646, -0.45840448, -0.2885598 ]], dtype=float32)>"
            ]
          },
          "metadata": {},
          "execution_count": 31
        }
      ]
    },
    {
      "cell_type": "markdown",
      "source": [
        "## Running series of transfer learning experiments\n",
        "\n",
        "1. `model_1` - use feature extraction transfer learning with 1% of the traning data with data augmentation\n",
        "2. `model_2` - use feature extraction transfer learning with 10% of the traning with data augmentation\n",
        "3.  `model_3` - fine-tunning  \n",
        "4. `model_4` - fine-tunning and 100% training data"
      ],
      "metadata": {
        "id": "SKLQ8-plfrFr"
      }
    },
    {
      "cell_type": "markdown",
      "source": [
        "### Model_1"
      ],
      "metadata": {
        "id": "I6R-A0w3f8gs"
      }
    },
    {
      "cell_type": "code",
      "source": [
        "# Download and prepare data\n",
        "!wget https://storage.googleapis.com/ztm_tf_course/food_vision/10_food_classes_1_percent.zip\n",
        "\n",
        "unzip_data(\"10_food_classes_1_percent\")\n",
        "\n",
        "train_dir = \"10_food_classes_1_percent/train\"\n",
        "test_dir = \"10_food_classes_1_percent/test\""
      ],
      "metadata": {
        "colab": {
          "base_uri": "https://localhost:8080/",
          "height": 564
        },
        "id": "I3DXZstreAEv",
        "outputId": "1db1da37-511f-4d68-b214-09db0320642e"
      },
      "execution_count": 32,
      "outputs": [
        {
          "output_type": "stream",
          "name": "stdout",
          "text": [
            "--2024-03-02 23:32:42--  https://storage.googleapis.com/ztm_tf_course/food_vision/10_food_classes_1_percent.zip\n",
            "Resolving storage.googleapis.com (storage.googleapis.com)... 142.251.175.207, 74.125.24.207, 142.251.10.207, ...\n",
            "Connecting to storage.googleapis.com (storage.googleapis.com)|142.251.175.207|:443... connected.\n",
            "HTTP request sent, awaiting response... 200 OK\n",
            "Length: 133612354 (127M) [application/zip]\n",
            "Saving to: ‘10_food_classes_1_percent.zip’\n",
            "\n",
            "10_food_classes_1_p 100%[===================>] 127.42M  22.0MB/s    in 6.7s    \n",
            "\n",
            "2024-03-02 23:32:50 (18.9 MB/s) - ‘10_food_classes_1_percent.zip’ saved [133612354/133612354]\n",
            "\n"
          ]
        },
        {
          "output_type": "error",
          "ename": "FileNotFoundError",
          "evalue": "[Errno 2] No such file or directory: '10_food_classes_1_percent'",
          "traceback": [
            "\u001b[0;31m---------------------------------------------------------------------------\u001b[0m",
            "\u001b[0;31mFileNotFoundError\u001b[0m                         Traceback (most recent call last)",
            "\u001b[0;32m<ipython-input-32-8438363a77e6>\u001b[0m in \u001b[0;36m<cell line: 4>\u001b[0;34m()\u001b[0m\n\u001b[1;32m      2\u001b[0m \u001b[0mget_ipython\u001b[0m\u001b[0;34m(\u001b[0m\u001b[0;34m)\u001b[0m\u001b[0;34m.\u001b[0m\u001b[0msystem\u001b[0m\u001b[0;34m(\u001b[0m\u001b[0;34m'wget https://storage.googleapis.com/ztm_tf_course/food_vision/10_food_classes_1_percent.zip'\u001b[0m\u001b[0;34m)\u001b[0m\u001b[0;34m\u001b[0m\u001b[0;34m\u001b[0m\u001b[0m\n\u001b[1;32m      3\u001b[0m \u001b[0;34m\u001b[0m\u001b[0m\n\u001b[0;32m----> 4\u001b[0;31m \u001b[0munzip_data\u001b[0m\u001b[0;34m(\u001b[0m\u001b[0;34m\"10_food_classes_1_percent\"\u001b[0m\u001b[0;34m)\u001b[0m\u001b[0;34m\u001b[0m\u001b[0;34m\u001b[0m\u001b[0m\n\u001b[0m\u001b[1;32m      5\u001b[0m \u001b[0;34m\u001b[0m\u001b[0m\n\u001b[1;32m      6\u001b[0m \u001b[0mtrain_dir\u001b[0m \u001b[0;34m=\u001b[0m \u001b[0;34m\"10_food_classes_1_percent/train\"\u001b[0m\u001b[0;34m\u001b[0m\u001b[0;34m\u001b[0m\u001b[0m\n",
            "\u001b[0;32m/content/helper_functions.py\u001b[0m in \u001b[0;36munzip_data\u001b[0;34m(filename)\u001b[0m\n\u001b[1;32m    241\u001b[0m     \u001b[0mfilename\u001b[0m \u001b[0;34m(\u001b[0m\u001b[0mstr\u001b[0m\u001b[0;34m)\u001b[0m\u001b[0;34m:\u001b[0m \u001b[0ma\u001b[0m \u001b[0mfilepath\u001b[0m \u001b[0mto\u001b[0m \u001b[0ma\u001b[0m \u001b[0mtarget\u001b[0m \u001b[0mzip\u001b[0m \u001b[0mfolder\u001b[0m \u001b[0mto\u001b[0m \u001b[0mbe\u001b[0m \u001b[0munzipped\u001b[0m\u001b[0;34m.\u001b[0m\u001b[0;34m\u001b[0m\u001b[0;34m\u001b[0m\u001b[0m\n\u001b[1;32m    242\u001b[0m   \"\"\"\n\u001b[0;32m--> 243\u001b[0;31m   \u001b[0mzip_ref\u001b[0m \u001b[0;34m=\u001b[0m \u001b[0mzipfile\u001b[0m\u001b[0;34m.\u001b[0m\u001b[0mZipFile\u001b[0m\u001b[0;34m(\u001b[0m\u001b[0mfilename\u001b[0m\u001b[0;34m,\u001b[0m \u001b[0;34m\"r\"\u001b[0m\u001b[0;34m)\u001b[0m\u001b[0;34m\u001b[0m\u001b[0;34m\u001b[0m\u001b[0m\n\u001b[0m\u001b[1;32m    244\u001b[0m   \u001b[0mzip_ref\u001b[0m\u001b[0;34m.\u001b[0m\u001b[0mextractall\u001b[0m\u001b[0;34m(\u001b[0m\u001b[0;34m)\u001b[0m\u001b[0;34m\u001b[0m\u001b[0;34m\u001b[0m\u001b[0m\n\u001b[1;32m    245\u001b[0m   \u001b[0mzip_ref\u001b[0m\u001b[0;34m.\u001b[0m\u001b[0mclose\u001b[0m\u001b[0;34m(\u001b[0m\u001b[0;34m)\u001b[0m\u001b[0;34m\u001b[0m\u001b[0;34m\u001b[0m\u001b[0m\n",
            "\u001b[0;32m/usr/lib/python3.10/zipfile.py\u001b[0m in \u001b[0;36m__init__\u001b[0;34m(self, file, mode, compression, allowZip64, compresslevel, strict_timestamps)\u001b[0m\n\u001b[1;32m   1249\u001b[0m             \u001b[0;32mwhile\u001b[0m \u001b[0;32mTrue\u001b[0m\u001b[0;34m:\u001b[0m\u001b[0;34m\u001b[0m\u001b[0;34m\u001b[0m\u001b[0m\n\u001b[1;32m   1250\u001b[0m                 \u001b[0;32mtry\u001b[0m\u001b[0;34m:\u001b[0m\u001b[0;34m\u001b[0m\u001b[0;34m\u001b[0m\u001b[0m\n\u001b[0;32m-> 1251\u001b[0;31m                     \u001b[0mself\u001b[0m\u001b[0;34m.\u001b[0m\u001b[0mfp\u001b[0m \u001b[0;34m=\u001b[0m \u001b[0mio\u001b[0m\u001b[0;34m.\u001b[0m\u001b[0mopen\u001b[0m\u001b[0;34m(\u001b[0m\u001b[0mfile\u001b[0m\u001b[0;34m,\u001b[0m \u001b[0mfilemode\u001b[0m\u001b[0;34m)\u001b[0m\u001b[0;34m\u001b[0m\u001b[0;34m\u001b[0m\u001b[0m\n\u001b[0m\u001b[1;32m   1252\u001b[0m                 \u001b[0;32mexcept\u001b[0m \u001b[0mOSError\u001b[0m\u001b[0;34m:\u001b[0m\u001b[0;34m\u001b[0m\u001b[0;34m\u001b[0m\u001b[0m\n\u001b[1;32m   1253\u001b[0m                     \u001b[0;32mif\u001b[0m \u001b[0mfilemode\u001b[0m \u001b[0;32min\u001b[0m \u001b[0mmodeDict\u001b[0m\u001b[0;34m:\u001b[0m\u001b[0;34m\u001b[0m\u001b[0;34m\u001b[0m\u001b[0m\n",
            "\u001b[0;31mFileNotFoundError\u001b[0m: [Errno 2] No such file or directory: '10_food_classes_1_percent'"
          ]
        }
      ]
    },
    {
      "cell_type": "code",
      "source": [],
      "metadata": {
        "id": "qPCa_co3gz2n"
      },
      "execution_count": null,
      "outputs": []
    }
  ]
}