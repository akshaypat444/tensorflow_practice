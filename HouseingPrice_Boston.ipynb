{
  "nbformat": 4,
  "nbformat_minor": 0,
  "metadata": {
    "colab": {
      "provenance": [],
      "authorship_tag": "ABX9TyM81IkoVKjmEMzDvaXwZPGq",
      "include_colab_link": true
    },
    "kernelspec": {
      "name": "python3",
      "display_name": "Python 3"
    },
    "language_info": {
      "name": "python"
    }
  },
  "cells": [
    {
      "cell_type": "markdown",
      "metadata": {
        "id": "view-in-github",
        "colab_type": "text"
      },
      "source": [
        "<a href=\"https://colab.research.google.com/github/akshaypat444/tensorflow_practice/blob/main/HouseingPrice_Boston.ipynb\" target=\"_parent\"><img src=\"https://colab.research.google.com/assets/colab-badge.svg\" alt=\"Open In Colab\"/></a>"
      ]
    },
    {
      "cell_type": "code",
      "execution_count": 2,
      "metadata": {
        "id": "Chd-qP5tKyZc"
      },
      "outputs": [],
      "source": [
        "import tensorflow as tf\n",
        "import pandas as pd\n",
        "import matplotlib.pyplot as plt\n",
        "from sklearn.model_selection import train_test_split\n",
        "import seaborn as sns\n",
        "%matplotlib inline"
      ]
    },
    {
      "cell_type": "code",
      "source": [
        "(x_train, y_train), (x_test, y_test)  = tf.keras.datasets.boston_housing.load_data(\n",
        "    path='boston_housing.npz', test_split=0.2, seed=113\n",
        ")"
      ],
      "metadata": {
        "id": "uIbST8GiK6n7"
      },
      "execution_count": 49,
      "outputs": []
    },
    {
      "cell_type": "code",
      "source": [
        "x_train.shape, y_train.shape, x_test.shape, y_test.shape"
      ],
      "metadata": {
        "colab": {
          "base_uri": "https://localhost:8080/"
        },
        "id": "GFM-Mp93wgZp",
        "outputId": "689b2e1a-795a-4b20-92e9-3532653b24c1"
      },
      "execution_count": 50,
      "outputs": [
        {
          "output_type": "execute_result",
          "data": {
            "text/plain": [
              "((404, 13), (404,), (102, 13), (102,))"
            ]
          },
          "metadata": {},
          "execution_count": 50
        }
      ]
    },
    {
      "cell_type": "markdown",
      "source": [
        "# Model 1 - Without pre-processing"
      ],
      "metadata": {
        "id": "haYwEe_4w9wY"
      }
    },
    {
      "cell_type": "code",
      "source": [
        "tf.random.set_seed(42)\n",
        "\n",
        "# Create a Model\n",
        "boston_regression_model = tf.keras.Sequential([\n",
        "    tf.keras.layers.Dense(20),\n",
        "    tf.keras.layers.Dense(10),\n",
        "    tf.keras.layers.Dense(1)\n",
        "])\n",
        "\n",
        "# Compile a Model\n",
        "boston_regression_model.compile(loss=tf.keras.losses.mae,\n",
        "                                optimizer=tf.keras.optimizers.SGD(learning_rate=0.0001),\n",
        "                                metrics=[\"mae\"])\n",
        "\n",
        "# Fit a model\n",
        "boston_regression_model_hist = boston_regression_model.fit(x_train, y_train, epochs=150)"
      ],
      "metadata": {
        "colab": {
          "base_uri": "https://localhost:8080/"
        },
        "id": "yTs3lsjuw8Dk",
        "outputId": "a13e186e-7859-48b7-f0fc-91d985d4ac62"
      },
      "execution_count": 87,
      "outputs": [
        {
          "output_type": "stream",
          "name": "stdout",
          "text": [
            "Epoch 1/150\n",
            "13/13 [==============================] - 1s 8ms/step - loss: 61.7529 - mae: 61.7529\n",
            "Epoch 2/150\n",
            "13/13 [==============================] - 0s 3ms/step - loss: 55.3145 - mae: 55.3145\n",
            "Epoch 3/150\n",
            "13/13 [==============================] - 0s 3ms/step - loss: 45.3927 - mae: 45.3927\n",
            "Epoch 4/150\n",
            "13/13 [==============================] - 0s 3ms/step - loss: 40.9839 - mae: 40.9839\n",
            "Epoch 5/150\n",
            "13/13 [==============================] - 0s 3ms/step - loss: 33.3632 - mae: 33.3632\n",
            "Epoch 6/150\n",
            "13/13 [==============================] - 0s 3ms/step - loss: 30.3255 - mae: 30.3255\n",
            "Epoch 7/150\n",
            "13/13 [==============================] - 0s 4ms/step - loss: 25.4855 - mae: 25.4855\n",
            "Epoch 8/150\n",
            "13/13 [==============================] - 0s 2ms/step - loss: 23.9401 - mae: 23.9401\n",
            "Epoch 9/150\n",
            "13/13 [==============================] - 0s 2ms/step - loss: 19.4510 - mae: 19.4510\n",
            "Epoch 10/150\n",
            "13/13 [==============================] - 0s 2ms/step - loss: 18.4416 - mae: 18.4416\n",
            "Epoch 11/150\n",
            "13/13 [==============================] - 0s 2ms/step - loss: 14.9625 - mae: 14.9625\n",
            "Epoch 12/150\n",
            "13/13 [==============================] - 0s 2ms/step - loss: 14.9311 - mae: 14.9311\n",
            "Epoch 13/150\n",
            "13/13 [==============================] - 0s 2ms/step - loss: 15.4383 - mae: 15.4383\n",
            "Epoch 14/150\n",
            "13/13 [==============================] - 0s 2ms/step - loss: 13.8645 - mae: 13.8645\n",
            "Epoch 15/150\n",
            "13/13 [==============================] - 0s 2ms/step - loss: 11.1504 - mae: 11.1504\n",
            "Epoch 16/150\n",
            "13/13 [==============================] - 0s 2ms/step - loss: 10.9214 - mae: 10.9214\n",
            "Epoch 17/150\n",
            "13/13 [==============================] - 0s 2ms/step - loss: 10.7579 - mae: 10.7579\n",
            "Epoch 18/150\n",
            "13/13 [==============================] - 0s 2ms/step - loss: 10.6298 - mae: 10.6298\n",
            "Epoch 19/150\n",
            "13/13 [==============================] - 0s 2ms/step - loss: 9.9606 - mae: 9.9606\n",
            "Epoch 20/150\n",
            "13/13 [==============================] - 0s 2ms/step - loss: 10.0745 - mae: 10.0745\n",
            "Epoch 21/150\n",
            "13/13 [==============================] - 0s 2ms/step - loss: 7.7866 - mae: 7.7866\n",
            "Epoch 22/150\n",
            "13/13 [==============================] - 0s 2ms/step - loss: 8.9950 - mae: 8.9950\n",
            "Epoch 23/150\n",
            "13/13 [==============================] - 0s 2ms/step - loss: 9.1210 - mae: 9.1210\n",
            "Epoch 24/150\n",
            "13/13 [==============================] - 0s 2ms/step - loss: 8.7085 - mae: 8.7085\n",
            "Epoch 25/150\n",
            "13/13 [==============================] - 0s 2ms/step - loss: 7.7924 - mae: 7.7924\n",
            "Epoch 26/150\n",
            "13/13 [==============================] - 0s 2ms/step - loss: 7.9588 - mae: 7.9588\n",
            "Epoch 27/150\n",
            "13/13 [==============================] - 0s 2ms/step - loss: 8.3383 - mae: 8.3383\n",
            "Epoch 28/150\n",
            "13/13 [==============================] - 0s 2ms/step - loss: 8.3835 - mae: 8.3835\n",
            "Epoch 29/150\n",
            "13/13 [==============================] - 0s 2ms/step - loss: 7.9981 - mae: 7.9981\n",
            "Epoch 30/150\n",
            "13/13 [==============================] - 0s 2ms/step - loss: 7.6961 - mae: 7.6961\n",
            "Epoch 31/150\n",
            "13/13 [==============================] - 0s 2ms/step - loss: 7.0824 - mae: 7.0824\n",
            "Epoch 32/150\n",
            "13/13 [==============================] - 0s 2ms/step - loss: 6.5456 - mae: 6.5456\n",
            "Epoch 33/150\n",
            "13/13 [==============================] - 0s 2ms/step - loss: 7.5078 - mae: 7.5078\n",
            "Epoch 34/150\n",
            "13/13 [==============================] - 0s 2ms/step - loss: 6.8211 - mae: 6.8211\n",
            "Epoch 35/150\n",
            "13/13 [==============================] - 0s 2ms/step - loss: 7.4099 - mae: 7.4099\n",
            "Epoch 36/150\n",
            "13/13 [==============================] - 0s 2ms/step - loss: 7.1461 - mae: 7.1461\n",
            "Epoch 37/150\n",
            "13/13 [==============================] - 0s 2ms/step - loss: 7.1224 - mae: 7.1224\n",
            "Epoch 38/150\n",
            "13/13 [==============================] - 0s 2ms/step - loss: 6.9531 - mae: 6.9531\n",
            "Epoch 39/150\n",
            "13/13 [==============================] - 0s 2ms/step - loss: 6.9233 - mae: 6.9233\n",
            "Epoch 40/150\n",
            "13/13 [==============================] - 0s 2ms/step - loss: 6.2768 - mae: 6.2768\n",
            "Epoch 41/150\n",
            "13/13 [==============================] - 0s 2ms/step - loss: 6.6985 - mae: 6.6985\n",
            "Epoch 42/150\n",
            "13/13 [==============================] - 0s 2ms/step - loss: 6.3089 - mae: 6.3089\n",
            "Epoch 43/150\n",
            "13/13 [==============================] - 0s 2ms/step - loss: 6.5092 - mae: 6.5092\n",
            "Epoch 44/150\n",
            "13/13 [==============================] - 0s 2ms/step - loss: 6.8696 - mae: 6.8696\n",
            "Epoch 45/150\n",
            "13/13 [==============================] - 0s 3ms/step - loss: 6.7194 - mae: 6.7194\n",
            "Epoch 46/150\n",
            "13/13 [==============================] - 0s 3ms/step - loss: 6.6924 - mae: 6.6924\n",
            "Epoch 47/150\n",
            "13/13 [==============================] - 0s 3ms/step - loss: 6.7459 - mae: 6.7459\n",
            "Epoch 48/150\n",
            "13/13 [==============================] - 0s 3ms/step - loss: 6.1279 - mae: 6.1279\n",
            "Epoch 49/150\n",
            "13/13 [==============================] - 0s 3ms/step - loss: 6.0584 - mae: 6.0584\n",
            "Epoch 50/150\n",
            "13/13 [==============================] - 0s 3ms/step - loss: 6.7161 - mae: 6.7161\n",
            "Epoch 51/150\n",
            "13/13 [==============================] - 0s 3ms/step - loss: 5.8601 - mae: 5.8601\n",
            "Epoch 52/150\n",
            "13/13 [==============================] - 0s 3ms/step - loss: 6.5560 - mae: 6.5560\n",
            "Epoch 53/150\n",
            "13/13 [==============================] - 0s 3ms/step - loss: 6.2669 - mae: 6.2669\n",
            "Epoch 54/150\n",
            "13/13 [==============================] - 0s 3ms/step - loss: 6.8791 - mae: 6.8791\n",
            "Epoch 55/150\n",
            "13/13 [==============================] - 0s 3ms/step - loss: 6.2554 - mae: 6.2554\n",
            "Epoch 56/150\n",
            "13/13 [==============================] - 0s 3ms/step - loss: 6.3608 - mae: 6.3608\n",
            "Epoch 57/150\n",
            "13/13 [==============================] - 0s 3ms/step - loss: 6.2797 - mae: 6.2797\n",
            "Epoch 58/150\n",
            "13/13 [==============================] - 0s 3ms/step - loss: 5.9833 - mae: 5.9833\n",
            "Epoch 59/150\n",
            "13/13 [==============================] - 0s 3ms/step - loss: 6.0154 - mae: 6.0154\n",
            "Epoch 60/150\n",
            "13/13 [==============================] - 0s 3ms/step - loss: 6.1737 - mae: 6.1737\n",
            "Epoch 61/150\n",
            "13/13 [==============================] - 0s 3ms/step - loss: 6.2580 - mae: 6.2580\n",
            "Epoch 62/150\n",
            "13/13 [==============================] - 0s 3ms/step - loss: 5.8453 - mae: 5.8453\n",
            "Epoch 63/150\n",
            "13/13 [==============================] - 0s 3ms/step - loss: 6.5169 - mae: 6.5169\n",
            "Epoch 64/150\n",
            "13/13 [==============================] - 0s 3ms/step - loss: 6.1805 - mae: 6.1805\n",
            "Epoch 65/150\n",
            "13/13 [==============================] - 0s 3ms/step - loss: 6.7682 - mae: 6.7682\n",
            "Epoch 66/150\n",
            "13/13 [==============================] - 0s 3ms/step - loss: 6.1475 - mae: 6.1475\n",
            "Epoch 67/150\n",
            "13/13 [==============================] - 0s 3ms/step - loss: 6.5598 - mae: 6.5598\n",
            "Epoch 68/150\n",
            "13/13 [==============================] - 0s 3ms/step - loss: 6.5053 - mae: 6.5053\n",
            "Epoch 69/150\n",
            "13/13 [==============================] - 0s 3ms/step - loss: 6.2290 - mae: 6.2290\n",
            "Epoch 70/150\n",
            "13/13 [==============================] - 0s 3ms/step - loss: 6.1103 - mae: 6.1103\n",
            "Epoch 71/150\n",
            "13/13 [==============================] - 0s 3ms/step - loss: 5.9127 - mae: 5.9127\n",
            "Epoch 72/150\n",
            "13/13 [==============================] - 0s 3ms/step - loss: 6.5480 - mae: 6.5480\n",
            "Epoch 73/150\n",
            "13/13 [==============================] - 0s 3ms/step - loss: 6.0404 - mae: 6.0404\n",
            "Epoch 74/150\n",
            "13/13 [==============================] - 0s 3ms/step - loss: 5.9895 - mae: 5.9895\n",
            "Epoch 75/150\n",
            "13/13 [==============================] - 0s 3ms/step - loss: 6.2682 - mae: 6.2682\n",
            "Epoch 76/150\n",
            "13/13 [==============================] - 0s 3ms/step - loss: 5.9525 - mae: 5.9525\n",
            "Epoch 77/150\n",
            "13/13 [==============================] - 0s 3ms/step - loss: 6.1978 - mae: 6.1978\n",
            "Epoch 78/150\n",
            "13/13 [==============================] - 0s 3ms/step - loss: 5.9613 - mae: 5.9613\n",
            "Epoch 79/150\n",
            "13/13 [==============================] - 0s 3ms/step - loss: 5.7815 - mae: 5.7815\n",
            "Epoch 80/150\n",
            "13/13 [==============================] - 0s 3ms/step - loss: 6.1214 - mae: 6.1214\n",
            "Epoch 81/150\n",
            "13/13 [==============================] - 0s 3ms/step - loss: 6.5253 - mae: 6.5253\n",
            "Epoch 82/150\n",
            "13/13 [==============================] - 0s 3ms/step - loss: 5.8060 - mae: 5.8060\n",
            "Epoch 83/150\n",
            "13/13 [==============================] - 0s 3ms/step - loss: 6.1699 - mae: 6.1699\n",
            "Epoch 84/150\n",
            "13/13 [==============================] - 0s 3ms/step - loss: 6.1265 - mae: 6.1265\n",
            "Epoch 85/150\n",
            "13/13 [==============================] - 0s 3ms/step - loss: 6.0385 - mae: 6.0385\n",
            "Epoch 86/150\n",
            "13/13 [==============================] - 0s 3ms/step - loss: 6.0312 - mae: 6.0312\n",
            "Epoch 87/150\n",
            "13/13 [==============================] - 0s 3ms/step - loss: 5.8829 - mae: 5.8829\n",
            "Epoch 88/150\n",
            "13/13 [==============================] - 0s 2ms/step - loss: 5.8905 - mae: 5.8905\n",
            "Epoch 89/150\n",
            "13/13 [==============================] - 0s 3ms/step - loss: 5.9732 - mae: 5.9732\n",
            "Epoch 90/150\n",
            "13/13 [==============================] - 0s 3ms/step - loss: 6.1061 - mae: 6.1061\n",
            "Epoch 91/150\n",
            "13/13 [==============================] - 0s 3ms/step - loss: 5.9324 - mae: 5.9324\n",
            "Epoch 92/150\n",
            "13/13 [==============================] - 0s 3ms/step - loss: 6.0704 - mae: 6.0704\n",
            "Epoch 93/150\n",
            "13/13 [==============================] - 0s 3ms/step - loss: 6.0209 - mae: 6.0209\n",
            "Epoch 94/150\n",
            "13/13 [==============================] - 0s 3ms/step - loss: 6.1747 - mae: 6.1747\n",
            "Epoch 95/150\n",
            "13/13 [==============================] - 0s 3ms/step - loss: 6.0927 - mae: 6.0927\n",
            "Epoch 96/150\n",
            "13/13 [==============================] - 0s 3ms/step - loss: 6.1188 - mae: 6.1188\n",
            "Epoch 97/150\n",
            "13/13 [==============================] - 0s 3ms/step - loss: 5.9584 - mae: 5.9584\n",
            "Epoch 98/150\n",
            "13/13 [==============================] - 0s 3ms/step - loss: 5.8514 - mae: 5.8514\n",
            "Epoch 99/150\n",
            "13/13 [==============================] - 0s 3ms/step - loss: 6.0182 - mae: 6.0182\n",
            "Epoch 100/150\n",
            "13/13 [==============================] - 0s 2ms/step - loss: 5.8677 - mae: 5.8677\n",
            "Epoch 101/150\n",
            "13/13 [==============================] - 0s 2ms/step - loss: 6.1117 - mae: 6.1117\n",
            "Epoch 102/150\n",
            "13/13 [==============================] - 0s 3ms/step - loss: 5.8295 - mae: 5.8295\n",
            "Epoch 103/150\n",
            "13/13 [==============================] - 0s 3ms/step - loss: 5.8594 - mae: 5.8594\n",
            "Epoch 104/150\n",
            "13/13 [==============================] - 0s 2ms/step - loss: 6.0617 - mae: 6.0617\n",
            "Epoch 105/150\n",
            "13/13 [==============================] - 0s 3ms/step - loss: 5.9895 - mae: 5.9895\n",
            "Epoch 106/150\n",
            "13/13 [==============================] - 0s 3ms/step - loss: 5.9722 - mae: 5.9722\n",
            "Epoch 107/150\n",
            "13/13 [==============================] - 0s 3ms/step - loss: 6.0983 - mae: 6.0983\n",
            "Epoch 108/150\n",
            "13/13 [==============================] - 0s 3ms/step - loss: 5.8800 - mae: 5.8800\n",
            "Epoch 109/150\n",
            "13/13 [==============================] - 0s 2ms/step - loss: 5.8721 - mae: 5.8721\n",
            "Epoch 110/150\n",
            "13/13 [==============================] - 0s 3ms/step - loss: 5.8412 - mae: 5.8412\n",
            "Epoch 111/150\n",
            "13/13 [==============================] - 0s 2ms/step - loss: 6.2524 - mae: 6.2524\n",
            "Epoch 112/150\n",
            "13/13 [==============================] - 0s 2ms/step - loss: 5.7576 - mae: 5.7576\n",
            "Epoch 113/150\n",
            "13/13 [==============================] - 0s 3ms/step - loss: 5.7232 - mae: 5.7232\n",
            "Epoch 114/150\n",
            "13/13 [==============================] - 0s 3ms/step - loss: 5.7079 - mae: 5.7079\n",
            "Epoch 115/150\n",
            "13/13 [==============================] - 0s 3ms/step - loss: 6.1032 - mae: 6.1032\n",
            "Epoch 116/150\n",
            "13/13 [==============================] - 0s 3ms/step - loss: 5.9434 - mae: 5.9434\n",
            "Epoch 117/150\n",
            "13/13 [==============================] - 0s 3ms/step - loss: 6.0385 - mae: 6.0385\n",
            "Epoch 118/150\n",
            "13/13 [==============================] - 0s 3ms/step - loss: 5.8606 - mae: 5.8606\n",
            "Epoch 119/150\n",
            "13/13 [==============================] - 0s 3ms/step - loss: 5.9942 - mae: 5.9942\n",
            "Epoch 120/150\n",
            "13/13 [==============================] - 0s 3ms/step - loss: 6.0788 - mae: 6.0788\n",
            "Epoch 121/150\n",
            "13/13 [==============================] - 0s 3ms/step - loss: 5.8743 - mae: 5.8743\n",
            "Epoch 122/150\n",
            "13/13 [==============================] - 0s 3ms/step - loss: 6.2056 - mae: 6.2056\n",
            "Epoch 123/150\n",
            "13/13 [==============================] - 0s 2ms/step - loss: 5.8612 - mae: 5.8612\n",
            "Epoch 124/150\n",
            "13/13 [==============================] - 0s 3ms/step - loss: 6.0365 - mae: 6.0365\n",
            "Epoch 125/150\n",
            "13/13 [==============================] - 0s 3ms/step - loss: 5.9855 - mae: 5.9855\n",
            "Epoch 126/150\n",
            "13/13 [==============================] - 0s 3ms/step - loss: 5.7919 - mae: 5.7919\n",
            "Epoch 127/150\n",
            "13/13 [==============================] - 0s 3ms/step - loss: 6.1362 - mae: 6.1362\n",
            "Epoch 128/150\n",
            "13/13 [==============================] - 0s 3ms/step - loss: 5.8467 - mae: 5.8467\n",
            "Epoch 129/150\n",
            "13/13 [==============================] - 0s 3ms/step - loss: 6.1662 - mae: 6.1662\n",
            "Epoch 130/150\n",
            "13/13 [==============================] - 0s 3ms/step - loss: 5.8804 - mae: 5.8804\n",
            "Epoch 131/150\n",
            "13/13 [==============================] - 0s 3ms/step - loss: 5.9713 - mae: 5.9713\n",
            "Epoch 132/150\n",
            "13/13 [==============================] - 0s 3ms/step - loss: 5.8620 - mae: 5.8620\n",
            "Epoch 133/150\n",
            "13/13 [==============================] - 0s 3ms/step - loss: 5.8617 - mae: 5.8617\n",
            "Epoch 134/150\n",
            "13/13 [==============================] - 0s 3ms/step - loss: 5.7643 - mae: 5.7643\n",
            "Epoch 135/150\n",
            "13/13 [==============================] - 0s 3ms/step - loss: 5.7267 - mae: 5.7267\n",
            "Epoch 136/150\n",
            "13/13 [==============================] - 0s 3ms/step - loss: 5.7747 - mae: 5.7747\n",
            "Epoch 137/150\n",
            "13/13 [==============================] - 0s 3ms/step - loss: 5.7924 - mae: 5.7924\n",
            "Epoch 138/150\n",
            "13/13 [==============================] - 0s 3ms/step - loss: 6.0304 - mae: 6.0304\n",
            "Epoch 139/150\n",
            "13/13 [==============================] - 0s 3ms/step - loss: 5.6596 - mae: 5.6596\n",
            "Epoch 140/150\n",
            "13/13 [==============================] - 0s 3ms/step - loss: 5.8270 - mae: 5.8270\n",
            "Epoch 141/150\n",
            "13/13 [==============================] - 0s 3ms/step - loss: 5.7564 - mae: 5.7564\n",
            "Epoch 142/150\n",
            "13/13 [==============================] - 0s 3ms/step - loss: 5.7339 - mae: 5.7339\n",
            "Epoch 143/150\n",
            "13/13 [==============================] - 0s 3ms/step - loss: 5.7458 - mae: 5.7458\n",
            "Epoch 144/150\n",
            "13/13 [==============================] - 0s 3ms/step - loss: 5.6799 - mae: 5.6799\n",
            "Epoch 145/150\n",
            "13/13 [==============================] - 0s 3ms/step - loss: 5.9922 - mae: 5.9922\n",
            "Epoch 146/150\n",
            "13/13 [==============================] - 0s 2ms/step - loss: 5.7735 - mae: 5.7735\n",
            "Epoch 147/150\n",
            "13/13 [==============================] - 0s 3ms/step - loss: 6.0076 - mae: 6.0076\n",
            "Epoch 148/150\n",
            "13/13 [==============================] - 0s 3ms/step - loss: 5.9545 - mae: 5.9545\n",
            "Epoch 149/150\n",
            "13/13 [==============================] - 0s 2ms/step - loss: 5.9251 - mae: 5.9251\n",
            "Epoch 150/150\n",
            "13/13 [==============================] - 0s 3ms/step - loss: 5.8846 - mae: 5.8846\n"
          ]
        }
      ]
    },
    {
      "cell_type": "markdown",
      "source": [
        "## Summarize the model"
      ],
      "metadata": {
        "id": "m51t2UfbxzI-"
      }
    },
    {
      "cell_type": "code",
      "source": [
        "boston_regression_model.summary()"
      ],
      "metadata": {
        "colab": {
          "base_uri": "https://localhost:8080/"
        },
        "id": "ZaOiKPRdzigY",
        "outputId": "c15640db-290f-41d0-886b-afa2d8fcc929"
      },
      "execution_count": 52,
      "outputs": [
        {
          "output_type": "stream",
          "name": "stdout",
          "text": [
            "Model: \"sequential_13\"\n",
            "_________________________________________________________________\n",
            " Layer (type)                Output Shape              Param #   \n",
            "=================================================================\n",
            " dense_40 (Dense)            (None, 20)                280       \n",
            "                                                                 \n",
            " dense_41 (Dense)            (None, 10)                210       \n",
            "                                                                 \n",
            " dense_42 (Dense)            (None, 1)                 11        \n",
            "                                                                 \n",
            "=================================================================\n",
            "Total params: 501 (1.96 KB)\n",
            "Trainable params: 501 (1.96 KB)\n",
            "Non-trainable params: 0 (0.00 Byte)\n",
            "_________________________________________________________________\n"
          ]
        }
      ]
    },
    {
      "cell_type": "markdown",
      "source": [
        "## Visualize the model training"
      ],
      "metadata": {
        "id": "e98wABSezm9B"
      }
    },
    {
      "cell_type": "code",
      "source": [
        "pd.DataFrame(boston_regression_model_hist.history).plot()\n",
        "plt.ylabel(\"loss\")\n",
        "plt.xlabel(\"epochs\")"
      ],
      "metadata": {
        "colab": {
          "base_uri": "https://localhost:8080/",
          "height": 467
        },
        "id": "k3pNBLgtK7Rk",
        "outputId": "739da366-44de-4cbf-a47f-52d39a2989a6"
      },
      "execution_count": 84,
      "outputs": [
        {
          "output_type": "execute_result",
          "data": {
            "text/plain": [
              "Text(0.5, 0, 'epochs')"
            ]
          },
          "metadata": {},
          "execution_count": 84
        },
        {
          "output_type": "display_data",
          "data": {
            "text/plain": [
              "<Figure size 640x480 with 1 Axes>"
            ],
            "image/png": "[encoded data removed]"
          },
          "metadata": {}
        }
      ]
    },
    {
      "cell_type": "markdown",
      "source": [
        "## Evaluate the model"
      ],
      "metadata": {
        "id": "GmikgvwjzpuG"
      }
    },
    {
      "cell_type": "code",
      "source": [
        "y_pred = boston_regression_model.predict(x_test)"
      ],
      "metadata": {
        "colab": {
          "base_uri": "https://localhost:8080/"
        },
        "id": "q3na6LECK7O-",
        "outputId": "d00ff7ce-d640-4287-ab38-dc8963e73b04"
      },
      "execution_count": 80,
      "outputs": [
        {
          "output_type": "stream",
          "name": "stdout",
          "text": [
            "4/4 [==============================] - 0s 4ms/step\n"
          ]
        }
      ]
    },
    {
      "cell_type": "code",
      "source": [
        "boston_regression_model.evaluate(x_test, y_test)"
      ],
      "metadata": {
        "colab": {
          "base_uri": "https://localhost:8080/"
        },
        "id": "6dRaLf1p10B9",
        "outputId": "e795ecdd-f153-43c4-e87c-a1efe90ada3f"
      },
      "execution_count": 85,
      "outputs": [
        {
          "output_type": "stream",
          "name": "stdout",
          "text": [
            "4/4 [==============================] - 0s 4ms/step - loss: 5.8236 - mae: 5.8236\n"
          ]
        },
        {
          "output_type": "execute_result",
          "data": {
            "text/plain": [
              "[5.823605537414551, 5.823605537414551]"
            ]
          },
          "metadata": {},
          "execution_count": 85
        }
      ]
    },
    {
      "cell_type": "code",
      "source": [
        "plt.figure(figsize=(10, 7))\n",
        "plt.scatter(y_test, y_pred, c=\"b\", label=\"training data\")"
      ],
      "metadata": {
        "colab": {
          "base_uri": "https://localhost:8080/",
          "height": 617
        },
        "id": "H6KhxmQ31_aD",
        "outputId": "9fd76601-9681-4a38-8181-88a7efa7699f"
      },
      "execution_count": 86,
      "outputs": [
        {
          "output_type": "execute_result",
          "data": {
            "text/plain": [
              "<matplotlib.collections.PathCollection at 0x7d6fe83d1870>"
            ]
          },
          "metadata": {},
          "execution_count": 86
        },
        {
          "output_type": "display_data",
          "data": {
            "text/plain": [
              "<Figure size 1000x700 with 1 Axes>"
            ],
            "image/png": "[encoded data removed]"
          },
          "metadata": {}
        }
      ]
    },
    {
      "cell_type": "markdown",
      "source": [
        "# Model 2 - Without preprocessing\n",
        "\n",
        "1. Using Adam Optimizer"
      ],
      "metadata": {
        "id": "r8joD5kl3GPU"
      }
    },
    {
      "cell_type": "code",
      "source": [
        "tf.random.set_seed(42)\n",
        "\n",
        "# Create a Model\n",
        "boston_regression_model_2 = tf.keras.Sequential([\n",
        "    tf.keras.layers.Dense(15),\n",
        "    tf.keras.layers.Dense(10),\n",
        "    tf.keras.layers.Dense(1)\n",
        "])\n",
        "\n",
        "# Compile a Model\n",
        "boston_regression_model_2.compile(loss=tf.keras.losses.mae,\n",
        "                                optimizer=tf.keras.optimizers.Adam(learning_rate=0.01),\n",
        "                                metrics=[\"mae\"])\n",
        "\n",
        "# Fit a model\n",
        "boston_regression_model_hist_2 = boston_regression_model_2.fit(x_train, y_train, epochs=100)"
      ],
      "metadata": {
        "colab": {
          "base_uri": "https://localhost:8080/"
        },
        "id": "1zLXTADk2DJl",
        "outputId": "623d0018-9f65-40c0-dc72-1cb37e7e316d"
      },
      "execution_count": 108,
      "outputs": [
        {
          "output_type": "stream",
          "name": "stdout",
          "text": [
            "Epoch 1/100\n",
            "13/13 [==============================] - 1s 3ms/step - loss: 71.2896 - mae: 71.2896\n",
            "Epoch 2/100\n",
            "13/13 [==============================] - 0s 2ms/step - loss: 22.6396 - mae: 22.6396\n",
            "Epoch 3/100\n",
            "13/13 [==============================] - 0s 2ms/step - loss: 14.5127 - mae: 14.5127\n",
            "Epoch 4/100\n",
            "13/13 [==============================] - 0s 2ms/step - loss: 8.5409 - mae: 8.5409\n",
            "Epoch 5/100\n",
            "13/13 [==============================] - 0s 2ms/step - loss: 6.7341 - mae: 6.7341\n",
            "Epoch 6/100\n",
            "13/13 [==============================] - 0s 2ms/step - loss: 6.1590 - mae: 6.1590\n",
            "Epoch 7/100\n",
            "13/13 [==============================] - 0s 2ms/step - loss: 6.1734 - mae: 6.1734\n",
            "Epoch 8/100\n",
            "13/13 [==============================] - 0s 2ms/step - loss: 6.4704 - mae: 6.4704\n",
            "Epoch 9/100\n",
            "13/13 [==============================] - 0s 2ms/step - loss: 6.0883 - mae: 6.0883\n",
            "Epoch 10/100\n",
            "13/13 [==============================] - 0s 2ms/step - loss: 7.9230 - mae: 7.9230\n",
            "Epoch 11/100\n",
            "13/13 [==============================] - 0s 2ms/step - loss: 6.9761 - mae: 6.9761\n",
            "Epoch 12/100\n",
            "13/13 [==============================] - 0s 2ms/step - loss: 5.9027 - mae: 5.9027\n",
            "Epoch 13/100\n",
            "13/13 [==============================] - 0s 2ms/step - loss: 5.8886 - mae: 5.8886\n",
            "Epoch 14/100\n",
            "13/13 [==============================] - 0s 3ms/step - loss: 5.8135 - mae: 5.8135\n",
            "Epoch 15/100\n",
            "13/13 [==============================] - 0s 3ms/step - loss: 5.3858 - mae: 5.3858\n",
            "Epoch 16/100\n",
            "13/13 [==============================] - 0s 2ms/step - loss: 6.8155 - mae: 6.8155\n",
            "Epoch 17/100\n",
            "13/13 [==============================] - 0s 2ms/step - loss: 7.9351 - mae: 7.9351\n",
            "Epoch 18/100\n",
            "13/13 [==============================] - 0s 2ms/step - loss: 6.7081 - mae: 6.7081\n",
            "Epoch 19/100\n",
            "13/13 [==============================] - 0s 3ms/step - loss: 6.2309 - mae: 6.2309\n",
            "Epoch 20/100\n",
            "13/13 [==============================] - 0s 2ms/step - loss: 5.9475 - mae: 5.9475\n",
            "Epoch 21/100\n",
            "13/13 [==============================] - 0s 2ms/step - loss: 5.2541 - mae: 5.2541\n",
            "Epoch 22/100\n",
            "13/13 [==============================] - 0s 2ms/step - loss: 5.2385 - mae: 5.2385\n",
            "Epoch 23/100\n",
            "13/13 [==============================] - 0s 2ms/step - loss: 5.3848 - mae: 5.3848\n",
            "Epoch 24/100\n",
            "13/13 [==============================] - 0s 2ms/step - loss: 8.1800 - mae: 8.1800\n",
            "Epoch 25/100\n",
            "13/13 [==============================] - 0s 2ms/step - loss: 6.5112 - mae: 6.5112\n",
            "Epoch 26/100\n",
            "13/13 [==============================] - 0s 2ms/step - loss: 5.3679 - mae: 5.3679\n",
            "Epoch 27/100\n",
            "13/13 [==============================] - 0s 2ms/step - loss: 6.0544 - mae: 6.0544\n",
            "Epoch 28/100\n",
            "13/13 [==============================] - 0s 2ms/step - loss: 5.6079 - mae: 5.6079\n",
            "Epoch 29/100\n",
            "13/13 [==============================] - 0s 2ms/step - loss: 5.3064 - mae: 5.3064\n",
            "Epoch 30/100\n",
            "13/13 [==============================] - 0s 3ms/step - loss: 5.4104 - mae: 5.4104\n",
            "Epoch 31/100\n",
            "13/13 [==============================] - 0s 3ms/step - loss: 5.2834 - mae: 5.2834\n",
            "Epoch 32/100\n",
            "13/13 [==============================] - 0s 3ms/step - loss: 6.4931 - mae: 6.4931\n",
            "Epoch 33/100\n",
            "13/13 [==============================] - 0s 3ms/step - loss: 5.9652 - mae: 5.9652\n",
            "Epoch 34/100\n",
            "13/13 [==============================] - 0s 3ms/step - loss: 6.5561 - mae: 6.5561\n",
            "Epoch 35/100\n",
            "13/13 [==============================] - 0s 3ms/step - loss: 5.3262 - mae: 5.3262\n",
            "Epoch 36/100\n",
            "13/13 [==============================] - 0s 3ms/step - loss: 4.7080 - mae: 4.7080\n",
            "Epoch 37/100\n",
            "13/13 [==============================] - 0s 3ms/step - loss: 5.3280 - mae: 5.3280\n",
            "Epoch 38/100\n",
            "13/13 [==============================] - 0s 3ms/step - loss: 5.3432 - mae: 5.3432\n",
            "Epoch 39/100\n",
            "13/13 [==============================] - 0s 3ms/step - loss: 5.6220 - mae: 5.6220\n",
            "Epoch 40/100\n",
            "13/13 [==============================] - 0s 3ms/step - loss: 5.7188 - mae: 5.7188\n",
            "Epoch 41/100\n",
            "13/13 [==============================] - 0s 3ms/step - loss: 5.4054 - mae: 5.4054\n",
            "Epoch 42/100\n",
            "13/13 [==============================] - 0s 4ms/step - loss: 5.0005 - mae: 5.0005\n",
            "Epoch 43/100\n",
            "13/13 [==============================] - 0s 3ms/step - loss: 5.1583 - mae: 5.1583\n",
            "Epoch 44/100\n",
            "13/13 [==============================] - 0s 3ms/step - loss: 5.7171 - mae: 5.7171\n",
            "Epoch 45/100\n",
            "13/13 [==============================] - 0s 3ms/step - loss: 5.6613 - mae: 5.6613\n",
            "Epoch 46/100\n",
            "13/13 [==============================] - 0s 3ms/step - loss: 5.6976 - mae: 5.6976\n",
            "Epoch 47/100\n",
            "13/13 [==============================] - 0s 3ms/step - loss: 5.6990 - mae: 5.6990\n",
            "Epoch 48/100\n",
            "13/13 [==============================] - 0s 3ms/step - loss: 4.9915 - mae: 4.9915\n",
            "Epoch 49/100\n",
            "13/13 [==============================] - 0s 3ms/step - loss: 4.7454 - mae: 4.7454\n",
            "Epoch 50/100\n",
            "13/13 [==============================] - 0s 3ms/step - loss: 4.5993 - mae: 4.5993\n",
            "Epoch 51/100\n",
            "13/13 [==============================] - 0s 3ms/step - loss: 4.5852 - mae: 4.5852\n",
            "Epoch 52/100\n",
            "13/13 [==============================] - 0s 3ms/step - loss: 5.2427 - mae: 5.2427\n",
            "Epoch 53/100\n",
            "13/13 [==============================] - 0s 3ms/step - loss: 7.3320 - mae: 7.3320\n",
            "Epoch 54/100\n",
            "13/13 [==============================] - 0s 3ms/step - loss: 4.9202 - mae: 4.9202\n",
            "Epoch 55/100\n",
            "13/13 [==============================] - 0s 3ms/step - loss: 4.8739 - mae: 4.8739\n",
            "Epoch 56/100\n",
            "13/13 [==============================] - 0s 2ms/step - loss: 4.9037 - mae: 4.9037\n",
            "Epoch 57/100\n",
            "13/13 [==============================] - 0s 3ms/step - loss: 5.1820 - mae: 5.1820\n",
            "Epoch 58/100\n",
            "13/13 [==============================] - 0s 3ms/step - loss: 5.0856 - mae: 5.0856\n",
            "Epoch 59/100\n",
            "13/13 [==============================] - 0s 3ms/step - loss: 4.9506 - mae: 4.9506\n",
            "Epoch 60/100\n",
            "13/13 [==============================] - 0s 2ms/step - loss: 4.8900 - mae: 4.8900\n",
            "Epoch 61/100\n",
            "13/13 [==============================] - 0s 2ms/step - loss: 4.5766 - mae: 4.5766\n",
            "Epoch 62/100\n",
            "13/13 [==============================] - 0s 3ms/step - loss: 4.5803 - mae: 4.5803\n",
            "Epoch 63/100\n",
            "13/13 [==============================] - 0s 4ms/step - loss: 4.5749 - mae: 4.5749\n",
            "Epoch 64/100\n",
            "13/13 [==============================] - 0s 3ms/step - loss: 4.7629 - mae: 4.7629\n",
            "Epoch 65/100\n",
            "13/13 [==============================] - 0s 3ms/step - loss: 4.8359 - mae: 4.8359\n",
            "Epoch 66/100\n",
            "13/13 [==============================] - 0s 3ms/step - loss: 4.9633 - mae: 4.9633\n",
            "Epoch 67/100\n",
            "13/13 [==============================] - 0s 3ms/step - loss: 5.1813 - mae: 5.1813\n",
            "Epoch 68/100\n",
            "13/13 [==============================] - 0s 3ms/step - loss: 5.2585 - mae: 5.2585\n",
            "Epoch 69/100\n",
            "13/13 [==============================] - 0s 3ms/step - loss: 4.8539 - mae: 4.8539\n",
            "Epoch 70/100\n",
            "13/13 [==============================] - 0s 3ms/step - loss: 4.5810 - mae: 4.5810\n",
            "Epoch 71/100\n",
            "13/13 [==============================] - 0s 3ms/step - loss: 4.9452 - mae: 4.9452\n",
            "Epoch 72/100\n",
            "13/13 [==============================] - 0s 3ms/step - loss: 4.4288 - mae: 4.4288\n",
            "Epoch 73/100\n",
            "13/13 [==============================] - 0s 3ms/step - loss: 4.4660 - mae: 4.4660\n",
            "Epoch 74/100\n",
            "13/13 [==============================] - 0s 3ms/step - loss: 4.5948 - mae: 4.5948\n",
            "Epoch 75/100\n",
            "13/13 [==============================] - 0s 3ms/step - loss: 4.4799 - mae: 4.4799\n",
            "Epoch 76/100\n",
            "13/13 [==============================] - 0s 3ms/step - loss: 4.4900 - mae: 4.4900\n",
            "Epoch 77/100\n",
            "13/13 [==============================] - 0s 3ms/step - loss: 4.2950 - mae: 4.2950\n",
            "Epoch 78/100\n",
            "13/13 [==============================] - 0s 3ms/step - loss: 5.3983 - mae: 5.3983\n",
            "Epoch 79/100\n",
            "13/13 [==============================] - 0s 3ms/step - loss: 6.6644 - mae: 6.6644\n",
            "Epoch 80/100\n",
            "13/13 [==============================] - 0s 3ms/step - loss: 4.3755 - mae: 4.3755\n",
            "Epoch 81/100\n",
            "13/13 [==============================] - 0s 3ms/step - loss: 4.4902 - mae: 4.4902\n",
            "Epoch 82/100\n",
            "13/13 [==============================] - 0s 3ms/step - loss: 4.4460 - mae: 4.4460\n",
            "Epoch 83/100\n",
            "13/13 [==============================] - 0s 3ms/step - loss: 5.0324 - mae: 5.0324\n",
            "Epoch 84/100\n",
            "13/13 [==============================] - 0s 3ms/step - loss: 4.6957 - mae: 4.6957\n",
            "Epoch 85/100\n",
            "13/13 [==============================] - 0s 3ms/step - loss: 4.1849 - mae: 4.1849\n",
            "Epoch 86/100\n",
            "13/13 [==============================] - 0s 4ms/step - loss: 4.3075 - mae: 4.3075\n",
            "Epoch 87/100\n",
            "13/13 [==============================] - 0s 3ms/step - loss: 4.1485 - mae: 4.1485\n",
            "Epoch 88/100\n",
            "13/13 [==============================] - 0s 3ms/step - loss: 4.4205 - mae: 4.4205\n",
            "Epoch 89/100\n",
            "13/13 [==============================] - 0s 3ms/step - loss: 4.9653 - mae: 4.9653\n",
            "Epoch 90/100\n",
            "13/13 [==============================] - 0s 3ms/step - loss: 4.9626 - mae: 4.9626\n",
            "Epoch 91/100\n",
            "13/13 [==============================] - 0s 3ms/step - loss: 4.0946 - mae: 4.0946\n",
            "Epoch 92/100\n",
            "13/13 [==============================] - 0s 3ms/step - loss: 4.0944 - mae: 4.0944\n",
            "Epoch 93/100\n",
            "13/13 [==============================] - 0s 3ms/step - loss: 4.7334 - mae: 4.7334\n",
            "Epoch 94/100\n",
            "13/13 [==============================] - 0s 3ms/step - loss: 4.2576 - mae: 4.2576\n",
            "Epoch 95/100\n",
            "13/13 [==============================] - 0s 3ms/step - loss: 4.3232 - mae: 4.3232\n",
            "Epoch 96/100\n",
            "13/13 [==============================] - 0s 3ms/step - loss: 4.0289 - mae: 4.0289\n",
            "Epoch 97/100\n",
            "13/13 [==============================] - 0s 3ms/step - loss: 3.9666 - mae: 3.9666\n",
            "Epoch 98/100\n",
            "13/13 [==============================] - 0s 3ms/step - loss: 4.1816 - mae: 4.1816\n",
            "Epoch 99/100\n",
            "13/13 [==============================] - 0s 3ms/step - loss: 4.2897 - mae: 4.2897\n",
            "Epoch 100/100\n",
            "13/13 [==============================] - 0s 3ms/step - loss: 4.0523 - mae: 4.0523\n"
          ]
        }
      ]
    },
    {
      "cell_type": "code",
      "source": [
        "boston_regression_model_2.evaluate(x_test, y_test)"
      ],
      "metadata": {
        "colab": {
          "base_uri": "https://localhost:8080/"
        },
        "id": "F261EUPq6FPv",
        "outputId": "b0df7386-89e5-4b15-c8d7-35e8446e931c"
      },
      "execution_count": 116,
      "outputs": [
        {
          "output_type": "stream",
          "name": "stdout",
          "text": [
            "4/4 [==============================] - 0s 4ms/step - loss: 4.2785 - mae: 4.2785\n"
          ]
        },
        {
          "output_type": "execute_result",
          "data": {
            "text/plain": [
              "[4.278454780578613, 4.278454780578613]"
            ]
          },
          "metadata": {},
          "execution_count": 116
        }
      ]
    },
    {
      "cell_type": "markdown",
      "source": [
        "## Learning Notes\n",
        "\n",
        "\n",
        "1.   Adam optimizer converges faster i.e. less number of epochs and less faster earning speed\n",
        "2.   The loss doesn't seem to improve much with tuning or changing of optimizers but efficiency in training changes\n",
        "3. Further going to try to train both models with normalized data"
      ],
      "metadata": {
        "id": "FX4nTqNY3lEb"
      }
    },
    {
      "cell_type": "markdown",
      "source": [
        "## Normalize the data and preprocess"
      ],
      "metadata": {
        "id": "vZnCFuGW4TKH"
      }
    },
    {
      "cell_type": "code",
      "source": [
        "from sklearn import preprocessing\n",
        "\n",
        "X_train_normal = preprocessing.normalize(x_train)\n",
        "X_test_normal = preprocessing.normalize(x_test)"
      ],
      "metadata": {
        "id": "tRQlJtZT2FDG"
      },
      "execution_count": 100,
      "outputs": []
    },
    {
      "cell_type": "code",
      "source": [
        "X_train_normal.shape, x_train.shape"
      ],
      "metadata": {
        "colab": {
          "base_uri": "https://localhost:8080/"
        },
        "id": "g-IQd7N34xsg",
        "outputId": "f9152f84-6a60-43db-bf4a-be2fc667a3a4"
      },
      "execution_count": 105,
      "outputs": [
        {
          "output_type": "execute_result",
          "data": {
            "text/plain": [
              "((404, 13), (404, 13))"
            ]
          },
          "metadata": {},
          "execution_count": 105
        }
      ]
    },
    {
      "cell_type": "markdown",
      "source": [
        "## Model 3 -\n",
        "1. Using model 2 as a baseline I will train the model again to see if loss reduces.\n"
      ],
      "metadata": {
        "id": "-QjQu0HN5frF"
      }
    },
    {
      "cell_type": "code",
      "source": [
        "tf.random.set_seed(42)\n",
        "\n",
        "\n",
        "# Create a Model\n",
        "boston_regression_model_3 = tf.keras.Sequential([\n",
        "    tf.keras.layers.Dense(15),\n",
        "    tf.keras.layers.Dense(7),\n",
        "    tf.keras.layers.Dense(1)\n",
        "])\n",
        "\n",
        "# Compile a Model\n",
        "boston_regression_model_3.compile(loss=tf.keras.losses.mae,\n",
        "                                optimizer=tf.keras.optimizers.Adam(learning_rate=0.03),\n",
        "                                metrics=[\"mae\"])\n",
        "\n",
        "# Fit a model\n",
        "boston_regression_model_hist_3 = boston_regression_model_3.fit(X_train_normal, y_train, epochs=100)"
      ],
      "metadata": {
        "colab": {
          "base_uri": "https://localhost:8080/"
        },
        "id": "BVdUiV5j4519",
        "outputId": "a69ed1a6-fc50-4c95-f7ad-f3216e44a8fb"
      },
      "execution_count": 135,
      "outputs": [
        {
          "output_type": "stream",
          "name": "stdout",
          "text": [
            "Epoch 1/100\n",
            "13/13 [==============================] - 1s 4ms/step - loss: 14.4669 - mae: 14.4669\n",
            "Epoch 2/100\n",
            "13/13 [==============================] - 0s 3ms/step - loss: 7.4301 - mae: 7.4301\n",
            "Epoch 3/100\n",
            "13/13 [==============================] - 0s 3ms/step - loss: 5.6883 - mae: 5.6883\n",
            "Epoch 4/100\n",
            "13/13 [==============================] - 0s 4ms/step - loss: 5.3102 - mae: 5.3102\n",
            "Epoch 5/100\n",
            "13/13 [==============================] - 0s 4ms/step - loss: 5.1417 - mae: 5.1417\n",
            "Epoch 6/100\n",
            "13/13 [==============================] - 0s 3ms/step - loss: 5.0110 - mae: 5.0110\n",
            "Epoch 7/100\n",
            "13/13 [==============================] - 0s 2ms/step - loss: 5.0013 - mae: 5.0013\n",
            "Epoch 8/100\n",
            "13/13 [==============================] - 0s 2ms/step - loss: 4.9598 - mae: 4.9598\n",
            "Epoch 9/100\n",
            "13/13 [==============================] - 0s 2ms/step - loss: 5.1013 - mae: 5.1013\n",
            "Epoch 10/100\n",
            "13/13 [==============================] - 0s 2ms/step - loss: 5.1079 - mae: 5.1079\n",
            "Epoch 11/100\n",
            "13/13 [==============================] - 0s 2ms/step - loss: 5.0174 - mae: 5.0174\n",
            "Epoch 12/100\n",
            "13/13 [==============================] - 0s 2ms/step - loss: 5.0347 - mae: 5.0347\n",
            "Epoch 13/100\n",
            "13/13 [==============================] - 0s 2ms/step - loss: 4.7585 - mae: 4.7585\n",
            "Epoch 14/100\n",
            "13/13 [==============================] - 0s 2ms/step - loss: 4.7114 - mae: 4.7114\n",
            "Epoch 15/100\n",
            "13/13 [==============================] - 0s 2ms/step - loss: 4.6838 - mae: 4.6838\n",
            "Epoch 16/100\n",
            "13/13 [==============================] - 0s 3ms/step - loss: 4.7525 - mae: 4.7525\n",
            "Epoch 17/100\n",
            "13/13 [==============================] - 0s 2ms/step - loss: 4.7188 - mae: 4.7188\n",
            "Epoch 18/100\n",
            "13/13 [==============================] - 0s 2ms/step - loss: 4.7815 - mae: 4.7815\n",
            "Epoch 19/100\n",
            "13/13 [==============================] - 0s 2ms/step - loss: 4.5589 - mae: 4.5589\n",
            "Epoch 20/100\n",
            "13/13 [==============================] - 0s 2ms/step - loss: 4.5124 - mae: 4.5124\n",
            "Epoch 21/100\n",
            "13/13 [==============================] - 0s 2ms/step - loss: 4.5424 - mae: 4.5424\n",
            "Epoch 22/100\n",
            "13/13 [==============================] - 0s 2ms/step - loss: 4.4789 - mae: 4.4789\n",
            "Epoch 23/100\n",
            "13/13 [==============================] - 0s 2ms/step - loss: 4.3797 - mae: 4.3797\n",
            "Epoch 24/100\n",
            "13/13 [==============================] - 0s 2ms/step - loss: 4.3707 - mae: 4.3707\n",
            "Epoch 25/100\n",
            "13/13 [==============================] - 0s 2ms/step - loss: 4.7066 - mae: 4.7066\n",
            "Epoch 26/100\n",
            "13/13 [==============================] - 0s 2ms/step - loss: 4.6116 - mae: 4.6116\n",
            "Epoch 27/100\n",
            "13/13 [==============================] - 0s 2ms/step - loss: 4.4167 - mae: 4.4167\n",
            "Epoch 28/100\n",
            "13/13 [==============================] - 0s 2ms/step - loss: 4.4201 - mae: 4.4201\n",
            "Epoch 29/100\n",
            "13/13 [==============================] - 0s 2ms/step - loss: 4.3640 - mae: 4.3640\n",
            "Epoch 30/100\n",
            "13/13 [==============================] - 0s 3ms/step - loss: 4.2774 - mae: 4.2774\n",
            "Epoch 31/100\n",
            "13/13 [==============================] - 0s 3ms/step - loss: 4.2063 - mae: 4.2063\n",
            "Epoch 32/100\n",
            "13/13 [==============================] - 0s 2ms/step - loss: 4.2117 - mae: 4.2117\n",
            "Epoch 33/100\n",
            "13/13 [==============================] - 0s 2ms/step - loss: 4.1988 - mae: 4.1988\n",
            "Epoch 34/100\n",
            "13/13 [==============================] - 0s 2ms/step - loss: 4.5677 - mae: 4.5677\n",
            "Epoch 35/100\n",
            "13/13 [==============================] - 0s 2ms/step - loss: 4.3204 - mae: 4.3204\n",
            "Epoch 36/100\n",
            "13/13 [==============================] - 0s 2ms/step - loss: 4.1232 - mae: 4.1232\n",
            "Epoch 37/100\n",
            "13/13 [==============================] - 0s 3ms/step - loss: 4.3394 - mae: 4.3394\n",
            "Epoch 38/100\n",
            "13/13 [==============================] - 0s 2ms/step - loss: 4.1108 - mae: 4.1108\n",
            "Epoch 39/100\n",
            "13/13 [==============================] - 0s 2ms/step - loss: 4.2224 - mae: 4.2224\n",
            "Epoch 40/100\n",
            "13/13 [==============================] - 0s 2ms/step - loss: 4.1052 - mae: 4.1052\n",
            "Epoch 41/100\n",
            "13/13 [==============================] - 0s 2ms/step - loss: 4.2113 - mae: 4.2113\n",
            "Epoch 42/100\n",
            "13/13 [==============================] - 0s 2ms/step - loss: 4.2614 - mae: 4.2614\n",
            "Epoch 43/100\n",
            "13/13 [==============================] - 0s 2ms/step - loss: 3.9928 - mae: 3.9928\n",
            "Epoch 44/100\n",
            "13/13 [==============================] - 0s 2ms/step - loss: 4.0786 - mae: 4.0786\n",
            "Epoch 45/100\n",
            "13/13 [==============================] - 0s 2ms/step - loss: 4.0100 - mae: 4.0100\n",
            "Epoch 46/100\n",
            "13/13 [==============================] - 0s 3ms/step - loss: 4.0417 - mae: 4.0417\n",
            "Epoch 47/100\n",
            "13/13 [==============================] - 0s 2ms/step - loss: 4.0445 - mae: 4.0445\n",
            "Epoch 48/100\n",
            "13/13 [==============================] - 0s 2ms/step - loss: 4.0248 - mae: 4.0248\n",
            "Epoch 49/100\n",
            "13/13 [==============================] - 0s 2ms/step - loss: 3.9172 - mae: 3.9172\n",
            "Epoch 50/100\n",
            "13/13 [==============================] - 0s 2ms/step - loss: 4.0240 - mae: 4.0240\n",
            "Epoch 51/100\n",
            "13/13 [==============================] - 0s 2ms/step - loss: 3.9524 - mae: 3.9524\n",
            "Epoch 52/100\n",
            "13/13 [==============================] - 0s 2ms/step - loss: 3.9775 - mae: 3.9775\n",
            "Epoch 53/100\n",
            "13/13 [==============================] - 0s 2ms/step - loss: 4.3461 - mae: 4.3461\n",
            "Epoch 54/100\n",
            "13/13 [==============================] - 0s 2ms/step - loss: 4.0146 - mae: 4.0146\n",
            "Epoch 55/100\n",
            "13/13 [==============================] - 0s 2ms/step - loss: 3.9705 - mae: 3.9705\n",
            "Epoch 56/100\n",
            "13/13 [==============================] - 0s 2ms/step - loss: 4.2097 - mae: 4.2097\n",
            "Epoch 57/100\n",
            "13/13 [==============================] - 0s 2ms/step - loss: 4.2046 - mae: 4.2046\n",
            "Epoch 58/100\n",
            "13/13 [==============================] - 0s 2ms/step - loss: 4.0887 - mae: 4.0887\n",
            "Epoch 59/100\n",
            "13/13 [==============================] - 0s 3ms/step - loss: 4.3629 - mae: 4.3629\n",
            "Epoch 60/100\n",
            "13/13 [==============================] - 0s 2ms/step - loss: 4.1346 - mae: 4.1346\n",
            "Epoch 61/100\n",
            "13/13 [==============================] - 0s 2ms/step - loss: 3.9089 - mae: 3.9089\n",
            "Epoch 62/100\n",
            "13/13 [==============================] - 0s 2ms/step - loss: 3.9523 - mae: 3.9523\n",
            "Epoch 63/100\n",
            "13/13 [==============================] - 0s 2ms/step - loss: 3.8842 - mae: 3.8842\n",
            "Epoch 64/100\n",
            "13/13 [==============================] - 0s 2ms/step - loss: 3.9017 - mae: 3.9017\n",
            "Epoch 65/100\n",
            "13/13 [==============================] - 0s 2ms/step - loss: 4.1194 - mae: 4.1194\n",
            "Epoch 66/100\n",
            "13/13 [==============================] - 0s 2ms/step - loss: 3.9702 - mae: 3.9702\n",
            "Epoch 67/100\n",
            "13/13 [==============================] - 0s 2ms/step - loss: 4.0551 - mae: 4.0551\n",
            "Epoch 68/100\n",
            "13/13 [==============================] - 0s 2ms/step - loss: 3.8815 - mae: 3.8815\n",
            "Epoch 69/100\n",
            "13/13 [==============================] - 0s 2ms/step - loss: 3.8455 - mae: 3.8455\n",
            "Epoch 70/100\n",
            "13/13 [==============================] - 0s 2ms/step - loss: 3.9381 - mae: 3.9381\n",
            "Epoch 71/100\n",
            "13/13 [==============================] - 0s 2ms/step - loss: 3.7765 - mae: 3.7765\n",
            "Epoch 72/100\n",
            "13/13 [==============================] - 0s 2ms/step - loss: 4.1291 - mae: 4.1291\n",
            "Epoch 73/100\n",
            "13/13 [==============================] - 0s 2ms/step - loss: 4.1451 - mae: 4.1451\n",
            "Epoch 74/100\n",
            "13/13 [==============================] - 0s 2ms/step - loss: 4.0128 - mae: 4.0128\n",
            "Epoch 75/100\n",
            "13/13 [==============================] - 0s 2ms/step - loss: 3.8487 - mae: 3.8487\n",
            "Epoch 76/100\n",
            "13/13 [==============================] - 0s 2ms/step - loss: 3.7790 - mae: 3.7790\n",
            "Epoch 77/100\n",
            "13/13 [==============================] - 0s 2ms/step - loss: 3.7844 - mae: 3.7844\n",
            "Epoch 78/100\n",
            "13/13 [==============================] - 0s 3ms/step - loss: 3.9013 - mae: 3.9013\n",
            "Epoch 79/100\n",
            "13/13 [==============================] - 0s 2ms/step - loss: 4.1223 - mae: 4.1223\n",
            "Epoch 80/100\n",
            "13/13 [==============================] - 0s 2ms/step - loss: 3.7256 - mae: 3.7256\n",
            "Epoch 81/100\n",
            "13/13 [==============================] - 0s 2ms/step - loss: 3.7736 - mae: 3.7736\n",
            "Epoch 82/100\n",
            "13/13 [==============================] - 0s 2ms/step - loss: 3.7617 - mae: 3.7617\n",
            "Epoch 83/100\n",
            "13/13 [==============================] - 0s 2ms/step - loss: 3.8545 - mae: 3.8545\n",
            "Epoch 84/100\n",
            "13/13 [==============================] - 0s 2ms/step - loss: 3.7647 - mae: 3.7647\n",
            "Epoch 85/100\n",
            "13/13 [==============================] - 0s 2ms/step - loss: 3.9674 - mae: 3.9674\n",
            "Epoch 86/100\n",
            "13/13 [==============================] - 0s 2ms/step - loss: 3.7450 - mae: 3.7450\n",
            "Epoch 87/100\n",
            "13/13 [==============================] - 0s 3ms/step - loss: 3.7088 - mae: 3.7088\n",
            "Epoch 88/100\n",
            "13/13 [==============================] - 0s 2ms/step - loss: 3.7647 - mae: 3.7647\n",
            "Epoch 89/100\n",
            "13/13 [==============================] - 0s 2ms/step - loss: 4.0412 - mae: 4.0412\n",
            "Epoch 90/100\n",
            "13/13 [==============================] - 0s 3ms/step - loss: 3.9083 - mae: 3.9083\n",
            "Epoch 91/100\n",
            "13/13 [==============================] - 0s 2ms/step - loss: 3.8511 - mae: 3.8511\n",
            "Epoch 92/100\n",
            "13/13 [==============================] - 0s 2ms/step - loss: 3.8147 - mae: 3.8147\n",
            "Epoch 93/100\n",
            "13/13 [==============================] - 0s 2ms/step - loss: 3.7245 - mae: 3.7245\n",
            "Epoch 94/100\n",
            "13/13 [==============================] - 0s 2ms/step - loss: 3.9253 - mae: 3.9253\n",
            "Epoch 95/100\n",
            "13/13 [==============================] - 0s 3ms/step - loss: 3.7790 - mae: 3.7790\n",
            "Epoch 96/100\n",
            "13/13 [==============================] - 0s 2ms/step - loss: 3.6674 - mae: 3.6674\n",
            "Epoch 97/100\n",
            "13/13 [==============================] - 0s 2ms/step - loss: 3.7466 - mae: 3.7466\n",
            "Epoch 98/100\n",
            "13/13 [==============================] - 0s 2ms/step - loss: 3.7382 - mae: 3.7382\n",
            "Epoch 99/100\n",
            "13/13 [==============================] - 0s 2ms/step - loss: 3.7129 - mae: 3.7129\n",
            "Epoch 100/100\n",
            "13/13 [==============================] - 0s 2ms/step - loss: 3.8775 - mae: 3.8775\n"
          ]
        }
      ]
    },
    {
      "cell_type": "code",
      "source": [
        "boston_regression_model_3.evaluate(X_test_normal, y_test)"
      ],
      "metadata": {
        "colab": {
          "base_uri": "https://localhost:8080/"
        },
        "id": "tUrvChNz6MBa",
        "outputId": "20a29ae0-c66e-45b4-d14d-2851e9e63719"
      },
      "execution_count": 136,
      "outputs": [
        {
          "output_type": "stream",
          "name": "stdout",
          "text": [
            "4/4 [==============================] - 0s 4ms/step - loss: 3.6682 - mae: 3.6682\n"
          ]
        },
        {
          "output_type": "execute_result",
          "data": {
            "text/plain": [
              "[3.668219566345215, 3.668219566345215]"
            ]
          },
          "metadata": {},
          "execution_count": 136
        }
      ]
    },
    {
      "cell_type": "code",
      "source": [
        "y_pred_3 = boston_regression_model.predict(X_test_normal)\n",
        "\n",
        "plt.figure(figsize=(10, 7))\n",
        "plt.scatter(y_test, y_pred_3, c=\"b\", label=\"training data\")"
      ],
      "metadata": {
        "colab": {
          "base_uri": "https://localhost:8080/",
          "height": 636
        },
        "id": "EI7oAgfE6qQi",
        "outputId": "5ef9b864-ace8-4cd2-f9d6-3126b8d94b0d"
      },
      "execution_count": 137,
      "outputs": [
        {
          "output_type": "stream",
          "name": "stdout",
          "text": [
            "4/4 [==============================] - 0s 3ms/step\n"
          ]
        },
        {
          "output_type": "execute_result",
          "data": {
            "text/plain": [
              "<matplotlib.collections.PathCollection at 0x7d6fe8a70520>"
            ]
          },
          "metadata": {},
          "execution_count": 137
        },
        {
          "output_type": "display_data",
          "data": {
            "text/plain": [
              "<Figure size 1000x700 with 1 Axes>"
            ],
            "image/png": "[encoded data removed]"
          },
          "metadata": {}
        }
      ]
    },
    {
      "cell_type": "markdown",
      "source": [
        "## TAKEAWAY ##\n",
        "\n",
        "1. Normalizing the data in boston housing price regression problem didn't helped that much to improve the accuracy of the model.\n",
        "2. Initial loss in models 1 & 2 was bigger as compared to model 3, that also proves normalized models learns and converges faster."
      ],
      "metadata": {
        "id": "Sj5hAQcJ7xQb"
      }
    },
    {
      "cell_type": "code",
      "source": [],
      "metadata": {
        "id": "E43wT0Ib7twK"
      },
      "execution_count": null,
      "outputs": []
    }
  ]
}