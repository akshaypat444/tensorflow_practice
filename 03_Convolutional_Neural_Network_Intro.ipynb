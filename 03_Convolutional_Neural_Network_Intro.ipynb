{
  "nbformat": 4,
  "nbformat_minor": 0,
  "metadata": {
    "colab": {
      "provenance": [],
      "authorship_tag": "ABX9TyNj73GoPpfYczd6fHkPMF8o",
      "include_colab_link": true
    },
    "kernelspec": {
      "name": "python3",
      "display_name": "Python 3"
    },
    "language_info": {
      "name": "python"
    }
  },
  "cells": [
    {
      "cell_type": "markdown",
      "metadata": {
        "id": "view-in-github",
        "colab_type": "text"
      },
      "source": [
        "<a href=\"https://colab.research.google.com/github/akshaypat444/tensorflow_practice/blob/main/03_Convolutional_Neural_Network_Intro.ipynb\" target=\"_parent\"><img src=\"https://colab.research.google.com/assets/colab-badge.svg\" alt=\"Open In Colab\"/></a>"
      ]
    },
    {
      "cell_type": "code",
      "execution_count": 2,
      "metadata": {
        "id": "XDdn5jvMQtzH"
      },
      "outputs": [],
      "source": [
        "import tensorflow as tf\n",
        "import numpy as np\n",
        "import pandas as pd\n",
        "import matplotlib.pyplot as plt\n",
        "import zipfile"
      ]
    },
    {
      "cell_type": "markdown",
      "source": [
        "## Get the data\n",
        "**Data is available from Food101 dataset available on kaggle which is pre-processed after dowloading**"
      ],
      "metadata": {
        "id": "PX-DbjnWMnd1"
      }
    },
    {
      "cell_type": "code",
      "source": [
        "!wget https://storage.googleapis.com/ztm_tf_course/food_vision/pizza_steak.zip\n",
        "\n",
        "zip_ref = zipfile.ZipFile(\"pizza_steak.zip\")\n",
        "zip_ref.extractall()\n",
        "zip_ref.close()"
      ],
      "metadata": {
        "id": "J_M7MT1wQ150",
        "colab": {
          "base_uri": "https://localhost:8080/"
        },
        "outputId": "2921432c-8146-4499-f03c-af84e8ef9a13"
      },
      "execution_count": 4,
      "outputs": [
        {
          "output_type": "stream",
          "name": "stdout",
          "text": [
            "--2024-01-03 20:15:00--  https://storage.googleapis.com/ztm_tf_course/food_vision/pizza_steak.zip\n",
            "Resolving storage.googleapis.com (storage.googleapis.com)... 173.194.212.207, 142.251.162.207, 173.194.213.207, ...\n",
            "Connecting to storage.googleapis.com (storage.googleapis.com)|173.194.212.207|:443... connected.\n",
            "HTTP request sent, awaiting response... 200 OK\n",
            "Length: 109540975 (104M) [application/zip]\n",
            "Saving to: ‘pizza_steak.zip.1’\n",
            "\n",
            "pizza_steak.zip.1   100%[===================>] 104.47M   172MB/s    in 0.6s    \n",
            "\n",
            "2024-01-03 20:15:01 (172 MB/s) - ‘pizza_steak.zip.1’ saved [109540975/109540975]\n",
            "\n"
          ]
        }
      ]
    },
    {
      "cell_type": "markdown",
      "source": [
        "## Inspect the data"
      ],
      "metadata": {
        "id": "AZSSk03dB2yl"
      }
    },
    {
      "cell_type": "code",
      "source": [
        "import os\n",
        "\n",
        "for dirpath, dirnames, filenames in os.walk(\"pizza_steak\"):\n",
        "  print(f\"There are {len(dirnames)} directories and {len(filenames)} images in {dirpath}\")"
      ],
      "metadata": {
        "colab": {
          "base_uri": "https://localhost:8080/"
        },
        "id": "iPm53ptT9yX1",
        "outputId": "2a49cf27-1f57-457e-ebc5-2fc7abe3d983"
      },
      "execution_count": 17,
      "outputs": [
        {
          "output_type": "stream",
          "name": "stdout",
          "text": [
            "There are 2 directories and 0 images in pizza_steak\n",
            "There are 2 directories and 0 images in pizza_steak/train\n",
            "There are 0 directories and 750 images in pizza_steak/train/steak\n",
            "There are 0 directories and 750 images in pizza_steak/train/pizza\n",
            "There are 2 directories and 0 images in pizza_steak/test\n",
            "There are 0 directories and 250 images in pizza_steak/test/steak\n",
            "There are 0 directories and 250 images in pizza_steak/test/pizza\n"
          ]
        }
      ]
    },
    {
      "cell_type": "code",
      "source": [],
      "metadata": {
        "id": "CmzNznaDC6BL"
      },
      "execution_count": null,
      "outputs": []
    }
  ]
}