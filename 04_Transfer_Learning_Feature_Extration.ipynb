{
  "nbformat": 4,
  "nbformat_minor": 0,
  "metadata": {
    "colab": {
      "provenance": [],
      "authorship_tag": "ABX9TyPG4cYzZ71kYO+4GE0j97Og",
      "include_colab_link": true
    },
    "kernelspec": {
      "name": "python3",
      "display_name": "Python 3"
    },
    "language_info": {
      "name": "python"
    }
  },
  "cells": [
    {
      "cell_type": "markdown",
      "metadata": {
        "id": "view-in-github",
        "colab_type": "text"
      },
      "source": [
        "<a href=\"https://colab.research.google.com/github/akshaypat444/tensorflow_practice/blob/main/04_Transfer_Learning_Feature_Extration.ipynb\" target=\"_parent\"><img src=\"https://colab.research.google.com/assets/colab-badge.svg\" alt=\"Open In Colab\"/></a>"
      ]
    },
    {
      "cell_type": "markdown",
      "source": [
        "## Download the dataset"
      ],
      "metadata": {
        "id": "x_Q-I3bUzwy1"
      }
    },
    {
      "cell_type": "code",
      "execution_count": 1,
      "metadata": {
        "id": "_afx_VkZCczA",
        "colab": {
          "base_uri": "https://localhost:8080/"
        },
        "outputId": "e5234dd3-cbd8-470d-a7db-bcb07657ce85"
      },
      "outputs": [
        {
          "output_type": "stream",
          "name": "stdout",
          "text": [
            "--2024-02-27 04:25:51--  https://storage.googleapis.com/ztm_tf_course/food_vision/10_food_classes_10_percent.zip\n",
            "Resolving storage.googleapis.com (storage.googleapis.com)... 173.194.79.207, 108.177.119.207, 108.177.127.207, ...\n",
            "Connecting to storage.googleapis.com (storage.googleapis.com)|173.194.79.207|:443... connected.\n",
            "HTTP request sent, awaiting response... 200 OK\n",
            "Length: 168546183 (161M) [application/zip]\n",
            "Saving to: ‘10_food_classes_10_percent.zip’\n",
            "\n",
            "10_food_classes_10_ 100%[===================>] 160.74M  33.4MB/s    in 5.7s    \n",
            "\n",
            "2024-02-27 04:25:57 (28.4 MB/s) - ‘10_food_classes_10_percent.zip’ saved [168546183/168546183]\n",
            "\n"
          ]
        }
      ],
      "source": [
        "!wget https://storage.googleapis.com/ztm_tf_course/food_vision/10_food_classes_10_percent.zip"
      ]
    },
    {
      "cell_type": "code",
      "source": [
        "import zipfile\n",
        "\n",
        "zip_ref = zipfile.ZipFile(\"10_food_classes_10_percent.zip\")\n",
        "zip_ref.extractall()\n",
        "zip_ref.close()"
      ],
      "metadata": {
        "id": "Hqwb5XhGz9nF"
      },
      "execution_count": 2,
      "outputs": []
    },
    {
      "cell_type": "code",
      "source": [
        "import os\n",
        "\n",
        "for dirpath, dirnames, filenames in os.walk(\"10_food_classes_10_percent\"):\n",
        "  print(f\"There are {len(dirnames)} directories and {len(filenames)} images in {dirpath}\")"
      ],
      "metadata": {
        "colab": {
          "base_uri": "https://localhost:8080/"
        },
        "id": "IqELQz-D0KsE",
        "outputId": "e413eef1-114d-4773-b42b-dcbc38554cd5"
      },
      "execution_count": 3,
      "outputs": [
        {
          "output_type": "stream",
          "name": "stdout",
          "text": [
            "There are 2 directories and 0 images in 10_food_classes_10_percent\n",
            "There are 10 directories and 0 images in 10_food_classes_10_percent/test\n",
            "There are 0 directories and 250 images in 10_food_classes_10_percent/test/sushi\n",
            "There are 0 directories and 250 images in 10_food_classes_10_percent/test/grilled_salmon\n",
            "There are 0 directories and 250 images in 10_food_classes_10_percent/test/ramen\n",
            "There are 0 directories and 250 images in 10_food_classes_10_percent/test/pizza\n",
            "There are 0 directories and 250 images in 10_food_classes_10_percent/test/chicken_wings\n",
            "There are 0 directories and 250 images in 10_food_classes_10_percent/test/steak\n",
            "There are 0 directories and 250 images in 10_food_classes_10_percent/test/fried_rice\n",
            "There are 0 directories and 250 images in 10_food_classes_10_percent/test/ice_cream\n",
            "There are 0 directories and 250 images in 10_food_classes_10_percent/test/hamburger\n",
            "There are 0 directories and 250 images in 10_food_classes_10_percent/test/chicken_curry\n",
            "There are 10 directories and 0 images in 10_food_classes_10_percent/train\n",
            "There are 0 directories and 75 images in 10_food_classes_10_percent/train/sushi\n",
            "There are 0 directories and 75 images in 10_food_classes_10_percent/train/grilled_salmon\n",
            "There are 0 directories and 75 images in 10_food_classes_10_percent/train/ramen\n",
            "There are 0 directories and 75 images in 10_food_classes_10_percent/train/pizza\n",
            "There are 0 directories and 75 images in 10_food_classes_10_percent/train/chicken_wings\n",
            "There are 0 directories and 75 images in 10_food_classes_10_percent/train/steak\n",
            "There are 0 directories and 75 images in 10_food_classes_10_percent/train/fried_rice\n",
            "There are 0 directories and 75 images in 10_food_classes_10_percent/train/ice_cream\n",
            "There are 0 directories and 75 images in 10_food_classes_10_percent/train/hamburger\n",
            "There are 0 directories and 75 images in 10_food_classes_10_percent/train/chicken_curry\n"
          ]
        }
      ]
    },
    {
      "cell_type": "code",
      "source": [
        "# Note - we have 10 times less images in training set"
      ],
      "metadata": {
        "id": "EcPxBg3V0k7X"
      },
      "execution_count": 4,
      "outputs": []
    },
    {
      "cell_type": "markdown",
      "source": [
        "## Setting up training and testing data"
      ],
      "metadata": {
        "id": "oB8HnOWB4nlC"
      }
    },
    {
      "cell_type": "code",
      "source": [
        "from tensorflow.keras.preprocessing.image import ImageDataGenerator\n",
        "\n",
        "IMAGE_SHAPE = (224, 224)\n",
        "BATCH_SIZE = 32\n",
        "\n",
        "train_dir = \"10_food_classes_10_percent/train\"\n",
        "test_dir = \"10_food_classes_10_percent/test\"\n",
        "\n",
        "train_datagen = ImageDataGenerator(rescale=1/255.)\n",
        "test_datagen = ImageDataGenerator(rescale=1/255.)\n",
        "\n",
        "print(\"Training images:\")\n",
        "train_data = train_datagen.flow_from_directory(train_dir,\n",
        "                                               target_size=IMAGE_SHAPE,\n",
        "                                               batch_size=BATCH_SIZE,\n",
        "                                               class_mode=\"categorical\")\n",
        "\n",
        "print(\"Testing images:\")\n",
        "test_data = test_datagen.flow_from_directory(test_dir,\n",
        "                                             target_size=IMAGE_SHAPE,\n",
        "                                             batch_size=BATCH_SIZE,\n",
        "                                             class_mode=\"categorical\")"
      ],
      "metadata": {
        "colab": {
          "base_uri": "https://localhost:8080/"
        },
        "id": "X0zFjq3j0yhT",
        "outputId": "19c888c1-54ca-4340-d198-8f90430597d8"
      },
      "execution_count": 7,
      "outputs": [
        {
          "output_type": "stream",
          "name": "stdout",
          "text": [
            "Training images:\n",
            "Found 750 images belonging to 10 classes.\n",
            "Testing images:\n",
            "Found 2500 images belonging to 10 classes.\n"
          ]
        }
      ]
    },
    {
      "cell_type": "markdown",
      "source": [
        "## Setting up callbacks\n",
        "1. Tensorboard\n",
        "2. ModelCheckpoints\n",
        "3. EarlyStopping"
      ],
      "metadata": {
        "id": "Peh-yvwy2wgg"
      }
    },
    {
      "cell_type": "code",
      "source": [
        "import datetime\n",
        "import tensorflow as tf\n",
        "import tensorflow_hub as hub\n",
        "from tensorflow.keras import layers\n",
        "\n",
        "def create_tensorboard_callback(dir_name, experiment_name):\n",
        "  log_dir = dir_name + \"/\" + experiment_name + \"/\" + datetime.datetime.now().strftime(\"%Y%m%d-%H%M%S\")\n",
        "  tensorboard_callback = tf.keras.callbacks.TensorBoard(log_dir=log_dir)\n",
        "  print(f\"Saving tensorflow log files to: {log_dir}\")\n",
        "  return tensorboard_callback"
      ],
      "metadata": {
        "id": "EXtQXCyf126i"
      },
      "execution_count": 13,
      "outputs": []
    },
    {
      "cell_type": "markdown",
      "source": [
        "## Tensorflow Hub\n"
      ],
      "metadata": {
        "id": "bOsUjHIG4jCr"
      }
    },
    {
      "cell_type": "code",
      "source": [
        "resnet_url = \"https://www.kaggle.com/models/google/resnet-v2/frameworks/TensorFlow2/variations/101-feature-vector/versions/2\"\n",
        "efficientnet_url = \"https://www.kaggle.com/models/tensorflow/efficientnet/frameworks/TensorFlow2/variations/b0-feature-vector/versions/1\"\n"
      ],
      "metadata": {
        "id": "LTViK3nc2UhP"
      },
      "execution_count": 12,
      "outputs": []
    },
    {
      "cell_type": "code",
      "source": [
        "def create_model(model_url, num_classes=10):\n",
        "  model = tf.keras.Sequential([\n",
        "      hub.KerasLayer(model_url, trainable=False),\n",
        "      tf.keras.layers.Dense(num_classes, activation=\"softmax\")\n",
        "  ])\n",
        "\n",
        "  return model"
      ],
      "metadata": {
        "id": "oTlZ6HXY8eb6"
      },
      "execution_count": 15,
      "outputs": []
    },
    {
      "cell_type": "markdown",
      "source": [
        "## Create a model using tensorflow hub url (kaggle)"
      ],
      "metadata": {
        "id": "X4_gGdvp9KaU"
      }
    },
    {
      "cell_type": "code",
      "source": [],
      "metadata": {
        "id": "YKyn9iqm8eZV"
      },
      "execution_count": null,
      "outputs": []
    }
  ]
}